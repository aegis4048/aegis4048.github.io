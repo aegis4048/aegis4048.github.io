{
 "cells": [
  {
   "cell_type": "markdown",
   "metadata": {},
   "source": [
    "> **Confidence interval** is uncertainty in summary statistic represented as a range. In the other words, it is a range of values we are fairly sure our true value lies in. For example: I am 95% confident that the population mean falls between 8.76 and 15.88 $\\rightarrow$ (12.32 $\\pm$ 3.56)\n",
    "\n",
    "Confidence interval tells you how confident you can be that the results from a poll or survey reflect what you would expect to find if it were possible to survey the entire population. It is difficult to obtain measurement data of an entire data set (*population*) due to limited resource & time. Your best shot is to survey a small fraction (*samples*) of the entire data set, and pray that your sample data represents the population reasonably well. \n",
    "\n",
    "Sample data may not be a good representation of a population by numerous factors (Ex: bias), and as a result, uncertainty is always introduced in any estimations derived from sample data. **Due to the uncertainty involved with sample data, any statistical estimation needs to be delivered in a range, not in a point estimate**.\n",
    "\n",
    "How well a sample statistic estimates an underlying population parameter is always an issue (<a href=\"#population_vs_samples\">Population vs. Samples</a>). A confidence interval addresses this issue by providing a range of values, which is likely to contain the population parameter of interest."
   ]
  },
  {
   "cell_type": "markdown",
   "metadata": {},
   "source": [
    "<div id=\"toc_container\">\n",
    "    <p class=\"toc_title\">Contents</p>\n",
    "    <ul class=\"toc_list\">\n",
    "        <li>\n",
    "            <a href=\"#Understanding confidence interval with analogy\"><span class=\"toc_label\">1</span>Understanding\n",
    "                confidence interval with analogy</a>\n",
    "            <ul>\n",
    "                <li><a href=\"#Uncertainty in rock porosity\"><span class=\"toc_label\">Example 1:</span>Uncertainty in rock\n",
    "                    porosity</a></li>\n",
    "                <li><a href=\"#Purity of methamphetamine (crystal) in Breaking Bad\"><span\n",
    "                        class=\"toc_label\">Example 2:</span>Purity of methamphetamine (crystal) in Breaking Bad</a></li>\n",
    "            </ul>\n",
    "        </li>\n",
    "        <li><a href=\"#quick-highlights\"><span class=\"toc_label\">2</span>Key takeaways</a></li>\n",
    "        <li><a href=\"#population_vs_samples\"><span class=\"toc_label\">3</span>Population vs Samples</a></li>\n",
    "        <ul>\n",
    "            <li><a href=\"#sample_pop_var\"><span class=\"toc_label\">Notes:</span>Population variance $\\sigma^2$ vs.\n",
    "                Sample variance $s^2$</a></li>\n",
    "            <li><a href=\"#python_variance\"><span class=\"toc_label\">Pythonic Tip:</span>Difference between Numpy variance\n",
    "                and Pandas variance</a></li>\n",
    "        </ul>\n",
    "        <li><a href=\"#Confidence interval of different statistics\"><span class=\"toc_label\">4</span>Confidence interval\n",
    "            of normal distribution</a></li>\n",
    "        <ul>\n",
    "            <li><a href=\"#conf_int_of_mean\"><span class=\"toc_label\">4.1</span>Confidence interval of mean</a></li>\n",
    "            <ul>\n",
    "                <li><a href=\"#dist_stats\"><span class=\"toc_label\">Notes:</span>Distribution of various statistics</a>\n",
    "                </li>\n",
    "                <li><a href=\"#t_vs_z\"><span class=\"toc_label\">Notes:</span>z-score vs t-score</a></li>\n",
    "                <li><a href=\"#python_ci_mean\"><span class=\"toc_label\">Pythonic Tip:</span>Computing confidence interval of mean with SciPy</a></li>\n",
    "            </ul>\n",
    "            <li><a href=\"#conf_int_of_diff_in_mean\"><span class=\"toc_label\">4.2</span>Confidence interval of difference\n",
    "                in mean</a></li>\n",
    "            <ul>\n",
    "                <li><a href=\"#anova\"><span class=\"toc_label\">Notes:</span>Comparing means of more than two samples with ANOVA</a></li>\n",
    "                <li><a href=\"#ind_equal\"><span class=\"toc_label\">4.2.1</span>Independent (unpaired) samples, equal\n",
    "                    variance - Student's t-interval</a></li>\n",
    "                <ul>\n",
    "                    <li><a href=\"#python_ind_equal\"><span class=\"toc_label\">Pythonic Tip:</span>Computing student's t-interval</a></li>\n",
    "                </ul>\n",
    "                <li><a href=\"#ind_unequal\"><span class=\"toc_label\">4.2.2</span>Independent (unpaired) samples, unequal variance - Welch's t-interval</a></li>\n",
    "                <ul>\n",
    "                    <li><a href=\"#python_ind_unequal\"><span class=\"toc_label\">Pythonic Tip:</span>Computing Welch's t-interval</a></li>\n",
    "                </ul>\n",
    "                <li><a href=\"#dep\"><span class=\"toc_label\">4.2.3</span>Dependent (paired) samples - Paired t-interval</a></li>\n",
    "                <ul>\n",
    "                    <li><a href=\"#python_dep\"><span class=\"toc_label\">Pythonic Tip:</span>Computing paired t-interval</a></li>\n",
    "                </ul>\n",
    "                <li><a href=\"#which_to_use\"><span class=\"toc_label\">Notes:</span>Deciding which t-test to use</a></li>\n",
    "            </ul>\n",
    "            <li><a href=\"#conf_int_of_var\"><span class=\"toc_label\">4.3</span>Confidence interval of variance</a></li>\n",
    "            <ul>\n",
    "                <li><a href=\"#chi_square\"><span class=\"toc_label\">Notes:</span>Chi-square $\\chi^2$ distribution</a></li>\n",
    "                <li><a href=\"#one_tail_two_tail\"><span class=\"toc_label\">Notes:</span>One-tail vs two-tail</a></li>\n",
    "                <li><a href=\"#python_ci_var\"><span class=\"toc_label\">Pythonic Tip:</span>Computing confidence interval of variance with SciPy</a></li>\n",
    "            </ul>\n",
    "            <li><a href=\"#conf_int_of_other\"><span class=\"toc_label\">4.4</span>Confidence interval of other statistics: Bootstrap</a></li>\n",
    "            <ul>\n",
    "                <li><a href=\"#monte-carlo\"><span class=\"toc_label\">Notes:</span>Monte-Carlo method</a></li>\n",
    "                <li><a href=\"#python_bootstrap\"><span class=\"toc_label\">Pythonic Tip:</span>Bootstrapping in Python</a></li>\n",
    "            </ul>\n",
    "            <li><a href=\"#conf_int_regression\"><span class=\"toc_label\">4.5</span>Confidence interval of regression</a></li>\n",
    "        </ul>\n",
    "        <li><a href=\"#conf_int_non_normal\"><span class=\"toc_label\">5</span>Confidence interval of non-normal\n",
    "            distribution</a></li>\n",
    "    </ul>\n",
    "</div>"
   ]
  },
  {
   "cell_type": "markdown",
   "metadata": {},
   "source": [
    "<div id=\"Understanding confidence interval with analogy\"></div>\n",
    "\n",
    "## 1. Understanding confidence interval with analogy\n",
    "\n",
    "If you've taken a science class with lab reports in your highschool or college, you probably had to include measurement error in your lab reports. For example, if you were asked to measure the length of a paper clip with a ruler, you have to include $\\pm0.5 \\,\\text{cm}$ or $\\pm0.05\\,\\text{cm}$ (depending on the spacing of tick marks) to account for the measurement error that shows the precision of your measuring tool. \n",
    "\n",
    "Based on <a href=\"#fig1\">figure (1)</a>, the paper clip seems to be about 2.7 cm long, but we don't know for sure because the tickmarks in the ruler is not precise enough to measure decimal length. However, I can tell with 100% confidence that the paper clip has a length between 2 ~ 3 cm, because the clip is between 2cm and 3cm tickmarks. You record the length of the paper clip in a *range*, instead of a *point estimate*, to account for the uncertainty introduced by the limitation of the measuring tool.\n",
    "\n",
    "<div id=\"fig1\" class=\"row give-margin-inline-big-plot mobile_responsive_plot_full_width\" style=\"margin-top: 15px;\">\n",
    "    <div class=\"col\"><img src=\"jupyter_images/conf_int_ruler.png\"></div>\n",
    "    <div class=\"col-12\"><p class=\"image-description\">Figure 1: Measurement error in ruler</p></div>\n",
    "</div>\n",
    "\n",
    "Similar idea can be applied to a <a href=\"#conf_int_of_mean\">confidence interval of mean</a>. You want to obtain a mean of a whole data set (*population*), but you can measure values of only a small fraction (*samples*) of the whole data set. This boils down to the traditional issue of <a href=\"#population_vs_samples\">Sample vs Population</a>, due to the cost of obtaining measurement data of a large data set. Uncertainty is introduced in your samples, because you don't know if your samples are 100% representative of the population, free of bias. Therefore, you deliver your conclusion in a range, not in a point estimate, to account for the uncertainty."
   ]
  },
  {
   "cell_type": "markdown",
   "metadata": {},
   "source": [
    "<div><hr></div>\n",
    "\n",
    "<div id=\"Uncertainty in rock porosity\"></div>\n",
    "<p style=\"color: #666\"><b>Example 1:</b> Uncertainty in rock porosity<p>\n",
    "\n",
    "A reservoir engineer in the oil & gas industry wants to know the rock porosity of a formation to estimate the total oil reserve 9,500 ft underground. Due to the high cost of obtaining rock core samples from the deep formations, he could acquire only 12 rock core samples. Since the uncertainty of a point estimation scales inversely with a sample size, his estimation is subject to non-negligible uncertainty. He obtains 14.5% average rock porosity with 4.3% standard deviation. Executives in the company wants to know the worst-case scenario and the best-case scenario to make business decisions. You can convey your estimation of average porosity with uncertainty by constructing the <a href=\"#conf_int_of_mean\">confidence interval of mean</a>.\n",
    "\n",
    "Assuming that you have a reason to believe that the rock porosity follows normal distribution, you can construct its 80% confidence interval, with the procedure described <a href=\"#python_ci_mean\"> below</a>:\n",
    "\n",
    "<div style=\"margin-bottom: -20px\"></div>"
   ]
  },
  {
   "cell_type": "code",
   "execution_count": 133,
   "metadata": {},
   "outputs": [
    {
     "data": {
      "text/plain": [
       "(12.807569748569543, 16.19243025143046)"
      ]
     },
     "execution_count": 133,
     "metadata": {},
     "output_type": "execute_result"
    }
   ],
   "source": [
    "stats.t.interval(1 - 0.2, 12 - 1, loc=14.5, scale= 4.3 / np.sqrt(12))"
   ]
  },
  {
   "cell_type": "markdown",
   "metadata": {},
   "source": [
    "<div style=\"margin-top: -20px\"></div>\n",
    "\n",
    "In the worst-case scenario, the rock formation at 9,500 ft underground has 12.8% porosity. In the best-case scenario, the oil reservoir has 16.2% porosity. The same procedures can be applied for the core samples collected at different depths, which give us the confidence interval plot of rock porosities shown in <a href=\"#\">figure (2)</a>.\n",
    "\n",
    "<div id=\"fig2\" class=\"row give-margin-inline-big-plot mobile_responsive_plot_full_width\" style=\"\">\n",
    "    <div class=\"col\"><img src=\"jupyter_images/rock_por_conf_no_title.png\"></div>\n",
    "    <div class=\"col-12\"><p class=\"image-description\">Figure 2: Confidence interval of core samples porosities along depths</p></div>\n",
    "</div>"
   ]
  },
  {
   "cell_type": "markdown",
   "metadata": {},
   "source": [
    "<div class=\"solution_panel closed\">\n",
    "    <div class=\"solution_title\">\n",
    "        <p class=\"solution_title_string\">Source Code For Figure (2)</p>\n",
    "        <ul class=\"nav navbar-right panel_toolbox\">\n",
    "            <li><a class=\"collapse-link\"><i class=\"fa fa-chevron-down\"></i></a></li>\n",
    "        </ul>\n",
    "    <div class=\"clearfix\"></div>\n",
    "    </div>\n",
    "    <div class=\"solution_content\">\n",
    "        <pre>\n",
    "            <code class=\"language-python\">\n",
    "                import numpy as np\n",
    "                from scipy import stats\n",
    "                import matplotlib.pyplot as plt\n",
    "\n",
    "                np.random.seed(39)\n",
    "\n",
    "                depth = [i * 10 + 8000 for i in range(100)]\n",
    "                l = len(depth)\n",
    "                avg_por = []\n",
    "                p10_por = []\n",
    "                p90_por = []\n",
    "                for i, item in enumerate(depth):\n",
    "\n",
    "                    # You collect 12 rock core samples for each depth\n",
    "                    # Assume that sample porosity follows a normal distribution\n",
    "                    sample_size = 12\n",
    "                    por_samples = np.random.normal(loc=0.15 - i/2000, scale=0.022, size=sample_size)\n",
    "                    avg_por.append(np.mean(por_samples))\n",
    "                    \n",
    "                    # 80% confidence interval of mean\n",
    "                    p10, p90 = stats.t.interval(1 - 0.2, sample_size - 1, loc=np.mean(por_samples), scale=stats.sem(por_samples))\n",
    "                    p10_por.append(p10)\n",
    "                    p90_por.append(p90)\n",
    "                \n",
    "                # plotting\n",
    "                plt.style.use('seaborn-whitegrid')\n",
    "                fig, ax = plt.subplots(1, 2, figsize=(8, 4))\n",
    "\n",
    "                ax[0].plot(avg_por[:l//2], depth[:l//2], 'k', label='P50', alpha=0.8)\n",
    "                ax[0].plot(p10_por[:l//2], depth[:l//2], 'grey', linewidth=0.7, label='P10', linestyle='--')\n",
    "                ax[0].plot(p90_por[:l//2], depth[:l//2], 'grey', linewidth=0.7, label='P90')\n",
    "\n",
    "                ax[0].set_xlim(0.08, 0.17)\n",
    "                ax[0].set_ylabel('Depth (ft)', fontsize=15)\n",
    "                ax[0].set_xlabel('Porosity', fontsize=15)\n",
    "                ax[0].fill_betweenx(depth[:l//2], p10_por[:l//2], p90_por[:l//2], facecolor='lightgrey', alpha=0.3)\n",
    "                ax[0].invert_yaxis()\n",
    "\n",
    "                ax[1].plot(avg_por[l//2:], depth[l//2:], 'k', label='P50', alpha=0.8)\n",
    "                ax[1].plot(p10_por[l//2:], depth[l//2:], 'grey', linewidth=0.7, label='P10', linestyle='--')\n",
    "                ax[1].plot(p90_por[l//2:], depth[l//2:], 'grey', linewidth=0.7, label='P90')\n",
    "\n",
    "                ax[1].set_xlim(0.08, 0.17)\n",
    "                ax[1].set_xlabel('Porosity', fontsize=15)\n",
    "                ax[1].legend(loc='best', fontsize=14, framealpha=1, frameon=True)\n",
    "                ax[1].fill_betweenx(depth[l//2:], p10_por[l//2:], p90_por[l//2:], facecolor='lightgrey', alpha=0.3)\n",
    "                ax[1].invert_yaxis()\n",
    "            </code>\n",
    "        </pre>\n",
    "    </div>\n",
    "</div>"
   ]
  },
  {
   "cell_type": "markdown",
   "metadata": {},
   "source": [
    "<div><hr></div>\n",
    "\n",
    "<div id=\"Purity of methamphetamine (crystal) in Breaking Bad\"></div>\n",
    "<p style=\"color: #666\"><b>Example 2:</b> Purity of methamphetamine (crystal) in Breaking Bad<p>\n",
    "\n",
    "21 batches of crystal cooked by Mr. White shows 99.1% average purity with 3% standard deviation. 18 batches of crystal cooked by Mr. Pinkman shows 96.2% average purity with 4% standard deviation. Does Mr. White always cook better crystal than Mr. Pinkman, or is it possible for Mr. Pinkman to beat Mr. White in purity of cooked crystals, by luck?\n",
    "\n",
    "We can construct 95% confidence interval assuming normal distribution, with the procedure described <a href=\"#python_ci_mean\"> below</a>:\n",
    "\n",
    "<div style=\"margin-bottom: -20px\"></div>"
   ]
  },
  {
   "cell_type": "code",
   "execution_count": 78,
   "metadata": {},
   "outputs": [
    {
     "data": {
      "text/plain": [
       "(97.73441637228476, 100.46558362771523)"
      ]
     },
     "execution_count": 78,
     "metadata": {},
     "output_type": "execute_result"
    }
   ],
   "source": [
    "# Mr. White's\n",
    "\n",
    "stats.t.interval(1 - 0.05, 21 - 1, loc=99.1, scale= 3 / np.sqrt(21))"
   ]
  },
  {
   "cell_type": "code",
   "execution_count": 79,
   "metadata": {},
   "outputs": [
    {
     "data": {
      "text/plain": [
       "(94.21084679714819, 98.18915320285181)"
      ]
     },
     "execution_count": 79,
     "metadata": {},
     "output_type": "execute_result"
    }
   ],
   "source": [
    "# Mr. Pinkman's\n",
    "\n",
    "stats.t.interval(1 - 0.05, 18 - 1, loc=96.2, scale= 4 / np.sqrt(18))"
   ]
  },
  {
   "cell_type": "markdown",
   "metadata": {},
   "source": [
    "<div style=\"margin-top: -20px\"></div>\n",
    "\n",
    "There's a small overlap between the confidence intervals of Mr. White's and Mr. Pinkman's. Although it is true that Mr. White is a better cooker, Mr. Pinkman can cook a purer batch of crystals by a small chance, if he has the luck. Comparing the means of two sample data sets is closely related to constructing <a href=\"#conf_int_of_diff_in_mean\">confidence interval of difference in mean</a>.\n",
    "\n",
    "<div id=\"fig2\" class=\"row full_screen_margin_md mobile_responsive_plot_full_width\" style=\"margin-top: 15px;\">\n",
    "    <div class=\"col\"><img src=\"jupyter_images/crystal_purity.png\"></div>\n",
    "    <div class=\"col-12\"><p class=\"image-description\">Figure 3: Overlap in the 95% confidence interval of two samples</p></div>\n",
    "</div>"
   ]
  },
  {
   "cell_type": "markdown",
   "metadata": {},
   "source": [
    "<div class=\"solution_panel closed\">\n",
    "    <div class=\"solution_title\">\n",
    "        <p class=\"solution_title_string\">Source Code For Figure (3)</p>\n",
    "        <ul class=\"nav navbar-right panel_toolbox\">\n",
    "            <li><a class=\"collapse-link\"><i class=\"fa fa-chevron-down\"></i></a></li>\n",
    "        </ul>\n",
    "    <div class=\"clearfix\"></div>\n",
    "    </div>\n",
    "    <div class=\"solution_content\">\n",
    "        <pre>\n",
    "            <code class=\"language-python\">\n",
    "                import matplotlib.pyplot as plt\n",
    "                from scipy import stats\n",
    "                import numpy as np\n",
    "\n",
    "                conf_pinkman = stats.t.interval(1 - 0.05, 18 - 1, loc=96.2, scale= 4 / np.sqrt(18))\n",
    "                conf_white = stats.t.interval(1 - 0.05, 21 - 1, loc=99.1, scale= 3 / np.sqrt(21))\n",
    "\n",
    "                plt.style.use('seaborn-whitegrid')\n",
    "                fig, ax = plt.subplots(figsize=(5, 2))\n",
    "\n",
    "                ax.errorbar(99.1, 1, xerr=(conf_white[1] - conf_white[0]) / 2, \n",
    "                            fmt='o', markersize=8, capsize=5, label='Mr. White\\'s', color='grey')\n",
    "                ax.errorbar(96.2, 0, xerr=(conf_pinkman[1] - conf_pinkman[0]) / 2, \n",
    "                            fmt='o', markersize=8, capsize=5, label='Mr. Pinkman\\'s', color='k')\n",
    "                ax.set_ylim(-0.6, 1.6)\n",
    "                ax.fill_betweenx([1, 0], conf_white[0], conf_pinkman[1], facecolor='lightgrey', alpha=0.3)\n",
    "                ax.legend(loc='best', fontsize=11, framealpha=1, frameon=True)\n",
    "                ax.set_xlabel('Purity (%)', fontsize=12)\n",
    "                ax.yaxis.set_major_formatter(plt.NullFormatter())\n",
    "                fig.tight_layout();\n",
    "            </code>\n",
    "        </pre>\n",
    "    </div>\n",
    "</div>"
   ]
  },
  {
   "cell_type": "markdown",
   "metadata": {},
   "source": [
    "<div id=\"quick-highlights\"></div>\n",
    "\n",
    "## 2. Key takeaways\n",
    "\n",
    "<div class=\"highlights\" id=\"key1\">\n",
    "    <div class=\"highlights-title\">1. Confidence interval quantifies uncertainty of statistical estimation</div>\n",
    "    <div class=\"highlights-content\">Confidence interval qunatifies the uncertainty related to a statistical estimation to mitigate the issue of <a href=\"#population_vs_samples\">Population vs. Samples</a>. It is always expressed in a range like — $\\text{C.I.}: \\quad \\bar{x} \\pm 3.43$ or $-51.4 < \\bar{x} < -43.2$</div>\n",
    "</div>\n",
    "\n",
    "<div class=\"highlights\" id=\"key2\">\n",
    "    <div class=\"highlights-title\">2. Confidence interval is the basis of parametric hypothesis tests</div>\n",
    "    <div class=\"highlights-content\">Confidence interval is the basis of parametric hypothesis tests. For example, <a href=\"https://www.investopedia.com/terms/t/t-test.asp\" target=\"_blank\">t-test</a> computes its p-value using the <a href=\"#conf_int_of_diff_in_mean\">confidence interval of difference in mean</a>. When samples follow a normal distribution, and therefore their <a href=\"#central_tendency\">centeral tendency</a> can be described by their means, t-test can be used to conclude if two distributions are significantly different from each other. \n",
    "    </div>\n",
    "</div>\n",
    "\n",
    "<div class=\"highlights\" id=\"key3\">\n",
    "    <div class=\"highlights-title\">3. Formula for confidence interval varies with statistics</div>\n",
    "    <div class=\"highlights-content\">\n",
    "        <p>For <a href=\"#conf_int_of_mean\">confidence interval of mean</a></p>\n",
    "        <p><div style=\"font-size: 1rem; margin-top: 20px;\">$$ \\text{C.I.}_{\\text{mean}}: \\quad \\mu \\pm (t_{\\frac{\\alpha}{2},df} \\times \\frac{s}{\\sqrt{n}})$$</div></p>\n",
    "        <p>For <a href=\"#conf_int_of_diff_in_mean\">confidence interval of difference in mean</a></p>\n",
    "        <p><div style=\"font-size: 1rem; margin-top: 20px;\">$$ \\text{C.I.}_{\\Delta \\text{mean}}: \\quad (\\mu_{1}- \\mu_{2}) \\pm (t_{1-\\frac{\\alpha}{2},df} \\times \\sqrt{\\frac{s_1^2}{n_1}+\\frac{s_2^2}{n_2}})$$</div></p>    \n",
    "        <p>For confidence interval of proportion</p>\n",
    "        <p><div style=\"font-size: 1rem; margin-top: 20px;\">$$ \\text{C.I.}_{\\text{proportion}}: \\quad \\hat{p} \\pm (t_{\\frac{\\alpha}{2},df} \\times \\sqrt{\\frac{\\hat{p}(1-\\hat{p})}{n}} )$$</div></p>\n",
    "        <p>For <a href=\"#conf_int_of_var\">confidence interval of variance</a></p>\n",
    "        <p><div style=\"font-size: 1rem; margin-top: 20px;\">$$ \\text{C.I.}_{\\text{variance}}: \\frac{(n-1)s^{2}}{\\chi^{2}_{\\frac{\\alpha}{2}}} \\leq \\sigma^2 \\leq \\frac{(n-1)s^{2}}{\\chi^{2}_{1-\\frac{\\alpha}{2}}}$$</div></p>\n",
    "        <p>For confidence interval of standard deviation</p>\n",
    "        <p><div style=\"font-size: 1rem; margin-top: 20px;\">$$ \\text{C.I.}_{\\text{standard deviation}}: \\sqrt{\\frac{(n-1)s^{2}}{\\chi^{2}_{\\frac{\\alpha}{2}}}} \\leq \\sigma \\leq \\sqrt{\\frac{(n-1)s^{2}}{\\chi^{2}_{1-\\frac{\\alpha}{2}}}}$$</div></p>\n",
    "        <p>Different analytical solutions exist for different statistics. However, confidence interval for many other statistics cannot be analytically solved, simply because there are no formulas for them. If the statistic of your interest does not have an analytical solution for its confidence interval, or you simply don't know it, numerical methods like <a href=\"https://aegis4048.github.io/non-parametric-confidence-interval-with-bootstrap\" target=\"_blank\">boostrapping</a> can be a good alternative (and its powerful).</p>\n",
    "    </div>\n",
    "</div>\n",
    "\n",
    "<div class=\"highlights\" id=\"key4\">\n",
    "    <div class=\"highlights-title\">4. Things are VERY different if sample data set is not normally distributed</div>\n",
    "    <div class=\"highlights-content\">The equations listed above <b>are not valid if sample data set is not normally distributed</b>. In case of non-normally distributed data, its confidence interval can be obatined with non-parametric methods like <a href=\"https://aegis4048.github.io/non-parametric-confidence-interval-with-bootstrap\" target=\"_blank\">boostrapping</a>, or instead use <a href=\"#\">credible interval</a>, which is a Baysian equivalent of confidence interval. Or you can transform your data into normal distribution using <a href=\"https://aegis4048.github.io/transforming-non-normal-distribution-to-normal-distribution\" target=\"_blank\">Box-Cox transformation</a>.</div>\n",
    "</div>\n",
    "\n",
    "<div class=\"highlights\" id=\"key5\">\n",
    "    <div class=\"highlights-title\">5. 95% C.I. does not mean 95% of the sample data lie within the interval.</div>\n",
    "    <div class=\"highlights-content\">It means that there's 95% chance that the estimated statistic falls within the interval. 95% confidence interval relates to the reliability of the estimation procedure. Ex: How reliable is your estimation of population variance?</div>\n",
    "</div>\n",
    "\n",
    "<div class=\"highlights\" id=\"key6\">\n",
    "    <div class=\"highlights-title\">6. Always use t-score instead of z-score</div>\n",
    "    <div class=\"highlights-content\">When constructing confidence interval of mean, or running t-test, always use t-score instead of z-score. This is described in detail <a href=\"#t_vs_z\">below</a>.</div>\n",
    "</div>\n",
    "\n",
    "<div class=\"highlights\" id=\"key7\">\n",
    "    <div class=\"highlights-title\">7. Bigger sample size gives narrower confidence intervals</div>\n",
    "    <div class=\"highlights-content\">Intuitively, this is because the more samples we have, the less uncertainty we have with our statistical estimation. Mathematically, this is because the the confidence interval is inversely related to the sample size $n$, as shown in <a href=\"#eq-1\">eq (1)</a>.</div>\n",
    "</div>\n",
    "\n",
    "<div class=\"highlights\" id=\"key8\">\n",
    "    <div class=\"highlights-title\">8. Means are not always equivalent to central tendency</div>\n",
    "    <div class=\"highlights-content\">When samples are not normally distributed, their means are not a good measure of their <a href=\"#central_tendency\">centeral tendencies</a>. For example, if you are comparing the means of two non-normal data sets with t-test to conclude if they came from the same population, your approach is wrong. The more viable alternative would be to use non-parametric alternatives that uses median, or other statistics that capture the central tendency of non-normal distributions.</div>\n",
    "</div>"
   ]
  },
  {
   "cell_type": "markdown",
   "metadata": {},
   "source": [
    "<div id=\"population_vs_samples\"></div>\n",
    "\n",
    "## 3. Population vs. samples\n",
    "\n",
    "Confidence interval describes the amount of uncertainty associated with a sample estimate of a population parameter. One needs to have a good understanding of the difference between samples and population to understand the necessity of delivering statistical estimations in a range, a.k.a. confidence interval.\n",
    "\n",
    "<div id=\"fig1\" class=\"row give-margin-inline-big-plot mobile_responsive_plot_full_width\" style=\"\n",
    "    margin-top: 10px;\n",
    "\">\n",
    "    <div class=\"col\"><img src=\"jupyter_images/conf_int_sample_pops.png\"></div>\n",
    "    <div class=\"col-12\"><p class=\"image-description\">Figure 1: Population vs samples</p></div>\n",
    "</div>\n",
    "\n",
    "> **Population**: data set that contains all members of a specified group. Ex: ALL people living in the US.\n",
    "\n",
    "> **Samples**: data set that contains a part, or a subset, of a population Ex: SOME people living in the US.\n",
    "\n",
    "<div><hr></div>\n",
    "\n",
    "Let's say that you are conducting a phone-call survey to investigate the society's perception of The Affordable Care Act (“Obamacare”). Since you can't call all 327.2 million people (*population*) in the US, you call about 1,000 people (*samples*). Your poll showed that 59% of the registered voters support Obamacare. This does not agree with the actual survey conducted in 2018; 53% favorable, 42% unfavorable (<a href=\"http://www.msnbc.com/rachel-maddow-show/poll-shows-support-obamacare-reaching-all-time-high\" target=\"_blank\">source</a>). What could be the source of error? \n",
    "\n",
    "Since (formal) president Obama is a member of the Democratic Party, the voters' response can be affected by their political preference. How could you tell that the 1,000 people you called happened to be mostly Democrats, who's more likely to support Obama's policy, because they share similar political view? The samples you collected could have been *biased*, but you don't that know for sure. Of course, the voters' response could be affected by many other factors like race, age, place of residence, or financial status. The idea is that, there will always be uncertainty involved with your estimation, because you don't have an access to the entire population.  \n",
    "\n",
    "Confidence interval is a technique that quantifies the uncertainty when estimating a population parameter from samples.\n",
    "\n",
    "<div id=\"sample_pop_var\"></div>\n",
    "\n",
    "<div class=\"alert alert-info\">\n",
    "    <h4>Notes: Population variance $\\sigma^2$ vs. Sample variance $s^2$</h4>\n",
    "    <p>Distinction between population parameter and sample parameter is important. In statistics, it is a common practice to denote population variance as $\\sigma^2$, and sample variance as $s^2$. The distinction is important because different equations are used for each.</p>\n",
    "    <p>For population:</p>\n",
    "    <p><div style=\"font-size: 1rem; margin-top: 20px;\">$$ \\text{variance} = \\sigma^2 = \\frac{\\sum(x - \\bar{x})^2}{n} $$</div></p>\n",
    "    <p>For samples:</p>\n",
    "    <p><div style=\"font-size: 1rem; margin-top: 20px;\">$$ \\text{variance} = s^2 = \\frac{\\sum(x - \\bar{x})^2}{n-1} $$</div></p>\n",
    "    <p>The divisor $n-1$ is a correction factor for bias. Note that the correction has a larger proportional effect when $n$ is small than when $n$ is large, which is what we want because the more samples we have, the better the estimation. This idea is well explained on this <a href=\"https://stats.stackexchange.com/questions/3931/intuitive-explanation-for-dividing-by-n-1-when-calculating-standard-deviation\" target=\"_blank\">StackExchange thread</a>.</p>\n",
    "</div>\n",
    "\n",
    "<div><hr></div>\n",
    "\n",
    "<div id=\"python_variance\"></div>\n",
    "<p style=\"color: #666\"><b>Pythonic Tip:</b> Difference between Numpy variance and Pandas variance<p>\n",
    "\n",
    "Different libraries make different assumption about an input array. The default value of <code>ddof</code> is different for Pandas and Numpy, resulting in different variance. <code>ddof</code> represent degrees of freedom, and setting <code>ddof=True</code> or <code>ddof=1</code> tells the variance function to calculate sample variance by accounting for the bias factor $n-1$ (recall that in Python, <code>True==1</code>.) Remember that there is a distinction between <a href=\"#sample_pop_var\">Population variance ($\\sigma^2$) vs. Sample variance ($s^2$).</a>\n",
    "\n",
    "If you are confused which library is computing which variance (sample or population), just remember this: whatever library you are using, use <code>ddof=True</code> or <code>ddof=1</code> to compute sample variance, and use <code>ddof=False</code> or <code>ddof=0</code> to compute population variance.\n",
    "<div style=\"margin: -20px\"></div>"
   ]
  },
  {
   "cell_type": "code",
   "execution_count": 1,
   "metadata": {},
   "outputs": [],
   "source": [
    "import numpy as np\n",
    "import pandas as pd\n",
    "\n",
    "arr = pd.DataFrame([5,3,1,6])"
   ]
  },
  {
   "cell_type": "code",
   "execution_count": 7,
   "metadata": {
    "scrolled": true
   },
   "outputs": [
    {
     "data": {
      "text/plain": [
       "3.6875"
      ]
     },
     "execution_count": 7,
     "metadata": {},
     "output_type": "execute_result"
    }
   ],
   "source": [
    "# numpy, population\n",
    "arr.values.var()"
   ]
  },
  {
   "cell_type": "code",
   "execution_count": 8,
   "metadata": {},
   "outputs": [
    {
     "data": {
      "text/plain": [
       "4.916666666666667"
      ]
     },
     "execution_count": 8,
     "metadata": {},
     "output_type": "execute_result"
    }
   ],
   "source": [
    "# numpy, sample\n",
    "arr.values.var(ddof=1)"
   ]
  },
  {
   "cell_type": "code",
   "execution_count": 10,
   "metadata": {},
   "outputs": [
    {
     "data": {
      "text/plain": [
       "0    3.6875\n",
       "dtype: float64"
      ]
     },
     "execution_count": 10,
     "metadata": {},
     "output_type": "execute_result"
    }
   ],
   "source": [
    "# pandas, population\n",
    "arr.var(ddof=0)"
   ]
  },
  {
   "cell_type": "code",
   "execution_count": 99,
   "metadata": {
    "scrolled": true
   },
   "outputs": [
    {
     "data": {
      "text/plain": [
       "0    4.916667\n",
       "dtype: float64"
      ]
     },
     "execution_count": 99,
     "metadata": {},
     "output_type": "execute_result"
    }
   ],
   "source": [
    "# pandas, sample\n",
    "arr.var()"
   ]
  },
  {
   "cell_type": "markdown",
   "metadata": {},
   "source": [
    "<div id=\"Confidence interval of different statistics\"></div>\n",
    "\n",
    "## 4. Confidence interval of normal distribution\n",
    "\n",
    "Computing confidence interval of a statistic depends on two factors: type of statistic, and type of sample distribution. As explained <a href=\"#quick-highlights\">above</a>, different formulas exist for different type of statistics (Ex: mean, std, variance), and different methods (Ex: <a href=\"https://aegis4048.github.io/non-parametric-confidence-interval-with-bootstrap\" target=\"_blank\">boostrapping</a>, <a href=\"#\">credible interval</a>, <a href=\"https://aegis4048.github.io/transforming-non-normal-distribution-to-normal-distribution\" target=\"_blank\">Box-Cox transformation</a>) are used for non-normal data set. \n",
    "\n",
    "We will cover confidence interval of mean, difference in mean and variance."
   ]
  },
  {
   "cell_type": "markdown",
   "metadata": {},
   "source": [
    "<div id=\"conf_int_of_mean\"></div>\n",
    "\n",
    "### 4.1. Confidence interval of mean\n",
    "\n",
    "Confidence interval of mean is used to estimate the population mean from sample data and quantify the related uncertainty. Consider the following figure:\n",
    "\n",
    "<div id=\"fig3\" class=\"row give-margin-inline-big-plot mobile_responsive_plot_full_width\" style=\"margin-top: 15px;\">\n",
    "    <div class=\"col\"><img src=\"jupyter_images/conf_pop_dist.png\"></div>\n",
    "    <div class=\"col-12\"><p class=\"image-description\">Figure 3: Distribution of population and C.I. of mean</p></div>\n",
    "</div>\n",
    "\n",
    "In <a href=\"#fig3\">figure (3)</a>, assume that the population is normally distributed. Since we don't have an access to the entire population, we have to guess the <span style=\"color: #ed7d32; font-weight: 500;\">population mean (unknown)</span> to the best of our ability using sample data set. We do this by computing the <span style=\"color: #70ad47; font-weight: 500;\">sample mean</span> and constructing its <span style=\"color: #385624; font-weight: 500;\">95% confidence interval</span>. Note that the popular choices of <a href=\"#\">confidence levels</a> are: 90%, 95%, and 99%\n",
    "\n",
    "Assuming normality of population, its sample means are also normally distributed. Let's say that you have a population, and you draw small fractions of it $N$ times. Then, the computed means of $N$ sample sets $\\boldsymbol{\\mu}=(\\mu_1, \\mu_2,..., \\mu_{N-1}, \\mu_N)$ is normally distributed as shown in <a href=\"#fig4\">figure (4)</a>. Their confidence intervals are represented as the black horizontal arrows:.\n",
    "\n",
    "<div id=\"fig4\" class=\"row give-margin-inline-big-plot mobile_responsive_plot_full_width\" style=\"margin-top: 15px;\">\n",
    "    <div class=\"col\"><img src=\"jupyter_images/conf_int_mean.png\"></div>\n",
    "    <div class=\"col-12\"><p class=\"image-description\">Figure 4: Distribution of sample mean and its C.I.</p></div>\n",
    "</div>\n",
    "\n",
    "You can see that the confidence interval of <span style=\"color: red; font-weight: 500;\">$\\mu_5$</span> does NOT include the <span style=\"color: #70ad47; font-weight: 500;\">green vertical dashed line</span>, 12.31. Let's assume that 12.31 is the true population mean (we never know if this is the actual population mean or not, but let's assume). If we get <span style=\"color: red; font-weight: 500;\">$\\mu_5$</span> and its confidence interval as our estimation of the population mean, then our estimation is wrong. There is a 5% chance of this happening, because we set our confidence level as 95%. Note that the width of the confidence intervals (black horizontal arrows) depend on the sample size, as shown in <a href=\"#eq-1\">eq (1)</a>\n",
    "\n",
    "The grey area of <a href=\"#fig3\">figure (3)</a> is essentially equivalent to the grey area of <a href=\"#fig4\">figure (4)</a>. $\\mu_1$ = 12.32 is the sample mean, and $\\pm$ 3.56 is the uncertainty related to the sample mean with 95% confidence. The uncertainty is a product of distribution score and standard error of mean. Distribution score essentially tells how many standard error are the limits (8.76 and 15.88) away from the center (12.32). Choosing larger confidence level results in larger confidence interval. This increases the grey area in <a href=\"#fig3\">figure (3)</a> and <a href=\"#fig4\">figure (4)</a>. \n",
    "\n",
    "We convey 95% confidence interval of mean like this:\n",
    "\n",
    "> I am 95% confident that the population mean falls between 8.76 and 15.88. If I sample data 20 times, 19 times the sample mean will fall between 8.76 ~ 15.88, but expect that I will be wrong 1 time.\n",
    "\n",
    "<div id=\"dist_stats\"></div>\n",
    "<div class=\"alert alert-info\">\n",
    "    <h4>Notes: Distribution of various statistics</h4>\n",
    "    <p>Different statistics exhibit different distributions. Normality of samples does not guarantee normality of its statistics. When the samples are normally distributed, their means are normally distributed, but their variances are chi-square <span style=\"font-size: 90% !important\">$\\chi^2$</span> distributed. More discussion about the distribution of variance and <span style=\"font-size: 90% !important\">$\\chi^2$</span> distribution is covered <a href=\"#chi_square\">below</a>. Note that these assumptions are invalid when samples are non-normal.</p>\n",
    "    <img class=\"\" style=\"border: 1px solid #ddd;\" src=\"jupyter_images/chi_norm.png\"/>\n",
    "    <div class=\"solution_panel closed\" style=\"margin-top: 20px;\">\n",
    "        <div class=\"solution_title solution_admonition\">\n",
    "            <p class=\"solution_title_string\">Source Code For The Figure</p>\n",
    "            <ul class=\"nav navbar-right panel_toolbox\">\n",
    "                <li><a class=\"collapse-link\"><i class=\"fa fa-chevron-down\"></i></a></li>\n",
    "            </ul>\n",
    "            <div class=\"clearfix\"></div>\n",
    "        </div>\n",
    "        <div class=\"solution_content\">\n",
    "            <pre>\n",
    "                <code class=\"language-python\">\n",
    "                    from scipy import stats\n",
    "                    import matplotlib.pyplot as plt\n",
    "                    import numpy as np\n",
    "\n",
    "                    df_values = [1, 2, 6, 9]\n",
    "                    linestyles = ['-', '--', ':', '-.']\n",
    "                    normal_params = [(10, 1), (11, 1), (10, 2), (10, 3)]\n",
    "                    x = np.linspace(-1, 20, 1000)\n",
    "                    \n",
    "                    plt.style.use('seaborn-whitegrid')\n",
    "                    fig, ax = plt.subplots(1, 2, figsize=(13.3, 5))\n",
    "                    fig.tight_layout()\n",
    "                    plt.subplots_adjust(left=0.09, right=0.96, bottom=0.12, top=0.93)\n",
    "\n",
    "                    for df, norm_p, ls in zip(df_values, normal_params, linestyles):\n",
    "                        ax[1].plot(x, stats.chi2.pdf(x, df, loc=0, scale=1),\n",
    "                                   ls=ls, c='black', label=r'Degrees of freedom$=%i$' % df)\n",
    "                        ax[0].plot(x, stats.norm.pdf(x, loc=norm_p[0], scale=norm_p[1]), \n",
    "                                   ls=ls, c='black', label='Mean = %d, ' % norm_p[0] + 'Std = %s' % norm_p[1])\n",
    "\n",
    "                    ax[0].set_xlim(4, 16)\n",
    "                    ax[0].set_ylim(-0.025, 0.525)\n",
    "                    ax[0].set_xlabel('$x$', fontsize=20)\n",
    "                    ax[0].set_ylabel(r'Probability', fontsize=20)\n",
    "                    ax[0].set_title(r'Distribution of means: normal distribution', fontsize=20)\n",
    "                    ax[0].legend(loc='upper left', fontsize=16, framealpha=1, frameon=True)\n",
    "\n",
    "                    ax[1].set_xlim(0, 10)\n",
    "                    ax[1].set_ylim(-0.025, 0.525)\n",
    "                    ax[1].set_xlabel('$\\chi^2$', fontsize=20)\n",
    "                    ax[1].set_title(r'Distribution of variances: $\\chi^2$ distribution', fontsize=20)\n",
    "                    ax[1].legend(loc='best', fontsize=16, framealpha=1, frameon=True)\n",
    "                </code>\n",
    "            </pre>\n",
    "        </div>\n",
    "    </div>\n",
    "</div>"
   ]
  },
  {
   "cell_type": "markdown",
   "metadata": {},
   "source": [
    "If sample data is normal or normal-like distributed, we almost always assume t-distribution to compute confidence interval, as explained <a href=\"#t_vs_z\">below</a>. Then, the confidence interval of mean has the following analytical solution:\n",
    "\n",
    "<div id=\"eq-1\" style=\"font-size: 1rem;\">\n",
    "$$ \\text{C.I.}_{\\text{mean}}: \\quad \\mu \\pm (t_{1-\\frac{\\alpha}{2},df} \\times \\frac{s}{\\sqrt{n}}) \\tag{1}$$\n",
    "</div>\n",
    "\n",
    "<div class=\"eq-terms\">\n",
    "    <div class=\"row eq-terms-where\">where</div>\n",
    "    <div class=\"row\">\n",
    "        <div class=\"col-3\"><p>$\\mu$<p></div>\n",
    "        <div class=\"col-9\"><p>: sample mean<p></div>\n",
    "    </div>\n",
    "    <div class=\"row\">\n",
    "        <div class=\"col-3\">$\\alpha$</div>\n",
    "        <div class=\"col-9\">: <a href=\"#\">significance level</a></div>\n",
    "    </div>    \n",
    "    <div class=\"row\">\n",
    "        <div class=\"col-3\"><p>$n$<p></div>\n",
    "        <div class=\"col-9\"><p>: number of samples<p></div>\n",
    "    </div>\n",
    "    <div class=\"row\">\n",
    "        <div class=\"col-3\"><p>$df$<p></div>\n",
    "        <div class=\"col-9\"><p>: degrees of freedom. In this example, df = $n$ - 1<p></div>\n",
    "    </div>    \n",
    "    <div class=\"row\">\n",
    "        <div class=\"col-3\">$s$</div>\n",
    "        <div class=\"col-9\">: sample standard deviation</div>\n",
    "    </div>   \n",
    "    <div class=\"row\">\n",
    "        <div class=\"col-3\">$t$</div>\n",
    "        <div class=\"col-9\">: t-score. depends on $\\alpha$ and $df$</div>\n",
    "    </div>   \n",
    "</div>\n",
    "\n",
    "Recall that when computing $s$, correction factor ($n-1$) is applied to account for sample bias, as explained <a href=\"#sample_pop_var\">above</a>. Pay close attention to the standard error $\\frac{s}{\\sqrt{(n)}}$. As the sample size $n$ increases, the standard error decreases, reducing the range of confidence interval. This is intuitive in a sense that, the more samples we have, the less uncertainty we have with our statistical estimation. The length of the black horizontal arrows in <a href=\"#fig4\">figure (4)</a> depends on the sample size. The larger the sample size, the narrower the width of arrows, and vice versa.\n",
    "\n",
    "<div id=\"t_vs_z\"></div>\n",
    "<div class=\"alert alert-info\">\n",
    "    <h4>Notes: z-score vs t-score</h4>\n",
    "    <p>You've probably seen mixed use of z-score and t-score for confidence interval during your studies. Long story short, it is safe and almost always better to use t-score than z-score.</p>\n",
    "    <p>Z-score ($z_{\\frac{\\alpha}{2}}$) is used for normal distribution, and t-score ($t_{\\frac{\\alpha}{2},df}$) is used for t-distribution. You use z-score if you know the population variance $\\sigma^2$. If not, you use t-score. Since the population variance $\\sigma^2$ is almost never known, you almost always use t-score for confidence interval. After all, the purpose of using confidence interval is to mitigate the issue of <a href=\"#population_vs_samples\">Population vs. Samples</a> when estimating population parameter ($\\sigma^2$) from samples. If you know the population parameters, you probably don't need confidence interval in the first place.</p>\n",
    "    <p>A natural question is, \"how is it safe to use t-score instead of z-score? Shouldn't I be using z-score since I know that the population is normally distributed, from previous knowledge?\" It is safe to do so because t-distribution converges to normal distribution according to the Centeral Limit Theorem. Recall that t-distribution behaves more and more like a normal distribution as the sample size increases.</p>\n",
    "    <p>Google <i>\"95% confidence z-score\"</i> and you will see $z$ = 1.96 at 95% confidence level. On the other hand, t-score approaches  1.96 as its degrees of freedom increases: $\\lim_{df \\to \\infty}t$ = 1.96. For 95% confidence level, $t$ = 2.228 when $n$ - 1 = 10 and $t$ = 2.086 when $n$ - 1 = 20. This is why it is safe to always replace z-score with t-score when computing confidence interval.</p>\n",
    "</div>"
   ]
  },
  {
   "cell_type": "markdown",
   "metadata": {},
   "source": [
    "<div style=\"margin: -20px\"></div>\n",
    "<div><hr></div>\n",
    "\n",
    "<div id=\"python_ci_mean\"></div>\n",
    "<p style=\"color: #666\"><b>Pythonic Tip:</b> Computing confidence interval of mean with SciPy<p>\n",
    "\n",
    "We can compute confidence interval of mean directly from using <a href=\"#eq-1\">eq (1)</a>. Recall to pass <code>ddof=1</code> to make sure to compute sample standard deviation $s$, not population standard deviation $\\sigma$, as explained <a href=\"#python_variance\">above</a>. \n",
    "\n",
    "We will draw random samples from normal distribution using <a href=\"https://docs.scipy.org/doc/numpy/reference/generated/numpy.random.normal.html\" target=\"_blank\">np.random.normal().</a> Note that <code>loc</code> is for population mean, and <code>scale</code> is for population standard deviation, and <code>size</code> is for number of samples to draw.\n",
    "\n",
    "<div style=\"margin: -20px\"></div>"
   ]
  },
  {
   "cell_type": "code",
   "execution_count": 128,
   "metadata": {},
   "outputs": [],
   "source": [
    "from scipy import stats\n",
    "import numpy as np\n",
    "\n",
    "np.random.seed(42)\n",
    "\n",
    "arr = np.random.normal(loc=74, scale=4.3, size=20)\n",
    "\n",
    "alpha = 0.05                       # significance level = 5%\n",
    "df = len(arr) - 1                  # degress of freedom = 20\n",
    "t = stats.t.ppf(1 - alpha/2, df)   # two-tailed 95% confidence t-score = 2.086\n",
    "s = np.std(arr, ddof=1)            # sample standard deviation = 2.502\n",
    "n = len(arr)\n",
    "\n",
    "lower = np.mean(arr) - (t * s / np.sqrt(n))\n",
    "upper = np.mean(arr) + (t * s / np.sqrt(n))"
   ]
  },
  {
   "cell_type": "code",
   "execution_count": 129,
   "metadata": {},
   "outputs": [
    {
     "data": {
      "text/plain": [
       "(71.33139551903422, 75.19543685256606)"
      ]
     },
     "execution_count": 129,
     "metadata": {},
     "output_type": "execute_result"
    }
   ],
   "source": [
    "(lower, upper)"
   ]
  },
  {
   "cell_type": "markdown",
   "metadata": {},
   "source": [
    "<div style=\"margin-top: -20px\"></div>\n",
    "\n",
    "Or we can compute with <a href=\"https://docs.scipy.org/doc/scipy/reference/generated/scipy.stats.t.html\" arget=\"_blank\">scipy.stats.t.interval().</a> Note that you don't divide <code>alpha</code> by 2, because the function does that for you. Also note that the standard error $\\frac{s}{\\sqrt{n}}$ can be computed with <a href=\"https://docs.scipy.org/doc/scipy/reference/generated/scipy.stats.sem.html\" target=\"_blank\">scipy.stats.sem()</a>"
   ]
  },
  {
   "cell_type": "code",
   "execution_count": 130,
   "metadata": {},
   "outputs": [
    {
     "data": {
      "text/plain": [
       "(71.33139551903422, 75.19543685256606)"
      ]
     },
     "execution_count": 130,
     "metadata": {},
     "output_type": "execute_result"
    }
   ],
   "source": [
    "stats.t.interval(1 - alpha, len(arr) - 1, loc=np.mean(arr), scale=stats.sem(arr))"
   ]
  },
  {
   "cell_type": "markdown",
   "metadata": {},
   "source": [
    "<div style=\"margin-top: -20px\"></div>\n",
    "\n",
    "Note the default value of <code>loc=0</code> and <code>scale=1</code>. This will assume sample mean $\\mu$ to be 0, and standard error $\\frac{s}{\\sqrt{n}}$ to be 1, which assumes standard normal distribution of mean = 0 and standard deviation = 1. <u>This is NOT what we want.</u>"
   ]
  },
  {
   "cell_type": "code",
   "execution_count": 8,
   "metadata": {},
   "outputs": [
    {
     "data": {
      "text/plain": [
       "(-2.093024054408263, 2.093024054408263)"
      ]
     },
     "execution_count": 8,
     "metadata": {},
     "output_type": "execute_result"
    }
   ],
   "source": [
    "stats.t.interval(1 - alpha, len(arr) - 1)"
   ]
  },
  {
   "cell_type": "markdown",
   "metadata": {},
   "source": [
    "<div style=\"margin-top: 30px\" id=\"conf_int_of_diff_in_mean\"></div>\n",
    "\n",
    "### 4.2. Confidence interval of difference in mean\n",
    "\n",
    "Confidence interval of difference in mean is not very useful by itself. But it is important to understand how it works, because it forms the basis of one of the most widely used hypothesis test: <a href=\"https://www.investopedia.com/terms/t/t-test.asp\" target=\"_blank\">t-test</a>. \n",
    "\n",
    "Often we are interested in knowing if two distributions are significantly different. In the other words, we want to know if two sample data sets came from the same population by <a href=\"#\">comparing central tendency of populations</a>. A standard approach is to check if the sample means are different. However, this is a misleading approach in a sense that the means of samples are almost always different, even if the difference is microscopic. More useful would be to estimate the difference in a <i>range</i> to account for uncertainty, and compute probability that it is big enough to be of practical importance. T-test checks if the difference is \"close enough\" to zero by computing the confidence interval of difference in means.\n",
    "\n",
    "<u>T-test hypothesis</u>\n",
    "\n",
    "<div  style=\"font-size: 1rem;\">\n",
    "$$ H_0: \\mu_1 - \\mu_2 = 0 \\tag{2}$$\n",
    "</div>\n",
    "<div  style=\"font-size: 1rem;\">\n",
    "$$ H_1: \\mu_1 - \\mu_2 \\neq 0 \\tag{3}$$\n",
    "</div>\n",
    "\n",
    "<div class=\"eq-terms\">\n",
    "    <div class=\"row eq-terms-where\">where</div>\n",
    "    <div class=\"row\">\n",
    "        <div class=\"col-3\"><p>$\\mu$<p></div>\n",
    "        <div class=\"col-9\"><p>: sample mean<p></div>\n",
    "    </div> \n",
    "    <div class=\"row\">\n",
    "        <div class=\"col-3\"><p>$H_0$<p></div>\n",
    "        <div class=\"col-9\"><p>: null hypothesis — sample means are the same \"enough\"<p></div>\n",
    "    </div>\n",
    "    <div class=\"row\">\n",
    "        <div class=\"col-3\">$H_1$</div>\n",
    "        <div class=\"col-9\"><p>: alternate hypothesis — sample means are \"significantly\" different</p></div>\n",
    "    </div>    \n",
    "</div>\n",
    "\n",
    "Note that the above hypothesis tests whether the mean of one group is significantly DIFFERENT from the mean of the other group; we are using two-tailed test. This does not check if the mean of one group is significantly GREATER than the mean of the other group, which uses one-tailed test.\n",
    "\n",
    "<div id=\"anova\"></div>\n",
    "<div class=\"alert alert-info\">\n",
    "    <h4>Notes: Comparing means of more than two samples with ANOVA</h4>\n",
    "    <p>Analysis of variance (ANOVA) checks if the means of two or more samples are significantly different from each other. Using t-test is not reliable in cases where there are more than 2 samples. If we conduct multiple t-tests for comparing more than two samples, it will have a compounded effect on the error rate of the result.</p>\n",
    "    <p>ANOVA has the following hypothesis:</p>\n",
    "    <p><div style=\"font-size: 1rem; margin-top: 20px;\">$$\n",
    "        \\begin{align}\n",
    "           H_0: &\\mu_1 = \\mu_2 = \\, \\cdots \\, =\\mu_L \\\\[5pt]\n",
    "           H_1: &\\mu_a \\neq \\mu_b\n",
    "        \\end{align}\n",
    "    $$</div></p>\n",
    "    <p>where $L$ is the number of groups, and $\\mu_a$ and $\\mu_b$ belong to any two sample means of any groups. <a href=\"https://www.analyticsvidhya.com/blog/2018/01/anova-analysis-of-variance/\" target=\"_blank\">This article</a> illustrates the concept of ANOVA very well.</p>\n",
    "</div>"
   ]
  },
  {
   "cell_type": "markdown",
   "metadata": {},
   "source": [
    "<div id=\"fig5\" class=\"row\" style=\"margin-top: 15px;\">\n",
    "    <div class=\"col\"><img src=\"jupyter_images/conf_int_diff_means.png\"></div>\n",
    "    <div class=\"col-12\"><p class=\"image-description\">Figure 5: Distributions of samples</p></div>\n",
    "</div>\n",
    "\n",
    "In <a href=\"#fig5\">figure (5)</a>, $\\mu$ represents the sample mean. If two sample data sets are from the same population, the distribution of means will be similar \"enough\". If not, they will be \"significantly\" different. It can be visually inspected by the area of overlap. The larger the overlap, the bigger the chance of the two distributions originating from the same population.\n",
    "\n",
    "The more robust way to compare sample means would be to construct the confidence interval of difference in means. If the two samples came from the same population, they should have the similar \"enough\" means. Their difference should be close to zero and satisfy (or fail to reject) the null hypothesis <span style=\"color: #ed7d32; font-weight: 500;\">$H_0: \\mu_1 - \\mu_2 = 0$</span> within a range of uncertainty. Consider the following figure:\n",
    "\n",
    "<div id=\"fig6\" class=\"row\" style=\"margin-top: 15px;\">\n",
    "    <div class=\"col\"><img src=\"jupyter_images/conf_int_diff_means_dist.png\"></div>\n",
    "    <div class=\"col-12\"><p class=\"image-description\">Figure 6: Distribution of difference in means</p></div>\n",
    "</div>\n",
    "\n",
    "In <a href=\"#fig6\">figure (6)</a>, the calculated difference in sample means is <span style=\"color: #70ad47; font-weight: 500;\">$\\mu_1 - \\mu_2 = 1.00$</span>. We deliver the uncertainty related to our estimation of difference in sample means by constructing its <span style=\"color: #385624; font-weight: 500;\">95% confidence interval $[$-1.31 ~ 3.31$]$</span>. Since the null hypothesis <span style=\"color: #ed7d32; font-weight: 500;\">$H_0: \\mu_1 - \\mu_2 = 0$</span> is within the 95% confidence interval (<span style=\"color: #929292; font-weight: 500;\">grey shaded area</span>), we accept the null hypothesis; we conclude that the samples have the same means within the uncertainty.\n",
    "\n",
    "However, if the null hypothesis is not within the confidence interval and falls in the **2.5% outliers** zone, we reject the null hypothesis and accept the alternate hypothesis <span style=\"color: #030303; font-weight: 500;\">$H_1: \\mu_1 - \\mu_2 \\neq 0$</span>. In the other words, we conclude that the sample means are significantly different."
   ]
  },
  {
   "cell_type": "markdown",
   "metadata": {},
   "source": [
    "<div style=\"margin: -20px\"></div>\n",
    "<div><hr></div>\n",
    "\n",
    "<div id=\"\"></div>\n",
    "<p style=\"color: #666\"><b>Three variations of confidence interval of difference in means</b><p>\n",
    "\n",
    "There are three variations of t-test, and therefore there are three variations of confidence interval of difference in means. The difference & application of the three variations are really well-explained in <a href=\"https://en.wikipedia.org/wiki/Student%27s_t-test\" target=\"_blank\">Wikipedia</a> (one of the few that are actually easy to understand, with minimum jargons.)\n",
    "\n",
    "<ol class=\"rounded-list\" style=\"margin-bottom: 40px !important; margin-top: 40px! important;\">\n",
    "    <li><a href=\"#ind_equal\">Independent (unpaired) samples, equal variance - Student's t-interval</a></li>\n",
    "    <li><a href=\"#ind_unequal\">Independent (unpaired) samples, unequal variance - Welch's t-interval</a></li>\n",
    "    <li><a href=\"#dep\">Dependent (paired) samples</a></li>\n",
    "</ol>\n",
    "\n",
    "Recall that all t-tests assume normality of data. However, they are pretty robust to non-normality as long as the deviation from normality isn't large. Visualize your distributions to test this. Robustness of t-test to non-normality is discussed in detail <a href=\"robustness\">below</a>."
   ]
  },
  {
   "cell_type": "markdown",
   "metadata": {},
   "source": [
    "<div id=\"ind_equal\"></div>\n",
    "\n",
    "#### 4.2.1. Independent (unpaired) samples, equal variance - student's t-interval\n",
    "\n",
    "When you have a reason to believe that samples have nearly equal variances, you can use student's t-test to check if difference in means are significantly different. Note that student's t-test works pretty well even with unequal variances as long as sample sample sizes are equal or nearly equal, and sample sizes are not tiny. \n",
    "\n",
    "However, it is recommended to always use Welch's t-test by assuming unequal variances, as explained <a href=\"#which_to_use\">below</a>. Use student's t-test if you are ABSOLUTELY sure that the population variances are nearly equal. \n",
    "\n",
    "Confidence interval of difference in mean assuming equal variance (student's t-interval) can be calculated as follows:\n",
    "\n",
    "<div id=\"eq-4\" style=\"font-size: 1rem;\">\n",
    "$$ \\text{C.I.}_{\\Delta \\text{mean}}: \\quad (\\mu_{1}- \\mu_{2}) \\pm (t_{1-\\frac{\\alpha}{2},df} \\times s_p\\sqrt{\\frac{1}{n_1}+\\frac{1}{n_2}})\\,, \\quad s_p = \\sqrt{\\frac{(n_1-1)s_{1}^2 + (n_2-1)s_{2}^2}{n_1+n_2-2}} \\tag{4}$$\n",
    "</div>\n",
    "\n",
    "<div class=\"eq-terms\">\n",
    "    <div class=\"row eq-terms-where\">where</div>\n",
    "    <div class=\"row\">\n",
    "        <div class=\"col-3\"><p>$\\mu$<p></div>\n",
    "        <div class=\"col-9\"><p>: sample mean<p></div>\n",
    "    </div>\n",
    "    <div class=\"row\">\n",
    "        <div class=\"col-3\">$\\alpha$</div>\n",
    "        <div class=\"col-9\">: <a href=\"#\">significance level</a></div>\n",
    "    </div>    \n",
    "    <div class=\"row\">\n",
    "        <div class=\"col-3\"><p>$n$<p></div>\n",
    "        <div class=\"col-9\"><p>: number of samples<p></div>\n",
    "    </div>\n",
    "    <div class=\"row\">\n",
    "        <div class=\"col-3\"><p>$df$<p></div>\n",
    "        <div class=\"col-9\"><p>: degrees of freedom<p></div>\n",
    "    </div>    \n",
    "    <div class=\"row\">\n",
    "        <div class=\"col-3\">$s_p$</div>\n",
    "        <div class=\"col-9\">: pooled standard deviation</div>\n",
    "    </div>  \n",
    "    <div class=\"row\">\n",
    "        <div class=\"col-3\">$s$</div>\n",
    "        <div class=\"col-9\">: sample standard deviation</div>\n",
    "    </div>   \n",
    "    <div class=\"row\">\n",
    "        <div class=\"col-3\">$t$</div>\n",
    "        <div class=\"col-9\">: t-score. depends on $\\alpha$ and degrees of freedom $n-1$</div>\n",
    "    </div>   \n",
    "</div>\n",
    "\n",
    "The formula for the pooled standard deviation $s_p$ looks a bit overwhelming, but its just an weighted average standard deviation of two samples, with <a href=\"#sample_pop_var\">bias correction factor</a> $n_i-1$ for each sample. Recall that student's t-test assumes equal variances of two samples. You calculate what is assumed to be the common variance (=pooled variance, $s_p^2$) by computing the weighted average from each sample's variance.\n",
    "\n",
    "In <a href=\"#eq-4\">eq (4)</a>, $t$-score depends on significance level $\\alpha$ and degrees of freedom $df$. In student's t-test, which assumes equal variance:\n",
    "\n",
    "<div id=\"eq-5\" style=\"font-size: 1rem;\">\n",
    "$$ df = n_1 + n_2 -2 \\tag{5}$$\n",
    "</div>"
   ]
  },
  {
   "cell_type": "markdown",
   "metadata": {},
   "source": [
    "<div><hr></div>\n",
    "\n",
    "<div id=\"python_ind_equal\"></div>\n",
    "<p style=\"color: #666\"><b>Pythonic Tip:</b> Computing student's t-interval<p>\n",
    "\n",
    "Unfortunately, SciPy doesn't support computing confidence intereval of difference in mean separately. It is incorporated into computing t-statistic and p-value of t-test, but users can't access its underlying confidence interval. Note that in R, users have access to the CI of difference in means.\n",
    "\n",
    "We can compute CI of difference in means assuming equal variance with <a href=\"eq-4\">eq (4)</a>. Don't forget to compute sample variance, instead of population variance by setting <code>ddof=1</code> as explained <a href=\"#python_variance\">above</a>.\n",
    "    \n",
    "<div style=\"margin-bottom: -20px\"></div>"
   ]
  },
  {
   "cell_type": "code",
   "execution_count": 182,
   "metadata": {},
   "outputs": [],
   "source": [
    "from scipy import stats\n",
    "import numpy as np"
   ]
  },
  {
   "cell_type": "code",
   "execution_count": 183,
   "metadata": {},
   "outputs": [],
   "source": [
    "x1 = [12.9, 10.2, 7.4, 7.0, 10.5, 11.9, 7.1, 9.9, 14.4, 11.3]\n",
    "x2 = [10.2, 6.9, 10.9, 11.0, 10.1, 5.3, 7.5, 10.3, 9.2, 8.8]\n",
    "\n",
    "alpha = 0.05                                                 # significance level = 5%\n",
    "n1, n2 = len(x1), len(x2)                                    # sample sizes\n",
    "s1, s2 = np.var(x1, ddof=1), np.var(x2, ddof=1)              # sample variances\n",
    "s = np.sqrt(((n1 - 1) * s1 + (n2 - 1) * s2) / (n1 + n2 - 2)) # pooled standard deviation\n",
    "df = n1 + n2 - 2                                             # degrees of freedom\n",
    "t = stats.t.ppf(1 - alpha/2, df)                             # two-tailed 95% confidence t-score\n",
    "\n",
    "lower = (np.mean(x1) - np.mean(x2)) - t * np.sqrt(1 / len(x1) + 1 / len(x2)) * s\n",
    "upper = (np.mean(x1) - np.mean(x2)) + t * np.sqrt(1 / len(x1) + 1 / len(x2)) * s"
   ]
  },
  {
   "cell_type": "code",
   "execution_count": 184,
   "metadata": {},
   "outputs": [
    {
     "data": {
      "text/plain": [
       "(-0.8520326742900641, 3.332032674290068)"
      ]
     },
     "execution_count": 184,
     "metadata": {},
     "output_type": "execute_result"
    }
   ],
   "source": [
    "(lower, upper)"
   ]
  },
  {
   "cell_type": "markdown",
   "metadata": {},
   "source": [
    "<div style=\"margin-top: -20px\"></div>\n",
    "\n",
    "The 95% confidence interval of difference in means has 0 within its interval. This means that the null hypothesis, <span style=\"color: #ed7d32; font-weight: 500; font-size: 0.85rem;\">$H_0: \\mu_1 - \\mu_2 = 0$</span> in <a href=\"#fig6\">figure (6)</a>, falls within the interval and we fail to reject the null hypothesis. We conclude that the sample means are not significantly different.\n",
    "\n",
    "We can confirm this by running a formal hypothesis testing with <a href=\"https://docs.scipy.org/doc/scipy/reference/generated/scipy.stats.ttest_ind.html\" target=\"_blank\">scipy.stats.ttest_ind()</a>, and setting <code>equal_var=True</code>. Note that this assumes independent t-test with pooled variance, which is equivalent to student's t-test."
   ]
  },
  {
   "cell_type": "code",
   "execution_count": 185,
   "metadata": {},
   "outputs": [
    {
     "data": {
      "text/plain": [
       "Ttest_indResult(statistic=1.2452689491491107, pvalue=0.22900078577218805)"
      ]
     },
     "execution_count": 185,
     "metadata": {},
     "output_type": "execute_result"
    }
   ],
   "source": [
    "stats.ttest_ind(x1, x2, equal_var=True)"
   ]
  },
  {
   "cell_type": "markdown",
   "metadata": {},
   "source": [
    "<div style=\"margin-top: -20px\"></div>\n",
    "\n",
    "The computed <code>pvalue=0.229</code> is bigger than the significance level of <code>alpha = 0.05</code>, and therefore we fail to reject the null hypothesis, which is consistent with the conclusion drawn from the confidence interval of difference in mean.\n",
    "\n",
    "<div><hr></div>\n",
    "\n",
    "<p><u>Checking results with R</u>:</p>\n",
    "<pre>\n",
    "    <code class=\"language-python\">\n",
    "        a <- c(12.9, 10.2, 7.4, 7.0, 10.5, 11.9, 7.1, 9.9, 14.4, 11.3)\n",
    "\n",
    "        b <- c(10.2, 6.9, 10.9, 11.0, 10.1, 5.3, 7.5, 10.3, 9.2, 8.8)\n",
    "\n",
    "        t.test(a, b, var.equal = TRUE)\n",
    "         \n",
    "        # \tTwo Sample t-test\n",
    "\n",
    "        # data:  a and b\n",
    "        # t = 1.2453, df = 18, p-value = 0.229\n",
    "        # 95 percent confidence interval:\n",
    "        #  -0.8520327  3.3320327\n",
    "        # sample estimates:\n",
    "        # mean of x mean of y \n",
    "        #     10.26      9.02 \n",
    "    </code>\n",
    "</pre>\n"
   ]
  },
  {
   "cell_type": "markdown",
   "metadata": {},
   "source": [
    "<div id=\"ind_unequal\"></div>\n",
    "\n",
    "#### 4.2.2. Independent (unpaired) samples, unequal variance - Welch's t-interval\n",
    "\n",
    "When comparing central tendency of normal distributions, it is safer, and therefore recommended to always use Welch's t-test, which assumes unequal variances of samples, as explained <a href=\"#which_to_use\">below</a>. Equal variance t-test is not robust when population variances are different, but unequal variances are robust even when population variances are equal. \n",
    "\n",
    "Confidence interval of difference in mean assuming unequal variance (Welch's t-interval) can be calculated as follows:\n",
    "\n",
    "<div id=\"eq-6\" style=\"font-size: 1rem;\">\n",
    "$$ \\text{C.I.}_{\\Delta \\text{mean}}: \\quad (\\mu_{1}- \\mu_{2}) \\pm (t_{1-\\frac{\\alpha}{2},df} \\times \\sqrt{\\frac{s_1^2}{n_1}+\\frac{s_2^2}{n_2}}) \\tag{6}$$\n",
    "</div>\n",
    "\n",
    "<div class=\"eq-terms\">\n",
    "    <div class=\"row eq-terms-where\">where</div>\n",
    "    <div class=\"row\">\n",
    "        <div class=\"col-3\"><p>$\\mu$<p></div>\n",
    "        <div class=\"col-9\"><p>: sample mean<p></div>\n",
    "    </div>\n",
    "    <div class=\"row\">\n",
    "        <div class=\"col-3\">$\\alpha$</div>\n",
    "        <div class=\"col-9\">: <a href=\"#\">significance level</a></div>\n",
    "    </div>    \n",
    "    <div class=\"row\">\n",
    "        <div class=\"col-3\"><p>$n$<p></div>\n",
    "        <div class=\"col-9\"><p>: number of samples<p></div>\n",
    "    </div>\n",
    "    <div class=\"row\">\n",
    "        <div class=\"col-3\"><p>$df$<p></div>\n",
    "        <div class=\"col-9\"><p>: degrees of freedom<p></div>\n",
    "    </div>    \n",
    "    <div class=\"row\">\n",
    "        <div class=\"col-3\">$s$</div>\n",
    "        <div class=\"col-9\">: sample standard deviation</div>\n",
    "    </div>   \n",
    "    <div class=\"row\">\n",
    "        <div class=\"col-3\">$t$</div>\n",
    "        <div class=\"col-9\">: t-score. depends on $\\alpha$ and degrees of freedom $n-1$</div>\n",
    "    </div>   \n",
    "</div>\n",
    "\n",
    "The formula is very similar to student's t-interval. There are two main differences:\n",
    "\n",
    "<p style=\"padding-left: 20px;\">1.  We use each sample's own variance $s_1^2$ and $s_2^2$, instead of pooled (weighted average) variance $s_p^2$.</p>\n",
    "<p style=\"padding-left: 20px;\">2.  Degrees of freedom <span style=\"font-size: 0.85rem;\">$df$</span> is computed with <a href=\"#eq-7\">eq (7).</a></p>\n",
    "\n",
    "<div id=\"eq-7\" style=\"font-size: 1rem;\">\n",
    "$$ df = \\frac{(\\frac{s^2_1}{n_1} + \\frac{s^2_2}{n_2})^2}{\\frac{(s^2_1/n_1)^2}{n_1-1} + \\frac{(s^2_2/n_2)^2}{n_2-1}} \\tag{7}$$\n",
    "</div>"
   ]
  },
  {
   "cell_type": "markdown",
   "metadata": {},
   "source": [
    "<div><hr></div>\n",
    "\n",
    "<div id=\"python_ind_unequal\"></div>\n",
    "<p style=\"color: #666\"><b>Pythonic Tip:</b> Computing Welch's t-interval<p>\n",
    "\n",
    "The procedure is very similar to <a href=\"#python_ind_equal\">Computing student's t-interval</a>. We will compute confidence interval of difference in mean assuming unequal variance, with <a href=\"#eq-6\">eq (6).</a> Although Scipy supports computing t-statistic for Welch's t-test, it doesn't support a function that allows us to compute Welch's t-interval. We will have to write our own codes to compute it. \n",
    "\n",
    "Don't forget to compute sample variance, instead of population variance by setting <code>ddof=1</code> as explained <a href=\"#python_variance\">above</a>.\n",
    "    \n",
    "<div style=\"margin-bottom: -20px\"></div>"
   ]
  },
  {
   "cell_type": "code",
   "execution_count": 186,
   "metadata": {},
   "outputs": [],
   "source": [
    "from scipy import stats\n",
    "import numpy as np"
   ]
  },
  {
   "cell_type": "code",
   "execution_count": 187,
   "metadata": {},
   "outputs": [],
   "source": [
    "x1 = [12.9, 10.2, 7.4, 7.0, 10.5, 11.9, 7.1, 9.9, 14.4, 11.3]\n",
    "x2 = [10.2, 6.9, 10.9, 11.0, 10.1, 5.3, 7.5, 10.3, 9.2, 8.8]\n",
    "\n",
    "alpha = 0.05                                                       # significance level = 5%\n",
    "n1, n2 = len(x1), len(x2)                                          # sample sizes\n",
    "s1, s2 = np.var(x1, ddof=1), np.var(x2, ddof=1)                    # sample variances\n",
    "df = (s1/n1 + s2/n2)**2 / ((s1/n1)**2/(n1-1) + (s2/n2)**2/(n2-1))  # degrees of freedom\n",
    "t = stats.t.ppf(1 - alpha/2, df)                                   # two-tailed 95% confidence t-score\n",
    "\n",
    "lower = (np.mean(x1) - np.mean(x2)) - t * np.sqrt(1 / len(x1) + 1 / len(x2)) * s\n",
    "upper = (np.mean(x1) - np.mean(x2)) + t * np.sqrt(1 / len(x1) + 1 / len(x2)) * s"
   ]
  },
  {
   "cell_type": "code",
   "execution_count": 188,
   "metadata": {},
   "outputs": [
    {
     "data": {
      "text/plain": [
       "(-0.8633815129922358, 3.3433815129922397)"
      ]
     },
     "execution_count": 188,
     "metadata": {},
     "output_type": "execute_result"
    }
   ],
   "source": [
    "(lower, upper)"
   ]
  },
  {
   "cell_type": "markdown",
   "metadata": {},
   "source": [
    "<div style=\"margin-top: -20px\"></div>\n",
    "\n",
    "The 95% confidence interval of difference in means has 0 within its interval. This means that the null hypothesis, <span style=\"color: #ed7d32; font-weight: 500; font-size: 0.85rem;\">$H_0: \\mu_1 - \\mu_2 = 0$</span> in <a href=\"#fig6\">figure (6)</a>, falls within the interval and we fail to reject the null hypothesis. We conclude that the sample means are not significantly different.\n",
    "\n",
    "We can confirm this by running a formal hypothesis testing with <a href=\"https://docs.scipy.org/doc/scipy/reference/generated/scipy.stats.ttest_ind.html\" target=\"_blank\">scipy.stats.ttest_ind()</a>, and setting <code>equal_var=False</code>. Note that this assumes independent t-test with pooled variance, which is equivalent to student's t-test."
   ]
  },
  {
   "cell_type": "code",
   "execution_count": 189,
   "metadata": {},
   "outputs": [
    {
     "data": {
      "text/plain": [
       "Ttest_indResult(statistic=1.245268949149111, pvalue=0.23018336828903668)"
      ]
     },
     "execution_count": 189,
     "metadata": {},
     "output_type": "execute_result"
    }
   ],
   "source": [
    "stats.ttest_ind(x1, x2, equal_var=False)"
   ]
  },
  {
   "cell_type": "markdown",
   "metadata": {},
   "source": [
    "<div style=\"margin-top: -20px\"></div>\n",
    "\n",
    "The computed <code>pvalue=0.230</code> is bigger than the significance level of <code>alpha = 0.05</code>, and therefore we fail to reject the null hypothesis, which is consistent with the conclusion drawn from the confidence interval of difference in mean.\n",
    "\n",
    "\n",
    "<div><hr></div>\n",
    "\n",
    "<p><u>Checking results with R</u>:</p>\n",
    "<pre>\n",
    "    <code class=\"language-python\">\n",
    "        a <- c(12.9, 10.2, 7.4, 7.0, 10.5, 11.9, 7.1, 9.9, 14.4, 11.3)\n",
    "\n",
    "        b <- c(10.2, 6.9, 10.9, 11.0, 10.1, 5.3, 7.5, 10.3, 9.2, 8.8)\n",
    "\n",
    "        t.test(a, b, var.equal = FALSE)\n",
    "\n",
    "        # \tWelch Two Sample t-test\n",
    "\n",
    "        # data:  a and b\n",
    "        # t = 1.2453, df = 16.74, p-value = 0.2302\n",
    "        # alternative hypothesis: true difference in means is not equal to 0\n",
    "        # 95 percent confidence interval:\n",
    "        #  -0.8633815  3.3433815\n",
    "        # sample estimates:\n",
    "        # mean of x mean of y \n",
    "        #     10.26      9.02 \n",
    "\n",
    "    </code>\n",
    "</pre>"
   ]
  },
  {
   "cell_type": "markdown",
   "metadata": {},
   "source": [
    "<div id=\"dep\"></div>\n",
    "\n",
    "#### 4.2.3. Dependent (paired) samples - Paired t-interval\n",
    "\n",
    "This test is used when the samples are dependent; that is, when there is only one sample that has been tested twice (repeated measures) or when there are two samples that have been matched or \"paired\" (paired or unpaired? read <a href=\"#which_to_use\">below.</a>)\n",
    "\n",
    "Confidence interval of difference in means assuming paired samples can be calculated as follows:\n",
    "\n",
    "<div id=\"eq-8\" style=\"font-size: 1rem;\">\n",
    "$$ \\text{C.I.}_{\\Delta \\text{mean}}: \\quad \\bar{d} \\pm (t_{1-\\frac{\\alpha}{2}, df} \\times \\frac{s_d}{\\sqrt{n}})\\tag{8}$$\n",
    "</div>\n",
    "\n",
    "<div class=\"eq-terms\">\n",
    "    <div class=\"row eq-terms-where\">where</div>\n",
    "    <div class=\"row\">\n",
    "        <div class=\"col-3\"><p>$\\bar{d}$<p></div>\n",
    "        <div class=\"col-9\"><p>: average of sample differences<p></div>\n",
    "    </div>\n",
    "    <div class=\"row\">\n",
    "        <div class=\"col-3\">$\\alpha$</div>\n",
    "        <div class=\"col-9\">: <a href=\"#\">significance level</a></div>\n",
    "    </div>    \n",
    "    <div class=\"row\">\n",
    "        <div class=\"col-3\"><p>$n$<p></div>\n",
    "        <div class=\"col-9\"><p>: number of samples<p></div>\n",
    "    </div>\n",
    "    <div class=\"row\">\n",
    "        <div class=\"col-3\"><p>$df$<p></div>\n",
    "        <div class=\"col-9\"><p>: degrees of freedom<p></div>\n",
    "    </div>    \n",
    "    <div class=\"row\">\n",
    "        <div class=\"col-3\">$s_d$</div>\n",
    "        <div class=\"col-9\">: standard deviation of sample differences</div>\n",
    "    </div>   \n",
    "    <div class=\"row\">\n",
    "        <div class=\"col-3\">$t$</div>\n",
    "        <div class=\"col-9\">: t-score. depends on $\\alpha$ and degrees of freedom $n-1$</div>\n",
    "    </div>   \n",
    "</div>\n",
    "\n",
    "The equation is very similar to <a href=\"#eq-1\">eq (1)</a>, except that we are computing mean and standard deviation of differences between before & after state of test subjects. Let's try to understand this with an example.\n",
    "\n",
    "A school develops a tutoring program to improve the SAT scores of high school students. A school requires students to take tests before & after tutoring, and checks if the tutoring had a significant impact on the SAT scores of students. Because the test subjects are compared to themselves, not anyone elses, the measurements taken before & after the training are not independent.\n",
    "\n",
    "To compute dependent t-interval, we compute differences of test scores before & after tutoring:\n",
    "\n",
    "<table>\n",
    "    <thead>\n",
    "        <tr>\n",
    "            <th>Student #</th>\n",
    "            <th>$X_1$</th>\n",
    "            <th>$X_2$</th>\n",
    "            <th>$X_1$ - $X_2$</th>\n",
    "        </tr>\n",
    "    </thead>\n",
    "    <tbody>\n",
    "        <tr>\n",
    "            <td>1</td>\n",
    "            <td>1480</td>\n",
    "            <td>1510</td>\n",
    "            <td>-30</td>\n",
    "        </tr>\n",
    "        <tr>\n",
    "            <td>2</td>\n",
    "            <td>1280</td>\n",
    "            <td>1460</td>\n",
    "            <td>-180</td>\n",
    "        </tr>\n",
    "        <tr>\n",
    "            <td>3</td>\n",
    "            <td>890</td>\n",
    "            <td>1320</td>\n",
    "            <td>-430</td>\n",
    "        </tr>\n",
    "        <tr>\n",
    "            <td>4</td>\n",
    "            <td>340</td>\n",
    "            <td>700</td>\n",
    "            <td>-360</td>\n",
    "        </tr>\n",
    "        <tr>\n",
    "            <td>5</td>\n",
    "            <td>1550</td>\n",
    "            <td>1550</td>\n",
    "            <td>0</td>\n",
    "        </tr>\n",
    "        <tr>\n",
    "            <td>6</td>\n",
    "            <td>1230</td>\n",
    "            <td>1420</td>\n",
    "            <td>-190</td>\n",
    "        </tr>\n",
    "        <tr>\n",
    "            <td>7</td>\n",
    "            <td>1010</td>\n",
    "            <td>1340</td>\n",
    "            <td>-330</td>\n",
    "        </tr>\n",
    "        <tr>\n",
    "            <td>8</td>\n",
    "            <td>1590</td>\n",
    "            <td>1570</td>\n",
    "            <td>20</td>\n",
    "        </tr>\n",
    "        <tr>\n",
    "            <td>9</td>\n",
    "            <td>1390</td>\n",
    "            <td>1500</td>\n",
    "            <td>-110</td>\n",
    "        </tr>\n",
    "        <tr>\n",
    "            <td>10</td>\n",
    "            <td>980</td>\n",
    "            <td>1300</td>\n",
    "            <td>-320</td>\n",
    "        </tr>       \n",
    "    </tbody>\n",
    "</table>\n",
    "\n",
    "We find $\\bar{d}$ = -193.0, and $s_d$ = 161.7. These values are plugged into <a href=\"#eq-8\">eq (8).</a> Degrees of freedom $df$ for dependent t-interval can be computed with:\n",
    "\n",
    "<div id=\"eq-9\" style=\"font-size: 1rem;\">\n",
    "$$ df = n - 1 \\tag{9}$$\n",
    "</div>\n",
    "\n",
    "Unlike independent t-test, in which two samples can have different sample sizes $n_1$ and $n_2$, depedent t-test has only one sample size, because the test subjects are compared to themselves.\n",
    "\n",
    "Also note that dependent t-test assumes difference of test scores to be normally distributed, not test scores of students themselves. But as long as the test scores are normally distributed, the difference of test scores will also be normally distributed due to the property of normal distributions."
   ]
  },
  {
   "cell_type": "markdown",
   "metadata": {},
   "source": [
    "<div><hr></div>\n",
    "\n",
    "<div id=\"python_dep\"></div>\n",
    "<p style=\"color: #666\"><b>Pythonic Tip:</b> Computing paired t-interval<p>\n",
    "    \n",
    "Although Scipy supports computing t-statistic for dependent t-test, it doesn't support a function that allows us to compute dependent t-interval. We will have to write our own codes to compute it.\n",
    "\n",
    "Don't forget to compute sample standard devaition, instead of population standard deviation by setting <code>ddof=1</code> as explained <a href=\"#python_variance\">above</a>.\n",
    "\n",
    "<div style=\"margin-bottom: -20px\"></div>"
   ]
  },
  {
   "cell_type": "code",
   "execution_count": 190,
   "metadata": {},
   "outputs": [],
   "source": [
    "from scipy import stats\n",
    "import numpy as np"
   ]
  },
  {
   "cell_type": "code",
   "execution_count": 191,
   "metadata": {},
   "outputs": [],
   "source": [
    "x1 = np.array([1480, 1280, 890, 340, 1550, 1230, 1010, 1590, 1390, 980])\n",
    "x2 = np.array([1510, 1460, 1320, 700, 1550, 1420, 1340, 1570, 1500, 1300])\n",
    "\n",
    "alpha = 0.05                        # significance level = 5%\n",
    "d_bar = np.mean(x1 - x2)            # average of sample differences\n",
    "s_d = np.std(x1 - x2, ddof=1)       # sample standard deviation of sample differences\n",
    "n = len(x1)                         # sample size\n",
    "df = n - 1                          # degrees of freedom\n",
    "t = stats.t.ppf(1 - alpha/2, df)    # two-tailed 95% confidence t-score\n",
    "\n",
    "lower = d_bar - t * s_d / np.sqrt(n)\n",
    "upper = d_bar + t * s_d / np.sqrt(n)"
   ]
  },
  {
   "cell_type": "code",
   "execution_count": 192,
   "metadata": {},
   "outputs": [
    {
     "data": {
      "text/plain": [
       "(-308.64567899681356, -77.35432100318641)"
      ]
     },
     "execution_count": 192,
     "metadata": {},
     "output_type": "execute_result"
    }
   ],
   "source": [
    "(lower, upper)"
   ]
  },
  {
   "cell_type": "markdown",
   "metadata": {},
   "source": [
    "<div style=\"margin-top: -20px\"></div>\n",
    "\n",
    "The 95% confidence interval of difference in means for dependent samples does not have 0 within its interval. This means that the null hypothesis, <span style=\"color: #ed7d32; font-weight: 500; font-size: 0.85rem;\">$H_0: \\mu_1 - \\mu_2 = 0$</span> in <a href=\"#fig6\">figure (6)</a>, does not fall within the interval. Instead, our estimation falls within the 2.5% outlier zone on the left, <span style=\"color: black; font-weight: 500; font-size: 0.85rem;\">$H_1: \\mu_1 - \\mu_2 \\neq 0$</span>. We reject the null hypothesis $H_0$, and accept the alternate hypothesis $H_1$. We conclude that the sample means are significantly different. In the other words, the tutoring program developed by the school had significant impact on the SAT score of its students.\n",
    "\n",
    "We can confirm this by running a formal hypothesis testing with <a href=\"https://docs.scipy.org/doc/scipy/reference/generated/scipy.stats.ttest_rel.html\" target=\"_blank\">scipy.stats.ttest_rel().</a> Note that this assumes dependent t-test."
   ]
  },
  {
   "cell_type": "code",
   "execution_count": 193,
   "metadata": {},
   "outputs": [
    {
     "data": {
      "text/plain": [
       "Ttest_relResult(statistic=-3.7752930865755987, pvalue=0.004380623368522125)"
      ]
     },
     "execution_count": 193,
     "metadata": {},
     "output_type": "execute_result"
    }
   ],
   "source": [
    "stats.ttest_rel(x1, x2)"
   ]
  },
  {
   "cell_type": "markdown",
   "metadata": {},
   "source": [
    "<div style=\"margin-top: -20px\"></div>\n",
    "\n",
    "The computed <code>pvalue=0.004</code> is smaller than the significance level of <code>alpha = 0.05</code>, and therefore we reject the null hypothesis and accept the alternate hypothesis, which is consistent with the conclusion drawn from the confidence interval of difference in mean.\n",
    "\n",
    "**Notes**: The above hypothesis testing answers the question of \"Did this tutoring program had a significant impact on the SAT scores of students?\". However, in cases like this, a more intuitive question is \"Did this tutoring program significantly <i>improve</i> the SAT scores of students?\" The former uses two-tailed test, and the latter uses one-tailed test, and the procedures for them are a little different.\n",
    "\n",
    "<div><hr></div>\n",
    "\n",
    "<p><u>Checking results with R</u>:</p>\n",
    "<pre>\n",
    "    <code class=\"language-python\">\n",
    "        x1 = c(1480, 1280, 890, 340, 1550, 1230, 1010, 1590, 1390, 980)\n",
    "        x2 = c(1510, 1460, 1320, 700, 1550, 1420, 1340, 1570, 1500, 1300)\n",
    "\n",
    "        t.test(x1, x2, paired=TRUE)  \n",
    "\n",
    "        #     Paired t-test\n",
    "\n",
    "        # data:  x1 and x2\n",
    "        # t = -3.7753, df = 9, p-value = 0.004381\n",
    "        # alternative hypothesis: true difference in means is not equal to 0\n",
    "        # 95 percent confidence interval:\n",
    "        #  -308.64568  -77.35432\n",
    "        # sample estimates:\n",
    "        # mean of the differences \n",
    "        #                    -193 \n",
    "    </code>\n",
    "</pre>"
   ]
  },
  {
   "cell_type": "markdown",
   "metadata": {},
   "source": [
    "<div id=\"which_to_use\"></div>\n",
    "<div class=\"alert alert-info\">\n",
    "    <h4>Notes: Deciding which t-test to use</h4>\n",
    "    <p><u>Equal or unequal variance?</u></p>\n",
    "    <p style=\"padding-left: 1rem !important\">Long story short, always assume unequal variance of samples when using t-test or constructing confidence interval of difference in means.</p>\n",
    "    <p style=\"padding-left: 1rem !important\">Student's t-test is used for samples of equal variance, and Welch's t-test is used for samples of unequal variance. A natural question is, how do you know which test to use? While there exist techniques to check homogeneity of variances (f-test, Barlett's test, Levene's test), it is dangerous to run hypothesis testing for equality of variances to decide which t-test to use (student's t-test or Welch's t-test), because it increases Type I error (asserting something that is absent, false positive). This is shown by <a href=\"https://www.jstor.org/stable/2684403?seq=1#page_scan_tab_contents\" target=\"_blank\">Moser and Stevens (1992)</a> and <a href=\"https://onlinelibrary.wiley.com/doi/abs/10.1348/000711005X62576\" target=\"_blank\">Hayes and Cai (2010).</a></p>\n",
    "    <p style=\"padding-left: 1rem !important\"><a href=\"https://link.springer.com/article/10.1007/s00362-009-0224-x\" target=\"_blank\">Kubinger, Rasch and Moder (2009)</a> argue that when the assumptions of normality and homogeneity of variances are met, Welch's t-test performs equally well, but outperforms when the assumptions are not met. <a href=\"https://academic.oup.com/beheco/article/17/4/688/215960\" target=\"_blank\">Ruxton (2006)</a> argues that the <i>\"unequal variance t-test should always be used in preference to the Student's t-test\"</i> (Note: what he means by \"always\" is assuming normality of distribution)</p>    \n",
    "    <p style=\"padding-left: 1rem !important\">Also note that R uses Welch's t-test as the default for the <code>t.test()</code> function.</p>\n",
    "    <p><u>Independent (unpaired) or dependent (paired) samples?</u></p>\n",
    "    <p style=\"padding-left: 1rem !important\">Paired t-test compares the same subjects at 2 different times . Unpaired t-test compares two different subjects.</p>\n",
    "    <p style=\"padding-left: 1rem !important\">Samples are <i>independent (unpaired)</i> if one measurement is taken on different groups. For example in medical treament, group A is a control group, and is given a placebo with no medical effect. Group B is a test group, and receives a prescribed treatment with expected medical effect. Health check is applied on two groups, and the measurements are recorded. We say that the measurement from group A is independent from that of group B.<p>\n",
    "    <p style=\"padding-left: 1rem !important\">Samples are <i>dependent (paired)</i> when repeated measures are taken on the same or related subjects. For example, there may be instances of the same patients being tested repeatedly - before and after receiving a particular treatment. In such cases, each patient is being used as a control sample against themselves. This method also applies to cases where the samples are related in some manner or have matching characteristics, like a comparative analysis involving children, parents or siblings.</p>\n",
    "    <p style=\"padding-left: 1rem !important\">If you have a reason to believe that samples are correlated in any ways, it is recommended to use dependent test to reduce the effect of <a href=\"https://www.statisticshowto.datasciencecentral.com/experimental-design/confounding-variable/\" target=\"_blank\">confounding factors</a>.</p>\n",
    "</div>"
   ]
  },
  {
   "cell_type": "markdown",
   "metadata": {},
   "source": [
    "<div style=\"margin-top: 30px\" id=\"conf_int_of_var\"></div>\n",
    "\n",
    "### 4.3. Confidence interval of variance\n",
    "\n",
    "Confidence interval of variance is used to estimate the population variance from sample data and quantify the related uncertainty. C.I. of variance is seldom used by itself, but rather used in conjunction with <a href=\"https://newonlinecourses.science.psu.edu/stat414/node/225/\" target=\"_blank\">f-test</a>, which tests equality of variances of different populations. Similar to how the <a href=\"#conf_int_of_diff_in_mean\">confidence interval of difference in mean</a> forms the foundation of <a href=\"https://www.investopedia.com/terms/t/t-test.asp\" target=\"_blank\">t-test</a>, C.I. of variance forms the foundation of f-test. In the field of statistics and machine learning, the equality of variance is an important assumption when choosing which technique to use. For example, when comparing the means of two samples, <a href=\"#4.2.1.-Independent-(unpaired)-samples,-equal-variance---student's-t-interval\">student's t-test</a> should not be used when you have a reason to believe that the two samples have different variances. Personally, I found f-test to be useful for the purpose of reading and understanding scientific papers, as many of the papers I have read use f-test to test their hypothesis, or use a variation of f-test for more advanced techniques. It is a pre-requisite knowledge you need to know to understand the more advanced techniques.\n",
    "\n",
    "I mentioned that different statistics exhibit different distributions <a href=\"#dist_stats\">above</a>. When a sample data set originates from a normal distribution, its sample means are normally distributed as shown in <a href=\"???\">figure 4</a>. On the other hand, its sample variances are <a href=\"#chi_square\">chi-square (<span style=\"font-size: 90% !important\">$\\chi^2$</span>) distributed</a> as shown in <a href=\"\">figure ???</a> The curve is asymptotic, and never touches the x-axis. The cumulative probabilty, which is often referred to as \"p-value\" in hypothesis testing, propagates from the right (p-value=0) to the left (p-value=1). For example, <span style=\"font-size: 90% !important\">$\\chi^2_{.975}=2.70$</span> is in the lower/left-tail and <span style=\"font-size: 90% !important\">$\\chi^2_{.025} = 19.02$</span> is in the upper/right-tail. When the samples follow a normal distribution, the <span style=\"font-size: 90% !important\">$\\chi^2$</span> statistic values can be plugged into <a href=\"#eq-10\">eq (10)</a> to compute the confidence interval of variance.\n",
    "\n",
    "<div id=\"\" class=\"row\" style=\"margin-top: 15px;\">\n",
    "    <div class=\"col\"><img src=\"jupyter_images/conf_int_variance.png\"></div>\n",
    "    <div class=\"col-12\"><p class=\"image-description\">Figure ???: 95% confidence interval of variance.</p></div>\n",
    "</div>"
   ]
  },
  {
   "cell_type": "markdown",
   "metadata": {},
   "source": [
    "<div class=\"solution_panel closed\">\n",
    "    <div class=\"solution_title\">\n",
    "        <p class=\"solution_title_string\">Source Code For Figure (?)</p>\n",
    "        <ul class=\"nav navbar-right panel_toolbox\">\n",
    "            <li><a class=\"collapse-link\"><i class=\"fa fa-chevron-down\"></i></a></li>\n",
    "        </ul>\n",
    "    <div class=\"clearfix\"></div>\n",
    "    </div>\n",
    "    <div class=\"solution_content\">\n",
    "        <pre>\n",
    "            <code class=\"language-python\">\n",
    "                from scipy import stats\n",
    "                import matplotlib.pyplot as plt\n",
    "                import numpy as np\n",
    "\n",
    "                df = 9\n",
    "                x = np.linspace(-1, 28, 1000)\n",
    "                y = stats.chi2.pdf(x, df, loc=0, scale=1)\n",
    "                right_tail = stats.chi2.ppf(1 - 0.025, df) \n",
    "                left_tail = stats.chi2.ppf(1 - 0.975, df) \n",
    "\n",
    "                plt.style.use('seaborn-whitegrid')\n",
    "                fig, ax = plt.subplots(figsize=(12, 5))\n",
    "\n",
    "                ax.plot(x, y, c='black', label='Degrees of freedom = %d' % df)\n",
    "                ax.set_xlabel('$\\chi^2$', fontsize=17)\n",
    "                ax.set_ylabel(r'Probability', fontsize=17)\n",
    "                ax.set_title(r'$\\chi^2\\ \\mathrm{Distribution}$, df = %d' % df, fontsize=17)\n",
    "                ax.fill_between(x, 0, y, where=(np.array(x) > min(x)) & (np.array(x) <= left_tail), facecolor='grey')\n",
    "                ax.fill_between(x, 0, y, where=(np.array(x) > left_tail) & (np.array(x) &lt; right_tail), facecolor='lightgrey')\n",
    "                ax.fill_between(x, 0, y, where=(np.array(x) > right_tail) & (np.array(x) <= max(x)), facecolor='grey')\n",
    "                ax.grid(False)\n",
    "\n",
    "                ax.text(22, 0.008, '2.5% outlier', fontsize=13)\n",
    "                ax.text(-2, 0.008, '2.5% outlier', fontsize=13)\n",
    "                ax.text(0.5, 0.04, '$\\chi^2_{.975} = %.2f$' % left_tail, fontsize=14, bbox=dict(boxstyle='round', facecolor='white'))\n",
    "                ax.text(16.5, 0.015, '$\\chi^2_{.025} = %.2f$' % right_tail, fontsize=14, bbox=dict(boxstyle='round', facecolor='white'))\n",
    "                ax.text(20, 0.08, '$\\chi^2_{.975} \\leq \\chi^2 \\leq \\chi^2_{.025}$', fontsize=16)\n",
    "                ax.text(20, 0.06, '$2.70 \\leq \\chi^2 \\leq 19.02$', fontsize=16)\n",
    "                ax.text(6, 0.05, '95% confidence interval', fontsize=16)\n",
    "                ax.text(6, 0.04, 'of variance', fontsize=16);\n",
    "            </code>\n",
    "        </pre>\n",
    "    </div>\n",
    "</div>"
   ]
  },
  {
   "cell_type": "markdown",
   "metadata": {},
   "source": [
    "<div id=\"eq-10\" style=\"font-size: 1rem;\">\n",
    "$$  \\text{C.I.}_{\\text{variance}}: \\frac{(n-1)s^{2}}{\\chi^{2}_{\\frac{\\alpha}{2}, df}} \\leq \\sigma^2 \\leq \\frac{(n-1)s^{2}}{\\chi^{2}_{1-\\frac{\\alpha}{2}, df}} \\tag{10}$$\n",
    "</div>\n",
    "\n",
    "<div class=\"eq-terms\">\n",
    "    <div class=\"row eq-terms-where\">where</div>\n",
    "    <div class=\"row\">\n",
    "        <div class=\"col-3\"><p>$\\sigma^2$<p></div>\n",
    "        <div class=\"col-9\"><p>: population variance<p></div>\n",
    "    </div>\n",
    "    <div class=\"row\">\n",
    "        <div class=\"col-3\"><p>$s^2$<p></div>\n",
    "        <div class=\"col-9\"><p>: sample variance<p></div>\n",
    "    </div>    \n",
    "    <div class=\"row\">\n",
    "        <div class=\"col-3\">$\\alpha$</div>\n",
    "        <div class=\"col-9\">: <a href=\"#\">significance level</a></div>\n",
    "    </div>    \n",
    "    <div class=\"row\">\n",
    "        <div class=\"col-3\"><p>$n$<p></div>\n",
    "        <div class=\"col-9\"><p>: number of samples<p></div>\n",
    "    </div>\n",
    "    <div class=\"row\">\n",
    "        <div class=\"col-3\"><p>$df$<p></div>\n",
    "        <div class=\"col-9\"><p>: degrees of freedom.</div>\n",
    "    </div>    \n",
    "    <div class=\"row\">\n",
    "        <div class=\"col-3\">$\\chi^2$</div>\n",
    "        <div class=\"col-9\">: chi-squared statistic. Depends on $\\alpha$ and $df$</div>\n",
    "    </div>   \n",
    "</div>\n",
    "\n",
    "In confidence interval of variance, the degrees of freedom is:\n",
    "\n",
    "<div id=\"eq-11\" style=\"font-size: 1rem;\">\n",
    "$$df = n - 1$$\n",
    "</div>\n",
    "\n",
    "Recall that the goal of any confidence interval is to estimate the population parameter from a fraction of its samples due to the high cost of obtaining measurement data of the entire data set, as explained in <a href=\"#population_vs_samples\">Population vs Samples.</a> You attempt to estimate the population variance <span style=\"font-size: 90% !important\">$\\sigma^2$</span> within the range of uncertainty with the sample variance <span style=\"font-size: 90% !important\">$s^2$</span> obtained from a set of <span style=\"font-size: 90% !important\">n</span> samples that are \"hopefully\" representative of the true population. \n",
    "\n",
    "Confidence interval of variance assumes normality of samples, and is very sensitive to the sample distribution's deviation from normality. In case of non-normal sample distributions, you can either 1) transform the distribution to normal distribution with <a href=\"#\">Box-Cox transformation</a>, or 2) use non-parametric alternatives. For practitioners, I do not recommend 1) unless you really understand what you are doing, as the back transformation process of Box-Cox transformation can be tricky. Furthermore, it doesn't always result in successful transformation of non-normal to normal distribution, as discussed <a href=\"#\">below</a>. I recommend to use 2). If you have non-normal samples and your goal is to compute the C.I. of variance, use <a href=\"#\">bootstrap</a>. If your goal is to check the equality of variances of multiple sample data sets with hypothesis testing, use Levene's test. Both are the non-parametric alternatives that does not require normality of samples."
   ]
  },
  {
   "cell_type": "markdown",
   "metadata": {},
   "source": [
    "<div id=\"chi_square\"></div>\n",
    "\n",
    "<div class=\"alert alert-info\">\n",
    "    <h4>Notes: Chi-square $\\chi^2$ distribution</h4>\n",
    "    <p>Chi-square <span style=\"font-size: 90% !important\">$\\chi^2$</span> distribution is a function of degrees of freedom <span style=\"font-size: 90% !important\">$df$</span>. It is a special case of the gamma distribution and is one of the most widely used probability distributions in inferential statistics, notably in hypothesis testing or in construction of confidence intervals.</p>\n",
    "    <p>It is used in the common chi-square goodness of fit test of an observed data set to a theoretical one. Let's say that there's a company that prints baseball cards. The company claims that 30% of the cards are rookies, 60% veterans but not All-Stars, and 10% are veteran All-Stars. Suppose that you purchased a deck of 100 cards. You found out that the card deck has 50 rookies, 45 veterans, and 5 All-Stars. Is this consistent with the company's claim? An answer to this question is explained in detail <a href=\"https://stattrek.com/chi-square-test/goodness-of-fit.aspx\" target=\"_blank\">here</a> using the chi-squared goodness of fit test. Note that the chi-square goodness of fit test does NOT require normality of data, but the chi-square test that checks if a variance equals a specified value DOES require normality of data.</p>\n",
    "    <p>When samples have a normal distribution, some of their statistics can be described by <span style=\"font-size: 90% !important\">$\\chi^2$</span> distributions. For example, the <a href=\"https://www.machinelearningplus.com/statistics/mahalanobis-distance/\" target=\"_blank\">Mahalanobis distance</a> follows <span style=\"font-size: 90% !important\">$\\chi^2$</span> distribution when samples are normally distributed, and can be used for multivariate outlier detection using <span style=\"font-size: 90% !important\">$\\chi^2$</span> hypothesis test. Variance of samples also follows <span style=\"font-size: 90% !important\">$\\chi^2$</span> distributions when samples are normally distributed, and can be used to construct the confidence interval of variances with <a href=\"\">eq (???)</a>.</p>\n",
    "    <p>By the central limit theorem, a <span style=\"font-size: 90% !important\">$\\chi^2$</span> distribution converges to a normal distribution for large sample size <span style=\"font-size: 90% !important\">$n$</span>. For many practical purposes, for <span style=\"font-size: 90% !important\">$n$</span> > 50 the distribution is sufficiently close to a normal distribution for the difference to be ignored. Note that the sampling distribution of <span style=\"font-size: 90% !important\">$ln(\\chi^2)$</span> converges to normality much faster than the sampling distribution of <span style=\"font-size: 90% !important\">$\\chi^2$</span> as the logarithm removes much of the asymmetry. </p>    \n",
    "    <img class=\"admonition-image\" style=\"border: 1px solid #ddd;\" src=\"jupyter_images/chi_square.png\"/>\n",
    "    <div class=\"solution_panel closed\" style=\"margin-top: 20px;\">\n",
    "        <div class=\"solution_title solution_admonition\">\n",
    "            <p class=\"solution_title_string\">Source Code For The Figure</p>\n",
    "            <ul class=\"nav navbar-right panel_toolbox\">\n",
    "                <li><a class=\"collapse-link\"><i class=\"fa fa-chevron-down\"></i></a></li>\n",
    "            </ul>\n",
    "            <div class=\"clearfix\"></div>\n",
    "        </div>\n",
    "        <div class=\"solution_content\">\n",
    "            <pre>\n",
    "                <code class=\"language-python\">\n",
    "                    from scipy import stats\n",
    "                    import matplotlib.pyplot as plt\n",
    "                    import numpy as np\n",
    "\n",
    "                    df_values = [1, 2, 6, 9]\n",
    "                    linestyles = ['-', '--', ':', '-.']\n",
    "                    x = np.linspace(-1, 20, 1000)\n",
    "                    \n",
    "                    plt.style.use('seaborn-whitegrid')\n",
    "                    fig, ax = plt.subplots(figsize=(6.6666666, 5))\n",
    "                    fig.tight_layout()\n",
    "                    plt.subplots_adjust(left=0.09, right=0.96, bottom=0.12, top=0.93)\n",
    "\n",
    "                    for df, ls in zip(df_values, linestyles):\n",
    "                        ax.plot(x, stats.chi2.pdf(x, df, loc=0, scale=1), \n",
    "                                ls=ls, c='black', label=r'Degrees of freedom$=%i$' % df)\n",
    "\n",
    "                    ax.set_xlim(0, 10)\n",
    "                    ax.set_ylim(0, 0.5)\n",
    "                    ax.set_xlabel('$\\chi^2$', fontsize=14)\n",
    "                    ax.set_ylabel(r'Probability', fontsize=14)\n",
    "                    ax.set_title(r'$\\chi^2\\ \\mathrm{Distribution}$')\n",
    "                    ax.legend(loc='best', fontsize=11, framealpha=1, frameon=True)\n",
    "                </code>\n",
    "            </pre>\n",
    "        </div>\n",
    "    </div>\n",
    "</div>\n",
    "\n",
    "<div style=\"margin-top: 30px\" id=\"one_tail_two_tail\"></div>\n",
    "\n",
    "<div class=\"alert alert-info\">\n",
    "    <h4>Notes: One-tail vs two-tail </h4>\n",
    "    <p>As you explore more about the field of statistics, you will encounter many scientific papers or articles using mostly upper/right-tailed f-test, instead of two-tailed or lower/left-tailed f-test. Why? That's because they don't have much practical use in real-life. This information is little beyond the scope of this article, but I still want to touch on it because the C.I. of variance forms the foundation of f-test. </p>\n",
    "    <p>When it comes to the test of variances, we often want to maintain a low variance than high variance, because the high variance is often related to high risk or instability. We are usually interested in knowing if a target population variance <span style=\"font-size: 90% !important\">$\\sigma^2$</span> is lower than a specified value <span style=\"font-size: 90% !important\">$\\sigma^2_0$</span>, not the other way around. This can be doen by using the upper/right-tailed hypothesis test, which is shown in the middle plot below. If the calculated statistic for f-test falls within the dark grey area, you reject your null hypothesis <span style=\"font-size: 90% !important\">$H_0$</span>, and accept the alternate hypothesis <span style=\"font-size: 90% !important\">$H_a$</span></p>\n",
    "    <img class=\"\" style=\"border: 1px solid #ddd;\" src=\"jupyter_images/two_tails.png\"/>\n",
    "    <div class=\"solution_panel closed\" style=\"margin-top: 20px;\">\n",
    "        <div class=\"solution_title solution_admonition\">\n",
    "            <p class=\"solution_title_string\">Source Code For The Figure</p>\n",
    "            <ul class=\"nav navbar-right panel_toolbox\">\n",
    "                <li><a class=\"collapse-link\"><i class=\"fa fa-chevron-down\"></i></a></li>\n",
    "            </ul>\n",
    "            <div class=\"clearfix\"></div>\n",
    "        </div>\n",
    "        <div class=\"solution_content\">\n",
    "            <pre>\n",
    "                <code class=\"language-python\">\n",
    "                    from scipy import stats\n",
    "                    import matplotlib.pyplot as plt\n",
    "                    import numpy as np\n",
    "\n",
    "                    df = 9\n",
    "                    x = np.linspace(-1, 28, 1000)\n",
    "                    y = stats.chi2.pdf(x, df, loc=0, scale=1)\n",
    "\n",
    "                    # two-tailed\n",
    "                    two_right_tail = stats.chi2.ppf(1 - 0.025, df) \n",
    "                    two_left_tail = stats.chi2.ppf(1 - 0.975, df)\n",
    "\n",
    "                    # one tailed\n",
    "                    one_right_tail = stats.chi2.ppf(1 - 0.05, df)\n",
    "                    one_left_tail = stats.chi2.ppf(1 - 0.95, df)\n",
    "\n",
    "\n",
    "                    plt.style.use('seaborn-whitegrid')\n",
    "                    fig, axes = plt.subplots(1, 3, figsize=(12, 3))\n",
    "\n",
    "                    for ax in axes:\n",
    "\n",
    "                        ax.plot(x, y, c='black')\n",
    "                        ax.grid(False)\n",
    "                        ax.xaxis.set_major_formatter(plt.NullFormatter())\n",
    "                        ax.yaxis.set_major_formatter(plt.NullFormatter())\n",
    "\n",
    "                    axes[0].fill_between(x, 0, y, where=(np.array(x) > min(x)) & (np.array(x) <= two_left_tail), facecolor='grey')\n",
    "                    axes[0].fill_between(x, 0, y, where=(np.array(x) > two_left_tail) & (np.array(x) < two_right_tail), facecolor='lightgrey')\n",
    "                    axes[0].fill_between(x, 0, y, where=(np.array(x) > two_right_tail) & (np.array(x) <= max(x)), facecolor='grey')\n",
    "                    axes[0].set_title('Two-tailed', fontsize=20)\n",
    "                    axes[0].text(14, 0.08, r'$H_0: \\sigma^2 = \\sigma_0^2$', fontsize=20)\n",
    "                    axes[0].text(14, 0.057, r'$H_a: \\sigma^2 \\neq \\sigma_0^2$', fontsize=20)\n",
    "\n",
    "                    axes[1].fill_between(x, 0, y, where=(np.array(x) > min(x)) & (np.array(x) < one_right_tail), facecolor='lightgrey')\n",
    "                    axes[1].fill_between(x, 0, y, where=(np.array(x) > one_right_tail) & (np.array(x) <= max(x)), facecolor='grey')\n",
    "                    axes[1].set_title('Upper/right-tailed', fontsize=20)\n",
    "                    axes[1].text(14, 0.08, r'$H_0: \\sigma^2 \\leq \\sigma_0^2$', fontsize=20)\n",
    "                    axes[1].text(14, 0.057, r'$H_a: \\sigma^2 > \\sigma_0^2$', fontsize=20)\n",
    "\n",
    "                    axes[2].fill_between(x, 0, y, where=(np.array(x) > min(x)) & (np.array(x) <= one_left_tail), facecolor='grey')\n",
    "                    axes[2].fill_between(x, 0, y, where=(np.array(x) > one_left_tail) & (np.array(x) <= max(x)), facecolor='lightgrey')\n",
    "                    axes[2].set_title('Lower/left-tailed', fontsize=20)\n",
    "                    axes[2].text(14, 0.08, r'$H_0: \\sigma^2 \\geq \\sigma_0^2$', fontsize=20)\n",
    "                    axes[2].text(14, 0.057, r'$H_a: \\sigma^2 < \\sigma_0^2$', fontsize=20)\n",
    "\n",
    "                    fig.tight_layout()\n",
    "                </code>\n",
    "            </pre>\n",
    "        </div>\n",
    "    </div>\n",
    "</div>"
   ]
  },
  {
   "cell_type": "markdown",
   "metadata": {},
   "source": [
    "<div><hr></div>\n",
    "\n",
    "<div id=\"python_ci_var\"></div>\n",
    "<p style=\"color: #666\"><b>Pythonic Tip:</b> Computing confidence interval of variance<p>\n",
    "    \n",
    "Unfortunately, there's no Python or R library that computes the confidence interval of variance. The fact that the pre-built function does not exist both in Python and R suggests that the C.I. of variance is seldom used. But as I mentioned before, the reason that I introduce the C.I. of variance is because it forms the foundation of f-test, a statistical hypothesis test that is widely used in scientific papers. \n",
    "\n",
    "The C.I. of variance can be manually computed with <a href=\"eq-10\">eq (10)</a>. Don't forget to compute sample variance, instead of population variance by setting <code>ddof=1</code> as explained <a href=\"#python_variance\">above</a>.\n",
    "\n",
    "<div style=\"margin-bottom: -20px\"></div>"
   ]
  },
  {
   "cell_type": "code",
   "execution_count": 5,
   "metadata": {},
   "outputs": [],
   "source": [
    "from scipy import stats\n",
    "import numpy as np"
   ]
  },
  {
   "cell_type": "code",
   "execution_count": 6,
   "metadata": {},
   "outputs": [],
   "source": [
    "arr = [8.69, 8.15, 9.25, 9.45, 8.96, 8.65, 8.43, 8.79, 8.63]\n",
    "\n",
    "alpha = 0.05               # significance level = 5%\n",
    "n = len(arr)               # sample sizes\n",
    "s2 = np.var(arr, ddof=1)   # sample variance\n",
    "df = n - 1                 # degrees of freedom\n",
    "\n",
    "upper = (n - 1) * s2 / stats.chi2.ppf(alpha / 2, df)\n",
    "lower = (n - 1) * s2 / stats.chi2.ppf(1 - alpha / 2, df)"
   ]
  },
  {
   "cell_type": "code",
   "execution_count": 7,
   "metadata": {},
   "outputs": [
    {
     "data": {
      "text/plain": [
       "(0.07238029119542731, 0.5822533618682987)"
      ]
     },
     "execution_count": 7,
     "metadata": {},
     "output_type": "execute_result"
    }
   ],
   "source": [
    "(lower, upper)"
   ]
  },
  {
   "cell_type": "markdown",
   "metadata": {},
   "source": [
    "<div style=\"margin-top: -20px\"></div>\n",
    "\n",
    "The output suggests that the 95% confidence interval of variance is — <span style=\"font-size: 90% !important\">$\\text{C.I.}_{variance}: \\,\\, 0.072 < \\sigma^2 < 0.582$</span>"
   ]
  },
  {
   "cell_type": "markdown",
   "metadata": {},
   "source": [
    "<div style=\"margin-top: 30px\" id=\"conf_int_of_other\"></div>\n",
    "\n",
    "### 4.4. Confidence interval of other statistics: Bootstrap\n",
    "\n",
    "(Note: For those people who have web-development experience, this is not <a href=\"https://getbootstrap.com/\" target=\"_blank\">CSS Bootstrap</a>.)\n",
    "\n",
    "I mentioned that different formulas are used to construct confidence intervals of different statistics <a href=\"#key3\">above.</a> There are three problems with computing the confidence interval of statistics with analytical solutions: \n",
    "\n",
    "<ol class=\"rounded-list\" style=\"margin-bottom: 40px !important; margin-top: 40px! important;\">\n",
    "    <li><p>Not all statistics have formulas for their confidence intervals</p></li>\n",
    "    <li><p>Their formulas can be so convoluted, that it may be better to use numerical alternatives</p></li>\n",
    "    <li><p>You have to memorize their formulas</p></li>\n",
    "</ol>\n",
    "\n",
    "Bootstrapping is nice because it allows you to avoid these practical concerns. For example, there are no formulas to compute the confidence interval of covariance and median. On the other hand, regression coefficient has its own formula for its confidence interval, but the formulas get really messy in cases of multi-linear or non-linear regression. Wouldn't it be nice if there's a \"magic\" that saves you from all the math you have to worry about? \n",
    "\n",
    "> **Bootstrapping** is a statistical method for estimating the <a href=\"#dist_stats\">sampling distribution of a statistic</a> by sampling with replacement from the original sample, most often with the purpose of estimating confidence intervals of a population parameter like a mean, median, proportion, correlation coefficient or regression coefficient.\n",
    "\n",
    "Bootstrap can construct confidence intervals of any statistics when combined with <a href=\"#monte-carlo\">Monte Carlo method</a>. The process is visually shown in <a href=\"#\">fig (?)</a>. Initially you have 5 samples <span style=\"font-size: 90% !important\">$[8, 5, 4, 6, 2]$</span> that you collected from an unknown population. You randomly draw $n=5$ samples from the original sample pool WITH REPLACEMENT, and they become your **single bootstrap sample**. You repeat this process $r=6$ times to collect **multiple bootstrap samples**. For each bootstrap sample, you run your functions to compute the statistic of your interest: in this case, <code>np.mean(single_boot)</code>. Now you have $r=6$ sample means obtained from $r$ bootstrap samples. You can construct 95% confidence interval of mean with percentile method: <code>np.percentile(mutliple_boot_means, 97.5)</code>, <code>np.percentile(mutliple_boot_means, 2.5)</code>\n",
    "\n",
    "Note that the bootstraped samples will contain duplicate elements a lot, due to random sampling WITH REPLACEMENT. This causes problems with bootstrapping regression models, as explained <a href=\"#assumption_7\">below</a>.\n",
    "\n",
    "<div id=\"\" class=\"row\" style=\"margin-top: 15px;\">\n",
    "    <div class=\"col\"><img src=\"jupyter_images/conf_int_boots.png\"></div>\n",
    "    <div class=\"col-12\"><p class=\"image-description\">Figure ???: Bootstrap 95% confidence interval of mean.</p></div>\n",
    "</div>"
   ]
  },
  {
   "cell_type": "markdown",
   "metadata": {},
   "source": [
    "<div class=\"solution_panel closed\">\n",
    "    <div class=\"solution_title\">\n",
    "        <p class=\"solution_title_string\">Source Code For Figure (?)</p>\n",
    "        <ul class=\"nav navbar-right panel_toolbox\">\n",
    "            <li><a class=\"collapse-link\"><i class=\"fa fa-chevron-down\"></i></a></li>\n",
    "        </ul>\n",
    "    <div class=\"clearfix\"></div>\n",
    "    </div>\n",
    "    <div class=\"solution_content\">\n",
    "        <pre>\n",
    "            <code class=\"language-python\">\n",
    "                import matplotlib.pyplot as plt\n",
    "                import numpy as np\n",
    "\n",
    "                np.random.seed(42)\n",
    "                arr = [8, 5, 4, 6, 2]\n",
    "\n",
    "                ####################### Bootstrap ####################### \n",
    "                num_boot_samples = 1000\n",
    "                def estimator(l):\n",
    "                    # statistic of interest; Ex: mean, median, variance ...\n",
    "                    return np.mean(l)\n",
    "\n",
    "                boot = [estimator(np.random.choice(arr, len(arr))) for _ in range(num_boot_samples)]\n",
    "                #########################################################\n",
    "\n",
    "                plt.style.use('seaborn-whitegrid')\n",
    "                fig, ax = plt.subplots(figsize=(10, 4))\n",
    "                returns = ax.boxplot(boot, widths=0.5, whis=[2.5, 97.5], showfliers=False,\n",
    "                                     patch_artist=True, \n",
    "                                     boxprops=dict(linewidth=3.0, color='grey'),\n",
    "                                     whiskerprops=dict(linewidth=3.0, color='grey'), vert=False,\n",
    "                                     capprops=dict(linewidth=2.0, color='grey'),\n",
    "                                     medianprops=dict(linewidth=2.0, color='yellow'))\n",
    "\n",
    "                ax.set_aspect(1)\n",
    "                #ax.set_ylim(1.5, -.5)\n",
    "                ax.set_xlabel(r'$\\bar{X}$', fontsize=20)\n",
    "                ax.yaxis.set_major_formatter(plt.NullFormatter())\n",
    "                ax.set_title('Bootstrap 95% confidence interval of mean', fontsize=20)\n",
    "                ax.scatter(arr, [1, 1, 1, 1, 1], facecolors='grey', edgecolors='k', zorder=10, label='Original Samples', s=100)\n",
    "                ax.legend(fontsize=15, fancybox=True, framealpha=1, shadow=True, borderpad=0.5, frameon=True);\n",
    "            </code>\n",
    "        </pre>\n",
    "    </div>\n",
    "</div>"
   ]
  },
  {
   "cell_type": "markdown",
   "metadata": {},
   "source": [
    "<div id=\"monte-carlo\"></div>\n",
    "\n",
    "<div class=\"alert alert-info\">\n",
    "    <h4>Notes: Monte-Carlo method</h4>\n",
    "    <p>During your study of statistics, there's a good chance that you've heard of the word, \"Monte-Carlo\". It refers to the process that relies on repeated generation of random numbers to investigate some characteristic of a statistic which is hard to derive analytically. The process is composed of mainly two parts: random number generator, and for-loop. The random number generator can be parametric, or non-parametric. In case of parametric simulation, you must have some previous knowledge about the population of your interest, such as its shape. In the below code snippet, you assume that the <code>sample</code> is from a specific distribution: <code>normal</code>, <code>lognormal</code>, <code>chisquare</code>. Then, you repeatedly randomly draw samples from the pre-defined distribution with a for-loop:</p>\n",
    "    <div class=\"solution_panel\" style=\"margin-top: 20px; height: auto;\">\n",
    "        <div class=\"solution_title solution_admonition\">\n",
    "            <p class=\"solution_title_string\">Parametric Monte-Carlo simulation</p>\n",
    "            <ul class=\"nav navbar-right panel_toolbox\">\n",
    "                <li><a class=\"collapse-link\"><i class=\"fa fa-chevron-up\"></i></a></li>\n",
    "            </ul>\n",
    "            <div class=\"clearfix\"></div>\n",
    "        </div>\n",
    "        <div class=\"solution_content\">\n",
    "            <pre>\n",
    "                <code class=\"language-python\">\n",
    "                    # random number generator = normal distribution\n",
    "                    sim_1 = [np.random.normal(np.mean(sample), np.mean(sample)) for _ in range(iterations)]\n",
    "\n",
    "                    # random number generator = lognormal distribution\n",
    "                    sim_2 = [np.random.lognormal(np.mean(sample), np.mean(sample)) for _ in range(iterations)]\n",
    "\n",
    "                    # random number generator = chi-square distribution\n",
    "                    sim_3 = [np.random.chisquare(len(sample)) for _ in range(iterations)]\n",
    "                </code>\n",
    "            </pre>\n",
    "        </div>\n",
    "    </div>\n",
    "    <p> In case of non-parametric simulation, the random number generator does not assume anything about the shape of the population. Non-parmetric bootstrap would be the choice of your random number generator in this case (Note: some variations of bootstrap are parametric):</p>\n",
    "    <div class=\"solution_panel\" style=\"margin-top: 20px; height: auto;\">\n",
    "        <div class=\"solution_title solution_admonition\">\n",
    "            <p class=\"solution_title_string\">Non-Parametric Monte-Carlo simulation</p>\n",
    "            <ul class=\"nav navbar-right panel_toolbox\">\n",
    "                <li><a class=\"collapse-link\"><i class=\"fa fa-chevron-up\"></i></a></li>\n",
    "            </ul>\n",
    "            <div class=\"clearfix\"></div>\n",
    "        </div>        \n",
    "        <div class=\"solution_content\">\n",
    "            <pre>\n",
    "                <code class=\"language-python\">\n",
    "                    # random number generator = non-parametric bootstrap\n",
    "                    sim_4 = [np.random.choice(original_sample) for _ in range(iterations)]\n",
    "                </code>\n",
    "            </pre>\n",
    "        </div>\n",
    "    </div>\n",
    "    <p>You can create multiple instances of <code>sim_n</code> objects above to experiment with your data set; you use Monte-Carlo simulations to produce hundreds or thousands of <i>\"possible outcomes\"</i>. The results are analyzed to get probabilities of different outcomes occuring. The application of Monte-Carlo method includes constructing confidence interval of statistics with Bootstrap shown in <a href=\"\">fig (?)</a>, and <a href=\"https://aegis4048.github.io/uncertainty-modeling-with-monte-carlo-simulation\" target=\"_blank\">profit modeling of casino dice roll games</a>.</p>\n",
    "    <img class=\"admonition-image-medium\" style=\"border: 1px solid #ddd; margin-top: 20px;\" src=\"jupyter_images/monte-carlo-dice.png\"/>\n",
    "</div>"
   ]
  },
  {
   "cell_type": "markdown",
   "metadata": {},
   "source": [
    "<div><hr></div>\n",
    "\n",
    "<div id=\"why_bootstrapping_works\"></div>\n",
    "\n",
    "**Why does bootstrapping work?**\n",
    "\n",
    "(Before you read this section, make sure you understand the difference between <a href=\"#population_vs_samples\">Population vs Samples.</a>)\n",
    "\n",
    "Practitioners wonder <i>WHY</i> bootstrapping works: why is it that resampling the same sample over and over gives good results? If we are resampling from our sample, how is it that we are learning something about the population rather than only about the sample? There seems to be a leap which is somewhat counter-intuitive. The idea comes from the assumption that the sample is a <i>reasonable</i> representation of its underlying population — the population is to the sample as the sample is to the bootstrap samples.\n",
    "\n",
    "You want to ask question of a population, but you can't because you lack the resources to get measurement data of all possible data points. So you take a fraction of the population, a.k.a the sample, and ask the question of it instead. Now, how confident you should be that the sample answer is close to the population answer depends on how well the sample represents the underlying population. One way you might learn about this is to take samples from different portions of the population again and again. You ask the same question to the multiple samples you collected, and see the variability of the different sample answers to quantify the related uncertainty of your estimation. When this is not possible due to practical limitations, you make some assumptions about the population (ex: population is normally distributed), or use the information in the collected sample to learn about the population.\n",
    "\n",
    "In bootstrapping, you treat the original sample (size=$n$) you randomly acquired from the population as if it's the population itself of size $n$. From the original sample that you treated to be the population, you randomly draw samples, each of size $n$, <i>with replacement</i> multiple times to simulate direct sampling from the original population. By doing so, you essentially imitate sampling different portions of the original population multiple times. This idea is shown in <a href=\"#\">fig (?)</a>. \n",
    "\n",
    "This is a <i>reasonable</i> thing to do for two reasons. First, the sample in your had is the best you've got, indeed the only informatoin you have about the population. Second, if the original sample is randomly chosen, it will look like the original population they came from. This means that the sample is a good representation of its underlying population. However, if its not a good representation of the population, bootstrap fails. In fact, there's not much you can do in the first place if your sample is biased. \n",
    "\n",
    "<div id=\"fig???\" class=\"row\" style=\"margin-top: 15px;\">\n",
    "    <div class=\"col\"><img src=\"jupyter_images/boots_intuitive.png\"></div>\n",
    "    <div class=\"col-12\"><p class=\"image-description\">Figure ???: Intuitive idea behind Bootstrapping</p></div>\n",
    "</div>"
   ]
  },
  {
   "cell_type": "markdown",
   "metadata": {},
   "source": [
    "<div><hr></div>\n",
    "\n",
    "<div id=\"assumptions_boot\"></div>\n",
    "\n",
    "**Assumptions and Limitations of Bootstrap**\n",
    "\n",
    "Bootstrapping is great because it saves you from the normality assumption of distributions and all the math you have to know to construct confidence intervals. However, just like many other techniques, bootstrap has its own caveats. While bootstrap is distribution-free, it is not assumption-free. The assumptions are listed in this section.\n",
    "\n",
    "Please note that there is a humongous variety of the bootstrap procedures, each addressing the particular quirk in either the statistic, the sample size, the dependence, or whatever an issue with the bootstrap could be. I am not introducing all of them here as the in-depth technical discussion of bootstrap needs another devoted post, but I still want you to know some of the critical assumptions; I want you to know what you don't know, so that you can google later to learn in-depth.\n",
    "\n",
    "<div id=\"assumption_1\"></div>\n",
    "<ol class=\"custom-counter\" style=\"margin-top: 40px;\">\n",
    "  <li><p class=\"numbering-p\">A sample is a good representation of its underlying population</p></li>\n",
    "</ol>\n",
    "\n",
    "<div class=\"left-pad-border\">\n",
    "    <p>The fundamental principle of bootstrapping is that the original sample is a good representation of its underlying population. Bootstrapping resamples from the original samples. This means that if the original sample is biased, the resulting bootstrap samples will also be biased. However, this is a problem of not just bootstrapping, but all statistical techniques. There's not much you can do if the only piece of information you have about the population is corrupted, after all.</p>\n",
    "</div>\n",
    "\n",
    "<div id=\"assumption_2\"></div>\n",
    "<ol class=\"custom-counter\" style=\"counter-reset: lis 1;\">\n",
    "  <li><p class=\"numbering-p\">Insufficient samples make the bootstrap C.I. to be narrower than the analytical C.I.</p></li>\n",
    "</ol>\n",
    "\n",
    "<div class=\"left-pad-border\">\n",
    "    <p>There's a myth in the field of statistics that bootstrap is a <i>\"cure\"</i> for small sample size. NO, it's not. First, if you have too small sample, by a high chance it is not diverse enough to represent all (reasonably) possible aspects of its population. Therefore, it is not a good representation of its population. Second, small sample size makes its bootstrap C.I. to be narrower than the analytical C.I.. This means that bootstrap C.I. reports small uncertainty even when the sample size is small. Not only this is counter-intuitive, but also it is a violation of the mathematic property of C.I. described by <a href=\"#eq-1\">eq (1)</a>; small sample size $n$ in the denominator of <a href=\"#eq-1\">eq (1)</a> should give wider C.I.. But this is not true with bootstrap C.I. as shown in the below simulation result in <a href=\"#\">fig (?)</a>.</p>\n",
    "    <p>Three things to note in the figure. First, the upper & lower error bars of bootstrap C.I. of means are asymmetric. This is because bootstrap C.I. is not based on $\\pm$ standard error method. This is a very useful property to estimate the <a href=\"#central_tendency\">central tendency</a> of asymmetric (skewed) populations. Second, both bootstrap and analytical C.I. become narrower with the increasing sample size. This intuitively and mathematically makes sense. Third, bootstap C.I. approximates the analyical C.I. very well with large sample size. This is perhaps the most important advantage of using bootstrap. If you have large sample size, you really don't have to worry anything else (except the indepence of samples), and <i>just stick to bootstrap</i>. All the disadvantages of bootstrap will be overcome by the large sample size.</p>\n",
    "    <p>One might wonder what is <i>\"large\"</i> enough in practical applications. Unfortunately, the definition of <i>\"large\"</i> is different for every applications. In the simulation result, it seems that $n = 20$ falls in the category of <i>\"large\"</i> to approximate C.I. of the mean of a normally distributed population with bootstrap. On the other hand, $n=100$ seems to be <i>\"large\"</i> in case of C.I. of the variances of a normally distributed population. The definition of <i>\"large $n$\"</i> can vary with different applications (ex: non-normal data, C.I. of regression coefficient or covariance). Carefully investigate your samples to have a good definition of <i>\"large\"</i>.</p>\n",
    "    <div id=\"fig???\" class=\"row\">\n",
    "        <div class=\"col\"><img src=\"jupyter_images/analy_vs_boot_cis.png\" class=\"\"></div>\n",
    "        <div class=\"col-12\"><p class=\"image-description\">Figure ???: Comparison of Bootstrap vs Analytical C.I. for different sample sizes</p></div>\n",
    "    </div>\n",
    "    <div class=\"solution_panel closed\" style=\"margin-top: 20px;\">\n",
    "        <div class=\"solution_title\">\n",
    "            <p class=\"solution_title_string\">Source Code For Figure (?)</p>\n",
    "            <ul class=\"nav navbar-right panel_toolbox\">\n",
    "                <li><a class=\"collapse-link\"><i class=\"fa fa-chevron-down\"></i></a></li>\n",
    "            </ul>\n",
    "        <div class=\"clearfix\"></div>\n",
    "        </div>\n",
    "        <div class=\"solution_content\">\n",
    "            <pre>\n",
    "                <code class=\"language-python\">\n",
    "                    import matplotlib.pyplot as plt\n",
    "                    import numpy as np\n",
    "                    from scipy import stats\n",
    "\n",
    "                    sample_sizes = [3, 5, 8, 10, 15, 20, 30, 50, 80, 100, 500, 1000]\n",
    "                    mean = 4            # sample mean\n",
    "                    std = 3             # sample standard deviation\n",
    "                    boot_iter = 10000   # bootstrap iterations\n",
    "\n",
    "                    boot_mean_lo = np.array([])\n",
    "                    boot_mean_hi = np.array([])\n",
    "                    analy_mean_lo = np.array([])\n",
    "                    analy_mean_hi = np.array([])\n",
    "\n",
    "                    boot_var_lo = np.array([])\n",
    "                    boot_var_hi = np.array([])\n",
    "                    analy_var_lo = np.array([])\n",
    "                    analy_var_hi = np.array([])\n",
    "\n",
    "                    means = np.array([])\n",
    "                    variances = np.array([])\n",
    "\n",
    "                    for size in sample_sizes:\n",
    "\n",
    "                        np.random.seed(size * 5)\n",
    "\n",
    "                        arr = np.random.normal(mean, std, size) # randomly draw from a normal distribution\n",
    "\n",
    "                        # analytical confidence interval of mean\n",
    "                        means = np.append(means, np.mean(arr))\n",
    "                        analy_conf_mean = stats.t.interval(1 - 0.05, len(arr) - 1, loc=np.mean(arr), scale=stats.sem(arr))\n",
    "                        analy_mean_lo = np.append(analy_mean_lo, analy_conf_mean[0])\n",
    "                        analy_mean_hi = np.append(analy_mean_hi, analy_conf_mean[1])\n",
    "\n",
    "                        # bootstrap confidence interval of mean\n",
    "                        boot_means = [np.mean(np.random.choice(arr, len(arr))) for _ in range(boot_iter)]\n",
    "                        boot_mean_lo = np.append(boot_mean_lo, np.percentile(boot_means, 2.5))\n",
    "                        boot_mean_hi = np.append(boot_mean_hi, np.percentile(boot_means, 97.5))\n",
    "\n",
    "                        # analytical confidence interval of variance\n",
    "                        variances = np.append(variances, np.var(arr, ddof=1))\n",
    "                        analy_conf_var = (\n",
    "                            (len(arr) - 1) * np.var(arr, ddof=1) / stats.chi2.ppf(1 - 0.05 / 2, len(arr) - 1),\n",
    "                            (len(arr) - 1) * np.var(arr, ddof=1) / stats.chi2.ppf(0.05 / 2, len(arr) - 1)\n",
    "                        )\n",
    "                        analy_var_lo = np.append(analy_var_lo, analy_conf_var[0])\n",
    "                        analy_var_hi = np.append(analy_var_hi, analy_conf_var[1])\n",
    "\n",
    "                        # bootstrap confidence interval of variance\n",
    "                        boot_vars = [np.var(np.random.choice(arr, len(arr)), ddof=1) for _ in range(boot_iter)]\n",
    "                        boot_var_lo = np.append(boot_var_lo, np.percentile(boot_vars, 2.5))\n",
    "                        boot_var_hi = np.append(boot_var_hi, np.percentile(boot_vars, 97.5))\n",
    "\n",
    "\n",
    "                    # plotting\n",
    "\n",
    "                    def styling(ax, xticks, xticklables):\n",
    "                        ax.legend(fontsize=14, loc='lower right', framealpha=1, frameon=True)\n",
    "                        ax.set_xlabel('Sample sizes', fontsize=16)\n",
    "                        ax.set_facecolor('#eeeeee')\n",
    "                        ax.grid(True, linestyle='--', color='#acacac')\n",
    "                        ax.tick_params(color='grey')\n",
    "                        ax.set_xticks(xticks)\n",
    "                        ax.set_xticklabels([str(label) for label in xticklables])\n",
    "                        _ = [spine.set_edgecolor('grey') for spine in ax.spines.values()]\n",
    "\n",
    "\n",
    "                    x = np.array([i for i in range(len(sample_sizes))])\n",
    "                    fig, axes = plt.subplots(1, 2, figsize=(14, 5))\n",
    "\n",
    "                    axes[0].errorbar(x - 0.15, means, yerr=[abs(boot_mean_lo - means), abs(boot_mean_hi - means)],\n",
    "                                fmt='o', label='95% bootstrap C.I.', color='k', markersize=8, capsize=5, linewidth=2)\n",
    "                    axes[0].errorbar(x + 0.15, means, yerr=np.array([abs(analy_mean_hi - means), abs(analy_mean_lo - means)]),\n",
    "                                fmt='o', label='95% analytical C.I.', color='grey', markersize=8, capsize=5, linewidth=2)\n",
    "\n",
    "                    styling(axes[0], x, sample_sizes)\n",
    "                    axes[0].set_ylabel('Sample mean', fontsize=16)\n",
    "                    axes[0].set_title('Confidence interval of means $\\mu$', fontsize=18)\n",
    "                    axes[0].text(0.75, 0.85, 'aegis4048.github.io', fontsize=15, ha='center', va='center',\n",
    "                            transform=axes[0].transAxes, color='grey', alpha=0.5);\n",
    "\n",
    "                    axes[1].errorbar(x - 0.15, means, yerr=[abs(boot_var_lo - variances), abs(boot_var_hi - variances)],\n",
    "                                fmt='o', label='95% bootstrap C.I.', color='k', markersize=8, capsize=5, linewidth=2)\n",
    "                    axes[1].errorbar(x + 0.15, means, yerr=np.array([abs(analy_var_hi - variances), abs(analy_var_lo - variances)]),\n",
    "                                fmt='o', label='95% analytical C.I.', color='grey', markersize=8, capsize=5, linewidth=2)\n",
    "\n",
    "                    styling(axes[1], x, sample_sizes)\n",
    "                    axes[1].set_ylabel('Sample variance', fontsize=16)\n",
    "                    axes[1].set_title('Confidence interval of variances $\\sigma^2$', fontsize=18)\n",
    "                    axes[1].text(0.75, 0.35, 'aegis4048.github.io', fontsize=15, ha='center', va='center',\n",
    "                            transform=axes[1].transAxes, color='grey', alpha=0.5);\n",
    "\n",
    "                    fig.tight_layout()\n",
    "                </code>\n",
    "            </pre>\n",
    "        </div>\n",
    "    </div>\n",
    "</div>\n",
    "\n",
    "<div id=\"assumption_3\"></div>\n",
    "<ol class=\"custom-counter\" style=\"counter-reset: lis 2;\">\n",
    "  <li><p class=\"numbering-p\">Bootstrap fails to estimate extreme quantiles</p></li>\n",
    "</ol>\n",
    "\n",
    "<div class=\"left-pad-border\">\n",
    "    <p>Bootstrap fails to estimate some really weird statistics that depend on very small features of the data. For example, using bootstrapping to determine anything close to extreme values (ex: min, max) of a distribution can be unreliable. There are also problems with estimating extreme quantiles, like 1% or 99%. Note that bootstrapped 95% or 99% CI are themselves at tails of a distribution, and thus could suffer from such a problem, particularly with small sample sizes. Bootstrap works better in the middle of a distribution than at the tails, which makes bootstrapping the median to be robust, whereas bootstrapping the min or max to fail.</p>\n",
    "</div>\n",
    "\n",
    "<div id=\"assumption_4\"></div>\n",
    "<ol class=\"custom-counter\" style=\"counter-reset: lis 3;\">\n",
    "  <li><p class=\"numbering-p\">Samples are independent and identically distributed (i.i.d.)</p></li>\n",
    "</ol>\n",
    "\n",
    "<div class=\"left-pad-border\">\n",
    "    <p>Another central issue with bootrapping is, \"does the resampling procedure preserve the structure of the original sample?\" The greatest problem with bootstrapping dependent data is to create samples that have the dependence structures that are sufficiently close to those in the original data. Because it is impossible to preserve it with the naive bootstrap, a sample needs to be i.i.d.</p>\n",
    "    <p>This assumption raises a few practical issues when dealing with time series. First, by randomly sampling without constraints, naive bootstrap destroys the time-dependence structure in time series. In time series, all data points are aligned with respect to time, but random resampling does not respect their orders. Second, if there's an upward or downward trend in the means or variances, the trend will be lost due to random resampling. Third, because time series is essentially continuous samples of size 1 for each point in time, resampling a sample is equivalent to the original samples; one learns nothing by resampling. Therefore, resampling of a time series requires new ideas, such as block bootstrapping.</p>\n",
    "    <p>There are a few variations of bootstrap that attemtp to preserve the dependency structure of samples, which I will not introduce here due to their mathematical complexities. When using tehchniques based on random sampling, ensure that the samples are i.i.d., or use techniques that preserve (reasonably) the structure of the original data.</p>\n",
    "</div>\n",
    "\n",
    "<div id=\"assumption_5\"></div>\n",
    "<ol class=\"custom-counter\" style=\"counter-reset: lis 4;\">\n",
    "  <li><p class=\"numbering-p\">Bootstrap iteration (<a href=\"#monte-carlo\">Monte-Carlo method</a>) should be sufficient to reproduce consistent C.I's.</p></li>\n",
    "</ol>\n",
    "\n",
    "<div class=\"left-pad-border\">\n",
    "    <p>Because bootstrap relies on <i>\"random\"</i> resampling, the result of any statistical analysis performed with bootstrap can vary from time to time. The extent of variability depends on the number of bootstrap samples $r$, and $r$ should be large enough to guarantee convergence of bootstrap statistics to a stable value. Note that there's a distinction between the size of the original sample $n$ and the number of bootstrap samples $r$. We can't change $n$, but we can change $r$ because $r$ is equivalent to the number of <a href=\"#monte-carlo\">Monte-Carlo</a> iterations, which can be set by a statistician.</p>\n",
    "    <p>So how do we determine what value of $r$ is <i>\"large\"</i> enough to guarantee convergence of bootstrap statistics? You can do it by obtaining multiple bootstrap analysis results for increasing number of simulations $r$, and see if the result converges to certain range of values, as shown in <a href=\"#\">fig (?)</a>. In the figure, it seems that $r=10,000$ is a good choice. But in practice, you want $r$ to be as large as possible, to an extent where the computational cost is not too huge. I've read a research paper where the authors used $r = 500,000$ to really ensure convergence.</p>\n",
    "    <div id=\"fig???\" class=\"row\">\n",
    "        <div class=\"col\"><img src=\"jupyter_images/bootstrap_convergence.png\" class=\"bullet-point-image-medium\"></div>\n",
    "        <div class=\"col-12\"><p class=\"image-description\">Figure ???: Convergence of Bootstrap C.I.</p></div>\n",
    "    </div>\n",
    "    <div class=\"solution_panel closed\" style=\"margin-top: 20px;\">\n",
    "        <div class=\"solution_title\">\n",
    "            <p class=\"solution_title_string\">Source Code For Figure (?)</p>\n",
    "            <ul class=\"nav navbar-right panel_toolbox\">\n",
    "                <li><a class=\"collapse-link\"><i class=\"fa fa-chevron-down\"></i></a></li>\n",
    "            </ul>\n",
    "        <div class=\"clearfix\"></div>\n",
    "        </div>\n",
    "        <div class=\"solution_content\">\n",
    "            <pre>\n",
    "                <code class=\"language-python\">\n",
    "                    import matplotlib.pyplot as plt\n",
    "                    import numpy as np\n",
    "                    from scipy import stats\n",
    "                    import pandas as pd\n",
    "\n",
    "\n",
    "                    # r, or number of bootstrap samples, or number of Monte-Carlo iterations\n",
    "                    r_boots = [10, 20, 50, 70, 100, 150, 300, 500, 700, 1000, 2000, 10000, 20000, 50000, 100000]\n",
    "\n",
    "                    size = 50            # original sample size\n",
    "                    mean = 50            # sample mean\n",
    "                    std = 13             # sample standard deviation\n",
    "\n",
    "                    # randomly draw from a normal distribution\n",
    "                    arr = np.random.normal(mean, std, size)\n",
    "\n",
    "                    boot_mean_lo = np.array([])\n",
    "                    boot_mean_hi = np.array([])\n",
    "                    results = []\n",
    "\n",
    "                    for r_boot in r_boots:\n",
    "\n",
    "                        np.random.seed(r_boot)\n",
    "\n",
    "                        boot_means = [np.mean(np.random.choice(arr, len(arr))) for _ in range(r_boot)]\n",
    "                        results.append(boot_means)\n",
    "\n",
    "\n",
    "                    # plotting\n",
    "                    fig, ax = plt.subplots(figsize=(8, 4))\n",
    "                    ax.boxplot(results, sym='', whis=[2.5, 97.5], showfliers=False,\n",
    "                                         boxprops=dict(linewidth=2.0, color='#4e98c3'),\n",
    "                                         whiskerprops=dict(linewidth=2.0, color='#4e98c3', linestyle='--'), vert=True,\n",
    "                                         capprops=dict(linewidth=2.0, color='k'),\n",
    "                                         medianprops=dict(linewidth=2.0, color='#ad203e'))\n",
    "                    ax.set_title('Convergence of 95% Bootstrap C.I. with increasing Monte-Carlo iterations', fontsize=15)\n",
    "                    ax.set_ylabel('Sample mean', fontsize=15)\n",
    "                    ax.set_xlabel('# of bootstrap samples (Monte-Carlo iterations)', fontsize=15)\n",
    "                    ax.set_xticklabels([str(r_boot) for r_boot in r_boots], rotation=45)\n",
    "                    ax.set_ylim(41.7, 52.3)\n",
    "                    ax.set_facecolor('#eeeeee')\n",
    "                    ax.grid(True, linestyle='--', color='#acacac')\n",
    "                    ax.tick_params(color='grey')\n",
    "                    _ = [spine.set_edgecolor('grey') for spine in ax.spines.values()]\n",
    "                    ax.text(0.21, 0.1, 'aegis4048.github.io', fontsize=15, ha='center', va='center',\n",
    "                            transform=ax.transAxes, color='grey', alpha=0.5);\n",
    "                </code>\n",
    "            </pre>\n",
    "        </div>\n",
    "    </div>\n",
    "</div>\n",
    "\n",
    "<div id=\"assumption_6\"></div>\n",
    "<ol class=\"custom-counter\" style=\"counter-reset: lis 5;\">\n",
    "  <li><p class=\"numbering-p\">Coverage of naive bootstrap is relatively weak compared to more robust bootstrap methods</p></li>\n",
    "</ol>\n",
    "\n",
    "<div class=\"left-pad-border\">\n",
    "    <p>The term, <i>coverage</i>, means the chance at which the statistical estimation with uncertainty includes the population parameter. Ideally, this coverage rate should be close to the nominal value set by a statistician (ex: 90%, 95%, 99%), but this is not always the case. We call the difference between the inferencial sample statistic and the population statistic as <i>bias</i>. Certain statistics, in certain situations, are biased: no matter how many experiments we perform, the average of the statistics is systematically off, either above or below the population value. For example, the sample median is biased when the original sample size $n$ is small, and we sample from skewed distributions. Variations of bootstrapping, such as the Bias Corrected (BC), and Bias Corrected & Accelerated (BCa) attempt to minimize the sampling bias.</p>\n",
    "</div>\n",
    "\n",
    "<div id=\"assumption_7\"></div>\n",
    "<ol class=\"custom-counter\" style=\"counter-reset: lis 6;\">\n",
    "  <li><p class=\"numbering-p\">Bootstrapping continuous data is a bit tricky</p></li>\n",
    "</ol>\n",
    "\n",
    "<div class=\"left-pad-border\">\n",
    "    <p>The biggest motivation for bootstrapping continuous data would be to acquire uncertainty of a fitted regression model. In regression problems, we assume the data points to be continuous. Bootstrapping makes this a little weird when the dependent variable ($y$) is continuous, because the original populatoin does not have even one <i>exact</i> duplicate, while bootstrap samples are likely to have many <i>exact</i> duplicates. Moreover, the range of independent variables ($x$ in single-regession, $x_1, x_2, ... , x_n$ in multi-regression) changes for each bootstrap sample due to randomness. Since the range of the independent variables defines the amount information available, bootstrapping will lose some of the information in the data. In such cases, alternatives like residual bootstrap (assumes homoscedasticity, or stationary varianace) or wild bootstrap (works for heteroscedasticity, or non-stationary varianace).</p>\n",
    "    <p>Unfortunately, the procedure for these alternatives are very complicated, and they are not implemented in <code>Python</code>. To my knowledge, they are implemented in <code>R</code> though.</p>\n",
    "</div>\n",
    "\n",
    "<div id=\"assumption_8\"></div>\n",
    "<ol class=\"custom-counter\" style=\"counter-reset: lis 7;\">\n",
    "  <li><p class=\"numbering-p\">Bootstrap is not robust in heavy-tailed distributions</p></li>\n",
    "</ol>\n",
    "\n",
    "<div class=\"left-pad-border\">\n",
    "    <p>(This section assumes that you understand the caveats of heavy-tailed distributions)</p>\n",
    "    <p>Heavy-tailed distributions have a few extreme values (NOT outliers) that are very different from the most of the samples. These extreme values have non-negligible impact on statistical estimations from samples, because the samples are not likely to contain them due to their low chance of occurrence. This violates the first assumption of bootstrapping I explained <a href=\"#assumption_1\">above</a>, because the sample is NOT a good representation of its underlying population. Since bootstrapping heavily depends on the quality of the original sample, it is not robust for distributions with heavy tails. It will require extremely large size of the original sample to overcome such problems.</p>\n",
    "    <p>Investigate the distribution shape of the population of your interest, and decide if that particular distribution shape will cause problems with heavy-tailedness. For example, exponential distribution is heavier-tailed than normal distribution, but it is not heavy enough to cause problems. Pareto (infinite variance, infinite mean), t-distribution with <code>df = 2</code> and Cauchy (infinite variance, finite mean) are <i>highly problematic</i> category of distributions. Log-normal distribution has finite variance, so it is theoretically OK, but it can sometimes be heavy tailed enough that the population mean will almost always exceed all of your sample means, which can make inference via a bootstrap tricky. Note that the population mean for lognnormal will not be lower than the sample mean, as the low-occurrence extreme values are on the right tail of the distribution.</p>\n",
    "</div>\n",
    "\n",
    "<div><hr></div>\n",
    "\n",
    "<div id=\"python_bootstrap\"></div>\n",
    "<p style=\"color: #666\"><b>Pythonic Tip:</b> Bootstrapping in Python<p>\n",
    "    \n",
    "<p><b>Basic bootstrap</b></p>\n",
    "\n",
    "<p>Bootstrap by itself means resampling from a sample. In its simplest form, it can be implemented in just one-line code with <a href=\"https://het.as.utexas.edu/HET/Software/Numpy/reference/generated/numpy.random.choice.html\" target=\"_blank\">np.random.choice</a>. For demonstration, assume that the original sample of size <code>n=500</code> was randomly drawn from a normal distribution.</p>\n",
    "\n",
    "<div style=\"margin-bottom: -20px\"></div>"
   ]
  },
  {
   "cell_type": "code",
   "execution_count": 9,
   "metadata": {},
   "outputs": [],
   "source": [
    "import numpy as np\n",
    "import pandas as pd"
   ]
  },
  {
   "cell_type": "code",
   "execution_count": 10,
   "metadata": {},
   "outputs": [],
   "source": [
    "# prepare original sample data\n",
    "\n",
    "np.random.seed(42)\n",
    "n = 500\n",
    "arr = np.random.normal(loc=0.15, scale=0.022, size=n)"
   ]
  },
  {
   "cell_type": "code",
   "execution_count": 11,
   "metadata": {},
   "outputs": [],
   "source": [
    "# single bootstrapping\n",
    "\n",
    "single_boot = np.random.choice(arr, len(arr))"
   ]
  },
  {
   "cell_type": "markdown",
   "metadata": {},
   "source": [
    "**Basic bootstrap with Monte-Carlo method**\n",
    "\n",
    "Bootstrap is often combined with <a href=\"#monte-carlo\">Monte-Carlo</a> method to quantify uncertainty in statistics (ex: mean, median, variance, etc...). It just means that you generate multiple instances of the <code>single_boot</code> object above."
   ]
  },
  {
   "cell_type": "code",
   "execution_count": 12,
   "metadata": {},
   "outputs": [],
   "source": [
    "# 100 monte-carlo bootstrapping\n",
    "\n",
    "r = 1000\n",
    "monte_boot = [np.random.choice(arr, len(arr)) for _ in range(r)]"
   ]
  },
  {
   "cell_type": "markdown",
   "metadata": {},
   "source": [
    "<div style=\"margin-top: -20px\"></div>\n",
    "\n",
    "With the above simulation, we stored <code>r=1000</code> instances of bootstrap samples in the object <code>monte_boot</code>. It is a two dimensional array of size $r$ x $n$ (1000 x 500). I will show only the first 10 bootstrap samples with the Pandas DataFrame, since it will be too lengthy if I output all 1000 rows."
   ]
  },
  {
   "cell_type": "code",
   "execution_count": 13,
   "metadata": {},
   "outputs": [
    {
     "data": {
      "text/html": [
       "<div>\n",
       "<style scoped>\n",
       "    .dataframe tbody tr th:only-of-type {\n",
       "        vertical-align: middle;\n",
       "    }\n",
       "\n",
       "    .dataframe tbody tr th {\n",
       "        vertical-align: top;\n",
       "    }\n",
       "\n",
       "    .dataframe thead th {\n",
       "        text-align: right;\n",
       "    }\n",
       "</style>\n",
       "<table border=\"1\" class=\"dataframe\">\n",
       "  <thead>\n",
       "    <tr style=\"text-align: right;\">\n",
       "      <th></th>\n",
       "      <th>0</th>\n",
       "      <th>1</th>\n",
       "      <th>2</th>\n",
       "      <th>3</th>\n",
       "      <th>4</th>\n",
       "      <th>5</th>\n",
       "      <th>6</th>\n",
       "      <th>7</th>\n",
       "      <th>8</th>\n",
       "      <th>9</th>\n",
       "      <th>...</th>\n",
       "      <th>490</th>\n",
       "      <th>491</th>\n",
       "      <th>492</th>\n",
       "      <th>493</th>\n",
       "      <th>494</th>\n",
       "      <th>495</th>\n",
       "      <th>496</th>\n",
       "      <th>497</th>\n",
       "      <th>498</th>\n",
       "      <th>499</th>\n",
       "    </tr>\n",
       "  </thead>\n",
       "  <tbody>\n",
       "    <tr>\n",
       "      <th>boot 0</th>\n",
       "      <td>0.109</td>\n",
       "      <td>0.121</td>\n",
       "      <td>0.174</td>\n",
       "      <td>0.135</td>\n",
       "      <td>0.165</td>\n",
       "      <td>0.150</td>\n",
       "      <td>0.120</td>\n",
       "      <td>0.155</td>\n",
       "      <td>0.159</td>\n",
       "      <td>0.142</td>\n",
       "      <td>...</td>\n",
       "      <td>0.157</td>\n",
       "      <td>0.158</td>\n",
       "      <td>0.128</td>\n",
       "      <td>0.134</td>\n",
       "      <td>0.129</td>\n",
       "      <td>0.152</td>\n",
       "      <td>0.163</td>\n",
       "      <td>0.140</td>\n",
       "      <td>0.158</td>\n",
       "      <td>0.127</td>\n",
       "    </tr>\n",
       "    <tr>\n",
       "      <th>boot 1</th>\n",
       "      <td>0.115</td>\n",
       "      <td>0.155</td>\n",
       "      <td>0.134</td>\n",
       "      <td>0.156</td>\n",
       "      <td>0.151</td>\n",
       "      <td>0.151</td>\n",
       "      <td>0.128</td>\n",
       "      <td>0.132</td>\n",
       "      <td>0.165</td>\n",
       "      <td>0.146</td>\n",
       "      <td>...</td>\n",
       "      <td>0.127</td>\n",
       "      <td>0.144</td>\n",
       "      <td>0.129</td>\n",
       "      <td>0.140</td>\n",
       "      <td>0.169</td>\n",
       "      <td>0.160</td>\n",
       "      <td>0.164</td>\n",
       "      <td>0.147</td>\n",
       "      <td>0.167</td>\n",
       "      <td>0.122</td>\n",
       "    </tr>\n",
       "    <tr>\n",
       "      <th>boot 2</th>\n",
       "      <td>0.168</td>\n",
       "      <td>0.198</td>\n",
       "      <td>0.129</td>\n",
       "      <td>0.133</td>\n",
       "      <td>0.153</td>\n",
       "      <td>0.197</td>\n",
       "      <td>0.145</td>\n",
       "      <td>0.121</td>\n",
       "      <td>0.165</td>\n",
       "      <td>0.161</td>\n",
       "      <td>...</td>\n",
       "      <td>0.108</td>\n",
       "      <td>0.149</td>\n",
       "      <td>0.147</td>\n",
       "      <td>0.140</td>\n",
       "      <td>0.175</td>\n",
       "      <td>0.180</td>\n",
       "      <td>0.118</td>\n",
       "      <td>0.139</td>\n",
       "      <td>0.176</td>\n",
       "      <td>0.145</td>\n",
       "    </tr>\n",
       "    <tr>\n",
       "      <th>boot 3</th>\n",
       "      <td>0.129</td>\n",
       "      <td>0.160</td>\n",
       "      <td>0.145</td>\n",
       "      <td>0.139</td>\n",
       "      <td>0.123</td>\n",
       "      <td>0.138</td>\n",
       "      <td>0.127</td>\n",
       "      <td>0.152</td>\n",
       "      <td>0.197</td>\n",
       "      <td>0.146</td>\n",
       "      <td>...</td>\n",
       "      <td>0.173</td>\n",
       "      <td>0.120</td>\n",
       "      <td>0.191</td>\n",
       "      <td>0.133</td>\n",
       "      <td>0.173</td>\n",
       "      <td>0.119</td>\n",
       "      <td>0.167</td>\n",
       "      <td>0.160</td>\n",
       "      <td>0.158</td>\n",
       "      <td>0.150</td>\n",
       "    </tr>\n",
       "    <tr>\n",
       "      <th>boot 4</th>\n",
       "      <td>0.124</td>\n",
       "      <td>0.148</td>\n",
       "      <td>0.171</td>\n",
       "      <td>0.150</td>\n",
       "      <td>0.150</td>\n",
       "      <td>0.157</td>\n",
       "      <td>0.141</td>\n",
       "      <td>0.163</td>\n",
       "      <td>0.164</td>\n",
       "      <td>0.158</td>\n",
       "      <td>...</td>\n",
       "      <td>0.121</td>\n",
       "      <td>0.150</td>\n",
       "      <td>0.170</td>\n",
       "      <td>0.152</td>\n",
       "      <td>0.161</td>\n",
       "      <td>0.235</td>\n",
       "      <td>0.146</td>\n",
       "      <td>0.140</td>\n",
       "      <td>0.160</td>\n",
       "      <td>0.122</td>\n",
       "    </tr>\n",
       "    <tr>\n",
       "      <th>boot 5</th>\n",
       "      <td>0.139</td>\n",
       "      <td>0.127</td>\n",
       "      <td>0.105</td>\n",
       "      <td>0.152</td>\n",
       "      <td>0.146</td>\n",
       "      <td>0.133</td>\n",
       "      <td>0.134</td>\n",
       "      <td>0.107</td>\n",
       "      <td>0.179</td>\n",
       "      <td>0.145</td>\n",
       "      <td>...</td>\n",
       "      <td>0.146</td>\n",
       "      <td>0.134</td>\n",
       "      <td>0.156</td>\n",
       "      <td>0.157</td>\n",
       "      <td>0.159</td>\n",
       "      <td>0.127</td>\n",
       "      <td>0.132</td>\n",
       "      <td>0.111</td>\n",
       "      <td>0.103</td>\n",
       "      <td>0.183</td>\n",
       "    </tr>\n",
       "    <tr>\n",
       "      <th>boot 6</th>\n",
       "      <td>0.182</td>\n",
       "      <td>0.164</td>\n",
       "      <td>0.168</td>\n",
       "      <td>0.157</td>\n",
       "      <td>0.196</td>\n",
       "      <td>0.131</td>\n",
       "      <td>0.133</td>\n",
       "      <td>0.171</td>\n",
       "      <td>0.158</td>\n",
       "      <td>0.142</td>\n",
       "      <td>...</td>\n",
       "      <td>0.166</td>\n",
       "      <td>0.124</td>\n",
       "      <td>0.185</td>\n",
       "      <td>0.164</td>\n",
       "      <td>0.133</td>\n",
       "      <td>0.160</td>\n",
       "      <td>0.156</td>\n",
       "      <td>0.109</td>\n",
       "      <td>0.151</td>\n",
       "      <td>0.167</td>\n",
       "    </tr>\n",
       "    <tr>\n",
       "      <th>boot 7</th>\n",
       "      <td>0.195</td>\n",
       "      <td>0.160</td>\n",
       "      <td>0.130</td>\n",
       "      <td>0.175</td>\n",
       "      <td>0.115</td>\n",
       "      <td>0.135</td>\n",
       "      <td>0.150</td>\n",
       "      <td>0.173</td>\n",
       "      <td>0.149</td>\n",
       "      <td>0.185</td>\n",
       "      <td>...</td>\n",
       "      <td>0.153</td>\n",
       "      <td>0.122</td>\n",
       "      <td>0.145</td>\n",
       "      <td>0.163</td>\n",
       "      <td>0.149</td>\n",
       "      <td>0.155</td>\n",
       "      <td>0.136</td>\n",
       "      <td>0.149</td>\n",
       "      <td>0.138</td>\n",
       "      <td>0.137</td>\n",
       "    </tr>\n",
       "    <tr>\n",
       "      <th>boot 8</th>\n",
       "      <td>0.124</td>\n",
       "      <td>0.164</td>\n",
       "      <td>0.132</td>\n",
       "      <td>0.126</td>\n",
       "      <td>0.158</td>\n",
       "      <td>0.168</td>\n",
       "      <td>0.150</td>\n",
       "      <td>0.156</td>\n",
       "      <td>0.156</td>\n",
       "      <td>0.126</td>\n",
       "      <td>...</td>\n",
       "      <td>0.127</td>\n",
       "      <td>0.117</td>\n",
       "      <td>0.115</td>\n",
       "      <td>0.140</td>\n",
       "      <td>0.132</td>\n",
       "      <td>0.132</td>\n",
       "      <td>0.127</td>\n",
       "      <td>0.133</td>\n",
       "      <td>0.160</td>\n",
       "      <td>0.154</td>\n",
       "    </tr>\n",
       "    <tr>\n",
       "      <th>boot 9</th>\n",
       "      <td>0.157</td>\n",
       "      <td>0.143</td>\n",
       "      <td>0.157</td>\n",
       "      <td>0.143</td>\n",
       "      <td>0.156</td>\n",
       "      <td>0.178</td>\n",
       "      <td>0.161</td>\n",
       "      <td>0.198</td>\n",
       "      <td>0.197</td>\n",
       "      <td>0.134</td>\n",
       "      <td>...</td>\n",
       "      <td>0.184</td>\n",
       "      <td>0.197</td>\n",
       "      <td>0.157</td>\n",
       "      <td>0.147</td>\n",
       "      <td>0.161</td>\n",
       "      <td>0.119</td>\n",
       "      <td>0.135</td>\n",
       "      <td>0.124</td>\n",
       "      <td>0.119</td>\n",
       "      <td>0.109</td>\n",
       "    </tr>\n",
       "  </tbody>\n",
       "</table>\n",
       "<p>10 rows × 500 columns</p>\n",
       "</div>"
      ],
      "text/plain": [
       "          0      1      2      3      4      5      6      7      8      9    \\\n",
       "boot 0  0.109  0.121  0.174  0.135  0.165  0.150  0.120  0.155  0.159  0.142   \n",
       "boot 1  0.115  0.155  0.134  0.156  0.151  0.151  0.128  0.132  0.165  0.146   \n",
       "boot 2  0.168  0.198  0.129  0.133  0.153  0.197  0.145  0.121  0.165  0.161   \n",
       "boot 3  0.129  0.160  0.145  0.139  0.123  0.138  0.127  0.152  0.197  0.146   \n",
       "boot 4  0.124  0.148  0.171  0.150  0.150  0.157  0.141  0.163  0.164  0.158   \n",
       "boot 5  0.139  0.127  0.105  0.152  0.146  0.133  0.134  0.107  0.179  0.145   \n",
       "boot 6  0.182  0.164  0.168  0.157  0.196  0.131  0.133  0.171  0.158  0.142   \n",
       "boot 7  0.195  0.160  0.130  0.175  0.115  0.135  0.150  0.173  0.149  0.185   \n",
       "boot 8  0.124  0.164  0.132  0.126  0.158  0.168  0.150  0.156  0.156  0.126   \n",
       "boot 9  0.157  0.143  0.157  0.143  0.156  0.178  0.161  0.198  0.197  0.134   \n",
       "\n",
       "        ...      490    491    492    493    494    495    496    497    498  \\\n",
       "boot 0  ...    0.157  0.158  0.128  0.134  0.129  0.152  0.163  0.140  0.158   \n",
       "boot 1  ...    0.127  0.144  0.129  0.140  0.169  0.160  0.164  0.147  0.167   \n",
       "boot 2  ...    0.108  0.149  0.147  0.140  0.175  0.180  0.118  0.139  0.176   \n",
       "boot 3  ...    0.173  0.120  0.191  0.133  0.173  0.119  0.167  0.160  0.158   \n",
       "boot 4  ...    0.121  0.150  0.170  0.152  0.161  0.235  0.146  0.140  0.160   \n",
       "boot 5  ...    0.146  0.134  0.156  0.157  0.159  0.127  0.132  0.111  0.103   \n",
       "boot 6  ...    0.166  0.124  0.185  0.164  0.133  0.160  0.156  0.109  0.151   \n",
       "boot 7  ...    0.153  0.122  0.145  0.163  0.149  0.155  0.136  0.149  0.138   \n",
       "boot 8  ...    0.127  0.117  0.115  0.140  0.132  0.132  0.127  0.133  0.160   \n",
       "boot 9  ...    0.184  0.197  0.157  0.147  0.161  0.119  0.135  0.124  0.119   \n",
       "\n",
       "          499  \n",
       "boot 0  0.127  \n",
       "boot 1  0.122  \n",
       "boot 2  0.145  \n",
       "boot 3  0.150  \n",
       "boot 4  0.122  \n",
       "boot 5  0.183  \n",
       "boot 6  0.167  \n",
       "boot 7  0.137  \n",
       "boot 8  0.154  \n",
       "boot 9  0.109  \n",
       "\n",
       "[10 rows x 500 columns]"
      ]
     },
     "execution_count": 13,
     "metadata": {},
     "output_type": "execute_result"
    }
   ],
   "source": [
    "pd.DataFrame(monte_boot, index=['boot % s' % str(i) for i in range(r)]).head(10).round(3)"
   ]
  },
  {
   "cell_type": "markdown",
   "metadata": {},
   "source": [
    "<div style=\"margin-top: -20px\"></div>\n",
    "\n",
    "Let's visualize the results in Matplotlib to understand Monte-Carlo simulations applied with bootstrap more intuitively. Recall that the goal of <a href=\"#monte-carlo\">Monte-Carlo</a> method is to simulate hundreds or thousands of \"possible outcomes\". Each line in the right plot below represents a single possible outcome.\n",
    "\n",
    "<div id=\"bootstrap_simulations\" class=\"row\" style=\"margin-top: 15px;\">\n",
    "    <div class=\"col\"><img src=\"jupyter_images/Boostrap_simulations.png\"></div>\n",
    "    <div class=\"col-12\"><p class=\"image-description\">Figure ???: 1000 Bootstrap simulations</p></div>\n",
    "</div>"
   ]
  },
  {
   "cell_type": "markdown",
   "metadata": {},
   "source": [
    "<div class=\"solution_panel closed\">\n",
    "    <div class=\"solution_title\">\n",
    "        <p class=\"solution_title_string\">Source Code For Figure (?)</p>\n",
    "        <ul class=\"nav navbar-right panel_toolbox\">\n",
    "            <li><a class=\"collapse-link\"><i class=\"fa fa-chevron-down\"></i></a></li>\n",
    "        </ul>\n",
    "    <div class=\"clearfix\"></div>\n",
    "    </div>\n",
    "    <div class=\"solution_content\">\n",
    "        <pre>\n",
    "            <code class=\"language-python\">\n",
    "                import numpy as np\n",
    "                import matplotlib.pyplot as plt\n",
    "\n",
    "                np.random.seed(42)\n",
    "                n = 500\n",
    "                arr = np.random.normal(loc=0.15, scale=0.022, size=n)\n",
    "\n",
    "                r = 1000\n",
    "                monte_boot = [np.random.choice(arr, len(arr)) for _ in range(r)]\n",
    "\n",
    "                fig, axes = plt.subplots(1, 2, figsize=(14, 4))\n",
    "                axes[0].hist(arr, bins='auto', range=(min(arr), max(arr)), histtype='step', density=True)\n",
    "                for boot in monte_boot:\n",
    "                    axes[1].hist(boot, bins='auto', range=(min(boot), max(boot)), histtype='step', density=True)\n",
    "\n",
    "                for ax in axes:\n",
    "                    ax.grid(True, linestyle='--', color='#acacac')\n",
    "                    ax.set_ylabel('Probability', fontsize=15)\n",
    "                    ax.set_xlabel('$X$', fontsize=15)\n",
    "                axes[0].set_title('Original sample', fontsize=15)\n",
    "                axes[1].set_title('% s bootstrap samples' % r, fontsize=15)\n",
    "                fig.tight_layout()\n",
    "            </code>\n",
    "        </pre>\n",
    "    </div>\n",
    "</div>"
   ]
  },
  {
   "cell_type": "markdown",
   "metadata": {},
   "source": [
    "**Basic bootstrap with Monte-Carlo method + constructing confidence intervals**\n",
    "\n",
    "We then analyze the simulation result to do whatever statistical estimation we want to do. Since this article is about confidence intervals, I will show how to construct confidence intervals of various statistics with bootstrap percentile method. It's actually very simple to implement. Just wrap your single bootstrap sample with a function that calculates the statistic of your interest. The result is an array of statistics of 1000 sample sets. In the other words, thousand data points of the statistics."
   ]
  },
  {
   "cell_type": "code",
   "execution_count": 5,
   "metadata": {},
   "outputs": [],
   "source": [
    "from scipy import stats\n",
    "import numpy as np\n",
    "\n",
    "# 100 monte-carlo bootstrapping\n",
    "\n",
    "r = 1000\n",
    "monte_boot_mean = [np.mean(np.random.choice(arr, len(arr))) for _ in range(r)]\n",
    "monte_boot_median = [np.median(np.random.choice(arr, len(arr))) for _ in range(r)]\n",
    "monte_boot_std = [np.std(np.random.choice(arr, len(arr)), ddof=1) for _ in range(r)]\n",
    "monte_boot_skew = [stats.skew(np.random.choice(arr, len(arr))) for _ in range(r)]\n",
    "monte_boot_kurtosis = [stats.kurtosis(np.random.choice(arr, len(arr))) for _ in range(r)]"
   ]
  },
  {
   "cell_type": "code",
   "execution_count": 6,
   "metadata": {},
   "outputs": [
    {
     "data": {
      "text/plain": [
       "1000"
      ]
     },
     "execution_count": 6,
     "metadata": {},
     "output_type": "execute_result"
    }
   ],
   "source": [
    "len(monte_boot_mean)"
   ]
  },
  {
   "cell_type": "markdown",
   "metadata": {},
   "source": [
    "<div style=\"margin-top: -20px\"></div>\n",
    "\n",
    "If the statistic of your interest does not have a library function, you can define your own function, and wrap the bootstrap sample with it."
   ]
  },
  {
   "cell_type": "code",
   "execution_count": 7,
   "metadata": {},
   "outputs": [],
   "source": [
    "def custom_stats(arr):\n",
    "    return sum(arr) / len(arr) + 0.002"
   ]
  },
  {
   "cell_type": "code",
   "execution_count": 8,
   "metadata": {},
   "outputs": [],
   "source": [
    "monte_boot_custom = [custom_stats(np.random.choice(arr, len(arr))) for _ in range(r)]"
   ]
  },
  {
   "cell_type": "markdown",
   "metadata": {},
   "source": [
    "<div style=\"margin-top: -20px\"></div>\n",
    "\n",
    "Let's visualize the 95% confidence interval of various statistics obtained from Monte-Carlo bootstrap. Note that statistics like median, skew, kurtosis do not have analytical solutions to construct C.I., and can only be constructed from numerical methods like Monte-Carlo bootstrap (which makes bootstrap very powerful).\n",
    "\n",
    "<div id=\"bootstrap_uncertainty_model\" class=\"row\" style=\"margin-top: 15px;\">\n",
    "    <div class=\"col\"><img src=\"jupyter_images/monte_boot_uncertainty_models.png\"></div>\n",
    "    <div class=\"col-12\"><p class=\"image-description\">Figure ???: Uncertainty models obtained from Monte-Carlo bootstrap</p></div>\n",
    "</div>"
   ]
  },
  {
   "cell_type": "markdown",
   "metadata": {},
   "source": [
    "<div class=\"solution_panel closed\">\n",
    "    <div class=\"solution_title\">\n",
    "        <p class=\"solution_title_string\">Source Code For Figure (?)</p>\n",
    "        <ul class=\"nav navbar-right panel_toolbox\">\n",
    "            <li><a class=\"collapse-link\"><i class=\"fa fa-chevron-down\"></i></a></li>\n",
    "        </ul>\n",
    "    <div class=\"clearfix\"></div>\n",
    "    </div>\n",
    "    <div class=\"solution_content\">\n",
    "        <pre>\n",
    "            <code class=\"language-python\">\n",
    "                from scipy import stats\n",
    "                import matplotlib.pyplot as plt\n",
    "                import numpy as np\n",
    "\n",
    "                # generate original sample\n",
    "                np.random.seed(42)\n",
    "                n = 500\n",
    "                arr = np.random.normal(loc=0.15, scale=0.022, size=n)\n",
    "\n",
    "                # 100 monte-carlo bootstrapping\n",
    "                r = 1000\n",
    "                monte_boot_mean = [np.mean(np.random.choice(arr, len(arr))) for _ in range(r)]\n",
    "                monte_boot_median = [np.median(np.random.choice(arr, len(arr))) for _ in range(r)]\n",
    "                monte_boot_std = [np.std(np.random.choice(arr, len(arr)), ddof=1) for _ in range(r)]\n",
    "                monte_boot_skew = [stats.skew(np.random.choice(arr, len(arr))) for _ in range(r)]\n",
    "                monte_boot_kurtosis = [stats.kurtosis(np.random.choice(arr, len(arr))) for _ in range(r)]\n",
    "\n",
    "                def custom_stats(arr):\n",
    "                    return sum(arr) / len(arr) + 0.002\n",
    "\n",
    "                monte_boot_custom = [custom_stats(np.random.choice(arr, len(arr))) for _ in range(r)]\n",
    "\n",
    "\n",
    "                # plotting\n",
    "                styling = {'sym': '', \n",
    "                           'whis': [2.5, 97.5], \n",
    "                           'showfliers': False, \n",
    "                           'vert': True,\n",
    "                           'boxprops': dict(linewidth=2.0, color='#4e98c3'), \n",
    "                           'whiskerprops': dict(linewidth=2.0, color='#4e98c3', linestyle='--'), \n",
    "                           'capprops': dict(linewidth=2.0, color='k'),\n",
    "                           'medianprops': dict(linewidth=2.0, color='#ad203e')\n",
    "                }\n",
    "\n",
    "                fig, axes = plt.subplots(1, 2, figsize=(14, 4))\n",
    "\n",
    "                axes[0].boxplot([monte_boot_mean, monte_boot_median, monte_boot_custom], **styling)\n",
    "                axes[1].boxplot([monte_boot_std, monte_boot_skew, monte_boot_kurtosis], **styling)\n",
    "                axes[0].set_xticklabels(['Mean', 'Median', '\"Custom\"'], fontsize=20)\n",
    "                axes[1].set_xticklabels(['Stdev', 'Skew', 'Kurtosis'], fontsize=20)\n",
    "                for ax in axes:\n",
    "                    ax.set_facecolor('#eeeeee')\n",
    "                    ax.grid(True, linestyle='--', color='#acacac')\n",
    "                    ax.text(0.25, 0.85, 'aegis4048.github.io', fontsize=17, ha='center', va='center', \n",
    "                            transform=ax.transAxes, color='grey', alpha=0.5);\n",
    "                fig.tight_layout(rect=[0, 0.03, 1, 0.92])\n",
    "                fig.suptitle('Monte-Carlo bootstrap uncertainty modeling', fontsize=25)    \n",
    "            </code>\n",
    "        </pre>\n",
    "    </div>\n",
    "</div>"
   ]
  },
  {
   "cell_type": "code",
   "execution_count": 2,
   "metadata": {},
   "outputs": [],
   "source": [
    "import numpy as np\n",
    "import pandas as pd\n",
    "import matplotlib.pyplot as plt\n",
    "from scipy import stats\n",
    "from scipy.optimize import curve_fit\n",
    "\n",
    "df = pd.read_excel('sample_data/decline_curve.xlsx', sheet_name='sheet_1')"
   ]
  },
  {
   "cell_type": "code",
   "execution_count": 3,
   "metadata": {},
   "outputs": [
    {
     "data": {
      "text/plain": [
       "array([1.71828926e+04, 4.81206936e-01, 1.22570881e-01])"
      ]
     },
     "execution_count": 3,
     "metadata": {},
     "output_type": "execute_result"
    },
    {
     "data": {
      "image/png": "[encoded data removed]",
      "text/plain": [
       "<Figure size 576x288 with 1 Axes>"
      ]
     },
     "metadata": {},
     "output_type": "display_data"
    }
   ],
   "source": [
    "x = df['Time'][1:]\n",
    "y = df['Oil Prod. (bopd)'][1:]\n",
    "\n",
    "y = [item for item in y if item > 10]\n",
    "x_1 = np.array([i for i in range(len(y))])\n",
    "\n",
    "#x_1 = np.array([i for i in range(len(x))])\n",
    "\n",
    "def func_1(x, a, b, c):\n",
    "    return a * np.exp(-b * x) + c\n",
    "\n",
    "def func_2(x, qi, b, Di):\n",
    "    return qi / (1 + b * Di * x) ** (1 / b)\n",
    "\n",
    "def func_3(x, Di, qi):\n",
    "    return qi / (1 + Di * x)\n",
    "\n",
    "popt, pcov = curve_fit(func_2, x_1, y, maxfev=10000, p0=[16000, 0.1, 0.1 ])\n",
    "fig, ax = plt.subplots(figsize=(8, 4))\n",
    "ax.plot(x_1, y, '-o')\n",
    "ax.set_yscale('log')\n",
    "ax.plot(x_1, func_2(x_1, *popt))\n",
    "ax.set_ylim(10, 30000)\n",
    "popt\n",
    "\n",
    "# regularization"
   ]
  },
  {
   "cell_type": "code",
   "execution_count": 14,
   "metadata": {},
   "outputs": [
    {
     "data": {
      "text/plain": [
       "(array([56., 12.,  4.,  3.,  2.,  2.,  3.,  2.,  2.,  1.]),\n",
       " array([   31. ,  1721.4,  3411.8,  5102.2,  6792.6,  8483. , 10173.4,\n",
       "        11863.8, 13554.2, 15244.6, 16935. ]),\n",
       " <a list of 10 Patch objects>)"
      ]
     },
     "execution_count": 14,
     "metadata": {},
     "output_type": "execute_result"
    },
    {
     "data": {
      "image/png": "[encoded data removed]",
      "text/plain": [
       "<Figure size 432x288 with 1 Axes>"
      ]
     },
     "metadata": {},
     "output_type": "display_data"
    }
   ],
   "source": [
    "plt.hist(y)"
   ]
  },
  {
   "cell_type": "code",
   "execution_count": 6,
   "metadata": {},
   "outputs": [
    {
     "data": {
      "text/plain": [
       "array([1.71828926e+04, 4.81206936e-01, 1.22570881e-01])"
      ]
     },
     "execution_count": 6,
     "metadata": {},
     "output_type": "execute_result"
    },
    {
     "data": {
      "image/png": "[encoded data removed]",
      "text/plain": [
       "<Figure size 576x288 with 1 Axes>"
      ]
     },
     "metadata": {},
     "output_type": "display_data"
    }
   ],
   "source": [
    "x = df['Time'][1:]\n",
    "y = df['Oil Prod. (bopd)'][1:]\n",
    "\n",
    "y = [item for item in y if item > 10]\n",
    "x_1 = np.array([i for i in range(len(y))])\n",
    "\n",
    "#x_1 = np.array([i for i in range(len(x))])\n",
    "\n",
    "def func_1(x, a, b, c):\n",
    "    return a * np.exp(-b * x) + c\n",
    "\n",
    "def func_2(x, qi, b, Di):\n",
    "    return qi / (1 + b * Di * x) ** (1 / b)\n",
    "\n",
    "def func_3(x, Di, qi):\n",
    "    return qi / (1 + Di * x)\n",
    "\n",
    "popt, pcov = curve_fit(func_2, x_1, y, maxfev=10000, p0=[16000, 0.1, 0.1])\n",
    "fig, ax = plt.subplots(figsize=(8, 4))\n",
    "ax.plot(x_1, y, '-o')\n",
    "ax.set_yscale('log')\n",
    "ax.plot(x_1, func_2(x_1, *popt))\n",
    "ax.set_ylim(10, 30000)\n",
    "popt"
   ]
  },
  {
   "cell_type": "code",
   "execution_count": 10,
   "metadata": {},
   "outputs": [],
   "source": [
    "temp = [item for item in y if item > 1]\n",
    "temp_y = [i for i in ranxge(len(temp))]"
   ]
  },
  {
   "cell_type": "code",
   "execution_count": 256,
   "metadata": {},
   "outputs": [],
   "source": [
    "from scipy.special import inv_boxcox"
   ]
  },
  {
   "cell_type": "code",
   "execution_count": 257,
   "metadata": {},
   "outputs": [
    {
     "data": {
      "text/plain": [
       "(array([48.,  6.,  4.,  8.,  2.,  1.,  2.,  2.]),\n",
       " array([ 124.  , 1128.75, 2133.5 , 3138.25, 4143.  , 5147.75, 6152.5 ,\n",
       "        7157.25, 8162.  ]),\n",
       " <a list of 8 Patch objects>)"
      ]
     },
     "execution_count": 257,
     "metadata": {},
     "output_type": "execute_result"
    },
    {
     "data": {
      "image/png": "[encoded data removed]",
      "text/plain": [
       "<Figure size 432x288 with 1 Axes>"
      ]
     },
     "metadata": {},
     "output_type": "display_data"
    }
   ],
   "source": [
    "yt, lmbda = stats.boxcox(y + 1)\n",
    "yt = [item for item in yt if item > np.percentile(yt, 10) and item < np.percentile(yt, 90)]\n",
    "yt_back = inv_boxcox(yt, lmbda)\n",
    "plt.hist(yt_back, bins='auto')"
   ]
  },
  {
   "cell_type": "code",
   "execution_count": 266,
   "metadata": {},
   "outputs": [
    {
     "name": "stderr",
     "output_type": "stream",
     "text": [
      "C:\\ProgramData\\Anaconda3\\lib\\site-packages\\ipykernel_launcher.py:9: RuntimeWarning: invalid value encountered in power\n",
      "  if __name__ == '__main__':\n"
     ]
    },
    {
     "data": {
      "text/plain": [
       "(10, 30000)"
      ]
     },
     "execution_count": 266,
     "metadata": {},
     "output_type": "execute_result"
    },
    {
     "data": {
      "image/png": "[encoded data removed]",
      "text/plain": [
       "<Figure size 576x288 with 1 Axes>"
      ]
     },
     "metadata": {},
     "output_type": "display_data"
    }
   ],
   "source": [
    "x = df['Time'][1:]\n",
    "y = yt_back\n",
    "x_1 = np.array([i for i in range(len(y))])\n",
    "\n",
    "def func_1(x, a, b, c):\n",
    "    return a * np.exp(-b * x) + c\n",
    "\n",
    "def func_2(x, qi, b, Di):\n",
    "    return qi / (1 + b * Di * x) ** (1 / b)\n",
    "\n",
    "def func_3(x, Di, qi):\n",
    "    return qi / (1 + Di * x)\n",
    "\n",
    "popt, pcov = curve_fit(func_2, x_1, y, maxfev=100000, p0=[10000, 0.5, 0.01])\n",
    "fig, ax = plt.subplots(figsize=(8, 4))\n",
    "ax.plot(x_1, y, '-o')\n",
    "ax.set_yscale('log')\n",
    "ax.plot(x_1, func_2(x_1, *popt))\n",
    "ax.set_ylim(10, 30000)"
   ]
  },
  {
   "cell_type": "code",
   "execution_count": 263,
   "metadata": {},
   "outputs": [
    {
     "data": {
      "text/plain": [
       "array([7.96031974e+03, 6.10749257e-01, 1.27562954e-01])"
      ]
     },
     "execution_count": 263,
     "metadata": {},
     "output_type": "execute_result"
    }
   ],
   "source": [
    "popt"
   ]
  },
  {
   "cell_type": "code",
   "execution_count": 259,
   "metadata": {},
   "outputs": [
    {
     "data": {
      "image/png": "[encoded data removed]",
      "text/plain": [
       "<Figure size 576x288 with 1 Axes>"
      ]
     },
     "metadata": {},
     "output_type": "display_data"
    }
   ],
   "source": [
    "fig, ax= plt.subplots(figsize=(8, 4))\n",
    "\n",
    "prob = stats.probplot(yt, dist=stats.norm, plot=ax)"
   ]
  },
  {
   "cell_type": "code",
   "execution_count": null,
   "metadata": {},
   "outputs": [],
   "source": [
    "x = df['Time'][1:]\n",
    "y = df['Oil Prod. (bopd)'][1:]\n",
    "x_1 = np.array([i for i in range(len(x))])\n",
    "\n",
    "def func_1(x, a, b, c):\n",
    "    return a * np.exp(-b * x) + c\n",
    "\n",
    "def func_2(x, qi, b, Di):\n",
    "    return qi / (1 + b * Di * x) ** (1 / b)\n",
    "\n",
    "def func_3(x, Di, qi):\n",
    "    return qi / (1 + Di * x)\n",
    "\n",
    "popt, pcov = curve_fit(func_2, x_1, y, maxfev=10000, p0=[10000, 0.3, 0.1])\n",
    "fig, ax = plt.subplots(figsize=(8, 4))\n",
    "ax.plot(x_1, y, '-o')\n",
    "ax.set_yscale('log')\n",
    "ax.plot(x_1, func_2(x_1, *[16935, 0.3, 0.1]))\n",
    "ax.set_ylim(10, 30000)"
   ]
  },
  {
   "cell_type": "markdown",
   "metadata": {},
   "source": [
    "<div id=\"conf_int_regression\"></div>\n",
    "\n",
    "### 4.5 Confidence interval of regression\n",
    "\n",
    "A dataset is resampled with replacement and this is done repeatedly. This method can be used to estimate the efficacy of a machine learning model especially on those models which predict on data which is not a part of the training dataset\n",
    "\n",
    "The samples not selected are usually referred to as the “out-of-bag” samples\n",
    "\n",
    "For a given iteration of Bootstrap resampling, a model is built on the selected samples"
   ]
  },
  {
   "cell_type": "markdown",
   "metadata": {},
   "source": [
    "<div id=\"conf_int_non_normal\"></div>\n",
    "\n",
    "## 5. Confidence interval of non-normal distribution\n",
    "\n",
    "<div style=\"display: none;\">\n",
    "With skewed distributions, +/- methods are wrong. Instead you might wanna use percentile methods.</div>\n",
    "\n",
    "This section is not completed yet...\n",
    "\n",
    "<img src=\"jupyter_images/coming_soon.png\" class=\"row full_screen_margin_md mobile_responsive_plot_full_width\"></a>"
   ]
  },
  {
   "cell_type": "markdown",
   "metadata": {},
   "source": [
    "<div id=\"central_tendency\"></div>\n",
    "\n",
    "### 5.1 Measuring central tendency of distributions\n",
    "\n",
    "We discussed how to compute <a href=\"#conf_int_of_mean\">confidence interval of mean</a> and <a href=\"#conf_int_of_diff_in_mean\">confidence interval of difference in means.</a> But have you thought about why statisticians bother specifically about the means? Often times the ultimate goal is not to compute a <i>mean</i> of a distribution, but to compute a <i>measure of central tendency</i> of a distribution. \n",
    "\n",
    "A measure of central tendency is a single value that attempts to describe a set of data by identifying the central position within that set of data. The mean is the measure of central tendency that you are the most familiar with, but there are others, such as the median and the mode. \n",
    "\n",
    "<div><hr></div>\n",
    "\n",
    "**Point estimation**\n",
    "\n",
    "Mean is not a good measure of central tendency when there is a sign of deviation from normality, which can be characterized by skewness (asymmetry) and kurtosis (heavy-tails). Consider the following figures:\n",
    "\n",
    "<div id=\"\" class=\"row give-margin-inline-big-plot mobile_responsive_plot_full_width\" style=\"margin-top: 15px;\">\n",
    "    <div class=\"col\"><img src=\"jupyter_images/conf_int_non_norm_means.png\"></div>\n",
    "    <div class=\"col-12\"><p class=\"image-description\">Figure ??: Central tendency of distributions</p></div>\n",
    "</div>\n",
    "\n",
    "In <a href=\"#\">figure (??) (a)</a>, there is no skewness, making the distribution symmetric. In this case, mean is a good measure of central tendency, along with median and mode — they are all equivalent. You can compute its confidence interval of mean using <a href=\"#eq-1\">eq (1)</a>, and use it as a measure of central tendency, thanks to the symmetry of the distribution.\n",
    "\n",
    "However, when distributions have non-zero skewness, as in <a href=\"#\">figure (??) (b)</a>, the assumption of normality is violated. Depending on how bad the asymmetry is, you can still use <a href=\"#eq-1\">eq (1)</a>, because confidence interval of mean is robust to mild asymmetry. However, if a distribution has non-negligible skewness, interval computed with <a href=\"#eq-1\">eq (1)</a> introduces bias to one side of a distribution. \n",
    "\n",
    "Although there exists non-parametric alternatives like Bootstrap and credible interval, you may want to take a step back and reconsider the purpose of your estimation. Are you really interested in the <i>mean</i>, or the <i>central tendency</i> of your distribution? In a case like <a href=\"#\">figure (??) (b)</a>, perhaps you are more interested in the median, as it's a better measure of central tendency of asymmetric distributions. \n",
    "\n",
    "Visualize your distribution to see what your true interest is.\n",
    "\n",
    "<div><hr></div>\n",
    "\n",
    "**Comparison of distributions**\n",
    "\n",
    "Similar idea applies when you want to compare two distributions. Let's say that you want to decide if two samples came from the same population by comparing their confidence interval of means. Consider the following figure of two non-normal sample distributions:\n",
    "\n",
    "<div id=\"\" class=\"row full_screen_margin_md mobile_responsive_plot_full_width\" style=\"margin-top: 15px;\">\n",
    "    <div class=\"col\"><img src=\"jupyter_images/conf_int_non_norms_overlap.png\"></div>\n",
    "    <div class=\"col-12\"><p class=\"image-description\">Figure ??: Confidencen interval of means for non-normal distributions</p></div>\n",
    "</div>\n",
    "\n",
    "Note that the <span style=\"color: #385624; font-weight: 500;\">95% confidence interval of means</span> in <a href=\"#\">figure (??)</a> are asymmetric about their respective sample means, because they are computed with non-parametric alternatives. Since there is an overlap of the two intervals, you can conclude that the sample means are not significantly different. Furthermore, even the variances of the samples are the same; I generated the plots so that they have the same variances. \n",
    "\n",
    "Now, you know that the samples have equal means and variances within the range of uncertainty. Can you conclude that the two samples came from the same population? Clearly not, because their central locations are far apart from each other. Their central tendencies are better described by their medians than their means.\n",
    "\n",
    "In this case, if you are using confidence confidence interval of means and variances to check if two samples came from the same population, your approach is wrong. This kind of approach assumes normality of data. Any approach that makes a certain assumption of data fails when that assumption is violated. \n",
    "\n",
    "If your goal is to find out if the two samples originated from the same population, you may want to use non-parametric alternatives, such as Mann-Whitney test or Kruskall-Wallis test; they are geared towards comparing central tendency of distributions, not means or variances."
   ]
  },
  {
   "cell_type": "code",
   "execution_count": 14,
   "metadata": {},
   "outputs": [
    {
     "name": "stderr",
     "output_type": "stream",
     "text": [
      "C:\\ProgramData\\Anaconda3\\lib\\site-packages\\sklearn\\ensemble\\weight_boosting.py:29: DeprecationWarning: numpy.core.umath_tests is an internal NumPy module and should not be imported. It will be removed in a future NumPy release.\n",
      "  from numpy.core.umath_tests import inner1d\n"
     ]
    },
    {
     "data": {
      "text/plain": [
       "[<matplotlib.lines.Line2D at 0x222be2cc160>]"
      ]
     },
     "execution_count": 14,
     "metadata": {},
     "output_type": "execute_result"
    },
    {
     "data": {
      "image/png": "[encoded data removed]",
      "text/plain": [
       "<Figure size 864x576 with 1 Axes>"
      ]
     },
     "metadata": {},
     "output_type": "display_data"
    }
   ],
   "source": [
    "import numpy as np\n",
    "import matplotlib.pyplot as plt\n",
    "from sklearn.linear_model import LinearRegression\n",
    "from sklearn.ensemble import BaggingRegressor\n",
    "\n",
    "# Create toy data \n",
    "x = np.linspace(0, 10, 50)\n",
    "y = x + np.random.normal(0, 2, 50)\n",
    "\n",
    "# Extend x data to contain another row vector of 1s\n",
    "X = np.vstack([x, np.ones(len(x))]).T\n",
    "\n",
    "n_estimators = 1000\n",
    "model = BaggingRegressor(LinearRegression(), \n",
    "                         n_estimators=n_estimators,\n",
    "                         bootstrap=True)\n",
    "\n",
    "model.fit(X, y)\n",
    "\n",
    "plt.figure(figsize=(12,8))\n",
    "\n",
    "# Accessing each base_estimator (already fitted)\n",
    "for m in model.estimators_:\n",
    "    plt.plot(x, m.predict(X), color='grey', alpha=0.2, zorder=1)\n",
    "\n",
    "plt.scatter(x,y, marker='o', color='orange', zorder=4)\n",
    "\n",
    "# \"Bagging model\" prediction\n",
    "plt.plot(x, model.predict(X), color='red', zorder=5)"
   ]
  },
  {
   "cell_type": "code",
   "execution_count": 12,
   "metadata": {},
   "outputs": [
    {
     "data": {
      "image/png": "[encoded data removed]",
      "text/plain": [
       "<Figure size 432x288 with 1 Axes>"
      ]
     },
     "metadata": {},
     "output_type": "display_data"
    }
   ],
   "source": [
    "import numpy as np\n",
    "import matplotlib.pyplot as plt\n",
    "\n",
    "def f(x):\n",
    "    return x * np.cos(60*x) + np.sin(10*x)\n",
    "\n",
    "n = 100\n",
    "x = f(np.random.random(n))\n",
    "reps = 100\n",
    "xb = np.random.choice(x, (n, reps), replace=True)\n",
    "yb = 1 / np.arange(1, n + 1)[:, None] * np.cumsum(xb, axis=0)\n",
    "upper, lower = np.percentile(yb, [2.5, 97.5], axis=1)\n",
    "plt.plot(np.arange(1, n + 1)[:, None], yb, c='lightgrey', alpha=0.4)\n",
    "plt.plot(np.arange(1, n + 1), yb[:, 0], c='red', linewidth=1)\n",
    "plt.plot(np.arange(1, n + 1), upper, 'k', np.arange(1, n + 1), lower, 'k')\n",
    "plt.show()"
   ]
  },
  {
   "cell_type": "code",
   "execution_count": 22,
   "metadata": {},
   "outputs": [
    {
     "data": {
      "text/plain": [
       "(100, 50)"
      ]
     },
     "execution_count": 22,
     "metadata": {},
     "output_type": "execute_result"
    }
   ],
   "source": [
    "np.random.choice(x, (n, 50)).shape"
   ]
  },
  {
   "cell_type": "code",
   "execution_count": 16,
   "metadata": {},
   "outputs": [
    {
     "data": {
      "text/plain": [
       "[<matplotlib.lines.Line2D at 0x2080cb461d0>]"
      ]
     },
     "execution_count": 16,
     "metadata": {},
     "output_type": "execute_result"
    },
    {
     "data": {
      "image/png": "[encoded data removed]",
      "text/plain": [
       "<Figure size 432x288 with 1 Axes>"
      ]
     },
     "metadata": {},
     "output_type": "display_data"
    }
   ],
   "source": [
    "x = [i for i in range(100)]\n",
    "y = [f(item) for item in x]\n",
    "plt.plot(x, y)"
   ]
  },
  {
   "cell_type": "code",
   "execution_count": 15,
   "metadata": {},
   "outputs": [
    {
     "ename": "NameError",
     "evalue": "name 'y' is not defined",
     "output_type": "error",
     "traceback": [
      "\u001b[1;31m---------------------------------------------------------------------------\u001b[0m",
      "\u001b[1;31mNameError\u001b[0m                                 Traceback (most recent call last)",
      "\u001b[1;32m<ipython-input-15-9063a9f0e032>\u001b[0m in \u001b[0;36m<module>\u001b[1;34m()\u001b[0m\n\u001b[1;32m----> 1\u001b[1;33m \u001b[0my\u001b[0m\u001b[1;33m\u001b[0m\u001b[0m\n\u001b[0m",
      "\u001b[1;31mNameError\u001b[0m: name 'y' is not defined"
     ]
    }
   ],
   "source": [
    "y"
   ]
  },
  {
   "cell_type": "code",
   "execution_count": null,
   "metadata": {},
   "outputs": [],
   "source": []
  },
  {
   "cell_type": "code",
   "execution_count": null,
   "metadata": {},
   "outputs": [],
   "source": []
  },
  {
   "cell_type": "code",
   "execution_count": null,
   "metadata": {},
   "outputs": [],
   "source": []
  },
  {
   "cell_type": "code",
   "execution_count": null,
   "metadata": {},
   "outputs": [],
   "source": []
  }
 ],
 "metadata": {
  "kernelspec": {
   "display_name": "Python 3",
   "language": "python",
   "name": "python3"
  },
  "language_info": {
   "codemirror_mode": {
    "name": "ipython",
    "version": 3
   },
   "file_extension": ".py",
   "mimetype": "text/x-python",
   "name": "python",
   "nbconvert_exporter": "python",
   "pygments_lexer": "ipython3",
   "version": "3.6.5"
  }
 },
 "nbformat": 4,
 "nbformat_minor": 2
}
