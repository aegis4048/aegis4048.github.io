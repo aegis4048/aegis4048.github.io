{
 "cells": [
  {
   "cell_type": "code",
   "execution_count": 1,
   "id": "23be0f42",
   "metadata": {},
   "outputs": [],
   "source": [
    "import numpy as np"
   ]
  },
  {
   "cell_type": "code",
   "execution_count": 15,
   "id": "6df3d0ec",
   "metadata": {},
   "outputs": [],
   "source": [
    "def calc_F_to_R(F):\n",
    "    return F + 459.67\n",
    "\n",
    "def calc_R_to_F(R):\n",
    "    return R - 459.67"
   ]
  },
  {
   "cell_type": "code",
   "execution_count": 23,
   "id": "c7d30468",
   "metadata": {},
   "outputs": [],
   "source": [
    "def calc_T_LA(Hs, D, Ta, Tb, alpa_r, alpha_s, I):\n",
    "    _1st = (0.5 - 0.8 / (4.4 * Hs/D + 3.8)) * Ta\n",
    "    _2nd = (0.5 + 0.8 / (4.4 * Hs/D + 3.8)) * Tb\n",
    "    _3rd = (0.021 * alpha_r * I + 0.013 * Hs/D * alpha_s * I) / (4.4 * Hs/D + 3.8)\n",
    "    return _1st + _2nd + _3rd "
   ]
  },
  {
   "cell_type": "code",
   "execution_count": 29,
   "id": "4bd16d27",
   "metadata": {},
   "outputs": [],
   "source": [
    "# December\n",
    "Hs = 30\n",
    "D = 15\n",
    "Ta = calc_F_to_R(30.1)  # max, Cedar City, Utah\n",
    "Tb = calc_F_to_R(110)   # liquid bulk\n",
    "alpha_r = 0.49          # tan\n",
    "alpha_s = 0.49          # tan\n",
    "I = 741"
   ]
  },
  {
   "cell_type": "code",
   "execution_count": 30,
   "id": "2238e63e",
   "metadata": {},
   "outputs": [
    {
     "data": {
      "text/plain": [
       "536.1473992063493"
      ]
     },
     "execution_count": 30,
     "metadata": {},
     "output_type": "execute_result"
    }
   ],
   "source": [
    "calc_T_LA(Hs, D, Ta, Tb, alpa_r, alpha_s, I)"
   ]
  },
  {
   "cell_type": "code",
   "execution_count": null,
   "id": "eae7a4a0",
   "metadata": {},
   "outputs": [],
   "source": []
  },
  {
   "cell_type": "code",
   "execution_count": null,
   "id": "66dbba7c",
   "metadata": {},
   "outputs": [],
   "source": []
  },
  {
   "cell_type": "code",
   "execution_count": null,
   "id": "40b97bd1",
   "metadata": {},
   "outputs": [],
   "source": []
  }
 ],
 "metadata": {
  "kernelspec": {
   "display_name": "Python 3 (ipykernel)",
   "language": "python",
   "name": "python3"
  },
  "language_info": {
   "codemirror_mode": {
    "name": "ipython",
    "version": 3
   },
   "file_extension": ".py",
   "mimetype": "text/x-python",
   "name": "python",
   "nbconvert_exporter": "python",
   "pygments_lexer": "ipython3",
   "version": "3.9.13"
  }
 },
 "nbformat": 4,
 "nbformat_minor": 5
}
