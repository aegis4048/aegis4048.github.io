{
 "cells": [
  {
   "cell_type": "markdown",
   "id": "ceddbf85",
   "metadata": {},
   "source": [
    "# Impact of Seasonal Changes on Storage Tank Emission Volumes"
   ]
  },
  {
   "cell_type": "markdown",
   "id": "4e8f1145",
   "metadata": {},
   "source": [
    "Introduction:\n",
    "\n",
    "* High temperature leads to more flash volumes. This affects VRU sizing. If undersized VRU, flare maybe turned on or emissions may take place, which is both economic and environmental loss.\n",
    "\n",
    "Things that vary:\n",
    "1. Flash volume - leads to undersized VRU issues\n",
    "2. RVP - RVP value increases during winter. This means that the crude collected in winter season, if it becomes summer, its may suffer emission issues or vent events\n",
    "3. Gas energy content (Btu/scf) - For vapor recovery applications, this may cause dew point / oil contamination problems for oil-flooded screw compressors (mention that most VRUs are screw compressors). For recips, it may cause undersized scrubbers or piping issues.\n",
    "\n",
    "\n",
    "\n",
    "* This post presents extensive simulation results and summary table for you to predict ...?\n",
    "\n",
    "\n",
    "\n",
    "BRE promax provides implementation of AP42 which allows \n",
    "\n",
    "\n",
    "\n"
   ]
  },
  {
   "cell_type": "markdown",
   "id": "9c7ad6a0",
   "metadata": {},
   "source": [
    "### Miscs\n",
    "\n",
    "* Truck loading loss is negliglbe, volume are so low\n",
    "\n",
    "\n",
    "* Fluctuations in RVPs. EPA requires 9 psia RVP for most regions, and this value can be exceeded during colder seasons due to increased solubility of the \"light-ends\" (volatile compounds that prefer to exist as gas). This means that the volatile compounds dissolve more in the liquid-state crude oil, and subsequently increases the volality of oil, increasing chance & volumes of emissions. \n",
    "\n",
    "* Effect of turning off heater treaters and measurement of liquid volume issues\n",
    "\n",
    "### Summary Table\n",
    "\n",
    "* Whole 12 months cycles.\n",
    "* Comparison in % between July vs. January for Summer vs Winter (most extremes)"
   ]
  },
  {
   "cell_type": "markdown",
   "id": "0fb65383",
   "metadata": {},
   "source": [
    "### Simulation Setup Explanation\n",
    "\n",
    "Show whole facility with heater. Put box in the heater liquid outlet and tanks area. Another box on the heater and say varying 20 psig, 50 psig. \n",
    "\n",
    "Two wellsite groups are used - type 1 producing 30 degree oil, type 2 producing 50 degree oil. It's done by changing the gravity of the \"res. Oil\" to 30 or 50 degree. This should be interpreted as if they are coming from two geologically different reservoirs. \n",
    "\n",
    "\n"
   ]
  },
  {
   "cell_type": "markdown",
   "id": "b376a806",
   "metadata": {},
   "source": [
    "### RVP\n",
    "\n",
    "https://mansfield.energy/2023/03/29/what-is-it-reid-vapor-pressure-rvp/\n",
    "\n",
    "RVP limit is set by EPA, and it varies by region, with high altitudes area having lower limit. "
   ]
  },
  {
   "cell_type": "code",
   "execution_count": null,
   "id": "5176fd25",
   "metadata": {},
   "outputs": [],
   "source": []
  },
  {
   "cell_type": "code",
   "execution_count": null,
   "id": "2cc0f619",
   "metadata": {},
   "outputs": [],
   "source": []
  },
  {
   "cell_type": "code",
   "execution_count": null,
   "id": "24057cf4",
   "metadata": {},
   "outputs": [],
   "source": []
  }
 ],
 "metadata": {
  "kernelspec": {
   "display_name": "Python 3 (ipykernel)",
   "language": "python",
   "name": "python3"
  },
  "language_info": {
   "codemirror_mode": {
    "name": "ipython",
    "version": 3
   },
   "file_extension": ".py",
   "mimetype": "text/x-python",
   "name": "python",
   "nbconvert_exporter": "python",
   "pygments_lexer": "ipython3",
   "version": "3.9.18"
  }
 },
 "nbformat": 4,
 "nbformat_minor": 5
}
