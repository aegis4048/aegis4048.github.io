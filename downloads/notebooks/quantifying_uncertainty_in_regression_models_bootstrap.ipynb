{
 "cells": [
  {
   "cell_type": "markdown",
   "metadata": {},
   "source": [
    "1. Understanding Bootstrap\n",
    "    - (copied image with mean, median, variance, skew, kurtosis, IQR, Box plots at the bottom of image)\n",
    "    - Notes: Monte-Carlo simulation\n",
    "    - Why does bootstrapping work?\n",
    "        * Pythonic Tip: Univariate bootstrap confidence interval (box plots)\n",
    "2. Bootstrap regression\n",
    "    - (Illustrate with linear regression sample, with scatter plot as samples)\n",
    "        * Text: simulating a situation in which you did not collect the sample at some data points\n",
    "    - Confidence interval of bootstrap regression -> P10 and P90 lines\n",
    "        * Image: 1 sample (no uncertainty), 10 sample, 100 sample, 1000 sample\n",
    "        * For 100 sample image, get the vertical columns for two data points, and show P10 and P90 at the specified x value.\n",
    "        * Connect the P10 and P90 points\n",
    "    - Linear, non-linear, multi-linear regressions\n",
    "        * Notes: robust regression\n",
    "        * Pythonic Tip: Bootstrap regression\n",
    "3. Assumptions and limitations\n",
    "    - (copy most of the explanations in the original bootstrap post)\n",
    "4. Bootstrap in machine learning: Bagging\n",
    "    * https://www.quora.com/What-is-the-difference-between-bagging-and-bootstrapping-in-ML-statistics\n",
    "    "
   ]
  },
  {
   "cell_type": "code",
   "execution_count": null,
   "metadata": {},
   "outputs": [],
   "source": []
  },
  {
   "cell_type": "markdown",
   "metadata": {},
   "source": [
    "> **Bootstrapping** is a statistical method for estimating the <a href=\"#dist_stats\">sampling distribution of a statistic</a> by sampling with replacement from the original sample, most often with the purpose of estimating confidence intervals of a population parameter like a mean, median, proportion, correlation coefficient or regression coefficient."
   ]
  },
  {
   "cell_type": "code",
   "execution_count": null,
   "metadata": {},
   "outputs": [],
   "source": []
  },
  {
   "cell_type": "code",
   "execution_count": null,
   "metadata": {},
   "outputs": [],
   "source": []
  },
  {
   "cell_type": "code",
   "execution_count": null,
   "metadata": {},
   "outputs": [],
   "source": []
  },
  {
   "cell_type": "code",
   "execution_count": null,
   "metadata": {},
   "outputs": [],
   "source": []
  },
  {
   "cell_type": "code",
   "execution_count": null,
   "metadata": {},
   "outputs": [],
   "source": []
  },
  {
   "cell_type": "code",
   "execution_count": null,
   "metadata": {},
   "outputs": [],
   "source": []
  }
 ],
 "metadata": {
  "kernelspec": {
   "display_name": "Python 3",
   "language": "python",
   "name": "python3"
  },
  "language_info": {
   "codemirror_mode": {
    "name": "ipython",
    "version": 3
   },
   "file_extension": ".py",
   "mimetype": "text/x-python",
   "name": "python",
   "nbconvert_exporter": "python",
   "pygments_lexer": "ipython3",
   "version": "3.6.5"
  }
 },
 "nbformat": 4,
 "nbformat_minor": 2
}
