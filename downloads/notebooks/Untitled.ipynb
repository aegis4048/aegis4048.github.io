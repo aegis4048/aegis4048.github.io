{
 "cells": [
  {
   "cell_type": "markdown",
   "id": "7fb0720e",
   "metadata": {},
   "source": [
    "### Example 2. Tank vapor recovery\n",
    "\n",
    "Different pressure control applications (tanks, heaters, separators, wellheads) require different operating pressures. The most challenging is vapor recovery from atmospheric storage tanks at upstream production sites due to their extremely low operating range (measured in ounces). The tank vapor recovery has four notable components: 1) <u>API 12F tank design</u>, 2) <u>Tank vent header</u>, 3) <u>Thief hatch</u> 4) <u>Enardo valve</u> and 5) Combustor.\n",
    "\n",
    "<div class=\"row\" id=\"fig-47\">\n",
    "    <div class=\"col\"><img src=\"jupyter_images/screw_tank_vent_header.png\"></div>\n",
    "</div>\n",
    "<div class=\"col-12 fig-title\">\n",
    "    <p class=\"image-description\"><strong>Figure 47:</strong> Example layout of an upstream production facility tank vapor recovery system. The red line is the 4\" tank vent header that can either go to VRU during normal operation, or to flare through the Enardo valve during pressure upsets. Note that the pressure transmitter (PT) is installed directly on top of a tank, and wired to a compressor PLC to avoid false pressure readings due to friction loss.</p>\n",
    "</div>\n",
    "\n",
    "<div class=\"row\" id=\"fig-48\">\n",
    "    <div class=\"col\"><img src=\"jupyter_images/screw_tank_vapor_recovery.png\"></div>\n",
    "</div>\n",
    "<div class=\"col-12 fig-title\">\n",
    "    <p class=\"image-description\"><strong>Figure 48:</strong> Simplified P&ID of atmospheric tanks vapor recovery system showing pressure control architecture. The VRU PLC targets maintaining 8-12 oz tank pressure. The PT installs directly on the tank top and wires to the PLC to avoid false readings from friction loss. The key difference from the VRT P&ID in <a class=\"internal-link\" href=\"#fig-45\">Figure 45</a> is that the PRV here acts as a back pressure valve set at 14 oz, compared to 5 psig BPV in the VRT example. These are usually weighted Enardo PRVs that maintain small back pressure until reaching their set point. Gas flows to the compressor side due to its lower resistance compared to the PRV side.</p>\n",
    "</div>"
   ]
  },
  {
   "cell_type": "markdown",
   "id": "d14b12e2",
   "metadata": {},
   "source": [
    "<div class=\"centered-title\" id=\"api_12f_tanks\">\n",
    "    <span class=\"title-text mt-2\">API 12F Tanks</span>\n",
    "</div>\n",
    "\n",
    "Upstream production pad oil storage tanks are usually API 12F tanks that have specific pressure standards:\n",
    "\n",
    "<ol class=\"numbered-bullets mb-1\">\n",
    "    <ul style=\"margin-bottom: 1em !important;\">\n",
    "        <li><p><strong>API 12F 12th Edition (2008):</strong> MAWP 8-16 oz / MAWV 0.5 oz</p></li>\n",
    "        <li><p><strong>API 12F 13th Edition (2019):</strong> MAWP 16 oz / MAWV 1.0 oz (providing more operating margin for vapor recovery)</p></li>\n",
    "    </ul>\n",
    "</ol>\n",
    "\n",
    "These are welded metal tanks, but water tanks can be made of fiberglass tanks. <a class=\"internal-link\" href=\"#table-4\">Table 4</a> below shows design specifications for standard 2019 API 12F tanks. \n",
    "\n",
    "\n",
    "<div class=\"row\" id=\"table-4\">\n",
    "    <div class=\"col\"><img src=\"jupyter_images/seasonal_API12F.png\"></div>\n",
    "</div>\n",
    "<div class=\"col-12 fig-title\">\n",
    "    <p class=\"image-description\"><strong>Table 4:</strong> API 12F tank standard specifications at different nominal capacities, screenshot from API 12F 13th edition, 2019. These are recommendations, not requirements. Tank vent headers aren't always 6 inches.</p>\n",
    "</div>\n",
    "\n",
    "<div class=\"row\" id=\"fig-49\">\n",
    "    <div class=\"col\"><img src=\"jupyter_images/screw_tank_monogram.png\"></div>\n",
    "</div>\n",
    "<div class=\"col-12 fig-title\">\n",
    "    <p class=\"image-description\"><strong>Figure 49:</strong> Monograms of API 12F tanks. Left is a 16 oz MAWP tank, right is a 8 oz MAWP tank. For tank vapor recovery applications, the 8 oz tank will experience more frequent flare/venting events due to low operating pressure margins for a compressor during flow or operational upsets.</p>\n",
    "</div>"
   ]
  },
  {
   "cell_type": "markdown",
   "id": "39ee08df",
   "metadata": {},
   "source": [
    "<div class=\"centered-title\" id=\"tank_vent_header\">\n",
    "    <span class=\"title-text mt-2\">Tank vent header</span>\n",
    "</div>\n",
    "\n",
    "Most tanks in the field are bigger than 250 BBL. This requires 6\" vent header as per API 12F recommendation shown in <a class=\"internal-link\" href=\"#table-4\">Table 4</a>. Both water and oil tanks typically share a common vent header for vapor recovery or combustion. These headers are usually oversized to minimize friction loss, as the tanks operate at very low pressures (measured in ounces).  When a VRU fails, a low-pressure combustor must activate to prevent tank overpressurization. These combustors typically require 1-4 oz of inlet pressure to initiate operation (see <a class=\"internal-link\" href=\"#note_2\">Notes 2</a>), with capacity increasing at higher inlet pressures - similar to VRUs. To ensure complete combustion of all incoming volumes and prevent PRV/thief hatch activation, the tank vent header must preserve available pressure by minimizing friction loss."
   ]
  },
  {
   "cell_type": "markdown",
   "id": "a0aca61d",
   "metadata": {},
   "source": [
    "<div class=\"centered-title\" id=\"thief_hatch\">\n",
    "    <span class=\"title-text mt-2\">Thief hatch</span>\n",
    "</div>\n",
    "\n",
    "Thief hatches are notorious for emissions and maintenance issues. They have three major problems. \n",
    "\n",
    "<ol class=\"numbered-bullets mt-4\">\n",
    "    <li class=\"mb-2\"><p><strong><u>First,</u></strong> the seals between the tank roof flange and the thief hatch are often not tight, and leaks gas to air (shown in <a class=\"internal-link\" href=\"#fig-50\">Figure 50</a>). </p></li>\n",
    "    <li class=\"mb-2\"><p><strong><u>Second,</u></strong> thief hatches fail to automatically reseal after pressure relief events. Once opened during pressure control failures, they remain open until manually closed, allowing continuous vapor venting to atmosphere until someone visits the site (demonstrated in <a class=\"internal-link\" href=\"#fig-51\">Figure 51</a> where gas vents through an open hatch despite the PRV's lower setpoint). This is due to the latch structure of thief hatches that require manual hand-closing until they \"click\", shown in <a class=\"internal-link\" href=\"#fig-52\">Figure 52</a> and <a class=\"internal-link\" href=\"#fig-53\">53</a></p></li>\n",
    "    <li class=\"mb-2\"><p><strong><u>Third,</u></strong> thief hatches sometimes fail to open for the craziest reasons. An inspector once told me about a hatch that wouldn't budge because birds had built a nest on it - their poops piled up and hardened around the hatch, essentially gluing it shut.</p></li>\n",
    "</ol>\n",
    "\n",
    "Despite these operational challenges, thief hatches remain essential as a last-resort safety device - prioritizing incident prevention over emission control when VRU, combustor, and PRVs fail in order.\n",
    "\n",
    "<div class=\"row full_screen_margin_40 mobile_responsive_plot_full_width\" id=\"fig-50\">\n",
    "    <div class=\"col\"><img src=\"jupyter_images/screw_thief_hatch.gif\"></div>\n",
    "</div>\n",
    "<div class=\"col-12 fig-title\">\n",
    "    <p class=\"image-description\"><strong>Figure 50:</strong> Video of a thief hatch flange seal leaking gas. Video source: <a href=\"https://www.linkedin.com/posts/cameron-anderson-67b61b93_good-video-example-of-just-how-resourceful-activity-7229169558752813056-IXc6?utm_source=share&utm_medium=member_desktop&rcm=ACoAAB2_e-MBL8nEsQl6tTJ6w8I_ou6cyPUjw4I\" target=\"_blank\">Linkedin</a></p>\n",
    "</div>\n",
    "\n",
    "<div class=\"row full_screen_margin_80 mobile_responsive_plot_full_width\" id=\"fig-51\">\n",
    "    <div class=\"col\"><img src=\"jupyter_images/screw_thief_hatch_open.png\"></div>\n",
    "</div>\n",
    "<div class=\"col-12 fig-title\">\n",
    "    <p class=\"image-description\"><strong>Figure 51:</strong> Thermal image showing emissions from an open oil tank thief hatch. Although the PRV has a lower setpoint, emissions occur through the thief hatch because it remained open after a pressure upset. The hatch's unique latch mechanism (shown in <a class=\"internal-link\" href=\"#fig-52\">Figure 52</a> and <a class=\"internal-link\" href=\"#fig-53\">53</a>) prevents automatic reclosure. Image adapted from: <a href=\"https://www.vinsonprocess.com/news/2018/a-tighter-thief-hatch-for-today%E2%80%99s-tighter-emissions-standards/?utm_source=chatgpt.com\" target=\"_blank\">Vinson Process</a></p>\n",
    "</div>\n",
    "\n",
    "<div class=\"row full_screen_margin_60 mobile_responsive_plot_full_width\" id=\"fig-52\">\n",
    "    <div class=\"col\"><img src=\"jupyter_images/screw_thief_1.png\"></div>\n",
    "</div>\n",
    "<div class=\"col-12 fig-title\">\n",
    "    <p class=\"image-description\"><strong>Figure 52:</strong> A thief hatch has a lid that can be manually opened, or automatically during pressure relief event. The latch (upper left) keeps the lid closed and the tank sealed. <a href=\"https://www.controlglobal.com/manage/asset-management/article/11301041/use-wireless-to-monitor-thief-hatches\" target=\"_blank\">Image source</a></p>\n",
    "</div>\n",
    "\n",
    "<div class=\"row full_screen_margin_60 mobile_responsive_plot_full_width\" id=\"fig-53\">\n",
    "    <div class=\"col\"><img src=\"jupyter_images/screw_thief_2.png\"></div>\n",
    "</div>\n",
    "<div class=\"col-12 fig-title\">\n",
    "    <p class=\"image-description\"><strong>Figure 53:</strong> Unlatched thief hatch in open position during pressure surge, relieving tank pressure to prevent explosion. Unlike automatic valves like the Enardo PRVs, the hatch requires manual intervention - an operator must physically close and latch it until it clicks to reseal the tank. <a href=\"https://www.controlglobal.com/manage/asset-management/article/11301041/use-wireless-to-monitor-thief-hatches\" target=\"_blank\">Image source</a></p>\n",
    "</div>"
   ]
  },
  {
   "cell_type": "markdown",
   "id": "56c637fd",
   "metadata": {},
   "source": [
    "<div class=\"centered-title\" id=\"Enardo valve\">\n",
    "    <span class=\"title-text mt-2\">Enardo valve</span>\n",
    "</div>\n",
    "\n",
    "The \"Enardo\" valves is a specific type of a PRV that supports both pressure/vacuum safety for low pressure applications. There are a few thigns to cover here. \n",
    "\n",
    "<ol class=\"numbered-bullets mt-4\">\n",
    "    <li class=\"mb-2\"><p><strong><u>First,</u></strong> these are usually weight-loaded type PRVs. While the Enardos support spring-loaded types as well, weight-loaded ones are used for tank/VRT vapor recovery applications, as they are better at handling very low pressure operating in ounces. Compared the product specifications of <a href=\"https://www.emerson.com/en-us/catalog/enardo-series-960\" target=\"_blank\">ES-960 Spring-Loaded</a> vs <a href=\"https://www.emerson.com/en-us/catalog/enardo-series-950\" target=\"_blank\">ES-950 Weight-Loaded</a> PVRVs from Emerson. The spring-loaded one has operating range between 0.5-15.0 psi, whereas the weight-loaded one has range of 0.5-32 oz (0.031-2 psi). The weight-loaded one has better sentivity to tank applications operating in ounces. See <a class=\"internal-link\" href=\"#fig-54\">Figure 54</a> for illustration of loading an Enardo with circular weight pallets.</p></li>\n",
    "    <li class=\"mb-2\"><p><strong><u>Second,</u></strong> they are either pipe-away or vent-to-atmosphere types. The pipe-away types are used for tank vapor recovery (<a class=\"internal-link\" href=\"#fig-47\">Figure 47</a> and <a class=\"internal-link\" href=\"#fig-48\">48</a>). The weights on Enardo essentially functions as a backpressure valve that normally drives gas to VRU side due to VRU suction having lower pressure than Enardo's setpoint, and opens only during pressure surge or VRU failure. The vent-to-atmosphere types are installed on tank vent headers for VRT vapor recovery (shown in <a class=\"internal-link\" href=\"#fig-45\">Figure 45</a> and <a class=\"internal-link\" href=\"#fig-46\">46</a>). The reason it venting to atmosphere instead of piping to VRU is because the VRT gas line is already taking the VRU inlet. A VRU inlet can take only one source, unless special control mechanisms are used. There's no point in having a pipe-away capability because there's no place to route the Enardo's pressure relief outlet anyway.</p></li>\n",
    "    <li class=\"mb-2\"><p><strong><u>Third,</u></strong> pressure safety, vacuum safety.</p></li>\n",
    "</ol>\n",
    "\n",
    "The vent-to-atmosphere types are installed on tank vent headers for VRT vapor recovery (shown in <a class=\"internal-link\" href=\"#fig-45\">Figure 45</a> and <a class=\"internal-link\" href=\"#fig-46\">46</a>) \n",
    "\n",
    "\n",
    "<div class=\"row\" id=\"fig-54\">\n",
    "    <div class=\"col\"><img src=\"jupyter_images/screw_enardo_1.png\"></div>\n",
    "</div>\n",
    "<div class=\"col-12 fig-title\">\n",
    "    <p class=\"image-description\"><strong>Figure 54:</strong> . Image from: <a href=\"https://www.emerson.com/documents/automation/manuals-enhanced-sealing-es-850-es-950-series-pressure-vacuum-relief-valve-enardo-en-en-7287210.pdf\" target=\"_blank\">Emerson</a></p>\n",
    "</div>\n"
   ]
  },
  {
   "cell_type": "markdown",
   "id": "a42911a5",
   "metadata": {},
   "source": [
    "## Combustors\n",
    " \n",
    "https://cordovaflow.com/wp-content/uploads/2024/09/4652afd1db9f83b799a6f6889add7751.pdf\n",
    "https://cordovaflow.com/products/#\n",
    "\n",
    "https://cordovaflow.com/wp-content/uploads/2024/09/1dbc5f6d4d46d754febbed4f39b5cd78.pdf\n",
    "\n",
    "https://cimarron.com/wp-content/uploads/2024/05/Cimarron-OOOOb_c-Smart-Enclosed-Combustors-May-2024.pdf"
   ]
  },
  {
   "cell_type": "markdown",
   "id": "7ef0fd65",
   "metadata": {},
   "source": []
  },
  {
   "cell_type": "markdown",
   "id": "8d4bd3a0",
   "metadata": {},
   "source": []
  },
  {
   "cell_type": "markdown",
   "id": "7539fd97",
   "metadata": {},
   "source": []
  },
  {
   "cell_type": "markdown",
   "id": "aaec7851",
   "metadata": {},
   "source": []
  },
  {
   "cell_type": "markdown",
   "id": "993d6779",
   "metadata": {},
   "source": []
  }
 ],
 "metadata": {
  "kernelspec": {
   "display_name": "Python 3 (ipykernel)",
   "language": "python",
   "name": "python3"
  },
  "language_info": {
   "codemirror_mode": {
    "name": "ipython",
    "version": 3
   },
   "file_extension": ".py",
   "mimetype": "text/x-python",
   "name": "python",
   "nbconvert_exporter": "python",
   "pygments_lexer": "ipython3",
   "version": "3.9.18"
  }
 },
 "nbformat": 4,
 "nbformat_minor": 5
}
