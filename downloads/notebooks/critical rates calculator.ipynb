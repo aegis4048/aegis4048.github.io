{
 "cells": [
  {
   "cell_type": "code",
   "execution_count": 1,
   "id": "083036d0",
   "metadata": {},
   "outputs": [],
   "source": []
  },
  {
   "cell_type": "code",
   "execution_count": 9,
   "id": "a44d4dd1",
   "metadata": {},
   "outputs": [
    {
     "data": {
      "text/html": [
       "<div>\n",
       "<style scoped>\n",
       "    .dataframe tbody tr th:only-of-type {\n",
       "        vertical-align: middle;\n",
       "    }\n",
       "\n",
       "    .dataframe tbody tr th {\n",
       "        vertical-align: top;\n",
       "    }\n",
       "\n",
       "    .dataframe thead th {\n",
       "        text-align: right;\n",
       "    }\n",
       "</style>\n",
       "<table border=\"1\" class=\"dataframe\">\n",
       "  <thead>\n",
       "    <tr style=\"text-align: right;\">\n",
       "      <th></th>\n",
       "      <th>Producing depth (ft)</th>\n",
       "      <th>Wellhead pressure (psi)</th>\n",
       "      <th>Condensate gravity (API)</th>\n",
       "      <th>Condensate make (bbl/MM)</th>\n",
       "      <th>Water make (bbl/MM)</th>\n",
       "      <th>Tubing ID (in.)</th>\n",
       "      <th>Tubing OD (in.)</th>\n",
       "      <th>Casing ID (in.)</th>\n",
       "      <th>Test flow rate (Mcf/D)</th>\n",
       "      <th>Well status during test</th>\n",
       "    </tr>\n",
       "  </thead>\n",
       "  <tbody>\n",
       "    <tr>\n",
       "      <th>0</th>\n",
       "      <td>6529</td>\n",
       "      <td>108</td>\n",
       "      <td>64.3</td>\n",
       "      <td>9.6</td>\n",
       "      <td>12.4</td>\n",
       "      <td>2.041</td>\n",
       "      <td>NaN</td>\n",
       "      <td>NaN</td>\n",
       "      <td>568</td>\n",
       "      <td>Near L.U</td>\n",
       "    </tr>\n",
       "    <tr>\n",
       "      <th>1</th>\n",
       "      <td>2250</td>\n",
       "      <td>210</td>\n",
       "      <td>0.0</td>\n",
       "      <td>0.0</td>\n",
       "      <td>24.0</td>\n",
       "      <td>NaN</td>\n",
       "      <td>2.375</td>\n",
       "      <td>6.276</td>\n",
       "      <td>470</td>\n",
       "      <td>Loaded up</td>\n",
       "    </tr>\n",
       "    <tr>\n",
       "      <th>2</th>\n",
       "      <td>3077</td>\n",
       "      <td>280</td>\n",
       "      <td>0.0</td>\n",
       "      <td>0.0</td>\n",
       "      <td>28.0</td>\n",
       "      <td>NaN</td>\n",
       "      <td>2.375</td>\n",
       "      <td>4.974</td>\n",
       "      <td>500</td>\n",
       "      <td>Loaded up</td>\n",
       "    </tr>\n",
       "    <tr>\n",
       "      <th>3</th>\n",
       "      <td>3278</td>\n",
       "      <td>315</td>\n",
       "      <td>50.0</td>\n",
       "      <td>10.0</td>\n",
       "      <td>0.0</td>\n",
       "      <td>7.386</td>\n",
       "      <td>NaN</td>\n",
       "      <td>NaN</td>\n",
       "      <td>5740</td>\n",
       "      <td>Loaded up</td>\n",
       "    </tr>\n",
       "    <tr>\n",
       "      <th>4</th>\n",
       "      <td>6739</td>\n",
       "      <td>400</td>\n",
       "      <td>NaN</td>\n",
       "      <td>0.0</td>\n",
       "      <td>18.0</td>\n",
       "      <td>1.995</td>\n",
       "      <td>NaN</td>\n",
       "      <td>NaN</td>\n",
       "      <td>417</td>\n",
       "      <td>Near L.U</td>\n",
       "    </tr>\n",
       "  </tbody>\n",
       "</table>\n",
       "</div>"
      ],
      "text/plain": [
       "  Producing depth (ft)  Wellhead pressure (psi)  Condensate gravity (API)  \\\n",
       "0                 6529                      108                      64.3   \n",
       "1                 2250                      210                       0.0   \n",
       "2                 3077                      280                       0.0   \n",
       "3                 3278                      315                      50.0   \n",
       "4                 6739                      400                       NaN   \n",
       "\n",
       "   Condensate make (bbl/MM)  Water make (bbl/MM)  Tubing ID (in.)  \\\n",
       "0                       9.6                 12.4            2.041   \n",
       "1                       0.0                 24.0              NaN   \n",
       "2                       0.0                 28.0              NaN   \n",
       "3                      10.0                  0.0            7.386   \n",
       "4                       0.0                 18.0            1.995   \n",
       "\n",
       "   Tubing OD (in.)  Casing ID (in.) Test flow rate (Mcf/D)  \\\n",
       "0              NaN              NaN                    568   \n",
       "1            2.375            6.276                    470   \n",
       "2            2.375            4.974                    500   \n",
       "3              NaN              NaN                   5740   \n",
       "4              NaN              NaN                    417   \n",
       "\n",
       "  Well status during test  \n",
       "0                Near L.U  \n",
       "1               Loaded up  \n",
       "2               Loaded up  \n",
       "3               Loaded up  \n",
       "4                Near L.U  "
      ]
     },
     "execution_count": 9,
     "metadata": {},
     "output_type": "execute_result"
    }
   ],
   "source": [
    "pd.read_csv('turner_data.csv').head()"
   ]
  },
  {
   "cell_type": "code",
   "execution_count": null,
   "id": "a01cbd38",
   "metadata": {},
   "outputs": [],
   "source": []
  },
  {
   "cell_type": "code",
   "execution_count": null,
   "id": "1466a824",
   "metadata": {},
   "outputs": [],
   "source": []
  },
  {
   "cell_type": "code",
   "execution_count": null,
   "id": "3cf250d8",
   "metadata": {},
   "outputs": [],
   "source": []
  },
  {
   "cell_type": "code",
   "execution_count": null,
   "id": "9e37a4c0",
   "metadata": {},
   "outputs": [],
   "source": []
  },
  {
   "cell_type": "code",
   "execution_count": null,
   "id": "098361e7",
   "metadata": {},
   "outputs": [],
   "source": []
  },
  {
   "cell_type": "code",
   "execution_count": null,
   "id": "5775dcb6",
   "metadata": {},
   "outputs": [],
   "source": []
  },
  {
   "cell_type": "code",
   "execution_count": 8,
   "id": "34f0c05d",
   "metadata": {},
   "outputs": [
    {
     "data": {
      "text/plain": [
       "4032.8101890456073"
      ]
     },
     "execution_count": 8,
     "metadata": {},
     "output_type": "execute_result"
    }
   ],
   "source": [
    "P_wh = 1150            # Wellhead presure (psia)\n",
    "sg_gas = 0.6           # Specific gravity of gas, where SG of water = 1\n",
    "T = 120                # Downhole temperature (F). Geothermal gradient of 1.5F/100ft can be used\n",
    "Z = 0.90               # Gas deviation factor\n",
    "density_liquid = 45    # Density of liquid (lbm/ft^3). May assumed to be 45\n",
    "surface_tension = 20   # Surface tension of liquid (dyne/cm). May assumed to be 20 if condensate\n",
    "A_effective = 15.9043  # Effective flowarea. π * r^2 if tubular flow, π * (r_outer^2 - r_inner^2) if annular flow. \n",
    "\n",
    "# Gas Density\n",
    "density_gas = gas_density(P_wh, sg_gas, T, Z)\n",
    "\n",
    "# Gas Critical Velocity\n",
    "Vc = turner_critical_velocity(density_gas, density_liquid, surface_tension, adjusted=True)\n",
    "\n",
    "# Gas Critical Flowrate \n",
    "Qc = critical_flowrate(Vc, P_wh, A_effective, T=T, Z=Z)\n",
    "\n",
    "Qc"
   ]
  },
  {
   "cell_type": "code",
   "execution_count": null,
   "id": "f850cb93",
   "metadata": {},
   "outputs": [],
   "source": []
  },
  {
   "cell_type": "code",
   "execution_count": null,
   "id": "43775594",
   "metadata": {},
   "outputs": [],
   "source": []
  },
  {
   "cell_type": "code",
   "execution_count": null,
   "id": "0e81381e",
   "metadata": {},
   "outputs": [],
   "source": []
  },
  {
   "cell_type": "code",
   "execution_count": null,
   "id": "e70b3bbb",
   "metadata": {},
   "outputs": [],
   "source": []
  },
  {
   "cell_type": "code",
   "execution_count": null,
   "id": "e5c8e20c",
   "metadata": {},
   "outputs": [],
   "source": []
  },
  {
   "cell_type": "markdown",
   "id": "8ebcdb84",
   "metadata": {},
   "source": [
    "# Implementation of Various Gas Well Liquid Loading Prediction Models In Python (Turner, Coleman, Guo, and ???) For Vertical And Horizontal Wells"
   ]
  },
  {
   "cell_type": "code",
   "execution_count": null,
   "id": "fa39de5d",
   "metadata": {},
   "outputs": [],
   "source": []
  },
  {
   "cell_type": "code",
   "execution_count": 90,
   "id": "f9047710",
   "metadata": {},
   "outputs": [],
   "source": [
    "import pandas as pd\n",
    "import numpy as np\n",
    "import matplotlib.pyplot as plt\n",
    "import gascompressibility as gc\n",
    "import scipy"
   ]
  },
  {
   "cell_type": "code",
   "execution_count": 10,
   "id": "c054d341",
   "metadata": {},
   "outputs": [],
   "source": [
    "def API_to_density(API, water_density=62.416):\n",
    "    '''\n",
    "    :param API: API gravity of fluid\n",
    "    :param water_density: Density of water (lbs/ft^3)\n",
    "    :return: Fluid density (lbs/ft^3)\n",
    "    '''\n",
    "\n",
    "    sg = 141.5 / (API + 131.5)\n",
    "    fluid_density = water_density / sg\n",
    "\n",
    "    return fluid_density"
   ]
  },
  {
   "cell_type": "code",
   "execution_count": 11,
   "id": "caace98c",
   "metadata": {},
   "outputs": [],
   "source": [
    "def gas_density(P_wh, sg_gas=0.6, T=120, Z=0.9):\n",
    "\n",
    "    '''\n",
    "    Gas density equation based the book, Gas Well Deliquification 3rd Edition p. 435 (Lea and Rowlan, 2019)\n",
    "    The optional parameters (gas_g, T, and Z) are pre-filled with typical values recommended by Turner et al. (1969).\n",
    "    :param P_wh: Wellhead pressure (psia)\n",
    "    :param gas_g: Gas specific gravity (dimensionless)\n",
    "    :param T: Temperature (F)\n",
    "    :param Z: Gas deviation factor, Z (dimensionless)\n",
    "    :return:\n",
    "    '''\n",
    "    \n",
    "    rho_gas = 2.715 * sg_gas * P_wh / ((460 + T) * Z)\n",
    "\n",
    "    return rho_gas"
   ]
  },
  {
   "cell_type": "code",
   "execution_count": 12,
   "id": "bb518d9b",
   "metadata": {},
   "outputs": [],
   "source": [
    "def turner_critical_velocity(density_gas, density_liquid=45, surface_tension=20, adjusted=True):\n",
    "    '''\n",
    "    :param gas_density: Density of gas (lbm/ft^3)\n",
    "    :param liquid_density:  Density of liquid (lbm/ft^3). According to Turner et al 1969, it may assumed to be 45 if condensate, and 67 if water.\n",
    "    :param surface_tension: Surface tension (dyne/cm). According to Turner et al 1969, it may assumed to be 20 if condensate, and 60 if water.\n",
    "    :param adjusted: Applies adjusted Turner rate if =True by increasing the velocity by 20%\n",
    "    :return: Critical velocity of fluid required to lift well (ft/s)\n",
    "    '''\n",
    "    \n",
    "    Vc = 1.593 * ((density_liquid - density_gas) / density_gas**2 * surface_tension)**(1/4)\n",
    "    if adjusted:\n",
    "        Vc = Vc * 1.2\n",
    "\n",
    "    return Vc"
   ]
  },
  {
   "cell_type": "code",
   "execution_count": 41,
   "id": "9cfcc16e",
   "metadata": {},
   "outputs": [],
   "source": [
    "def critical_flowrate(Vc, P_wh, A_effective, T=120, Z=0.9):\n",
    "    '''\n",
    "    :param Vc: Critical Velocity of fluid required to lift well (ft/s)\n",
    "    :param P_wh: Wellhead pressure (psia)\n",
    "    :param A_effective: Effective flowarea. π * r^2 if tubular flow, π * (r_outer^2 - r_inner^2) if annular flow. \n",
    "    :param T: Temperature (F)\n",
    "    :param Z: Gas deviation factor, Z (dimensionless)\n",
    "    :return: Critical flowrate fluid required to lift well (MCF/day)\n",
    "    '''\n",
    "    \n",
    "    A_effective = A_effective / 144    # unit conversion from square inches to square feet\n",
    "    T = (T - 32) + 491.67              # unit conversion from Fahrenheit to Rankine\n",
    "    \n",
    "    Qc = (3.06 * P_wh * Vc * A_effective) / (T * Z) * 1000\n",
    "    \n",
    "    return Qc"
   ]
  },
  {
   "cell_type": "code",
   "execution_count": 88,
   "id": "e1297336",
   "metadata": {},
   "outputs": [],
   "source": [
    "def calc_Belfroid_multiplier(degrees):\n",
    "    return np.sin(np.deg2rad(1.7 * (90-degrees))) ** 0.38 / 0.74"
   ]
  },
  {
   "cell_type": "code",
   "execution_count": 91,
   "id": "d0819dc3",
   "metadata": {},
   "outputs": [
    {
     "name": "stdout",
     "output_type": "stream",
     "text": [
      "Optimization terminated successfully.\n",
      "         Current function value: -1.351351\n",
      "         Iterations: 35\n",
      "         Function evaluations: 70\n"
     ]
    },
    {
     "data": {
      "text/plain": [
       "array([37.0588125])"
      ]
     },
     "execution_count": 91,
     "metadata": {},
     "output_type": "execute_result"
    }
   ],
   "source": [
    "scipy.optimize.fmin(lambda x: -calc_Belfroid_multiplier(x), 0)"
   ]
  },
  {
   "cell_type": "code",
   "execution_count": null,
   "id": "c658705d",
   "metadata": {},
   "outputs": [],
   "source": []
  },
  {
   "cell_type": "code",
   "execution_count": null,
   "id": "b8cf7803",
   "metadata": {},
   "outputs": [],
   "source": []
  },
  {
   "cell_type": "code",
   "execution_count": 82,
   "id": "0c38367a",
   "metadata": {},
   "outputs": [
    {
     "data": {
      "text/plain": [
       "1.3157027818448022"
      ]
     },
     "execution_count": 82,
     "metadata": {},
     "output_type": "execute_result"
    }
   ],
   "source": [
    "7.189 / 5.464"
   ]
  },
  {
   "cell_type": "code",
   "execution_count": null,
   "id": "52198343",
   "metadata": {},
   "outputs": [],
   "source": []
  },
  {
   "cell_type": "code",
   "execution_count": null,
   "id": "f259581d",
   "metadata": {},
   "outputs": [],
   "source": []
  },
  {
   "cell_type": "code",
   "execution_count": 8,
   "id": "5eac52d9",
   "metadata": {},
   "outputs": [],
   "source": [
    "def calc_eff_area(idt=2.375, idc=4.5, flowtype='tubular'):\n",
    "    rt = idt/2\n",
    "    rc = idc/2\n",
    "    if flowtype == 'tubular':\n",
    "        area = np.pi * rt ** 2\n",
    "    elif flowtype == 'annular':\n",
    "        area = np.pi * (rc ** 2 - rt ** 2)\n",
    "    return area"
   ]
  },
  {
   "cell_type": "code",
   "execution_count": 21,
   "id": "5659f36a",
   "metadata": {},
   "outputs": [],
   "source": [
    "def calc_downhole_T(tvd, surf_T=75, gradient=1.2):\n",
    "    '''\n",
    "    gradient: F/100ft\n",
    "    '''\n",
    "    return surf_T + gradient * tvd / 100"
   ]
  },
  {
   "cell_type": "code",
   "execution_count": null,
   "id": "13a93a22",
   "metadata": {},
   "outputs": [],
   "source": []
  },
  {
   "cell_type": "code",
   "execution_count": 26,
   "id": "6e5618c9",
   "metadata": {},
   "outputs": [
    {
     "data": {
      "text/plain": [
       "1299.45750559945"
      ]
     },
     "execution_count": 26,
     "metadata": {},
     "output_type": "execute_result"
    }
   ],
   "source": [
    "P_wh = 115            # Wellhead presure (psia)\n",
    "sg_gas = 0.6           # Specific gravity of gas, where SG of water = 1\n",
    "T = 120                # Downhole temperature (F). Geothermal gradient of 1.5F/100ft can be used\n",
    "Z = 0.90               # Gas deviation factor\n",
    "density_liquid = 45    # Density of liquid (lbm/ft^3). May assumed to be 45\n",
    "surface_tension = 20   # Surface tension of liquid (dyne/cm). May assumed to be 20 if condensate\n",
    "A_effective = 15.9043  # Effective flowarea. π * r^2 if tubular flow, π * (r_outer^2 - r_inner^2) if annular flow. \n",
    "\n",
    "# Gas Density\n",
    "density_gas = gas_density(P_wh, sg_gas, T, Z)\n",
    "\n",
    "# Gas Critical Velocity\n",
    "Vc = turner_critical_velocity(density_gas, density_liquid, surface_tension, adjusted=True)\n",
    "\n",
    "# Gas Critical Flowrate \n",
    "Qc = critical_flowrate(Vc, P_wh, A_effective, T=T, Z=Z)\n",
    "\n",
    "Qc"
   ]
  },
  {
   "cell_type": "code",
   "execution_count": null,
   "id": "243ed5c1",
   "metadata": {},
   "outputs": [],
   "source": []
  },
  {
   "cell_type": "code",
   "execution_count": 51,
   "id": "70faa4ed",
   "metadata": {},
   "outputs": [],
   "source": [
    "def coleman_critical_velocity(P_wh, liquid='water'):\n",
    "    if liquid == 'condensate':\n",
    "        return 3.369 * (45 - 0.0031 * P_wh) ** 0.25 /(0.0031 * P_wh) ** 0.5\n",
    "    elif liquid == 'water':\n",
    "        return 4.434 * (67 - 0.0031 * P_wh) ** 0.25 /(0.0031 * P_wh) ** 0.5\n",
    "    else:\n",
    "        raise TypeError('Wrong input for liquid type. \"condensate\" and \"water\" are supported')"
   ]
  },
  {
   "cell_type": "code",
   "execution_count": 6,
   "id": "97d2f17c",
   "metadata": {},
   "outputs": [],
   "source": [
    "def belfroid_critical_multiplier(angle):\n",
    "    return (np.sin(1.7 * (90 - angle))) ** 0.38 / 0.740767"
   ]
  },
  {
   "cell_type": "code",
   "execution_count": 32,
   "id": "27f2b37d",
   "metadata": {},
   "outputs": [
    {
     "data": {
      "text/plain": [
       "21.218045238795078"
      ]
     },
     "execution_count": 32,
     "metadata": {},
     "output_type": "execute_result"
    }
   ],
   "source": [
    "coleman_critical_velocity(P_wh, liquid='water')"
   ]
  },
  {
   "cell_type": "markdown",
   "id": "d0828eb8",
   "metadata": {},
   "source": [
    "### colman calculator"
   ]
  },
  {
   "cell_type": "code",
   "execution_count": 66,
   "id": "e5691647",
   "metadata": {},
   "outputs": [
    {
     "name": "stdout",
     "output_type": "stream",
     "text": [
      "Z= 0.9865662958795649\n"
     ]
    }
   ],
   "source": [
    "P_wh = 100            # Wellhead presure (psia)\n",
    "sg_gas = 0.7           # Specific gravity of gas, where SG of water = 1\n",
    "T = 140 # Downhole temperature (F). Geothermal gradient of 1.2F/100ft can be used\n",
    "A_effective = calc_eff_area(idt=1.995, flowtype='tubular')\n",
    "Z = gc.calc_z(sg=sg_gas, P=P_wh, T=T)\n",
    "\n",
    "print('Z=', Z)\n",
    "\n",
    "# Gas Critical Velocity\n",
    "Vc = coleman_critical_velocity(P_wh, liquid='water')\n",
    "\n",
    "# Gas Critical Flowrate \n",
    "Qc = critical_flowrate(Vc, P_wh, A_effective, T=T, Z=Z)"
   ]
  },
  {
   "cell_type": "code",
   "execution_count": 67,
   "id": "4d6ccfdd",
   "metadata": {},
   "outputs": [
    {
     "name": "stdout",
     "output_type": "stream",
     "text": [
      "Z= 0.9750080213498471\n"
     ]
    },
    {
     "data": {
      "text/plain": [
       "546.7679064832756"
      ]
     },
     "execution_count": 67,
     "metadata": {},
     "output_type": "execute_result"
    }
   ],
   "source": [
    "P_wh = 200            # Wellhead presure (psia)\n",
    "sg_gas = 0.7           # Specific gravity of gas, where SG of water = 1\n",
    "T = 140 # Downhole temperature (F). Geothermal gradient of 1.2F/100ft can be used\n",
    "A_effective = calc_eff_area(idt=2.441, flowtype='tubular')\n",
    "Z = gc.calc_z(sg=sg_gas, P=P_wh, T=T)\n",
    "\n",
    "print('Z=', Z)\n",
    "\n",
    "# Gas Critical Velocity\n",
    "Vc = coleman_critical_velocity(P_wh, liquid='water')\n",
    "\n",
    "# Gas Critical Flowrate \n",
    "Qc = critical_flowrate(Vc, P_wh, A_effective, T=T, Z=Z)\n",
    "\n",
    "Qc"
   ]
  },
  {
   "cell_type": "code",
   "execution_count": null,
   "id": "f9cdf55b",
   "metadata": {},
   "outputs": [],
   "source": []
  },
  {
   "cell_type": "code",
   "execution_count": null,
   "id": "02d1b4a0",
   "metadata": {},
   "outputs": [],
   "source": []
  },
  {
   "cell_type": "code",
   "execution_count": null,
   "id": "095519e9",
   "metadata": {},
   "outputs": [],
   "source": []
  },
  {
   "cell_type": "code",
   "execution_count": 49,
   "id": "d41fc2af",
   "metadata": {},
   "outputs": [
    {
     "data": {
      "text/plain": [
       "0.9807675146765485"
      ]
     },
     "execution_count": 49,
     "metadata": {},
     "output_type": "execute_result"
    }
   ],
   "source": [
    "gc.calc_z(sg=0.7, P=150, T=T)"
   ]
  },
  {
   "cell_type": "code",
   "execution_count": 50,
   "id": "a7fbe6e9",
   "metadata": {},
   "outputs": [
    {
     "data": {
      "text/plain": [
       "0.8915073663311958"
      ]
     },
     "execution_count": 50,
     "metadata": {},
     "output_type": "execute_result"
    }
   ],
   "source": [
    "gc.calc_z(sg=0.7, P=1000, T=T)"
   ]
  },
  {
   "cell_type": "code",
   "execution_count": null,
   "id": "be68ad9d",
   "metadata": {},
   "outputs": [],
   "source": []
  },
  {
   "cell_type": "code",
   "execution_count": null,
   "id": "8fabebd0",
   "metadata": {},
   "outputs": [],
   "source": []
  },
  {
   "cell_type": "code",
   "execution_count": null,
   "id": "20b288c4",
   "metadata": {},
   "outputs": [],
   "source": []
  },
  {
   "cell_type": "code",
   "execution_count": 22,
   "id": "829f832f",
   "metadata": {},
   "outputs": [
    {
     "data": {
      "text/plain": [
       "135.0"
      ]
     },
     "execution_count": 22,
     "metadata": {},
     "output_type": "execute_result"
    }
   ],
   "source": [
    "calc_downhole_T(tvd=5000, surf_T=75, gradient=1.2)"
   ]
  },
  {
   "cell_type": "code",
   "execution_count": null,
   "id": "12a4092c",
   "metadata": {},
   "outputs": [],
   "source": []
  },
  {
   "cell_type": "code",
   "execution_count": null,
   "id": "f2aefb7e",
   "metadata": {},
   "outputs": [],
   "source": []
  },
  {
   "cell_type": "code",
   "execution_count": null,
   "id": "1740bd97",
   "metadata": {},
   "outputs": [],
   "source": []
  },
  {
   "cell_type": "code",
   "execution_count": null,
   "id": "84967e36",
   "metadata": {},
   "outputs": [],
   "source": []
  },
  {
   "cell_type": "code",
   "execution_count": 18,
   "id": "bc1abb19",
   "metadata": {},
   "outputs": [],
   "source": [
    "def calc_eff_area(odt=2.375, idt=1.995, idc=3.985, flowtype='tubular'):\n",
    "    rt = idt/2\n",
    "    rc = idc/2\n",
    "    if flowtype == 'tubular':\n",
    "        area = np.pi * rt ** 2\n",
    "    elif flowtype == 'annular':\n",
    "        area = np.pi * (rc ** 2 - rt ** 2)\n",
    "    return area"
   ]
  },
  {
   "cell_type": "code",
   "execution_count": 19,
   "id": "041196fe",
   "metadata": {},
   "outputs": [
    {
     "data": {
      "text/plain": [
       "0.06490552238932162"
      ]
     },
     "execution_count": 19,
     "metadata": {},
     "output_type": "execute_result"
    }
   ],
   "source": [
    "calc_eff_area(flowtype='annular') / 144"
   ]
  },
  {
   "cell_type": "code",
   "execution_count": null,
   "id": "ff088be7",
   "metadata": {},
   "outputs": [],
   "source": []
  },
  {
   "cell_type": "code",
   "execution_count": null,
   "id": "618aead1",
   "metadata": {},
   "outputs": [],
   "source": []
  },
  {
   "cell_type": "code",
   "execution_count": null,
   "id": "410f79fb",
   "metadata": {},
   "outputs": [],
   "source": []
  },
  {
   "cell_type": "code",
   "execution_count": 4,
   "id": "123ffc4e",
   "metadata": {},
   "outputs": [
    {
     "data": {
      "text/plain": [
       "6014.933213267296"
      ]
     },
     "execution_count": 4,
     "metadata": {},
     "output_type": "execute_result"
    }
   ],
   "source": [
    "critical_flowrate(8.2, 100, 0.11 * 144, T=140, Z=0.88)"
   ]
  },
  {
   "cell_type": "code",
   "execution_count": null,
   "id": "799636df",
   "metadata": {},
   "outputs": [],
   "source": []
  },
  {
   "cell_type": "code",
   "execution_count": null,
   "id": "05a66bfe",
   "metadata": {},
   "outputs": [],
   "source": []
  },
  {
   "cell_type": "code",
   "execution_count": null,
   "id": "5180656d",
   "metadata": {},
   "outputs": [],
   "source": []
  },
  {
   "cell_type": "code",
   "execution_count": null,
   "id": "9a5dbe29",
   "metadata": {},
   "outputs": [],
   "source": []
  },
  {
   "cell_type": "code",
   "execution_count": null,
   "id": "70d94bd1",
   "metadata": {},
   "outputs": [],
   "source": []
  },
  {
   "cell_type": "code",
   "execution_count": 30,
   "id": "9a1b36d7",
   "metadata": {},
   "outputs": [
    {
     "data": {
      "text/plain": [
       "491.9987700582134"
      ]
     },
     "execution_count": 30,
     "metadata": {},
     "output_type": "execute_result"
    }
   ],
   "source": [
    "0.1585 * P_wh * 2.375 ** 2 * (67-0.0031 * P_wh) ** 0.25/(0.0031 * P_wh) ** 0.5"
   ]
  },
  {
   "cell_type": "code",
   "execution_count": 39,
   "id": "8cb83195",
   "metadata": {},
   "outputs": [
    {
     "data": {
      "text/plain": [
       "0.07961783439490445"
      ]
     },
     "execution_count": 39,
     "metadata": {},
     "output_type": "execute_result"
    }
   ],
   "source": [
    "0.25 / 3.14"
   ]
  },
  {
   "cell_type": "code",
   "execution_count": 34,
   "id": "35e6aba9",
   "metadata": {},
   "outputs": [
    {
     "data": {
      "text/plain": [
       "5.640625"
      ]
     },
     "execution_count": 34,
     "metadata": {},
     "output_type": "execute_result"
    }
   ],
   "source": [
    "2.375 ** 2"
   ]
  },
  {
   "cell_type": "code",
   "execution_count": 35,
   "id": "5c31bae6",
   "metadata": {},
   "outputs": [
    {
     "data": {
      "text/plain": [
       "1.41015625"
      ]
     },
     "execution_count": 35,
     "metadata": {},
     "output_type": "execute_result"
    }
   ],
   "source": [
    "(2.375 / 2 ) ** 2"
   ]
  },
  {
   "cell_type": "code",
   "execution_count": 37,
   "id": "41deed4e",
   "metadata": {},
   "outputs": [
    {
     "data": {
      "text/plain": [
       "0.785"
      ]
     },
     "execution_count": 37,
     "metadata": {},
     "output_type": "execute_result"
    }
   ],
   "source": [
    "0.25 * 3.14"
   ]
  },
  {
   "cell_type": "code",
   "execution_count": 36,
   "id": "279a60ff",
   "metadata": {},
   "outputs": [
    {
     "data": {
      "text/plain": [
       "4.0"
      ]
     },
     "execution_count": 36,
     "metadata": {},
     "output_type": "execute_result"
    }
   ],
   "source": [
    "5.64/1.41"
   ]
  },
  {
   "cell_type": "code",
   "execution_count": null,
   "id": "cb35b301",
   "metadata": {},
   "outputs": [],
   "source": []
  },
  {
   "cell_type": "code",
   "execution_count": null,
   "id": "e398cd13",
   "metadata": {},
   "outputs": [],
   "source": []
  },
  {
   "cell_type": "code",
   "execution_count": null,
   "id": "aa32f369",
   "metadata": {},
   "outputs": [],
   "source": []
  },
  {
   "cell_type": "code",
   "execution_count": 25,
   "id": "0a3c3bad",
   "metadata": {},
   "outputs": [
    {
     "data": {
      "text/plain": [
       "17.720546061654925"
      ]
     },
     "execution_count": 25,
     "metadata": {},
     "output_type": "execute_result"
    }
   ],
   "source": [
    "calc_eff_area(rt=2.375, flowtype='tubular')"
   ]
  },
  {
   "cell_type": "code",
   "execution_count": null,
   "id": "1af64330",
   "metadata": {},
   "outputs": [],
   "source": []
  },
  {
   "cell_type": "code",
   "execution_count": null,
   "id": "cd5ebd4e",
   "metadata": {},
   "outputs": [],
   "source": []
  },
  {
   "cell_type": "code",
   "execution_count": null,
   "id": "c38bae78",
   "metadata": {},
   "outputs": [],
   "source": []
  },
  {
   "cell_type": "code",
   "execution_count": null,
   "id": "adfc77b1",
   "metadata": {},
   "outputs": [],
   "source": []
  },
  {
   "cell_type": "code",
   "execution_count": 16,
   "id": "8febdf26",
   "metadata": {},
   "outputs": [
    {
     "data": {
      "text/plain": [
       "0.0"
      ]
     },
     "execution_count": 16,
     "metadata": {},
     "output_type": "execute_result"
    }
   ],
   "source": [
    "belfroid_critical_multiplier(90)"
   ]
  },
  {
   "cell_type": "code",
   "execution_count": 18,
   "id": "dc781c99",
   "metadata": {},
   "outputs": [
    {
     "data": {
      "text/plain": [
       "0.0"
      ]
     },
     "execution_count": 18,
     "metadata": {},
     "output_type": "execute_result"
    }
   ],
   "source": [
    "(np.sin(1.7 * (90 - 90)))"
   ]
  },
  {
   "cell_type": "code",
   "execution_count": 21,
   "id": "856c0771",
   "metadata": {},
   "outputs": [],
   "source": [
    "def calc_effective_area(t=None, c=None, flow='annular'):\n",
    "    if flow == 'annular':\n",
    "        return np.pi * ((c/2) ** 2 - (t/2) ** 2)\n",
    "    elif flow == 'tubular':\n",
    "        return np.pi * (t/2) ** 2"
   ]
  },
  {
   "cell_type": "code",
   "execution_count": null,
   "id": "bfb3c623",
   "metadata": {},
   "outputs": [],
   "source": []
  },
  {
   "cell_type": "code",
   "execution_count": 24,
   "id": "48e8604f",
   "metadata": {},
   "outputs": [
    {
     "data": {
      "text/plain": [
       "1168.67932522769"
      ]
     },
     "execution_count": 24,
     "metadata": {},
     "output_type": "execute_result"
    }
   ],
   "source": [
    "P_wh = 90\n",
    "A_effective = calc_effective_area(c=5.5, t=2+3/8, flow='annular')\n",
    "T = 120\n",
    "Z = 0.9\n",
    "\n",
    "# Gas Critical Velocity\n",
    "Vc = coleman_critical_velocity(P_wh) \n",
    "\n",
    "# Gas Critical Flowrate \n",
    "Qc = critical_flowrate(Vc, P_wh, A_effective, T=T, Z=Z)\n",
    "Qc"
   ]
  },
  {
   "cell_type": "code",
   "execution_count": 30,
   "id": "4fe06e4f",
   "metadata": {},
   "outputs": [
    {
     "data": {
      "text/plain": [
       "654.2223675479821"
      ]
     },
     "execution_count": 30,
     "metadata": {},
     "output_type": "execute_result"
    }
   ],
   "source": [
    "P_wh = 80\n",
    "A_effective = calc_effective_area(c=4.5, t=2+3/8, flow='annular')\n",
    "T = 120\n",
    "Z = 0.9\n",
    "\n",
    "# Gas Critical Velocity\n",
    "Vc = coleman_critical_velocity(P_wh) \n",
    "\n",
    "# Gas Critical Flowrate \n",
    "Qc = critical_flowrate(Vc, P_wh, A_effective, T=T, Z=Z)\n",
    "Qc"
   ]
  },
  {
   "cell_type": "code",
   "execution_count": null,
   "id": "8c851011",
   "metadata": {},
   "outputs": [],
   "source": []
  },
  {
   "cell_type": "code",
   "execution_count": null,
   "id": "b09f84cd",
   "metadata": {},
   "outputs": [],
   "source": []
  },
  {
   "cell_type": "code",
   "execution_count": null,
   "id": "ca132b4c",
   "metadata": {},
   "outputs": [],
   "source": []
  },
  {
   "cell_type": "markdown",
   "id": "18a38330",
   "metadata": {},
   "source": [
    "## Effects of Effective Flow Area"
   ]
  },
  {
   "cell_type": "code",
   "execution_count": 348,
   "id": "c69fe445",
   "metadata": {},
   "outputs": [],
   "source": [
    "# inputs\n",
    "sg_gas = 0.6        \n",
    "T = 120                \n",
    "Z = 0.9               \n",
    "density_liquid = 45    \n",
    "surface_tension = 20  \n",
    "\n",
    "tubing_IDs = [3.958, 2.992, 2.441, 1.995, 1.751]  # Used to calculate effective flow area\n",
    "tubing_ODs = [4.5, 3.5, 2.875, 2.375, 2.0675]     # Used for plot labeling, not used for calculation\n",
    "\n",
    "x = np.linspace(0, 500, 16)[1:]\n",
    "crit_rates_IDs = []\n",
    "for tubing_ID in tubing_IDs:\n",
    "    crit_rates = []\n",
    "    for item in x:\n",
    "\n",
    "        P_wh = item\n",
    "        A_effective = np.pi * (tubing_ID / 2) ** 2\n",
    "\n",
    "        density_gas = gas_density(P_wh, sg_gas, T, Z)\n",
    "        Vc = turner_critical_velocity(density_gas, density_liquid, surface_tension, adjusted=True)\n",
    "        Qc = critical_flowrate(Vc, P_wh, A_effective, T=T, Z=Z)\n",
    "\n",
    "        crit_rates.append(Qc)\n",
    "        \n",
    "    crit_rates_IDs.append(crit_rates)"
   ]
  },
  {
   "cell_type": "code",
   "execution_count": 349,
   "id": "6f07b8fc",
   "metadata": {
    "scrolled": false
   },
   "outputs": [
    {
     "data": {
      "text/plain": [
       "Text(1.06, 1.07, '')"
      ]
     },
     "execution_count": 349,
     "metadata": {},
     "output_type": "execute_result"
    },
    {
     "data": {
      "image/png": "[encoded data removed]",
      "text/plain": [
       "<Figure size 700x350 with 1 Axes>"
      ]
     },
     "metadata": {},
     "output_type": "display_data"
    }
   ],
   "source": [
    "def setbold(txt):\n",
    "    return ' '.join([r\"$\\bf{\" + item + \"}$\" for item in txt.split(' ')])\n",
    "\n",
    "fig, ax = plt.subplots(figsize=(7, 3.5))\n",
    "\n",
    "label_fontsize = 12\n",
    "\n",
    "colors = ['navy', 'k', 'r', 'purple', 'blue']\n",
    "markers = ['.', 'v', '*', 'P', 'd']\n",
    "m_sizes = [12, 6, 8, 6, 6]\n",
    "\n",
    "for i, crit_rates in enumerate(crit_rates_IDs):\n",
    "    label = '%g\" (%g\" ID)' % (tubing_ODs[i], tubing_IDs[i])\n",
    "    ax.plot(x, crit_rates, color=colors[i], marker=markers[i], markersize=m_sizes[i], label=label)\n",
    "    \n",
    "ax.set_ylim(0, 2500)\n",
    "\n",
    "ax.grid(axis='y', alpha=0.5)\n",
    "ax.yaxis.get_major_ticks()[-1].gridline.set_visible(False)\n",
    "ax.spines.top.set_visible(False)\n",
    "\n",
    "fig.set_facecolor(\"white\")\n",
    "fig.tight_layout()\n",
    "\n",
    "ax.set_ylabel('Gas Flow Rate (MCF/day)', fontsize=label_fontsize)\n",
    "ax.set_xlabel('Wellhead Pressure (psi)', fontsize=label_fontsize)\n",
    "ax.tick_params(axis='x', labelsize=label_fontsize)\n",
    "ax.tick_params(axis='y', labelsize=label_fontsize)\n",
    "\n",
    "ax.legend(fontsize=10, ncol=1, loc='upper left', framealpha=1)\n",
    "ax.text(0.2, 0.45, 'aegis4048.github.io', fontsize=10, transform=ax.transAxes, color='grey', alpha=0.5)\n",
    "\n",
    "\n",
    "api_gravity = round(141.5/(density_liquid/62.416) - 131.5)  # water density = 62.416\n",
    "\n",
    "ax.text(0.34, 0.94, r'$\\gamma_{g}=%g$' % sg_gas + ',  Z= %g,  ' % Z + r'$\\sigma=%g$' % surface_tension, \n",
    "        fontsize=9, ha='left', va='top',transform=ax.transAxes, color='k')\n",
    "ax.text(0.34, 0.86, 'T=%g$^\\circ$F' % T + ',  API$^\\circ$=%g$^\\circ$' % api_gravity, \n",
    "        fontsize=9, ha='left', va='top',transform=ax.transAxes, color='k')\n",
    "\n",
    "ax.set_title(setbold('Adjusted Turner Critical Rate') + ',  varying effective flow area', fontsize=12, pad=10, x=0.29, y=1.06)\n",
    "ax.annotate('', xy=(-0.12, 1.07), xycoords='axes fraction', xytext=(1.06, 1.07), arrowprops=dict(arrowstyle=\"-\", color='k'))"
   ]
  },
  {
   "cell_type": "markdown",
   "id": "2ef5ebcf",
   "metadata": {},
   "source": [
    "## Effects of Gas Gravity"
   ]
  },
  {
   "cell_type": "code",
   "execution_count": 356,
   "id": "2d951dc7",
   "metadata": {},
   "outputs": [],
   "source": [
    "# inputs\n",
    "T = 120                \n",
    "Z = 0.9               \n",
    "density_liquid = 45    \n",
    "surface_tension = 20  \n",
    "tubing_ID = 3.958\n",
    "\n",
    "sg_gas_s = [0.5, 0.6, 0.7, 0.8, 0.9]\n",
    "\n",
    "x = np.linspace(0, 500, 16)[1:]\n",
    "crit_rates_IDs = []\n",
    "for sg_gas in sg_gas_s:\n",
    "    crit_rates = []\n",
    "    for item in x:\n",
    "        P_wh = item\n",
    "        A_effective = np.pi * (tubing_ID / 2) ** 2\n",
    "\n",
    "        density_gas = gas_density(P_wh, sg_gas, T, Z)\n",
    "        Vc = turner_critical_velocity(density_gas, density_liquid, surface_tension, adjusted=True)\n",
    "        Qc = critical_flowrate(Vc, P_wh, A_effective, T=T, Z=Z)\n",
    "\n",
    "        crit_rates.append(Qc)\n",
    "        \n",
    "    crit_rates_IDs.append(crit_rates)"
   ]
  },
  {
   "cell_type": "code",
   "execution_count": 357,
   "id": "acc72019",
   "metadata": {},
   "outputs": [
    {
     "data": {
      "text/plain": [
       "Text(1.06, 1.07, '')"
      ]
     },
     "execution_count": 357,
     "metadata": {},
     "output_type": "execute_result"
    },
    {
     "data": {
      "image/png": "[encoded data removed]",
      "text/plain": [
       "<Figure size 700x350 with 1 Axes>"
      ]
     },
     "metadata": {},
     "output_type": "display_data"
    }
   ],
   "source": [
    "def setbold(txt):\n",
    "    return ' '.join([r\"$\\bf{\" + item + \"}$\" for item in txt.split(' ')])\n",
    "\n",
    "fig, ax = plt.subplots(figsize=(7, 3.5))\n",
    "\n",
    "label_fontsize = 12\n",
    "\n",
    "colors = ['navy', 'k', 'r', 'purple', 'blue']\n",
    "markers = ['.', 'v', '*', 'P', 'd']\n",
    "m_sizes = [12, 6, 8, 6, 6]\n",
    "\n",
    "for i, crit_rates in enumerate(crit_rates_IDs):\n",
    "    label = r'$\\gamma_{g} = %g$' % sg_gas_s[i]\n",
    "    ax.plot(x, crit_rates, color=colors[i], marker=markers[i], markersize=m_sizes[i], label=label)\n",
    "    \n",
    "ax.set_ylim(0, 2500)\n",
    "\n",
    "ax.grid(axis='y', alpha=0.5)\n",
    "ax.yaxis.get_major_ticks()[-1].gridline.set_visible(False)\n",
    "ax.spines.top.set_visible(False)\n",
    "\n",
    "fig.set_facecolor(\"white\")\n",
    "fig.tight_layout()\n",
    "\n",
    "ax.set_ylabel('Gas Flow Rate (MCF/day)', fontsize=label_fontsize)\n",
    "ax.set_xlabel('Wellhead Pressure (psi)', fontsize=label_fontsize)\n",
    "ax.tick_params(axis='x', labelsize=label_fontsize)\n",
    "ax.tick_params(axis='y', labelsize=label_fontsize)\n",
    "\n",
    "ax.legend(fontsize=10, ncol=1, loc='upper left', framealpha=1)\n",
    "ax.text(0.2, 0.65, 'aegis4048.github.io', fontsize=10, transform=ax.transAxes, color='grey', alpha=0.2)\n",
    "\n",
    "\n",
    "ax.text(0.2, 0.94, r'ID=%g\"' % tubing_ID + ',  Z= %g,  ' % Z + r'$\\sigma=%g$' % surface_tension, \n",
    "        fontsize=9, ha='left', va='top',transform=ax.transAxes, color='k')\n",
    "ax.text(0.2, 0.86, 'T=%g$^\\circ$F' % T + ',  API$^\\circ$=%g$^\\circ$' % api_gravity, \n",
    "        fontsize=9, ha='left', va='top',transform=ax.transAxes, color='k')\n",
    "\n",
    "\n",
    "ax.set_title(setbold('Adjusted Turner Critical Rate') + ',  varying gas gravity', fontsize=12, pad=10, x=0.24, y=1.06)\n",
    "ax.annotate('', xy=(-0.12, 1.07), xycoords='axes fraction', xytext=(1.06, 1.07), arrowprops=dict(arrowstyle=\"-\", color='k'))"
   ]
  },
  {
   "cell_type": "markdown",
   "id": "942461c3",
   "metadata": {},
   "source": [
    "## Effects of Liquid API Gravity"
   ]
  },
  {
   "cell_type": "code",
   "execution_count": 358,
   "id": "aa64e5aa",
   "metadata": {},
   "outputs": [],
   "source": [
    "def API_to_density(API, water_density=62.416):\n",
    "    '''\n",
    "    :param API: API gravity of fluid\n",
    "    :param water_density: Density of water (lbs/ft^3)\n",
    "    :return: Fluid density (lbs/ft^3)\n",
    "    '''\n",
    "\n",
    "    sg = 141.5 / (API + 131.5)\n",
    "    fluid_density = water_density / sg\n",
    "\n",
    "    return fluid_density\n",
    "\n",
    "\n",
    "# inputs\n",
    "sg_gas = 0.6\n",
    "T = 120                \n",
    "Z = 0.9               \n",
    "surface_tension = 20  \n",
    "tubing_ID = 3.958\n",
    "\n",
    "APIs = [10, 30, 50, 70, 90]                                 # Used to be converted into liquid density. \n",
    "density_liquid_arr = [API_to_density(API) for API in APIs]  # Liquid density (lbs/ft^3)\n",
    "\n",
    "x = np.linspace(0, 500, 16)[1:]\n",
    "crit_rates_IDs = []\n",
    "for density_liquid in density_liquid_arr:\n",
    "    crit_rates = []\n",
    "    for item in x:\n",
    "        P_wh = item\n",
    "        A_effective = np.pi * (tubing_ID / 2) ** 2\n",
    "\n",
    "        density_gas = gas_density(P_wh, sg_gas, T, Z)\n",
    "        Vc = turner_critical_velocity(density_gas, density_liquid, surface_tension, adjusted=True)\n",
    "        Qc = critical_flowrate(Vc, P_wh, A_effective, T=T, Z=Z)\n",
    "\n",
    "        crit_rates.append(Qc)\n",
    "        \n",
    "    crit_rates_IDs.append(crit_rates)"
   ]
  },
  {
   "cell_type": "code",
   "execution_count": 369,
   "id": "0553eaa4",
   "metadata": {},
   "outputs": [
    {
     "data": {
      "text/plain": [
       "Text(1.06, 1.07, '')"
      ]
     },
     "execution_count": 369,
     "metadata": {},
     "output_type": "execute_result"
    },
    {
     "data": {
      "image/png": "[encoded data removed]",
      "text/plain": [
       "<Figure size 700x350 with 1 Axes>"
      ]
     },
     "metadata": {},
     "output_type": "display_data"
    }
   ],
   "source": [
    "def setbold(txt):\n",
    "    return ' '.join([r\"$\\bf{\" + item + \"}$\" for item in txt.split(' ')])\n",
    "\n",
    "fig, ax = plt.subplots(figsize=(7, 3.5))\n",
    "\n",
    "label_fontsize = 12\n",
    "\n",
    "colors = ['navy', 'k', 'r', 'purple', 'blue']\n",
    "markers = ['.', 'v', '*', 'P', 'd']\n",
    "m_sizes = [12, 6, 8, 6, 6]\n",
    "\n",
    "for i, crit_rates in enumerate(crit_rates_IDs):\n",
    "    label = r'$API=%g^\\circ$' % APIs[i]\n",
    "    ax.plot(x, crit_rates, color=colors[i], marker=markers[i], markersize=m_sizes[i], label=label)\n",
    "    \n",
    "ax.set_ylim(0, 2500)\n",
    "\n",
    "ax.grid(axis='y', alpha=0.5)\n",
    "ax.yaxis.get_major_ticks()[-1].gridline.set_visible(False)\n",
    "ax.spines.top.set_visible(False)\n",
    "\n",
    "fig.set_facecolor(\"white\")\n",
    "fig.tight_layout()\n",
    "\n",
    "ax.set_ylabel('Gas Flow Rate (MCF/day)', fontsize=label_fontsize)\n",
    "ax.set_xlabel('Wellhead Pressure (psi)', fontsize=label_fontsize)\n",
    "ax.tick_params(axis='x', labelsize=label_fontsize)\n",
    "ax.tick_params(axis='y', labelsize=label_fontsize)\n",
    "\n",
    "ax.legend(fontsize=10, ncol=1, loc='upper left', framealpha=1)\n",
    "ax.text(0.2, 0.65, 'aegis4048.github.io', fontsize=10, transform=ax.transAxes, color='grey', alpha=0.2)\n",
    "\n",
    "\n",
    "ax.text(0.22, 0.94, r'$\\gamma_{g}=%g$' % sg_gas + r',  ID=%g\"' % tubing_ID + ',  Z= %g,  ' % Z, \n",
    "        fontsize=9, ha='left', va='top',transform=ax.transAxes, color='k')\n",
    "ax.text(0.22, 0.86, r'$\\sigma=%g$' % surface_tension + ',  T=%g$^\\circ$F' % T, \n",
    "        fontsize=9, ha='left', va='top',transform=ax.transAxes, color='k')\n",
    "\n",
    "\n",
    "ax.set_title(setbold('Adjusted Turner Critical Rate') + ',  varying oil API gravity', fontsize=12, pad=10, x=0.26, y=1.06)\n",
    "ax.annotate('', xy=(-0.12, 1.07), xycoords='axes fraction', xytext=(1.06, 1.07), arrowprops=dict(arrowstyle=\"-\", color='k'))"
   ]
  },
  {
   "cell_type": "code",
   "execution_count": null,
   "id": "dfb47cb9",
   "metadata": {},
   "outputs": [],
   "source": []
  },
  {
   "cell_type": "code",
   "execution_count": null,
   "id": "30ff9b55",
   "metadata": {},
   "outputs": [],
   "source": []
  },
  {
   "cell_type": "code",
   "execution_count": null,
   "id": "e8b27cee",
   "metadata": {},
   "outputs": [],
   "source": []
  },
  {
   "cell_type": "code",
   "execution_count": null,
   "id": "c856379c",
   "metadata": {},
   "outputs": [],
   "source": []
  },
  {
   "cell_type": "code",
   "execution_count": null,
   "id": "18b1f120",
   "metadata": {},
   "outputs": [],
   "source": []
  },
  {
   "cell_type": "code",
   "execution_count": null,
   "id": "5ac57f9e",
   "metadata": {},
   "outputs": [],
   "source": []
  },
  {
   "cell_type": "code",
   "execution_count": null,
   "id": "b02dec15",
   "metadata": {},
   "outputs": [],
   "source": []
  },
  {
   "cell_type": "code",
   "execution_count": null,
   "id": "dbe6bc8c",
   "metadata": {},
   "outputs": [],
   "source": []
  },
  {
   "cell_type": "markdown",
   "id": "850379b8",
   "metadata": {},
   "source": [
    "## Citations\n",
    "\n",
    "Turner, R.G., Hubbard, M.G. and Dukler, A.E.: “Analysis and Prediction of Minimum Flow Rate for the Continuous\n",
    "Removal of Liquids from Gas Wells,” J. Pet. Tech. (Nov., 1969) 1475-82.\n",
    "\n",
    "Lea, J.F., Jr., and Rowlan, Lynn.: <i>Gas Well Deliquificaiton</i>, 3rd ed, Elsvier, New York (2019) 435."
   ]
  },
  {
   "cell_type": "code",
   "execution_count": null,
   "id": "05906cd1",
   "metadata": {},
   "outputs": [],
   "source": []
  },
  {
   "cell_type": "code",
   "execution_count": null,
   "id": "befedb68",
   "metadata": {},
   "outputs": [],
   "source": []
  }
 ],
 "metadata": {
  "kernelspec": {
   "display_name": "Python 3 (ipykernel)",
   "language": "python",
   "name": "python3"
  },
  "language_info": {
   "codemirror_mode": {
    "name": "ipython",
    "version": 3
   },
   "file_extension": ".py",
   "mimetype": "text/x-python",
   "name": "python",
   "nbconvert_exporter": "python",
   "pygments_lexer": "ipython3",
   "version": "3.9.13"
  }
 },
 "nbformat": 4,
 "nbformat_minor": 5
}
