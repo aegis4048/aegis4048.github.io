{
 "cells": [
  {
   "cell_type": "markdown",
   "metadata": {},
   "source": [
    "> **Confidence interval** is uncertainty in summary statistic represented as a range. In the other words, it is a range of values we are fairly sure our true value lies in. For example: I am 95% confident that the population mean falls between 8.76 and 15.88 $\\rightarrow$ (12.32 $\\pm$ 3.56)\n",
    "\n",
    "Confidence interval tells you how confident you can be that the results from a poll or survey reflect what you would expect to find if it were possible to survey the entire population. It is difficult to obtain measurement data of an entire data set (*population*) due to limited resource & time. Your best shot is to survey a small fraction (*samples*) of the entire data set, and pray that your sample data represents the population reasonably well. \n",
    "\n",
    "Sample data may not be a good representation of a population by numerous factors (Ex: bias), and as a result, uncertainty is always introduced in any estimations derived from sample data. **Due to the uncertainty involved with sample data, any statistical estimation needs to be delivered in a range, not in a point estimate**.\n",
    "\n",
    "How well a sample statistic estimates an underlying population parameter is always an issue (<a href=\"#population_vs_samples\">Population vs. Samples</a>). A confidence interval addresses this issue by providing a range of values, which is likely to contain the population parameter of interest."
   ]
  },
  {
   "cell_type": "markdown",
   "metadata": {},
   "source": [
    "<div id=\"toc_container\">\n",
    "    <p class=\"toc_title\">Contents</p>\n",
    "    <ul class=\"toc_list\">\n",
    "        <li>\n",
    "            <a href=\"#Understanding confidence interval with analogy\"><span class=\"toc_label\">1</span>Understanding\n",
    "                confidence interval with analogy</a>\n",
    "            <ul>\n",
    "                <li><a href=\"#Uncertainty in rock porosity\"><span class=\"toc_label\">Example 1:</span>Uncertainty in rock\n",
    "                    porosity</a></li>\n",
    "                <li><a href=\"#Purity of methamphetamine (crystal) in Breaking Bad\"><span\n",
    "                        class=\"toc_label\">Example 2:</span>Purity of methamphetamine (crystal) in Breaking Bad</a></li>\n",
    "            </ul>\n",
    "        </li>\n",
    "        <li><a href=\"#quick-highlights\"><span class=\"toc_label\">2</span>Key takeaways</a></li>\n",
    "        <li><a href=\"#population_vs_samples\"><span class=\"toc_label\">3</span>Population vs Samples</a></li>\n",
    "        <ul>\n",
    "            <li><a href=\"#sample_pop_var\"><span class=\"toc_label\">Notes:</span>Population variance $\\sigma^2$ vs.\n",
    "                Sample variance $s^2$</a></li>\n",
    "            <li><a href=\"#python_variance\"><span class=\"toc_label\">Pythonic Tip:</span>Difference between Numpy variance\n",
    "                and Pandas variance</a></li>\n",
    "        </ul>\n",
    "        <li><a href=\"#Confidence interval of different statistics\"><span class=\"toc_label\">4</span>Confidence interval\n",
    "            of normal distribution</a></li>\n",
    "        <ul>\n",
    "            <li><a href=\"#conf_int_of_mean\"><span class=\"toc_label\">4.1</span>Confidence interval of mean</a></li>\n",
    "            <ul>\n",
    "                <li><a href=\"#dist_stats\"><span class=\"toc_label\">Notes:</span>Distribution of various statistics</a>\n",
    "                </li>\n",
    "                <li><a href=\"#t_vs_z\"><span class=\"toc_label\">Notes:</span>z-score vs t-score</a></li>\n",
    "                <li><a href=\"#python_ci_mean\"><span class=\"toc_label\">Pythonic Tip:</span>Computing confidence interval of mean with SciPy</a></li>\n",
    "            </ul>\n",
    "            <li><a href=\"#conf_int_of_diff_in_mean\"><span class=\"toc_label\">4.2</span>Confidence interval of difference\n",
    "                in mean</a></li>\n",
    "            <ul>\n",
    "                <li><a href=\"#anova\"><span class=\"toc_label\">Notes:</span>Comparing means of more than two samples with ANOVA</a></li>\n",
    "                <li><a href=\"#ind_equal\"><span class=\"toc_label\">4.2.1</span>Independent (unpaired) samples, equal\n",
    "                    variance - Student's t-interval</a></li>\n",
    "                <ul>\n",
    "                    <li><a href=\"#python_ind_equal\"><span class=\"toc_label\">Pythonic Tip:</span>Computing student's t-interval</a></li>\n",
    "                </ul>\n",
    "                <li><a href=\"#ind_unequal\"><span class=\"toc_label\">4.2.2</span>Independent (unpaired) samples, unequal variance - Welch's t-interval</a></li>\n",
    "                <ul>\n",
    "                    <li><a href=\"#python_ind_unequal\"><span class=\"toc_label\">Pythonic Tip:</span>Computing Welch's t-interval</a></li>\n",
    "                </ul>\n",
    "                <li><a href=\"#dep\"><span class=\"toc_label\">4.2.3</span>Dependent (paired) samples - Paired t-interval</a></li>\n",
    "                <ul>\n",
    "                    <li><a href=\"#python_dep\"><span class=\"toc_label\">Pythonic Tip:</span>Computing paired t-interval</a></li>\n",
    "                </ul>\n",
    "                <li><a href=\"#which_to_use\"><span class=\"toc_label\">Notes:</span>Deciding which t-test to use</a></li>\n",
    "            </ul>\n",
    "            <li><a href=\"#conf_int_of_var\"><span class=\"toc_label\">4.3</span>Confidence interval of variance</a></li>\n",
    "            <ul>\n",
    "                <li><a href=\"#chi_square\"><span class=\"toc_label\">Notes:</span>Chi-square $\\chi^2$ distribution</a></li>\n",
    "                <li><a href=\"#one_tail_two_tail\"><span class=\"toc_label\">Notes:</span>One-tail vs two-tail</a></li>\n",
    "                <li><a href=\"#python_ci_var\"><span class=\"toc_label\">Pythonic Tip:</span>Computing confidence interval of variance with SciPy</a></li>\n",
    "            </ul>\n",
    "            <li><a href=\"#conf_int_of_other\"><span class=\"toc_label\">4.4</span>Confidence interval of other statistics: Bootstrap</a></li>\n",
    "            <li><a href=\"#conf_int_regression\"><span class=\"toc_label\">4.5</span>Confidence interval of regression</a></li>\n",
    "        </ul>\n",
    "        <li><a href=\"#conf_int_non_normal\"><span class=\"toc_label\">5</span>Confidence interval of non-normal\n",
    "            distribution</a></li>\n",
    "    </ul>\n",
    "</div>"
   ]
  },
  {
   "cell_type": "markdown",
   "metadata": {},
   "source": [
    "<div id=\"Understanding confidence interval with analogy\"></div>\n",
    "\n",
    "## 1. Understanding confidence interval with analogy\n",
    "\n",
    "If you've taken a science class with lab reports in your highschool or college, you probably had to include measurement error in your lab reports. For example, if you were asked to measure the length of a paper clip with a ruler, you have to include $\\pm0.5 \\,\\text{cm}$ or $\\pm0.05\\,\\text{cm}$ (depending on the spacing of tick marks) to account for the measurement error that shows the precision of your measuring tool. \n",
    "\n",
    "Based on <a href=\"#fig1\">figure (1)</a>, the paper clip seems to be about 2.7 cm long, but we don't know for sure because the tickmarks in the ruler is not precise enough to measure decimal length. However, I can tell with 100% confidence that the paper clip has a length between 2 ~ 3 cm, because the clip is between 2cm and 3cm tickmarks. You record the length of the paper clip in a *range*, instead of a *point estimate*, to account for the uncertainty introduced by the limitation of the measuring tool.\n",
    "\n",
    "<div id=\"fig1\" class=\"row give-margin-inline-big-plot mobile_responsive_plot_full_width\" style=\"margin-top: 15px;\">\n",
    "    <div class=\"col\"><img src=\"jupyter_images/conf_int_ruler.png\"></div>\n",
    "    <div class=\"col-12\"><p class=\"image-description\">Figure 1: Measurement error in ruler</p></div>\n",
    "</div>\n",
    "\n",
    "Similar idea can be applied to a <a href=\"#conf_int_of_mean\">confidence interval of mean</a>. You want to obtain a mean of a whole data set (*population*), but you can measure values of only a small fraction (*samples*) of the whole data set. This boils down to the traditional issue of <a href=\"#population_vs_samples\">Sample vs Population</a>, due to the cost of obtaining measurement data of a large data set. Uncertainty is introduced in your samples, because you don't know if your samples are 100% representative of the population, free of bias. Therefore, you deliver your conclusion in a range, not in a point estimate, to account for the uncertainty."
   ]
  },
  {
   "cell_type": "markdown",
   "metadata": {},
   "source": [
    "<div><hr></div>\n",
    "\n",
    "<div id=\"Uncertainty in rock porosity\"></div>\n",
    "<p style=\"color: #666\"><b>Example 1:</b> Uncertainty in rock porosity<p>\n",
    "\n",
    "A reservoir engineer in the oil & gas industry wants to know the rock porosity of a formation to estimate the total oil reserve 9,500 ft underground. Due to the high cost of obtaining rock core samples from the deep formations, he could acquire only 12 rock core samples. Since the uncertainty of a point estimation scales inversely with a sample size, his estimation is subject to non-negligible uncertainty. He obtains 14.5% average rock porosity with 4.3% standard deviation. Executives in the company wants to know the worst-case scenario and the best-case scenario to make business decisions. You can convey your estimation of average porosity with uncertainty by constructing the <a href=\"#conf_int_of_mean\">confidence interval of mean</a>.\n",
    "\n",
    "Assuming that you have a reason to believe that the rock porosity follows normal distribution, you can construct its 80% confidence interval, with the procedure described <a href=\"#python_ci_mean\"> below</a>:\n",
    "\n",
    "<div style=\"margin-bottom: -20px\"></div>"
   ]
  },
  {
   "cell_type": "code",
   "execution_count": 133,
   "metadata": {},
   "outputs": [
    {
     "data": {
      "text/plain": [
       "(12.807569748569543, 16.19243025143046)"
      ]
     },
     "execution_count": 133,
     "metadata": {},
     "output_type": "execute_result"
    }
   ],
   "source": [
    "stats.t.interval(1 - 0.2, 12 - 1, loc=14.5, scale= 4.3 / np.sqrt(12))"
   ]
  },
  {
   "cell_type": "markdown",
   "metadata": {},
   "source": [
    "<div style=\"margin-top: -20px\"></div>\n",
    "\n",
    "In the worst-case scenario, the rock formation at 9,500 ft underground has 12.8% porosity. In the best-case scenario, the oil reservoir has 16.2% porosity. The same procedures can be applied for the core samples collected at different depths, which give us the confidence interval plot of rock porosities shown in <a href=\"#\">figure (2)</a>.\n",
    "\n",
    "<div id=\"fig2\" class=\"row give-margin-inline-big-plot mobile_responsive_plot_full_width\" style=\"\">\n",
    "    <div class=\"col\"><img src=\"jupyter_images/rock_por_conf_no_title.png\"></div>\n",
    "    <div class=\"col-12\"><p class=\"image-description\">Figure 2: Confidence interval of core samples porosities along depths</p></div>\n",
    "</div>"
   ]
  },
  {
   "cell_type": "markdown",
   "metadata": {},
   "source": [
    "<div class=\"solution_panel closed\">\n",
    "    <div class=\"solution_title\">\n",
    "        <p class=\"solution_title_string\">Source Code For Figure (2)</p>\n",
    "        <ul class=\"nav navbar-right panel_toolbox\">\n",
    "            <li><a class=\"collapse-link\"><i class=\"fa fa-chevron-down\"></i></a></li>\n",
    "        </ul>\n",
    "    <div class=\"clearfix\"></div>\n",
    "    </div>\n",
    "    <div class=\"solution_content\">\n",
    "        <pre>\n",
    "            <code class=\"language-python\">\n",
    "                import numpy as np\n",
    "                from scipy import stats\n",
    "                import matplotlib.pyplot as plt\n",
    "\n",
    "                np.random.seed(39)\n",
    "\n",
    "                depth = [i * 10 + 8000 for i in range(100)]\n",
    "                l = len(depth)\n",
    "                avg_por = []\n",
    "                p10_por = []\n",
    "                p90_por = []\n",
    "                for i, item in enumerate(depth):\n",
    "\n",
    "                    # You collect 12 rock core samples for each depth\n",
    "                    # Assume that sample porosity follows a normal distribution\n",
    "                    sample_size = 12\n",
    "                    por_samples = np.random.normal(loc=0.15 - i/2000, scale=0.022, size=sample_size)\n",
    "                    avg_por.append(np.mean(por_samples))\n",
    "                    \n",
    "                    # 80% confidence interval of mean\n",
    "                    p10, p90 = stats.t.interval(1 - 0.2, sample_size - 1, loc=np.mean(por_samples), scale=stats.sem(por_samples))\n",
    "                    p10_por.append(p10)\n",
    "                    p90_por.append(p90)\n",
    "                \n",
    "                # plotting\n",
    "                plt.style.use('seaborn-whitegrid')\n",
    "                fig, ax = plt.subplots(1, 2, figsize=(8, 4))\n",
    "\n",
    "                ax[0].plot(avg_por[:l//2], depth[:l//2], 'k', label='P50', alpha=0.8)\n",
    "                ax[0].plot(p10_por[:l//2], depth[:l//2], 'grey', linewidth=0.7, label='P10', linestyle='--')\n",
    "                ax[0].plot(p90_por[:l//2], depth[:l//2], 'grey', linewidth=0.7, label='P90')\n",
    "\n",
    "                ax[0].set_xlim(0.08, 0.17)\n",
    "                ax[0].set_ylabel('Depth (ft)', fontsize=15)\n",
    "                ax[0].set_xlabel('Porosity', fontsize=15)\n",
    "                ax[0].fill_betweenx(depth[:l//2], p10_por[:l//2], p90_por[:l//2], facecolor='lightgrey', alpha=0.3)\n",
    "                ax[0].invert_yaxis()\n",
    "\n",
    "                ax[1].plot(avg_por[l//2:], depth[l//2:], 'k', label='P50', alpha=0.8)\n",
    "                ax[1].plot(p10_por[l//2:], depth[l//2:], 'grey', linewidth=0.7, label='P10', linestyle='--')\n",
    "                ax[1].plot(p90_por[l//2:], depth[l//2:], 'grey', linewidth=0.7, label='P90')\n",
    "\n",
    "                ax[1].set_xlim(0.08, 0.17)\n",
    "                ax[1].set_xlabel('Porosity', fontsize=15)\n",
    "                ax[1].legend(loc='best', fontsize=14, framealpha=1, frameon=True)\n",
    "                ax[1].fill_betweenx(depth[l//2:], p10_por[l//2:], p90_por[l//2:], facecolor='lightgrey', alpha=0.3)\n",
    "                ax[1].invert_yaxis()\n",
    "            </code>\n",
    "        </pre>\n",
    "    </div>\n",
    "</div>"
   ]
  },
  {
   "cell_type": "markdown",
   "metadata": {},
   "source": [
    "<div><hr></div>\n",
    "\n",
    "<div id=\"Purity of methamphetamine (crystal) in Breaking Bad\"></div>\n",
    "<p style=\"color: #666\"><b>Example 2:</b> Purity of methamphetamine (crystal) in Breaking Bad<p>\n",
    "\n",
    "21 batches of crystal cooked by Mr. White shows 99.1% average purity with 3% standard deviation. 18 batches of crystal cooked by Mr. Pinkman shows 96.2% average purity with 4% standard deviation. Does Mr. White always cook better crystal than Mr. Pinkman, or is it possible for Mr. Pinkman to beat Mr. White in purity of cooked crystals, by luck?\n",
    "\n",
    "We can construct 95% confidence interval assuming normal distribution, with the procedure described <a href=\"#python_ci_mean\"> below</a>:\n",
    "\n",
    "<div style=\"margin-bottom: -20px\"></div>"
   ]
  },
  {
   "cell_type": "code",
   "execution_count": 78,
   "metadata": {},
   "outputs": [
    {
     "data": {
      "text/plain": [
       "(97.73441637228476, 100.46558362771523)"
      ]
     },
     "execution_count": 78,
     "metadata": {},
     "output_type": "execute_result"
    }
   ],
   "source": [
    "# Mr. White's\n",
    "\n",
    "stats.t.interval(1 - 0.05, 21 - 1, loc=99.1, scale= 3 / np.sqrt(21))"
   ]
  },
  {
   "cell_type": "code",
   "execution_count": 79,
   "metadata": {},
   "outputs": [
    {
     "data": {
      "text/plain": [
       "(94.21084679714819, 98.18915320285181)"
      ]
     },
     "execution_count": 79,
     "metadata": {},
     "output_type": "execute_result"
    }
   ],
   "source": [
    "# Mr. Pinkman's\n",
    "\n",
    "stats.t.interval(1 - 0.05, 18 - 1, loc=96.2, scale= 4 / np.sqrt(18))"
   ]
  },
  {
   "cell_type": "markdown",
   "metadata": {},
   "source": [
    "<div style=\"margin-top: -20px\"></div>\n",
    "\n",
    "There's a small overlap between the confidence intervals of Mr. White's and Mr. Pinkman's. Although it is true that Mr. White is a better cooker, Mr. Pinkman can cook a purer batch of crystals by a small chance, if he has the luck. Comparing the means of two sample data sets is closely related to constructing <a href=\"#conf_int_of_diff_in_mean\">confidence interval of difference in mean</a>.\n",
    "\n",
    "<div id=\"fig2\" class=\"row full_screen_margin_md mobile_responsive_plot_full_width\" style=\"margin-top: 15px;\">\n",
    "    <div class=\"col\"><img src=\"jupyter_images/crystal_purity.png\"></div>\n",
    "    <div class=\"col-12\"><p class=\"image-description\">Figure 3: Overlap in the 95% confidence interval of two samples</p></div>\n",
    "</div>"
   ]
  },
  {
   "cell_type": "markdown",
   "metadata": {},
   "source": [
    "<div class=\"solution_panel closed\">\n",
    "    <div class=\"solution_title\">\n",
    "        <p class=\"solution_title_string\">Source Code For Figure (3)</p>\n",
    "        <ul class=\"nav navbar-right panel_toolbox\">\n",
    "            <li><a class=\"collapse-link\"><i class=\"fa fa-chevron-down\"></i></a></li>\n",
    "        </ul>\n",
    "    <div class=\"clearfix\"></div>\n",
    "    </div>\n",
    "    <div class=\"solution_content\">\n",
    "        <pre>\n",
    "            <code class=\"language-python\">\n",
    "                import matplotlib.pyplot as plt\n",
    "                from scipy import stats\n",
    "                import numpy as np\n",
    "\n",
    "                conf_pinkman = stats.t.interval(1 - 0.05, 18 - 1, loc=96.2, scale= 4 / np.sqrt(18))\n",
    "                conf_white = stats.t.interval(1 - 0.05, 21 - 1, loc=99.1, scale= 3 / np.sqrt(21))\n",
    "\n",
    "                plt.style.use('seaborn-whitegrid')\n",
    "                fig, ax = plt.subplots(figsize=(5, 2))\n",
    "\n",
    "                ax.errorbar(99.1, 1, xerr=(conf_white[1] - conf_white[0]) / 2, \n",
    "                            fmt='o', markersize=8, capsize=5, label='Mr. White\\'s', color='grey')\n",
    "                ax.errorbar(96.2, 0, xerr=(conf_pinkman[1] - conf_pinkman[0]) / 2, \n",
    "                            fmt='o', markersize=8, capsize=5, label='Mr. Pinkman\\'s', color='k')\n",
    "                ax.set_ylim(-0.6, 1.6)\n",
    "                ax.fill_betweenx([1, 0], conf_white[0], conf_pinkman[1], facecolor='lightgrey', alpha=0.3)\n",
    "                ax.legend(loc='best', fontsize=11, framealpha=1, frameon=True)\n",
    "                ax.set_xlabel('Purity (%)', fontsize=12)\n",
    "                ax.yaxis.set_major_formatter(plt.NullFormatter())\n",
    "                fig.tight_layout();\n",
    "            </code>\n",
    "        </pre>\n",
    "    </div>\n",
    "</div>"
   ]
  },
  {
   "cell_type": "markdown",
   "metadata": {},
   "source": [
    "<div id=\"quick-highlights\"></div>\n",
    "\n",
    "## 2. Key takeaways\n",
    "\n",
    "<div class=\"highlights\" id=\"key1\">\n",
    "    <div class=\"highlights-title\">1. Confidence interval quantifies uncertainty of statistical estimation</div>\n",
    "    <div class=\"highlights-content\">Confidence interval qunatifies the uncertainty related to a statistical estimation to mitigate the issue of <a href=\"#population_vs_samples\">Population vs. Samples</a>. It is always expressed in a range like — $\\text{C.I.}: \\quad \\bar{x} \\pm 3.43$ or $-51.4 < \\bar{x} < -43.2$</div>\n",
    "</div>\n",
    "\n",
    "<div class=\"highlights\" id=\"key2\">\n",
    "    <div class=\"highlights-title\">2. Confidence interval is the basis of parametric hypothesis tests</div>\n",
    "    <div class=\"highlights-content\">Confidence interval is the basis of parametric hypothesis tests. For example, <a href=\"https://www.investopedia.com/terms/t/t-test.asp\" target=\"_blank\">t-test</a> computes its p-value using the <a href=\"#conf_int_of_diff_in_mean\">confidence interval of difference in mean</a>. When samples follow a normal distribution, and therefore their <a href=\"#central_tendency\">centeral tendency</a> can be described by their means, t-test can be used to conclude if two distributions are significantly different from each other. \n",
    "    </div>\n",
    "</div>\n",
    "\n",
    "<div class=\"highlights\" id=\"key3\">\n",
    "    <div class=\"highlights-title\">3. Formula for confidence interval varies with statistics</div>\n",
    "    <div class=\"highlights-content\">\n",
    "        <p>For <a href=\"#conf_int_of_mean\">confidence interval of mean</a></p>\n",
    "        <p><div style=\"font-size: 1rem; margin-top: 20px;\">$$ \\text{C.I.}_{\\text{mean}}: \\quad \\mu \\pm (t_{\\frac{\\alpha}{2},df} \\times \\frac{s}{\\sqrt{n}})$$</div></p>\n",
    "        <p>For <a href=\"#conf_int_of_diff_in_mean\">confidence interval of difference in mean</a></p>\n",
    "        <p><div style=\"font-size: 1rem; margin-top: 20px;\">$$ \\text{C.I.}_{\\Delta \\text{mean}}: \\quad (\\mu_{1}- \\mu_{2}) \\pm (t_{1-\\frac{\\alpha}{2},df} \\times \\sqrt{\\frac{s_1^2}{n_1}+\\frac{s_2^2}{n_2}})$$</div></p>    \n",
    "        <p>For confidence interval of proportion</p>\n",
    "        <p><div style=\"font-size: 1rem; margin-top: 20px;\">$$ \\text{C.I.}_{\\text{proportion}}: \\quad \\hat{p} \\pm (t_{\\frac{\\alpha}{2},df} \\times \\sqrt{\\frac{\\hat{p}(1-\\hat{p})}{n}} )$$</div></p>\n",
    "        <p>For <a href=\"#conf_int_of_var\">confidence interval of variance</a></p>\n",
    "        <p><div style=\"font-size: 1rem; margin-top: 20px;\">$$ \\text{C.I.}_{\\text{variance}}: \\frac{(n-1)s^{2}}{\\chi^{2}_{\\frac{\\alpha}{2}}} \\leq \\sigma^2 \\leq \\frac{(n-1)s^{2}}{\\chi^{2}_{1-\\frac{\\alpha}{2}}}$$</div></p>\n",
    "        <p>For confidence interval of standard deviation</p>\n",
    "        <p><div style=\"font-size: 1rem; margin-top: 20px;\">$$ \\text{C.I.}_{\\text{standard deviation}}: \\sqrt{\\frac{(n-1)s^{2}}{\\chi^{2}_{\\frac{\\alpha}{2}}}} \\leq \\sigma \\leq \\sqrt{\\frac{(n-1)s^{2}}{\\chi^{2}_{1-\\frac{\\alpha}{2}}}}$$</div></p>\n",
    "        <p>Different analytical solutions exist for different statistics. However, confidence interval for many other statistics cannot be analytically solved, simply because there are no formulas for them. If the statistic of your interest does not have an analytical solution for its confidence interval, or you simply don't know it, numerical methods like <a href=\"https://aegis4048.github.io/non-parametric-confidence-interval-with-bootstrap\" target=\"_blank\">boostrapping</a> can be a good alternative (and its powerful).</p>\n",
    "    </div>\n",
    "</div>\n",
    "\n",
    "<div class=\"highlights\" id=\"key4\">\n",
    "    <div class=\"highlights-title\">4. Things are VERY different if sample data set is not normally distributed</div>\n",
    "    <div class=\"highlights-content\">The equations listed above <b>are not valid if sample data set is not normally distributed</b>. In case of non-normally distributed data, its confidence interval can be obatined with non-parametric methods like <a href=\"https://aegis4048.github.io/non-parametric-confidence-interval-with-bootstrap\" target=\"_blank\">boostrapping</a>, or instead use <a href=\"#\">credible interval</a>, which is a Baysian equivalent of confidence interval. Or you can transform your data into normal distribution using <a href=\"https://aegis4048.github.io/transforming-non-normal-distribution-to-normal-distribution\" target=\"_blank\">Box-Cox transformation</a>.</div>\n",
    "</div>\n",
    "\n",
    "<div class=\"highlights\" id=\"key5\">\n",
    "    <div class=\"highlights-title\">5. 95% C.I. does not mean 95% of the sample data lie within the interval.</div>\n",
    "    <div class=\"highlights-content\">It means that there's 95% chance that the estimated statistic falls within the interval. 95% confidence interval relates to the reliability of the estimation procedure. Ex: How reliable is your estimation of population variance?</div>\n",
    "</div>\n",
    "\n",
    "<div class=\"highlights\" id=\"key6\">\n",
    "    <div class=\"highlights-title\">6. Always use t-score instead of z-score</div>\n",
    "    <div class=\"highlights-content\">When constructing confidence interval of mean, or running t-test, always use t-score instead of z-score. This is described in detail <a href=\"#t_vs_z\">below</a>.</div>\n",
    "</div>\n",
    "\n",
    "<div class=\"highlights\" id=\"key7\">\n",
    "    <div class=\"highlights-title\">7. Bigger sample size gives narrower confidence intervals</div>\n",
    "    <div class=\"highlights-content\">Intuitively, this is because the more samples we have, the less uncertainty we have with our statistical estimation. Mathematically, this is because the the confidence interval is inversely related to the sample size $n$, as shown in <a href=\"#eq-1\">eq (1)</a>.</div>\n",
    "</div>\n",
    "\n",
    "<div class=\"highlights\" id=\"key8\">\n",
    "    <div class=\"highlights-title\">8. Means are not always equivalent to central tendency</div>\n",
    "    <div class=\"highlights-content\">When samples are not normally distributed, their means are not a good measure of their <a href=\"#central_tendency\">centeral tendencies</a>. For example, if you are comparing the means of two non-normal data sets with t-test to conclude if they came from the same population, your approach is wrong. The more viable alternative would be to use non-parametric alternatives that uses median, or other statistics that capture the central tendency of non-normal distributions.</div>\n",
    "</div>"
   ]
  },
  {
   "cell_type": "markdown",
   "metadata": {},
   "source": [
    "<div id=\"population_vs_samples\"></div>\n",
    "\n",
    "## 3. Population vs. samples\n",
    "\n",
    "Confidence interval describes the amount of uncertainty associated with a sample estimate of a population parameter. One needs to have a good understanding of the difference between samples and population to understand the necessity of delivering statistical estimations in a range, a.k.a. confidence interval.\n",
    "\n",
    "<div id=\"fig1\" class=\"row give-margin-inline-big-plot mobile_responsive_plot_full_width\" style=\"\n",
    "    margin-top: 10px;\n",
    "\">\n",
    "    <div class=\"col\"><img src=\"jupyter_images/conf_int_sample_pops.png\"></div>\n",
    "    <div class=\"col-12\"><p class=\"image-description\">Figure 1: Population vs samples</p></div>\n",
    "</div>\n",
    "\n",
    "> **Population**: data set that contains all members of a specified group. Ex: ALL people living in the US.\n",
    "\n",
    "> **Samples**: data set that contains a part, or a subset, of a population Ex: SOME people living in the US.\n",
    "\n",
    "<div><hr></div>\n",
    "\n",
    "Let's say that you are conducting a phone-call survey to investigate the society's perception of The Affordable Care Act (“Obamacare”). Since you can't call all 327.2 million people (*population*) in the US, you call about 1,000 people (*samples*). Your poll showed that 59% of the registered voters support Obamacare. This does not agree with the actual survey conducted in 2018; 53% favorable, 42% unfavorable (<a href=\"http://www.msnbc.com/rachel-maddow-show/poll-shows-support-obamacare-reaching-all-time-high\" target=\"_blank\">source</a>). What could be the source of error? \n",
    "\n",
    "Since (formal) president Obama is a member of the Democratic Party, the voters' response can be affected by their political preference. How could you tell that the 1,000 people you called happened to be mostly Democrats, who's more likely to support Obama's policy, because they share similar political view? The samples you collected could have been *biased*, but you don't that know for sure. Of course, the voters' response could be affected by many other factors like race, age, place of residence, or financial status. The idea is that, there will always be uncertainty involved with your estimation, because you don't have an access to the entire population.  \n",
    "\n",
    "Confidence interval is a technique that quantifies the uncertainty when estimating a population parameter from samples.\n",
    "\n",
    "<div id=\"sample_pop_var\"></div>\n",
    "\n",
    "<div class=\"alert alert-info\">\n",
    "    <h4>Notes: Population variance $\\sigma^2$ vs. Sample variance $s^2$</h4>\n",
    "    <p>Distinction between population parameter and sample parameter is important. In statistics, it is a common practice to denote population variance as $\\sigma^2$, and sample variance as $s^2$. The distinction is important because different equations are used for each.</p>\n",
    "    <p>For population:</p>\n",
    "    <p><div style=\"font-size: 1rem; margin-top: 20px;\">$$ \\text{variance} = \\sigma^2 = \\frac{\\sum(x - \\bar{x})^2}{n} $$</div></p>\n",
    "    <p>For samples:</p>\n",
    "    <p><div style=\"font-size: 1rem; margin-top: 20px;\">$$ \\text{variance} = s^2 = \\frac{\\sum(x - \\bar{x})^2}{n-1} $$</div></p>\n",
    "    <p>The divisor $n-1$ is a correction factor for bias. Note that the correction has a larger proportional effect when $n$ is small than when $n$ is large, which is what we want because the more samples we have, the better the estimation. This idea is well explained on this <a href=\"https://stats.stackexchange.com/questions/3931/intuitive-explanation-for-dividing-by-n-1-when-calculating-standard-deviation\" target=\"_blank\">StackExchange thread</a>.</p>\n",
    "</div>\n",
    "\n",
    "<div><hr></div>\n",
    "\n",
    "<div id=\"python_variance\"></div>\n",
    "<p style=\"color: #666\"><b>Pythonic Tip:</b> Difference between Numpy variance and Pandas variance<p>\n",
    "\n",
    "Different libraries make different assumption about an input array. The default value of <code>ddof</code> is different for Pandas and Numpy, resulting in different variance. <code>ddof</code> represent degrees of freedom, and setting <code>ddof=True</code> or <code>ddof=1</code> tells the variance function to calculate sample variance by accounting for the bias factor $n-1$ (recall that in Python, <code>True==1</code>.) Remember that there is a distinction between <a href=\"#sample_pop_var\">Population variance ($\\sigma^2$) vs. Sample variance ($s^2$).</a>\n",
    "\n",
    "If you are confused which library is computing which variance (sample or population), just remember this: whatever library you are using, use <code>ddof=True</code> or <code>ddof=1</code> to compute sample variance, and use <code>ddof=False</code> or <code>ddof=0</code> to compute population variance.\n",
    "<div style=\"margin: -20px\"></div>"
   ]
  },
  {
   "cell_type": "code",
   "execution_count": 1,
   "metadata": {},
   "outputs": [],
   "source": [
    "import numpy as np\n",
    "import pandas as pd\n",
    "\n",
    "arr = pd.DataFrame([5,3,1,6])"
   ]
  },
  {
   "cell_type": "code",
   "execution_count": 7,
   "metadata": {
    "scrolled": true
   },
   "outputs": [
    {
     "data": {
      "text/plain": [
       "3.6875"
      ]
     },
     "execution_count": 7,
     "metadata": {},
     "output_type": "execute_result"
    }
   ],
   "source": [
    "# numpy, population\n",
    "arr.values.var()"
   ]
  },
  {
   "cell_type": "code",
   "execution_count": 8,
   "metadata": {},
   "outputs": [
    {
     "data": {
      "text/plain": [
       "4.916666666666667"
      ]
     },
     "execution_count": 8,
     "metadata": {},
     "output_type": "execute_result"
    }
   ],
   "source": [
    "# numpy, sample\n",
    "arr.values.var(ddof=1)"
   ]
  },
  {
   "cell_type": "code",
   "execution_count": 10,
   "metadata": {},
   "outputs": [
    {
     "data": {
      "text/plain": [
       "0    3.6875\n",
       "dtype: float64"
      ]
     },
     "execution_count": 10,
     "metadata": {},
     "output_type": "execute_result"
    }
   ],
   "source": [
    "# pandas, population\n",
    "arr.var(ddof=0)"
   ]
  },
  {
   "cell_type": "code",
   "execution_count": 99,
   "metadata": {
    "scrolled": true
   },
   "outputs": [
    {
     "data": {
      "text/plain": [
       "0    4.916667\n",
       "dtype: float64"
      ]
     },
     "execution_count": 99,
     "metadata": {},
     "output_type": "execute_result"
    }
   ],
   "source": [
    "# pandas, sample\n",
    "arr.var()"
   ]
  },
  {
   "cell_type": "markdown",
   "metadata": {},
   "source": [
    "<div id=\"Confidence interval of different statistics\"></div>\n",
    "\n",
    "## 4. Confidence interval of normal distribution\n",
    "\n",
    "Computing confidence interval of a statistic depends on two factors: type of statistic, and type of sample distribution. As explained <a href=\"#quick-highlights\">above</a>, different formulas exist for different type of statistics (Ex: mean, std, variance), and different methods (Ex: <a href=\"https://aegis4048.github.io/non-parametric-confidence-interval-with-bootstrap\" target=\"_blank\">boostrapping</a>, <a href=\"#\">credible interval</a>, <a href=\"https://aegis4048.github.io/transforming-non-normal-distribution-to-normal-distribution\" target=\"_blank\">Box-Cox transformation</a>) are used for non-normal data set. \n",
    "\n",
    "We will cover confidence interval of mean, difference in mean and variance."
   ]
  },
  {
   "cell_type": "markdown",
   "metadata": {},
   "source": [
    "<div id=\"conf_int_of_mean\"></div>\n",
    "\n",
    "### 4.1. Confidence interval of mean\n",
    "\n",
    "Confidence interval of mean is used to estimate the population mean from sample data and quantify the related uncertainty. Consider the following figure:\n",
    "\n",
    "<div id=\"fig3\" class=\"row give-margin-inline-big-plot mobile_responsive_plot_full_width\" style=\"margin-top: 15px;\">\n",
    "    <div class=\"col\"><img src=\"jupyter_images/conf_pop_dist.png\"></div>\n",
    "    <div class=\"col-12\"><p class=\"image-description\">Figure 3: Distribution of population and C.I. of mean</p></div>\n",
    "</div>\n",
    "\n",
    "In <a href=\"#fig3\">figure (3)</a>, assume that the population is normally distributed. Since we don't have an access to the entire population, we have to guess the <span style=\"color: #ed7d32; font-weight: 500;\">population mean (unknown)</span> to the best of our ability using sample data set. We do this by computing the <span style=\"color: #70ad47; font-weight: 500;\">sample mean</span> and constructing its <span style=\"color: #385624; font-weight: 500;\">95% confidence interval</span>. Note that the popular choices of <a href=\"#\">confidence levels</a> are: 90%, 95%, and 99%\n",
    "\n",
    "Assuming normality of population, its sample means are also normally distributed. Let's say that you have a population, and you draw small fractions of it $N$ times. Then, the computed means of $N$ sample sets $\\boldsymbol{\\mu}=(\\mu_1, \\mu_2,..., \\mu_{N-1}, \\mu_N)$ is normally distributed as shown in <a href=\"#fig4\">figure (4)</a>. Their confidence intervals are represented as the black horizontal arrows:.\n",
    "\n",
    "<div id=\"fig4\" class=\"row give-margin-inline-big-plot mobile_responsive_plot_full_width\" style=\"margin-top: 15px;\">\n",
    "    <div class=\"col\"><img src=\"jupyter_images/conf_int_mean.png\"></div>\n",
    "    <div class=\"col-12\"><p class=\"image-description\">Figure 4: Distribution of sample mean and its C.I.</p></div>\n",
    "</div>\n",
    "\n",
    "You can see that the confidence interval of <span style=\"color: red; font-weight: 500;\">$\\mu_5$</span> does NOT include the <span style=\"color: #70ad47; font-weight: 500;\">green vertical dashed line</span>, 12.31. Let's assume that 12.31 is the true population mean (we never know if this is the actual population mean or not, but let's assume). If we get <span style=\"color: red; font-weight: 500;\">$\\mu_5$</span> and its confidence interval as our estimation of the population mean, then our estimation is wrong. There is a 5% chance of this happening, because we set our confidence level as 95%. Note that the width of the confidence intervals (black horizontal arrows) depend on the sample size, as shown in <a href=\"#eq-1\">eq (1)</a>\n",
    "\n",
    "The grey area of <a href=\"#fig3\">figure (3)</a> is essentially equivalent to the grey area of <a href=\"#fig4\">figure (4)</a>. $\\mu_1$ = 12.32 is the sample mean, and $\\pm$ 3.56 is the uncertainty related to the sample mean with 95% confidence. The uncertainty is a product of distribution score and standard error of mean. Distribution score essentially tells how many standard error are the limits (8.76 and 15.88) away from the center (12.32). Choosing larger confidence level results in larger confidence interval. This increases the grey area in <a href=\"#fig3\">figure (3)</a> and <a href=\"#fig4\">figure (4)</a>. \n",
    "\n",
    "We convey 95% confidence interval of mean like this:\n",
    "\n",
    "> I am 95% confident that the population mean falls between 8.76 and 15.88. If I sample data 20 times, 19 times the sample mean will fall between 8.76 ~ 15.88, but expect that I will be wrong 1 time.\n",
    "\n",
    "<div id=\"dist_stats\"></div>\n",
    "<div class=\"alert alert-info\">\n",
    "    <h4>Notes: Distribution of various statistics</h4>\n",
    "    <p>Different statistics exhibit different distributions. Normality of samples does not guarantee normality of its statistics. When the samples are normally distributed, their means are normally distributed, but their variances are chi-square <span style=\"font-size: 90% !important\">$\\chi^2$</span> distributed. More discussion about the distribution of variance and <span style=\"font-size: 90% !important\">$\\chi^2$</span> distribution is covered <a href=\"#chi_square\">below</a>. Note that these assumptions are invalid when samples are non-normal.</p>\n",
    "    <img class=\"\" style=\"border: 1px solid #ddd;\" src=\"jupyter_images/chi_norm.png\"/>\n",
    "    <div class=\"solution_panel closed\" style=\"margin-top: 20px;\">\n",
    "        <div class=\"solution_title solution_admonition\">\n",
    "            <p class=\"solution_title_string\">Source Code For The Figure</p>\n",
    "            <ul class=\"nav navbar-right panel_toolbox\">\n",
    "                <li><a class=\"collapse-link\"><i class=\"fa fa-chevron-down\"></i></a></li>\n",
    "            </ul>\n",
    "            <div class=\"clearfix\"></div>\n",
    "        </div>\n",
    "        <div class=\"solution_content\">\n",
    "            <pre>\n",
    "                <code class=\"language-python\">\n",
    "                    from scipy import stats\n",
    "                    import matplotlib.pyplot as plt\n",
    "                    import numpy as np\n",
    "\n",
    "                    df_values = [1, 2, 6, 9]\n",
    "                    linestyles = ['-', '--', ':', '-.']\n",
    "                    normal_params = [(10, 1), (11, 1), (10, 2), (10, 3)]\n",
    "                    x = np.linspace(-1, 20, 1000)\n",
    "                    \n",
    "                    plt.style.use('seaborn-whitegrid')\n",
    "                    fig, ax = plt.subplots(1, 2, figsize=(13.3, 5))\n",
    "                    fig.tight_layout()\n",
    "                    plt.subplots_adjust(left=0.09, right=0.96, bottom=0.12, top=0.93)\n",
    "\n",
    "                    for df, norm_p, ls in zip(df_values, normal_params, linestyles):\n",
    "                        ax[1].plot(x, stats.chi2.pdf(x, df, loc=0, scale=1),\n",
    "                                   ls=ls, c='black', label=r'Degrees of freedom$=%i$' % df)\n",
    "                        ax[0].plot(x, stats.norm.pdf(x, loc=norm_p[0], scale=norm_p[1]), \n",
    "                                   ls=ls, c='black', label='Mean = %d, ' % norm_p[0] + 'Std = %s' % norm_p[1])\n",
    "\n",
    "                    ax[0].set_xlim(4, 16)\n",
    "                    ax[0].set_ylim(-0.025, 0.525)\n",
    "                    ax[0].set_xlabel('$x$', fontsize=20)\n",
    "                    ax[0].set_ylabel(r'Probability', fontsize=20)\n",
    "                    ax[0].set_title(r'Distribution of means: normal distribution', fontsize=20)\n",
    "                    ax[0].legend(loc='upper left', fontsize=16, framealpha=1, frameon=True)\n",
    "\n",
    "                    ax[1].set_xlim(0, 10)\n",
    "                    ax[1].set_ylim(-0.025, 0.525)\n",
    "                    ax[1].set_xlabel('$\\chi^2$', fontsize=20)\n",
    "                    ax[1].set_title(r'Distribution of variances: $\\chi^2$ distribution', fontsize=20)\n",
    "                    ax[1].legend(loc='best', fontsize=16, framealpha=1, frameon=True)\n",
    "                </code>\n",
    "            </pre>\n",
    "        </div>\n",
    "    </div>\n",
    "</div>"
   ]
  },
  {
   "cell_type": "markdown",
   "metadata": {},
   "source": [
    "If sample data is normal or normal-like distributed, we almost always assume t-distribution to compute confidence interval, as explained <a href=\"#t_vs_z\">below</a>. Then, the confidence interval of mean has the following analytical solution:\n",
    "\n",
    "<div id=\"eq-1\" style=\"font-size: 1rem;\">\n",
    "$$ \\text{C.I.}_{\\text{mean}}: \\quad \\mu \\pm (t_{1-\\frac{\\alpha}{2},df} \\times \\frac{s}{\\sqrt{n}}) \\tag{1}$$\n",
    "</div>\n",
    "\n",
    "<div class=\"eq-terms\">\n",
    "    <div class=\"row eq-terms-where\">where</div>\n",
    "    <div class=\"row\">\n",
    "        <div class=\"col-3\"><p>$\\mu$<p></div>\n",
    "        <div class=\"col-9\"><p>: sample mean<p></div>\n",
    "    </div>\n",
    "    <div class=\"row\">\n",
    "        <div class=\"col-3\">$\\alpha$</div>\n",
    "        <div class=\"col-9\">: <a href=\"#\">significance level</a></div>\n",
    "    </div>    \n",
    "    <div class=\"row\">\n",
    "        <div class=\"col-3\"><p>$n$<p></div>\n",
    "        <div class=\"col-9\"><p>: number of samples<p></div>\n",
    "    </div>\n",
    "    <div class=\"row\">\n",
    "        <div class=\"col-3\"><p>$df$<p></div>\n",
    "        <div class=\"col-9\"><p>: degrees of freedom. In this example, df = $n$ - 1<p></div>\n",
    "    </div>    \n",
    "    <div class=\"row\">\n",
    "        <div class=\"col-3\">$s$</div>\n",
    "        <div class=\"col-9\">: sample standard deviation</div>\n",
    "    </div>   \n",
    "    <div class=\"row\">\n",
    "        <div class=\"col-3\">$t$</div>\n",
    "        <div class=\"col-9\">: t-score. depends on $\\alpha$ and $df$</div>\n",
    "    </div>   \n",
    "</div>\n",
    "\n",
    "Recall that when computing $s$, correction factor ($n-1$) is applied to account for sample bias, as explained <a href=\"#sample_pop_var\">above</a>. Pay close attention to the standard error $\\frac{s}{\\sqrt{(n)}}$. As the sample size $n$ increases, the standard error decreases, reducing the range of confidence interval. This is intuitive in a sense that, the more samples we have, the less uncertainty we have with our statistical estimation. The length of the black horizontal arrows in <a href=\"#fig4\">figure (4)</a> depends on the sample size. The larger the sample size, the narrower the width of arrows, and vice versa.\n",
    "\n",
    "<div id=\"t_vs_z\"></div>\n",
    "<div class=\"alert alert-info\">\n",
    "    <h4>Notes: z-score vs t-score</h4>\n",
    "    <p>You've probably seen mixed use of z-score and t-score for confidence interval during your studies. Long story short, it is safe and almost always better to use t-score than z-score.</p>\n",
    "    <p>Z-score ($z_{\\frac{\\alpha}{2}}$) is used for normal distribution, and t-score ($t_{\\frac{\\alpha}{2},df}$) is used for t-distribution. You use z-score if you know the population variance $\\sigma^2$. If not, you use t-score. Since the population variance $\\sigma^2$ is almost never known, you almost always use t-score for confidence interval. After all, the purpose of using confidence interval is to mitigate the issue of <a href=\"#population_vs_samples\">Population vs. Samples</a> when estimating population parameter ($\\sigma^2$) from samples. If you know the population parameters, you probably don't need confidence interval in the first place.</p>\n",
    "    <p>A natural question is, \"how is it safe to use t-score instead of z-score? Shouldn't I be using z-score since I know that the population is normally distributed, from previous knowledge?\" It is safe to do so because t-distribution converges to normal distribution according to the Centeral Limit Theorem. Recall that t-distribution behaves more and more like a normal distribution as the sample size increases.</p>\n",
    "    <p>Google <i>\"95% confidence z-score\"</i> and you will see $z$ = 1.96 at 95% confidence level. On the other hand, t-score approaches  1.96 as its degrees of freedom increases: $\\lim_{df \\to \\infty}t$ = 1.96. For 95% confidence level, $t$ = 2.228 when $n$ - 1 = 10 and $t$ = 2.086 when $n$ - 1 = 20. This is why it is safe to always replace z-score with t-score when computing confidence interval.</p>\n",
    "</div>"
   ]
  },
  {
   "cell_type": "markdown",
   "metadata": {},
   "source": [
    "<div style=\"margin: -20px\"></div>\n",
    "<div><hr></div>\n",
    "\n",
    "<div id=\"python_ci_mean\"></div>\n",
    "<p style=\"color: #666\"><b>Pythonic Tip:</b> Computing confidence interval of mean with SciPy<p>\n",
    "\n",
    "We can compute confidence interval of mean directly from using <a href=\"#eq-1\">eq (1)</a>. Recall to pass <code>ddof=1</code> to make sure to compute sample standard deviation $s$, not population standard deviation $\\sigma$, as explained <a href=\"#python_variance\">above</a>. \n",
    "\n",
    "We will draw random samples from normal distribution using <a href=\"https://docs.scipy.org/doc/numpy/reference/generated/numpy.random.normal.html\" target=\"_blank\">np.random.normal().</a> Note that <code>loc</code> is for population mean, and <code>scale</code> is for population standard deviation, and <code>size</code> is for number of samples to draw.\n",
    "\n",
    "<div style=\"margin: -20px\"></div>"
   ]
  },
  {
   "cell_type": "code",
   "execution_count": 128,
   "metadata": {},
   "outputs": [],
   "source": [
    "from scipy import stats\n",
    "import numpy as np\n",
    "\n",
    "np.random.seed(42)\n",
    "\n",
    "arr = np.random.normal(loc=74, scale=4.3, size=20)\n",
    "\n",
    "alpha = 0.05                       # significance level = 5%\n",
    "df = len(arr) - 1                  # degress of freedom = 20\n",
    "t = stats.t.ppf(1 - alpha/2, df)   # two-tailed 95% confidence t-score = 2.086\n",
    "s = np.std(arr, ddof=1)            # sample standard deviation = 2.502\n",
    "n = len(arr)\n",
    "\n",
    "lower = np.mean(arr) - (t * s / np.sqrt(n))\n",
    "upper = np.mean(arr) + (t * s / np.sqrt(n))"
   ]
  },
  {
   "cell_type": "code",
   "execution_count": 129,
   "metadata": {},
   "outputs": [
    {
     "data": {
      "text/plain": [
       "(71.33139551903422, 75.19543685256606)"
      ]
     },
     "execution_count": 129,
     "metadata": {},
     "output_type": "execute_result"
    }
   ],
   "source": [
    "(lower, upper)"
   ]
  },
  {
   "cell_type": "markdown",
   "metadata": {},
   "source": [
    "<div style=\"margin-top: -20px\"></div>\n",
    "\n",
    "Or we can compute with <a href=\"https://docs.scipy.org/doc/scipy/reference/generated/scipy.stats.t.html\" arget=\"_blank\">scipy.stats.t.interval().</a> Note that you don't divide <code>alpha</code> by 2, because the function does that for you. Also note that the standard error $\\frac{s}{\\sqrt{n}}$ can be computed with <a href=\"https://docs.scipy.org/doc/scipy/reference/generated/scipy.stats.sem.html\" target=\"_blank\">scipy.stats.sem()</a>"
   ]
  },
  {
   "cell_type": "code",
   "execution_count": 130,
   "metadata": {},
   "outputs": [
    {
     "data": {
      "text/plain": [
       "(71.33139551903422, 75.19543685256606)"
      ]
     },
     "execution_count": 130,
     "metadata": {},
     "output_type": "execute_result"
    }
   ],
   "source": [
    "stats.t.interval(1 - alpha, len(arr) - 1, loc=np.mean(arr), scale=stats.sem(arr))"
   ]
  },
  {
   "cell_type": "markdown",
   "metadata": {},
   "source": [
    "<div style=\"margin-top: -20px\"></div>\n",
    "\n",
    "Note the default value of <code>loc=0</code> and <code>scale=1</code>. This will assume sample mean $\\mu$ to be 0, and standard error $\\frac{s}{\\sqrt{n}}$ to be 1, which assumes standard normal distribution of mean = 0 and standard deviation = 1. <u>This is NOT what we want.</u>"
   ]
  },
  {
   "cell_type": "code",
   "execution_count": 8,
   "metadata": {},
   "outputs": [
    {
     "data": {
      "text/plain": [
       "(-2.093024054408263, 2.093024054408263)"
      ]
     },
     "execution_count": 8,
     "metadata": {},
     "output_type": "execute_result"
    }
   ],
   "source": [
    "stats.t.interval(1 - alpha, len(arr) - 1)"
   ]
  },
  {
   "cell_type": "markdown",
   "metadata": {},
   "source": [
    "<div style=\"margin-top: 30px\" id=\"conf_int_of_diff_in_mean\"></div>\n",
    "\n",
    "### 4.2. Confidence interval of difference in mean\n",
    "\n",
    "Confidence interval of difference in mean is not very useful by itself. But it is important to understand how it works, because it forms the basis of one of the most widely used hypothesis test: <a href=\"https://www.investopedia.com/terms/t/t-test.asp\" target=\"_blank\">t-test</a>. \n",
    "\n",
    "Often we are interested in knowing if two distributions are significantly different. In the other words, we want to know if two sample data sets came from the same population by <a href=\"#\">comparing central tendency of populations</a>. A standard approach is to check if the sample means are different. However, this is a misleading approach in a sense that the means of samples are almost always different, even if the difference is microscopic. More useful would be to estimate the difference in a <i>range</i> to account for uncertainty, and compute probability that it is big enough to be of practical importance. T-test checks if the difference is \"close enough\" to zero by computing the confidence interval of difference in means.\n",
    "\n",
    "<u>T-test hypothesis</u>\n",
    "\n",
    "<div  style=\"font-size: 1rem;\">\n",
    "$$ H_0: \\mu_1 - \\mu_2 = 0 \\tag{2}$$\n",
    "</div>\n",
    "<div  style=\"font-size: 1rem;\">\n",
    "$$ H_1: \\mu_1 - \\mu_2 \\neq 0 \\tag{3}$$\n",
    "</div>\n",
    "\n",
    "<div class=\"eq-terms\">\n",
    "    <div class=\"row eq-terms-where\">where</div>\n",
    "    <div class=\"row\">\n",
    "        <div class=\"col-3\"><p>$\\mu$<p></div>\n",
    "        <div class=\"col-9\"><p>: sample mean<p></div>\n",
    "    </div> \n",
    "    <div class=\"row\">\n",
    "        <div class=\"col-3\"><p>$H_0$<p></div>\n",
    "        <div class=\"col-9\"><p>: null hypothesis — sample means are the same \"enough\"<p></div>\n",
    "    </div>\n",
    "    <div class=\"row\">\n",
    "        <div class=\"col-3\">$H_1$</div>\n",
    "        <div class=\"col-9\"><p>: alternate hypothesis — sample means are \"significantly\" different</p></div>\n",
    "    </div>    \n",
    "</div>\n",
    "\n",
    "Note that the above hypothesis tests whether the mean of one group is significantly DIFFERENT from the mean of the other group; we are using two-tailed test. This does not check if the mean of one group is significantly GREATER than the mean of the other group, which uses one-tailed test.\n",
    "\n",
    "<div id=\"anova\"></div>\n",
    "<div class=\"alert alert-info\">\n",
    "    <h4>Notes: Comparing means of more than two samples with ANOVA</h4>\n",
    "    <p>Analysis of variance (ANOVA) checks if the means of two or more samples are significantly different from each other. Using t-test is not reliable in cases where there are more than 2 samples. If we conduct multiple t-tests for comparing more than two samples, it will have a compounded effect on the error rate of the result.</p>\n",
    "    <p>ANOVA has the following hypothesis:</p>\n",
    "    <p><div style=\"font-size: 1rem; margin-top: 20px;\">$$\n",
    "        \\begin{align}\n",
    "           H_0: &\\mu_1 = \\mu_2 = \\, \\cdots \\, =\\mu_L \\\\[5pt]\n",
    "           H_1: &\\mu_a \\neq \\mu_b\n",
    "        \\end{align}\n",
    "    $$</div></p>\n",
    "    <p>where $L$ is the number of groups, and $\\mu_a$ and $\\mu_b$ belong to any two sample means of any groups. <a href=\"https://www.analyticsvidhya.com/blog/2018/01/anova-analysis-of-variance/\" target=\"_blank\">This article</a> illustrates the concept of ANOVA very well.</p>\n",
    "</div>"
   ]
  },
  {
   "cell_type": "markdown",
   "metadata": {},
   "source": [
    "<div id=\"fig5\" class=\"row\" style=\"margin-top: 15px;\">\n",
    "    <div class=\"col\"><img src=\"jupyter_images/conf_int_diff_means.png\"></div>\n",
    "    <div class=\"col-12\"><p class=\"image-description\">Figure 5: Distributions of samples</p></div>\n",
    "</div>\n",
    "\n",
    "In <a href=\"#fig5\">figure (5)</a>, $\\mu$ represents the sample mean. If two sample data sets are from the same population, the distribution of means will be similar \"enough\". If not, they will be \"significantly\" different. It can be visually inspected by the area of overlap. The larger the overlap, the bigger the chance of the two distributions originating from the same population.\n",
    "\n",
    "The more robust way to compare sample means would be to construct the confidence interval of difference in means. If the two samples came from the same population, they should have the similar \"enough\" means. Their difference should be close to zero and satisfy (or fail to reject) the null hypothesis <span style=\"color: #ed7d32; font-weight: 500;\">$H_0: \\mu_1 - \\mu_2 = 0$</span> within a range of uncertainty. Consider the following figure:\n",
    "\n",
    "<div id=\"fig6\" class=\"row\" style=\"margin-top: 15px;\">\n",
    "    <div class=\"col\"><img src=\"jupyter_images/conf_int_diff_means_dist.png\"></div>\n",
    "    <div class=\"col-12\"><p class=\"image-description\">Figure 6: Distribution of difference in means</p></div>\n",
    "</div>\n",
    "\n",
    "In <a href=\"#fig6\">figure (6)</a>, the calculated difference in sample means is <span style=\"color: #70ad47; font-weight: 500;\">$\\mu_1 - \\mu_2 = 1.00$</span>. We deliver the uncertainty related to our estimation of difference in sample means by constructing its <span style=\"color: #385624; font-weight: 500;\">95% confidence interval $[$-1.31 ~ 3.31$]$</span>. Since the null hypothesis <span style=\"color: #ed7d32; font-weight: 500;\">$H_0: \\mu_1 - \\mu_2 = 0$</span> is within the 95% confidence interval (<span style=\"color: #929292; font-weight: 500;\">grey shaded area</span>), we accept the null hypothesis; we conclude that the samples have the same means within the uncertainty.\n",
    "\n",
    "However, if the null hypothesis is not within the confidence interval and falls in the **2.5% outliers** zone, we reject the null hypothesis and accept the alternate hypothesis <span style=\"color: #030303; font-weight: 500;\">$H_1: \\mu_1 - \\mu_2 \\neq 0$</span>. In the other words, we conclude that the sample means are significantly different."
   ]
  },
  {
   "cell_type": "markdown",
   "metadata": {},
   "source": [
    "<div style=\"margin: -20px\"></div>\n",
    "<div><hr></div>\n",
    "\n",
    "<div id=\"\"></div>\n",
    "<p style=\"color: #666\"><b>Three variations of confidence interval of difference in means</b><p>\n",
    "\n",
    "There are three variations of t-test, and therefore there are three variations of confidence interval of difference in means. The difference & application of the three variations are really well-explained in <a href=\"https://en.wikipedia.org/wiki/Student%27s_t-test\" target=\"_blank\">Wikipedia</a> (one of the few that are actually easy to understand, with minimum jargons.)\n",
    "\n",
    "<ol class=\"rounded-list\" style=\"margin-bottom: 40px !important; margin-top: 40px! important;\">\n",
    "    <li><a href=\"#ind_equal\">Independent (unpaired) samples, equal variance - Student's t-interval</a></li>\n",
    "    <li><a href=\"#ind_unequal\">Independent (unpaired) samples, unequal variance - Welch's t-interval</a></li>\n",
    "    <li><a href=\"#dep\">Dependent (paired) samples</a></li>\n",
    "</ol>\n",
    "\n",
    "Recall that all t-tests assume normality of data. However, they are pretty robust to non-normality as long as the deviation from normality isn't large. Visualize your distributions to test this. Robustness of t-test to non-normality is discussed in detail <a href=\"robustness\">below</a>."
   ]
  },
  {
   "cell_type": "markdown",
   "metadata": {},
   "source": [
    "<div id=\"ind_equal\"></div>\n",
    "\n",
    "#### 4.2.1. Independent (unpaired) samples, equal variance - student's t-interval\n",
    "\n",
    "When you have a reason to believe that samples have nearly equal variances, you can use student's t-test to check if difference in means are significantly different. Note that student's t-test works pretty well even with unequal variances as long as sample sample sizes are equal or nearly equal, and sample sizes are not tiny. \n",
    "\n",
    "However, it is recommended to always use Welch's t-test by assuming unequal variances, as explained <a href=\"#which_to_use\">below</a>. Use student's t-test if you are ABSOLUTELY sure that the population variances are nearly equal. \n",
    "\n",
    "Confidence interval of difference in mean assuming equal variance (student's t-interval) can be calculated as follows:\n",
    "\n",
    "<div id=\"eq-4\" style=\"font-size: 1rem;\">\n",
    "$$ \\text{C.I.}_{\\Delta \\text{mean}}: \\quad (\\mu_{1}- \\mu_{2}) \\pm (t_{1-\\frac{\\alpha}{2},df} \\times s_p\\sqrt{\\frac{1}{n_1}+\\frac{1}{n_2}})\\,, \\quad s_p = \\sqrt{\\frac{(n_1-1)s_{1}^2 + (n_2-1)s_{2}^2}{n_1+n_2-2}} \\tag{4}$$\n",
    "</div>\n",
    "\n",
    "<div class=\"eq-terms\">\n",
    "    <div class=\"row eq-terms-where\">where</div>\n",
    "    <div class=\"row\">\n",
    "        <div class=\"col-3\"><p>$\\mu$<p></div>\n",
    "        <div class=\"col-9\"><p>: sample mean<p></div>\n",
    "    </div>\n",
    "    <div class=\"row\">\n",
    "        <div class=\"col-3\">$\\alpha$</div>\n",
    "        <div class=\"col-9\">: <a href=\"#\">significance level</a></div>\n",
    "    </div>    \n",
    "    <div class=\"row\">\n",
    "        <div class=\"col-3\"><p>$n$<p></div>\n",
    "        <div class=\"col-9\"><p>: number of samples<p></div>\n",
    "    </div>\n",
    "    <div class=\"row\">\n",
    "        <div class=\"col-3\"><p>$df$<p></div>\n",
    "        <div class=\"col-9\"><p>: degrees of freedom<p></div>\n",
    "    </div>    \n",
    "    <div class=\"row\">\n",
    "        <div class=\"col-3\">$s_p$</div>\n",
    "        <div class=\"col-9\">: pooled standard deviation</div>\n",
    "    </div>  \n",
    "    <div class=\"row\">\n",
    "        <div class=\"col-3\">$s$</div>\n",
    "        <div class=\"col-9\">: sample standard deviation</div>\n",
    "    </div>   \n",
    "    <div class=\"row\">\n",
    "        <div class=\"col-3\">$t$</div>\n",
    "        <div class=\"col-9\">: t-score. depends on $\\alpha$ and degrees of freedom $n-1$</div>\n",
    "    </div>   \n",
    "</div>\n",
    "\n",
    "The formula for the pooled standard deviation $s_p$ looks a bit overwhelming, but its just an weighted average standard deviation of two samples, with <a href=\"#sample_pop_var\">bias correction factor</a> $n_i-1$ for each sample. Recall that student's t-test assumes equal variances of two samples. You calculate what is assumed to be the common variance (=pooled variance, $s_p^2$) by computing the weighted average from each sample's variance.\n",
    "\n",
    "In <a href=\"#eq-4\">eq (4)</a>, $t$-score depends on significance level $\\alpha$ and degrees of freedom $df$. In student's t-test, which assumes equal variance:\n",
    "\n",
    "<div id=\"eq-5\" style=\"font-size: 1rem;\">\n",
    "$$ df = n_1 + n_2 -2 \\tag{5}$$\n",
    "</div>"
   ]
  },
  {
   "cell_type": "markdown",
   "metadata": {},
   "source": [
    "<div><hr></div>\n",
    "\n",
    "<div id=\"python_ind_equal\"></div>\n",
    "<p style=\"color: #666\"><b>Pythonic Tip:</b> Computing student's t-interval<p>\n",
    "\n",
    "Unfortunately, SciPy doesn't support computing confidence intereval of difference in mean separately. It is incorporated into computing t-statistic and p-value of t-test, but users can't access its underlying confidence interval. Note that in R, users have access to the CI of difference in means.\n",
    "\n",
    "We can compute CI of difference in means assuming equal variance with <a href=\"eq-4\">eq (4)</a>. Don't forget to compute sample variance, instead of population variance by setting <code>ddof=1</code> as explained <a href=\"#python_variance\">above</a>.\n",
    "    \n",
    "<div style=\"margin-bottom: -20px\"></div>"
   ]
  },
  {
   "cell_type": "code",
   "execution_count": 182,
   "metadata": {},
   "outputs": [],
   "source": [
    "from scipy import stats\n",
    "import numpy as np"
   ]
  },
  {
   "cell_type": "code",
   "execution_count": 183,
   "metadata": {},
   "outputs": [],
   "source": [
    "x1 = [12.9, 10.2, 7.4, 7.0, 10.5, 11.9, 7.1, 9.9, 14.4, 11.3]\n",
    "x2 = [10.2, 6.9, 10.9, 11.0, 10.1, 5.3, 7.5, 10.3, 9.2, 8.8]\n",
    "\n",
    "alpha = 0.05                                                 # significance level = 5%\n",
    "n1, n2 = len(x1), len(x2)                                    # sample sizes\n",
    "s1, s2 = np.var(x1, ddof=1), np.var(x2, ddof=1)              # sample variances\n",
    "s = np.sqrt(((n1 - 1) * s1 + (n2 - 1) * s2) / (n1 + n2 - 2)) # pooled standard deviation\n",
    "df = n1 + n2 - 2                                             # degrees of freedom\n",
    "t = stats.t.ppf(1 - alpha/2, df)                             # two-tailed 95% confidence t-score\n",
    "\n",
    "lower = (np.mean(x1) - np.mean(x2)) - t * np.sqrt(1 / len(x1) + 1 / len(x2)) * s\n",
    "upper = (np.mean(x1) - np.mean(x2)) + t * np.sqrt(1 / len(x1) + 1 / len(x2)) * s"
   ]
  },
  {
   "cell_type": "code",
   "execution_count": 184,
   "metadata": {},
   "outputs": [
    {
     "data": {
      "text/plain": [
       "(-0.8520326742900641, 3.332032674290068)"
      ]
     },
     "execution_count": 184,
     "metadata": {},
     "output_type": "execute_result"
    }
   ],
   "source": [
    "(lower, upper)"
   ]
  },
  {
   "cell_type": "markdown",
   "metadata": {},
   "source": [
    "<div style=\"margin-top: -20px\"></div>\n",
    "\n",
    "The 95% confidence interval of difference in means has 0 within its interval. This means that the null hypothesis, <span style=\"color: #ed7d32; font-weight: 500; font-size: 0.85rem;\">$H_0: \\mu_1 - \\mu_2 = 0$</span> in <a href=\"#fig6\">figure (6)</a>, falls within the interval and we fail to reject the null hypothesis. We conclude that the sample means are not significantly different.\n",
    "\n",
    "We can confirm this by running a formal hypothesis testing with <a href=\"https://docs.scipy.org/doc/scipy/reference/generated/scipy.stats.ttest_ind.html\" target=\"_blank\">scipy.stats.ttest_ind()</a>, and setting <code>equal_var=True</code>. Note that this assumes independent t-test with pooled variance, which is equivalent to student's t-test."
   ]
  },
  {
   "cell_type": "code",
   "execution_count": 185,
   "metadata": {},
   "outputs": [
    {
     "data": {
      "text/plain": [
       "Ttest_indResult(statistic=1.2452689491491107, pvalue=0.22900078577218805)"
      ]
     },
     "execution_count": 185,
     "metadata": {},
     "output_type": "execute_result"
    }
   ],
   "source": [
    "stats.ttest_ind(x1, x2, equal_var=True)"
   ]
  },
  {
   "cell_type": "markdown",
   "metadata": {},
   "source": [
    "<div style=\"margin-top: -20px\"></div>\n",
    "\n",
    "The computed <code>pvalue=0.229</code> is bigger than the significance level of <code>alpha = 0.05</code>, and therefore we fail to reject the null hypothesis, which is consistent with the conclusion drawn from the confidence interval of difference in mean.\n",
    "\n",
    "<div><hr></div>\n",
    "\n",
    "<p><u>Checking results with R</u>:</p>\n",
    "<pre>\n",
    "    <code class=\"language-python\">\n",
    "        a <- c(12.9, 10.2, 7.4, 7.0, 10.5, 11.9, 7.1, 9.9, 14.4, 11.3)\n",
    "\n",
    "        b <- c(10.2, 6.9, 10.9, 11.0, 10.1, 5.3, 7.5, 10.3, 9.2, 8.8)\n",
    "\n",
    "        t.test(a, b, var.equal = TRUE)\n",
    "         \n",
    "        # \tTwo Sample t-test\n",
    "\n",
    "        # data:  a and b\n",
    "        # t = 1.2453, df = 18, p-value = 0.229\n",
    "        # 95 percent confidence interval:\n",
    "        #  -0.8520327  3.3320327\n",
    "        # sample estimates:\n",
    "        # mean of x mean of y \n",
    "        #     10.26      9.02 \n",
    "    </code>\n",
    "</pre>\n"
   ]
  },
  {
   "cell_type": "markdown",
   "metadata": {},
   "source": [
    "<div id=\"ind_unequal\"></div>\n",
    "\n",
    "#### 4.2.2. Independent (unpaired) samples, unequal variance - Welch's t-interval\n",
    "\n",
    "When comparing central tendency of normal distributions, it is safer, and therefore recommended to always use Welch's t-test, which assumes unequal variances of samples, as explained <a href=\"#which_to_use\">below</a>. Equal variance t-test is not robust when population variances are different, but unequal variances are robust even when population variances are equal. \n",
    "\n",
    "Confidence interval of difference in mean assuming unequal variance (Welch's t-interval) can be calculated as follows:\n",
    "\n",
    "<div id=\"eq-6\" style=\"font-size: 1rem;\">\n",
    "$$ \\text{C.I.}_{\\Delta \\text{mean}}: \\quad (\\mu_{1}- \\mu_{2}) \\pm (t_{1-\\frac{\\alpha}{2},df} \\times \\sqrt{\\frac{s_1^2}{n_1}+\\frac{s_2^2}{n_2}}) \\tag{6}$$\n",
    "</div>\n",
    "\n",
    "<div class=\"eq-terms\">\n",
    "    <div class=\"row eq-terms-where\">where</div>\n",
    "    <div class=\"row\">\n",
    "        <div class=\"col-3\"><p>$\\mu$<p></div>\n",
    "        <div class=\"col-9\"><p>: sample mean<p></div>\n",
    "    </div>\n",
    "    <div class=\"row\">\n",
    "        <div class=\"col-3\">$\\alpha$</div>\n",
    "        <div class=\"col-9\">: <a href=\"#\">significance level</a></div>\n",
    "    </div>    \n",
    "    <div class=\"row\">\n",
    "        <div class=\"col-3\"><p>$n$<p></div>\n",
    "        <div class=\"col-9\"><p>: number of samples<p></div>\n",
    "    </div>\n",
    "    <div class=\"row\">\n",
    "        <div class=\"col-3\"><p>$df$<p></div>\n",
    "        <div class=\"col-9\"><p>: degrees of freedom<p></div>\n",
    "    </div>    \n",
    "    <div class=\"row\">\n",
    "        <div class=\"col-3\">$s$</div>\n",
    "        <div class=\"col-9\">: sample standard deviation</div>\n",
    "    </div>   \n",
    "    <div class=\"row\">\n",
    "        <div class=\"col-3\">$t$</div>\n",
    "        <div class=\"col-9\">: t-score. depends on $\\alpha$ and degrees of freedom $n-1$</div>\n",
    "    </div>   \n",
    "</div>\n",
    "\n",
    "The formula is very similar to student's t-interval. There are two main differences:\n",
    "\n",
    "<p style=\"padding-left: 20px;\">1.  We use each sample's own variance $s_1^2$ and $s_2^2$, instead of pooled (weighted average) variance $s_p^2$.</p>\n",
    "<p style=\"padding-left: 20px;\">2.  Degrees of freedom <span style=\"font-size: 0.85rem;\">$df$</span> is computed with <a href=\"#eq-7\">eq (7).</a></p>\n",
    "\n",
    "<div id=\"eq-7\" style=\"font-size: 1rem;\">\n",
    "$$ df = \\frac{(\\frac{s^2_1}{n_1} + \\frac{s^2_2}{n_2})^2}{\\frac{(s^2_1/n_1)^2}{n_1-1} + \\frac{(s^2_2/n_2)^2}{n_2-1}} \\tag{7}$$\n",
    "</div>"
   ]
  },
  {
   "cell_type": "markdown",
   "metadata": {},
   "source": [
    "<div><hr></div>\n",
    "\n",
    "<div id=\"python_ind_unequal\"></div>\n",
    "<p style=\"color: #666\"><b>Pythonic Tip:</b> Computing Welch's t-interval<p>\n",
    "\n",
    "The procedure is very similar to <a href=\"#python_ind_equal\">Computing student's t-interval</a>. We will compute confidence interval of difference in mean assuming unequal variance, with <a href=\"#eq-6\">eq (6).</a> Although Scipy supports computing t-statistic for Welch's t-test, it doesn't support a function that allows us to compute Welch's t-interval. We will have to write our own codes to compute it. \n",
    "\n",
    "Don't forget to compute sample variance, instead of population variance by setting <code>ddof=1</code> as explained <a href=\"#python_variance\">above</a>.\n",
    "    \n",
    "<div style=\"margin-bottom: -20px\"></div>"
   ]
  },
  {
   "cell_type": "code",
   "execution_count": 186,
   "metadata": {},
   "outputs": [],
   "source": [
    "from scipy import stats\n",
    "import numpy as np"
   ]
  },
  {
   "cell_type": "code",
   "execution_count": 187,
   "metadata": {},
   "outputs": [],
   "source": [
    "x1 = [12.9, 10.2, 7.4, 7.0, 10.5, 11.9, 7.1, 9.9, 14.4, 11.3]\n",
    "x2 = [10.2, 6.9, 10.9, 11.0, 10.1, 5.3, 7.5, 10.3, 9.2, 8.8]\n",
    "\n",
    "alpha = 0.05                                                       # significance level = 5%\n",
    "n1, n2 = len(x1), len(x2)                                          # sample sizes\n",
    "s1, s2 = np.var(x1, ddof=1), np.var(x2, ddof=1)                    # sample variances\n",
    "df = (s1/n1 + s2/n2)**2 / ((s1/n1)**2/(n1-1) + (s2/n2)**2/(n2-1))  # degrees of freedom\n",
    "t = stats.t.ppf(1 - alpha/2, df)                                   # two-tailed 95% confidence t-score\n",
    "\n",
    "lower = (np.mean(x1) - np.mean(x2)) - t * np.sqrt(1 / len(x1) + 1 / len(x2)) * s\n",
    "upper = (np.mean(x1) - np.mean(x2)) + t * np.sqrt(1 / len(x1) + 1 / len(x2)) * s"
   ]
  },
  {
   "cell_type": "code",
   "execution_count": 188,
   "metadata": {},
   "outputs": [
    {
     "data": {
      "text/plain": [
       "(-0.8633815129922358, 3.3433815129922397)"
      ]
     },
     "execution_count": 188,
     "metadata": {},
     "output_type": "execute_result"
    }
   ],
   "source": [
    "(lower, upper)"
   ]
  },
  {
   "cell_type": "markdown",
   "metadata": {},
   "source": [
    "<div style=\"margin-top: -20px\"></div>\n",
    "\n",
    "The 95% confidence interval of difference in means has 0 within its interval. This means that the null hypothesis, <span style=\"color: #ed7d32; font-weight: 500; font-size: 0.85rem;\">$H_0: \\mu_1 - \\mu_2 = 0$</span> in <a href=\"#fig6\">figure (6)</a>, falls within the interval and we fail to reject the null hypothesis. We conclude that the sample means are not significantly different.\n",
    "\n",
    "We can confirm this by running a formal hypothesis testing with <a href=\"https://docs.scipy.org/doc/scipy/reference/generated/scipy.stats.ttest_ind.html\" target=\"_blank\">scipy.stats.ttest_ind()</a>, and setting <code>equal_var=False</code>. Note that this assumes independent t-test with pooled variance, which is equivalent to student's t-test."
   ]
  },
  {
   "cell_type": "code",
   "execution_count": 189,
   "metadata": {},
   "outputs": [
    {
     "data": {
      "text/plain": [
       "Ttest_indResult(statistic=1.245268949149111, pvalue=0.23018336828903668)"
      ]
     },
     "execution_count": 189,
     "metadata": {},
     "output_type": "execute_result"
    }
   ],
   "source": [
    "stats.ttest_ind(x1, x2, equal_var=False)"
   ]
  },
  {
   "cell_type": "markdown",
   "metadata": {},
   "source": [
    "<div style=\"margin-top: -20px\"></div>\n",
    "\n",
    "The computed <code>pvalue=0.230</code> is bigger than the significance level of <code>alpha = 0.05</code>, and therefore we fail to reject the null hypothesis, which is consistent with the conclusion drawn from the confidence interval of difference in mean.\n",
    "\n",
    "\n",
    "<div><hr></div>\n",
    "\n",
    "<p><u>Checking results with R</u>:</p>\n",
    "<pre>\n",
    "    <code class=\"language-python\">\n",
    "        a <- c(12.9, 10.2, 7.4, 7.0, 10.5, 11.9, 7.1, 9.9, 14.4, 11.3)\n",
    "\n",
    "        b <- c(10.2, 6.9, 10.9, 11.0, 10.1, 5.3, 7.5, 10.3, 9.2, 8.8)\n",
    "\n",
    "        t.test(a, b, var.equal = FALSE)\n",
    "\n",
    "        # \tWelch Two Sample t-test\n",
    "\n",
    "        # data:  a and b\n",
    "        # t = 1.2453, df = 16.74, p-value = 0.2302\n",
    "        # alternative hypothesis: true difference in means is not equal to 0\n",
    "        # 95 percent confidence interval:\n",
    "        #  -0.8633815  3.3433815\n",
    "        # sample estimates:\n",
    "        # mean of x mean of y \n",
    "        #     10.26      9.02 \n",
    "\n",
    "    </code>\n",
    "</pre>"
   ]
  },
  {
   "cell_type": "markdown",
   "metadata": {},
   "source": [
    "<div id=\"dep\"></div>\n",
    "\n",
    "#### 4.2.3. Dependent (paired) samples - Paired t-interval\n",
    "\n",
    "This test is used when the samples are dependent; that is, when there is only one sample that has been tested twice (repeated measures) or when there are two samples that have been matched or \"paired\" (paired or unpaired? read <a href=\"#which_to_use\">below.</a>)\n",
    "\n",
    "Confidence interval of difference in means assuming paired samples can be calculated as follows:\n",
    "\n",
    "<div id=\"eq-8\" style=\"font-size: 1rem;\">\n",
    "$$ \\text{C.I.}_{\\Delta \\text{mean}}: \\quad \\bar{d} \\pm (t_{1-\\frac{\\alpha}{2}, df} \\times \\frac{s_d}{\\sqrt{n}})\\tag{8}$$\n",
    "</div>\n",
    "\n",
    "<div class=\"eq-terms\">\n",
    "    <div class=\"row eq-terms-where\">where</div>\n",
    "    <div class=\"row\">\n",
    "        <div class=\"col-3\"><p>$\\bar{d}$<p></div>\n",
    "        <div class=\"col-9\"><p>: average of sample differences<p></div>\n",
    "    </div>\n",
    "    <div class=\"row\">\n",
    "        <div class=\"col-3\">$\\alpha$</div>\n",
    "        <div class=\"col-9\">: <a href=\"#\">significance level</a></div>\n",
    "    </div>    \n",
    "    <div class=\"row\">\n",
    "        <div class=\"col-3\"><p>$n$<p></div>\n",
    "        <div class=\"col-9\"><p>: number of samples<p></div>\n",
    "    </div>\n",
    "    <div class=\"row\">\n",
    "        <div class=\"col-3\"><p>$df$<p></div>\n",
    "        <div class=\"col-9\"><p>: degrees of freedom<p></div>\n",
    "    </div>    \n",
    "    <div class=\"row\">\n",
    "        <div class=\"col-3\">$s_d$</div>\n",
    "        <div class=\"col-9\">: standard deviation of sample differences</div>\n",
    "    </div>   \n",
    "    <div class=\"row\">\n",
    "        <div class=\"col-3\">$t$</div>\n",
    "        <div class=\"col-9\">: t-score. depends on $\\alpha$ and degrees of freedom $n-1$</div>\n",
    "    </div>   \n",
    "</div>\n",
    "\n",
    "The equation is very similar to <a href=\"#eq-1\">eq (1)</a>, except that we are computing mean and standard deviation of differences between before & after state of test subjects. Let's try to understand this with an example.\n",
    "\n",
    "A school develops a tutoring program to improve the SAT scores of high school students. A school requires students to take tests before & after tutoring, and checks if the tutoring had a significant impact on the SAT scores of students. Because the test subjects are compared to themselves, not anyone elses, the measurements taken before & after the training are not independent.\n",
    "\n",
    "To compute dependent t-interval, we compute differences of test scores before & after tutoring:\n",
    "\n",
    "<table>\n",
    "    <thead>\n",
    "        <tr>\n",
    "            <th>Student #</th>\n",
    "            <th>$X_1$</th>\n",
    "            <th>$X_2$</th>\n",
    "            <th>$X_1$ - $X_2$</th>\n",
    "        </tr>\n",
    "    </thead>\n",
    "    <tbody>\n",
    "        <tr>\n",
    "            <td>1</td>\n",
    "            <td>1480</td>\n",
    "            <td>1510</td>\n",
    "            <td>-30</td>\n",
    "        </tr>\n",
    "        <tr>\n",
    "            <td>2</td>\n",
    "            <td>1280</td>\n",
    "            <td>1460</td>\n",
    "            <td>-180</td>\n",
    "        </tr>\n",
    "        <tr>\n",
    "            <td>3</td>\n",
    "            <td>890</td>\n",
    "            <td>1320</td>\n",
    "            <td>-430</td>\n",
    "        </tr>\n",
    "        <tr>\n",
    "            <td>4</td>\n",
    "            <td>340</td>\n",
    "            <td>700</td>\n",
    "            <td>-360</td>\n",
    "        </tr>\n",
    "        <tr>\n",
    "            <td>5</td>\n",
    "            <td>1550</td>\n",
    "            <td>1550</td>\n",
    "            <td>0</td>\n",
    "        </tr>\n",
    "        <tr>\n",
    "            <td>6</td>\n",
    "            <td>1230</td>\n",
    "            <td>1420</td>\n",
    "            <td>-190</td>\n",
    "        </tr>\n",
    "        <tr>\n",
    "            <td>7</td>\n",
    "            <td>1010</td>\n",
    "            <td>1340</td>\n",
    "            <td>-330</td>\n",
    "        </tr>\n",
    "        <tr>\n",
    "            <td>8</td>\n",
    "            <td>1590</td>\n",
    "            <td>1570</td>\n",
    "            <td>20</td>\n",
    "        </tr>\n",
    "        <tr>\n",
    "            <td>9</td>\n",
    "            <td>1390</td>\n",
    "            <td>1500</td>\n",
    "            <td>-110</td>\n",
    "        </tr>\n",
    "        <tr>\n",
    "            <td>10</td>\n",
    "            <td>980</td>\n",
    "            <td>1300</td>\n",
    "            <td>-320</td>\n",
    "        </tr>       \n",
    "    </tbody>\n",
    "</table>\n",
    "\n",
    "We find $\\bar{d}$ = -193.0, and $s_d$ = 161.7. These values are plugged into <a href=\"#eq-8\">eq (8).</a> Degrees of freedom $df$ for dependent t-interval can be computed with:\n",
    "\n",
    "<div id=\"eq-9\" style=\"font-size: 1rem;\">\n",
    "$$ df = n - 1 \\tag{9}$$\n",
    "</div>\n",
    "\n",
    "Unlike independent t-test, in which two samples can have different sample sizes $n_1$ and $n_2$, depedent t-test has only one sample size, because the test subjects are compared to themselves.\n",
    "\n",
    "Also note that dependent t-test assumes difference of test scores to be normally distributed, not test scores of students themselves. But as long as the test scores are normally distributed, the difference of test scores will also be normally distributed due to the property of normal distributions."
   ]
  },
  {
   "cell_type": "markdown",
   "metadata": {},
   "source": [
    "<div><hr></div>\n",
    "\n",
    "<div id=\"python_dep\"></div>\n",
    "<p style=\"color: #666\"><b>Pythonic Tip:</b> Computing paired t-interval<p>\n",
    "    \n",
    "Although Scipy supports computing t-statistic for dependent t-test, it doesn't support a function that allows us to compute dependent t-interval. We will have to write our own codes to compute it.\n",
    "\n",
    "Don't forget to compute sample standard devaition, instead of population standard deviation by setting <code>ddof=1</code> as explained <a href=\"#python_variance\">above</a>.\n",
    "\n",
    "<div style=\"margin-bottom: -20px\"></div>"
   ]
  },
  {
   "cell_type": "code",
   "execution_count": 190,
   "metadata": {},
   "outputs": [],
   "source": [
    "from scipy import stats\n",
    "import numpy as np"
   ]
  },
  {
   "cell_type": "code",
   "execution_count": 191,
   "metadata": {},
   "outputs": [],
   "source": [
    "x1 = np.array([1480, 1280, 890, 340, 1550, 1230, 1010, 1590, 1390, 980])\n",
    "x2 = np.array([1510, 1460, 1320, 700, 1550, 1420, 1340, 1570, 1500, 1300])\n",
    "\n",
    "alpha = 0.05                        # significance level = 5%\n",
    "d_bar = np.mean(x1 - x2)            # average of sample differences\n",
    "s_d = np.std(x1 - x2, ddof=1)       # sample standard deviation of sample differences\n",
    "n = len(x1)                         # sample size\n",
    "df = n - 1                          # degrees of freedom\n",
    "t = stats.t.ppf(1 - alpha/2, df)    # two-tailed 95% confidence t-score\n",
    "\n",
    "lower = d_bar - t * s_d / np.sqrt(n)\n",
    "upper = d_bar + t * s_d / np.sqrt(n)"
   ]
  },
  {
   "cell_type": "code",
   "execution_count": 192,
   "metadata": {},
   "outputs": [
    {
     "data": {
      "text/plain": [
       "(-308.64567899681356, -77.35432100318641)"
      ]
     },
     "execution_count": 192,
     "metadata": {},
     "output_type": "execute_result"
    }
   ],
   "source": [
    "(lower, upper)"
   ]
  },
  {
   "cell_type": "markdown",
   "metadata": {},
   "source": [
    "<div style=\"margin-top: -20px\"></div>\n",
    "\n",
    "The 95% confidence interval of difference in means for dependent samples does not have 0 within its interval. This means that the null hypothesis, <span style=\"color: #ed7d32; font-weight: 500; font-size: 0.85rem;\">$H_0: \\mu_1 - \\mu_2 = 0$</span> in <a href=\"#fig6\">figure (6)</a>, does not fall within the interval. Instead, our estimation falls within the 2.5% outlier zone on the left, <span style=\"color: black; font-weight: 500; font-size: 0.85rem;\">$H_1: \\mu_1 - \\mu_2 \\neq 0$</span>. We reject the null hypothesis $H_0$, and accept the alternate hypothesis $H_1$. We conclude that the sample means are significantly different. In the other words, the tutoring program developed by the school had significant impact on the SAT score of its students.\n",
    "\n",
    "We can confirm this by running a formal hypothesis testing with <a href=\"https://docs.scipy.org/doc/scipy/reference/generated/scipy.stats.ttest_rel.html\" target=\"_blank\">scipy.stats.ttest_rel().</a> Note that this assumes dependent t-test."
   ]
  },
  {
   "cell_type": "code",
   "execution_count": 193,
   "metadata": {},
   "outputs": [
    {
     "data": {
      "text/plain": [
       "Ttest_relResult(statistic=-3.7752930865755987, pvalue=0.004380623368522125)"
      ]
     },
     "execution_count": 193,
     "metadata": {},
     "output_type": "execute_result"
    }
   ],
   "source": [
    "stats.ttest_rel(x1, x2)"
   ]
  },
  {
   "cell_type": "markdown",
   "metadata": {},
   "source": [
    "<div style=\"margin-top: -20px\"></div>\n",
    "\n",
    "The computed <code>pvalue=0.004</code> is smaller than the significance level of <code>alpha = 0.05</code>, and therefore we reject the null hypothesis and accept the alternate hypothesis, which is consistent with the conclusion drawn from the confidence interval of difference in mean.\n",
    "\n",
    "**Notes**: The above hypothesis testing answers the question of \"Did this tutoring program had a significant impact on the SAT scores of students?\". However, in cases like this, a more intuitive question is \"Did this tutoring program significantly <i>improve</i> the SAT scores of students?\" The former uses two-tailed test, and the latter uses one-tailed test, and the procedures for them are a little different.\n",
    "\n",
    "<div><hr></div>\n",
    "\n",
    "<p><u>Checking results with R</u>:</p>\n",
    "<pre>\n",
    "    <code class=\"language-python\">\n",
    "        x1 = c(1480, 1280, 890, 340, 1550, 1230, 1010, 1590, 1390, 980)\n",
    "        x2 = c(1510, 1460, 1320, 700, 1550, 1420, 1340, 1570, 1500, 1300)\n",
    "\n",
    "        t.test(x1, x2, paired=TRUE)  \n",
    "\n",
    "        #     Paired t-test\n",
    "\n",
    "        # data:  x1 and x2\n",
    "        # t = -3.7753, df = 9, p-value = 0.004381\n",
    "        # alternative hypothesis: true difference in means is not equal to 0\n",
    "        # 95 percent confidence interval:\n",
    "        #  -308.64568  -77.35432\n",
    "        # sample estimates:\n",
    "        # mean of the differences \n",
    "        #                    -193 \n",
    "    </code>\n",
    "</pre>"
   ]
  },
  {
   "cell_type": "markdown",
   "metadata": {},
   "source": [
    "<div id=\"which_to_use\"></div>\n",
    "<div class=\"alert alert-info\">\n",
    "    <h4>Notes: Deciding which t-test to use</h4>\n",
    "    <p><u>Equal or unequal variance?</u></p>\n",
    "    <p style=\"padding-left: 1rem !important\">Long story short, always assume unequal variance of samples when using t-test or constructing confidence interval of difference in means.</p>\n",
    "    <p style=\"padding-left: 1rem !important\">Student's t-test is used for samples of equal variance, and Welch's t-test is used for samples of unequal variance. A natural question is, how do you know which test to use? While there exist techniques to check homogeneity of variances (f-test, Barlett's test, Levene's test), it is dangerous to run hypothesis testing for equality of variances to decide which t-test to use (student's t-test or Welch's t-test), because it increases Type I error (asserting something that is absent, false positive). This is shown by <a href=\"https://www.jstor.org/stable/2684403?seq=1#page_scan_tab_contents\" target=\"_blank\">Moser and Stevens (1992)</a> and <a href=\"https://onlinelibrary.wiley.com/doi/abs/10.1348/000711005X62576\" target=\"_blank\">Hayes and Cai (2010).</a></p>\n",
    "    <p style=\"padding-left: 1rem !important\"><a href=\"https://link.springer.com/article/10.1007/s00362-009-0224-x\" target=\"_blank\">Kubinger, Rasch and Moder (2009)</a> argue that when the assumptions of normality and homogeneity of variances are met, Welch's t-test performs equally well, but outperforms when the assumptions are not met. <a href=\"https://academic.oup.com/beheco/article/17/4/688/215960\" target=\"_blank\">Ruxton (2006)</a> argues that the <i>\"unequal variance t-test should always be used in preference to the Student's t-test\"</i> (Note: what he means by \"always\" is assuming normality of distribution)</p>    \n",
    "    <p style=\"padding-left: 1rem !important\">Also note that R uses Welch's t-test as the default for the <code>t.test()</code> function.</p>\n",
    "    <p><u>Independent (unpaired) or dependent (paired) samples?</u></p>\n",
    "    <p style=\"padding-left: 1rem !important\">Paired t-test compares the same subjects at 2 different times . Unpaired t-test compares two different subjects.</p>\n",
    "    <p style=\"padding-left: 1rem !important\">Samples are <i>independent (unpaired)</i> if one measurement is taken on different groups. For example in medical treament, group A is a control group, and is given a placebo with no medical effect. Group B is a test group, and receives a prescribed treatment with expected medical effect. Health check is applied on two groups, and the measurements are recorded. We say that the measurement from group A is independent from that of group B.<p>\n",
    "    <p style=\"padding-left: 1rem !important\">Samples are <i>dependent (paired)</i> when repeated measures are taken on the same or related subjects. For example, there may be instances of the same patients being tested repeatedly - before and after receiving a particular treatment. In such cases, each patient is being used as a control sample against themselves. This method also applies to cases where the samples are related in some manner or have matching characteristics, like a comparative analysis involving children, parents or siblings.</p>\n",
    "    <p style=\"padding-left: 1rem !important\">If you have a reason to believe that samples are correlated in any ways, it is recommended to use dependent test to reduce the effect of <a href=\"https://www.statisticshowto.datasciencecentral.com/experimental-design/confounding-variable/\" target=\"_blank\">confounding factors</a>.</p>\n",
    "</div>"
   ]
  },
  {
   "cell_type": "markdown",
   "metadata": {},
   "source": [
    "<div style=\"margin-top: 30px\" id=\"conf_int_of_var\"></div>\n",
    "\n",
    "### 4.3. Confidence interval of variance\n",
    "\n",
    "Confidence interval of variance is used to estimate the population variance from sample data and quantify the related uncertainty. C.I. of variance is seldom used by itself, but rather used in conjunction with <a href=\"https://newonlinecourses.science.psu.edu/stat414/node/225/\" target=\"_blank\">f-test</a>, which tests equality of variances of different populations. Similar to how the <a href=\"#conf_int_of_diff_in_mean\">confidence interval of difference in mean</a> forms the foundation of <a href=\"https://www.investopedia.com/terms/t/t-test.asp\" target=\"_blank\">t-test</a>, C.I. of variance forms the foundation of f-test. In the field of statistics and machine learning, the equality of variance is an important assumption when choosing which technique to use. For example, when comparing the means of two samples, <a href=\"#4.2.1.-Independent-(unpaired)-samples,-equal-variance---student's-t-interval\">student's t-test</a> should not be used when you have a reason to believe that the two samples have different variances. Personally, I found f-test to be useful for the purpose of reading and understanding scientific papers, as many of the papers I have read use f-test to test their hypothesis, or use a variation of f-test for more advanced techniques. It is a pre-requisite knowledge you need to know to understand the more advanced techniques.\n",
    "\n",
    "I mentioned that different statistics exhibit different distributions <a href=\"#dist_stats\">above</a>. When a sample data set originates from a normal distribution, its sample means are normally distributed as shown in <a href=\"???\">figure 4</a>. On the other hand, its sample variances are <a href=\"#chi_square\">chi-square (<span style=\"font-size: 90% !important\">$\\chi^2$</span>) distributed</a> as shown in <a href=\"\">figure ???</a> The curve is asymptotic, and never touches the x-axis. The cumulative probabilty, which is often referred to as \"p-value\" in hypothesis testing, propagates from the right (p-value=0) to the left (p-value=1). For example, <span style=\"font-size: 90% !important\">$\\chi^2_{.975}=2.70$</span> is in the lower/left-tail and <span style=\"font-size: 90% !important\">$\\chi^2_{.025} = 19.02$</span> is in the upper/right-tail. When the samples follow a normal distribution, the <span style=\"font-size: 90% !important\">$\\chi^2$</span> statistic values can be plugged into <a href=\"#eq-10\">eq (10)</a> to compute the confidence interval of variance.\n",
    "\n",
    "<div id=\"\" class=\"row\" style=\"margin-top: 15px;\">\n",
    "    <div class=\"col\"><img src=\"jupyter_images/conf_int_variance.png\"></div>\n",
    "    <div class=\"col-12\"><p class=\"image-description\">Figure ???: 95% confidence interval of variance.</p></div>\n",
    "</div>"
   ]
  },
  {
   "cell_type": "markdown",
   "metadata": {},
   "source": [
    "<div class=\"solution_panel closed\">\n",
    "    <div class=\"solution_title\">\n",
    "        <p class=\"solution_title_string\">Source Code For Figure (?)</p>\n",
    "        <ul class=\"nav navbar-right panel_toolbox\">\n",
    "            <li><a class=\"collapse-link\"><i class=\"fa fa-chevron-down\"></i></a></li>\n",
    "        </ul>\n",
    "    <div class=\"clearfix\"></div>\n",
    "    </div>\n",
    "    <div class=\"solution_content\">\n",
    "        <pre>\n",
    "            <code class=\"language-python\">\n",
    "                from scipy import stats\n",
    "                import matplotlib.pyplot as plt\n",
    "                import numpy as np\n",
    "\n",
    "                df = 9\n",
    "                x = np.linspace(-1, 28, 1000)\n",
    "                y = stats.chi2.pdf(x, df, loc=0, scale=1)\n",
    "                right_tail = stats.chi2.ppf(1 - 0.025, df) \n",
    "                left_tail = stats.chi2.ppf(1 - 0.975, df) \n",
    "\n",
    "                plt.style.use('seaborn-whitegrid')\n",
    "                fig, ax = plt.subplots(figsize=(12, 5))\n",
    "\n",
    "                ax.plot(x, y, c='black', label='Degrees of freedom = %d' % df)\n",
    "                ax.set_xlabel('$\\chi^2$', fontsize=17)\n",
    "                ax.set_ylabel(r'Probability', fontsize=17)\n",
    "                ax.set_title(r'$\\chi^2\\ \\mathrm{Distribution}$, df = %d' % df, fontsize=17)\n",
    "                ax.fill_between(x, 0, y, where=(np.array(x) > min(x)) & (np.array(x) <= left_tail), facecolor='grey')\n",
    "                ax.fill_between(x, 0, y, where=(np.array(x) > left_tail) & (np.array(x) &lt; right_tail), facecolor='lightgrey')\n",
    "                ax.fill_between(x, 0, y, where=(np.array(x) > right_tail) & (np.array(x) <= max(x)), facecolor='grey')\n",
    "                ax.grid(False)\n",
    "\n",
    "                ax.text(22, 0.008, '2.5% outlier', fontsize=13)\n",
    "                ax.text(-2, 0.008, '2.5% outlier', fontsize=13)\n",
    "                ax.text(0.5, 0.04, '$\\chi^2_{.975} = %.2f$' % left_tail, fontsize=14, bbox=dict(boxstyle='round', facecolor='white'))\n",
    "                ax.text(16.5, 0.015, '$\\chi^2_{.025} = %.2f$' % right_tail, fontsize=14, bbox=dict(boxstyle='round', facecolor='white'))\n",
    "                ax.text(20, 0.08, '$\\chi^2_{.975} \\leq \\chi^2 \\leq \\chi^2_{.025}$', fontsize=16)\n",
    "                ax.text(20, 0.06, '$2.70 \\leq \\chi^2 \\leq 19.02$', fontsize=16)\n",
    "                ax.text(6, 0.05, '95% confidence interval', fontsize=16)\n",
    "                ax.text(6, 0.04, 'of variance', fontsize=16);\n",
    "            </code>\n",
    "        </pre>\n",
    "    </div>\n",
    "</div>"
   ]
  },
  {
   "cell_type": "markdown",
   "metadata": {},
   "source": [
    "<div id=\"eq-10\" style=\"font-size: 1rem;\">\n",
    "$$  \\text{C.I.}_{\\text{variance}}: \\frac{(n-1)s^{2}}{\\chi^{2}_{\\frac{\\alpha}{2}, df}} \\leq \\sigma^2 \\leq \\frac{(n-1)s^{2}}{\\chi^{2}_{1-\\frac{\\alpha}{2}, df}} \\tag{10}$$\n",
    "</div>\n",
    "\n",
    "<div class=\"eq-terms\">\n",
    "    <div class=\"row eq-terms-where\">where</div>\n",
    "    <div class=\"row\">\n",
    "        <div class=\"col-3\"><p>$\\sigma^2$<p></div>\n",
    "        <div class=\"col-9\"><p>: population variance<p></div>\n",
    "    </div>\n",
    "    <div class=\"row\">\n",
    "        <div class=\"col-3\"><p>$s^2$<p></div>\n",
    "        <div class=\"col-9\"><p>: sample variance<p></div>\n",
    "    </div>    \n",
    "    <div class=\"row\">\n",
    "        <div class=\"col-3\">$\\alpha$</div>\n",
    "        <div class=\"col-9\">: <a href=\"#\">significance level</a></div>\n",
    "    </div>    \n",
    "    <div class=\"row\">\n",
    "        <div class=\"col-3\"><p>$n$<p></div>\n",
    "        <div class=\"col-9\"><p>: number of samples<p></div>\n",
    "    </div>\n",
    "    <div class=\"row\">\n",
    "        <div class=\"col-3\"><p>$df$<p></div>\n",
    "        <div class=\"col-9\"><p>: degrees of freedom.</div>\n",
    "    </div>    \n",
    "    <div class=\"row\">\n",
    "        <div class=\"col-3\">$\\chi^2$</div>\n",
    "        <div class=\"col-9\">: chi-squared statistic. Depends on $\\alpha$ and $df$</div>\n",
    "    </div>   \n",
    "</div>\n",
    "\n",
    "In confidence interval of variance, the degrees of freedom is:\n",
    "\n",
    "<div id=\"eq-11\" style=\"font-size: 1rem;\">\n",
    "$$df = n - 1$$\n",
    "</div>\n",
    "\n",
    "Recall that the goal of any confidence interval is to estimate the population parameter from a fraction of its samples due to the high cost of obtaining measurement data of the entire data set, as explained in <a href=\"#population_vs_samples\">Population vs Samples.</a> You attempt to estimate the population variance <span style=\"font-size: 90% !important\">$\\sigma^2$</span> within the range of uncertainty with the sample variance <span style=\"font-size: 90% !important\">$s^2$</span> obtained from a set of <span style=\"font-size: 90% !important\">n</span> samples that are \"hopefully\" representative of the true population. \n",
    "\n",
    "Confidence interval of variance assumes normality of samples, and is very sensitive to the sample distribution's deviation from normality. In case of non-normal sample distributions, you can either 1) transform the distribution to normal distribution with <a href=\"#\">Box-Cox transformation</a>, or 2) use non-parametric alternatives. For practitioners, I do not recommend 1) unless you really understand what you are doing, as the back transformation process of Box-Cox transformation can be tricky. Furthermore, it doesn't always result in successful transformation of non-normal to normal distribution, as discussed <a href=\"#\">below</a>. I recommend to use 2). If you have non-normal samples and your goal is to compute the C.I. of variance, use <a href=\"#\">bootstrap</a>. If your goal is to check the equality of variances of multiple sample data sets with hypothesis testing, use Levene's test. Both are the non-parametric alternatives that does not require normality of samples."
   ]
  },
  {
   "cell_type": "markdown",
   "metadata": {},
   "source": [
    "<div id=\"chi_square\"></div>\n",
    "\n",
    "<div class=\"alert alert-info\">\n",
    "    <h4>Notes: Chi-square $\\chi^2$ distribution</h4>\n",
    "    <p>Chi-square <span style=\"font-size: 90% !important\">$\\chi^2$</span> distribution is a function of degrees of freedom <span style=\"font-size: 90% !important\">$df$</span>. It is a special case of the gamma distribution and is one of the most widely used probability distributions in inferential statistics, notably in hypothesis testing or in construction of confidence intervals.</p>\n",
    "    <p>It is used in the common chi-square goodness of fit test of an observed data set to a theoretical one. Let's say that there's a company that prints baseball cards. The company claims that 30% of the cards are rookies, 60% veterans but not All-Stars, and 10% are veteran All-Stars. Suppose that you purchased a deck of 100 cards. You found out that the card deck has 50 rookies, 45 veterans, and 5 All-Stars. Is this consistent with the company's claim? An answer to this question is explained in detail <a href=\"https://stattrek.com/chi-square-test/goodness-of-fit.aspx\" target=\"_blank\">here</a> using the chi-squared goodness of fit test. Note that the chi-square goodness of fit test does NOT require normality of data, but the chi-square test that checks if a variance equals a specified value DOES require normality of data.</p>\n",
    "    <p>When samples have a normal distribution, some of their statistics can be described by <span style=\"font-size: 90% !important\">$\\chi^2$</span> distributions. For example, the <a href=\"https://www.machinelearningplus.com/statistics/mahalanobis-distance/\" target=\"_blank\">Mahalanobis distance</a> follows <span style=\"font-size: 90% !important\">$\\chi^2$</span> distribution when samples are normally distributed, and can be used for multivariate outlier detection using <span style=\"font-size: 90% !important\">$\\chi^2$</span> hypothesis test. Variance of samples also follows <span style=\"font-size: 90% !important\">$\\chi^2$</span> distributions when samples are normally distributed, and can be used to construct the confidence interval of variances with <a href=\"\">eq (???)</a>.</p>\n",
    "    <p>By the central limit theorem, a <span style=\"font-size: 90% !important\">$\\chi^2$</span> distribution converges to a normal distribution for large sample size <span style=\"font-size: 90% !important\">$n$</span>. For many practical purposes, for <span style=\"font-size: 90% !important\">$n$</span> > 50 the distribution is sufficiently close to a normal distribution for the difference to be ignored. Note that the sampling distribution of <span style=\"font-size: 90% !important\">$ln(\\chi^2)$</span> converges to normality much faster than the sampling distribution of <span style=\"font-size: 90% !important\">$\\chi^2$</span> as the logarithm removes much of the asymmetry. </p>    \n",
    "    <img class=\"admonition-image\" style=\"border: 1px solid #ddd;\" src=\"jupyter_images/chi_square.png\"/>\n",
    "    <div class=\"solution_panel closed\" style=\"margin-top: 20px;\">\n",
    "        <div class=\"solution_title solution_admonition\">\n",
    "            <p class=\"solution_title_string\">Source Code For The Figure</p>\n",
    "            <ul class=\"nav navbar-right panel_toolbox\">\n",
    "                <li><a class=\"collapse-link\"><i class=\"fa fa-chevron-down\"></i></a></li>\n",
    "            </ul>\n",
    "            <div class=\"clearfix\"></div>\n",
    "        </div>\n",
    "        <div class=\"solution_content\">\n",
    "            <pre>\n",
    "                <code class=\"language-python\">\n",
    "                    from scipy import stats\n",
    "                    import matplotlib.pyplot as plt\n",
    "                    import numpy as np\n",
    "\n",
    "                    df_values = [1, 2, 6, 9]\n",
    "                    linestyles = ['-', '--', ':', '-.']\n",
    "                    x = np.linspace(-1, 20, 1000)\n",
    "                    \n",
    "                    plt.style.use('seaborn-whitegrid')\n",
    "                    fig, ax = plt.subplots(figsize=(6.6666666, 5))\n",
    "                    fig.tight_layout()\n",
    "                    plt.subplots_adjust(left=0.09, right=0.96, bottom=0.12, top=0.93)\n",
    "\n",
    "                    for df, ls in zip(df_values, linestyles):\n",
    "                        ax.plot(x, stats.chi2.pdf(x, df, loc=0, scale=1), \n",
    "                                ls=ls, c='black', label=r'Degrees of freedom$=%i$' % df)\n",
    "\n",
    "                    ax.set_xlim(0, 10)\n",
    "                    ax.set_ylim(0, 0.5)\n",
    "                    ax.set_xlabel('$\\chi^2$', fontsize=14)\n",
    "                    ax.set_ylabel(r'Probability', fontsize=14)\n",
    "                    ax.set_title(r'$\\chi^2\\ \\mathrm{Distribution}$')\n",
    "                    ax.legend(loc='best', fontsize=11, framealpha=1, frameon=True)\n",
    "                </code>\n",
    "            </pre>\n",
    "        </div>\n",
    "    </div>\n",
    "</div>\n",
    "\n",
    "<div style=\"margin-top: 30px\" id=\"one_tail_two_tail\"></div>\n",
    "\n",
    "<div class=\"alert alert-info\">\n",
    "    <h4>Notes: One-tail vs two-tail </h4>\n",
    "    <p>As you explore more about the field of statistics, you will encounter many scientific papers or articles using mostly upper/right-tailed f-test, instead of two-tailed or lower/left-tailed f-test. Why? That's because they don't have much practical use in real-life. This information is little beyond the scope of this article, but I still want to touch on it because the C.I. of variance forms the foundation of f-test. </p>\n",
    "    <p>When it comes to the test of variances, we often want to maintain a low variance than high variance, because the high variance is often related to high risk or instability. We are usually interested in knowing if a target population variance <span style=\"font-size: 90% !important\">$\\sigma^2$</span> is lower than a specified value <span style=\"font-size: 90% !important\">$\\sigma^2_0$</span>, not the other way around. This can be doen by using the upper/right-tailed hypothesis test, which is shown in the middle plot below. If the calculated statistic for f-test falls within the dark grey area, you reject your null hypothesis <span style=\"font-size: 90% !important\">$H_0$</span>, and accept the alternate hypothesis <span style=\"font-size: 90% !important\">$H_a$</span></p>\n",
    "    <img class=\"\" style=\"border: 1px solid #ddd;\" src=\"jupyter_images/two_tails.png\"/>\n",
    "    <div class=\"solution_panel closed\" style=\"margin-top: 20px;\">\n",
    "        <div class=\"solution_title solution_admonition\">\n",
    "            <p class=\"solution_title_string\">Source Code For The Figure</p>\n",
    "            <ul class=\"nav navbar-right panel_toolbox\">\n",
    "                <li><a class=\"collapse-link\"><i class=\"fa fa-chevron-down\"></i></a></li>\n",
    "            </ul>\n",
    "            <div class=\"clearfix\"></div>\n",
    "        </div>\n",
    "        <div class=\"solution_content\">\n",
    "            <pre>\n",
    "                <code class=\"language-python\">\n",
    "                    from scipy import stats\n",
    "                    import matplotlib.pyplot as plt\n",
    "                    import numpy as np\n",
    "\n",
    "                    df = 9\n",
    "                    x = np.linspace(-1, 28, 1000)\n",
    "                    y = stats.chi2.pdf(x, df, loc=0, scale=1)\n",
    "\n",
    "                    # two-tailed\n",
    "                    two_right_tail = stats.chi2.ppf(1 - 0.025, df) \n",
    "                    two_left_tail = stats.chi2.ppf(1 - 0.975, df)\n",
    "\n",
    "                    # one tailed\n",
    "                    one_right_tail = stats.chi2.ppf(1 - 0.05, df)\n",
    "                    one_left_tail = stats.chi2.ppf(1 - 0.95, df)\n",
    "\n",
    "\n",
    "                    plt.style.use('seaborn-whitegrid')\n",
    "                    fig, axes = plt.subplots(1, 3, figsize=(12, 3))\n",
    "\n",
    "                    for ax in axes:\n",
    "\n",
    "                        ax.plot(x, y, c='black')\n",
    "                        ax.grid(False)\n",
    "                        ax.xaxis.set_major_formatter(plt.NullFormatter())\n",
    "                        ax.yaxis.set_major_formatter(plt.NullFormatter())\n",
    "\n",
    "                    axes[0].fill_between(x, 0, y, where=(np.array(x) > min(x)) & (np.array(x) <= two_left_tail), facecolor='grey')\n",
    "                    axes[0].fill_between(x, 0, y, where=(np.array(x) > two_left_tail) & (np.array(x) < two_right_tail), facecolor='lightgrey')\n",
    "                    axes[0].fill_between(x, 0, y, where=(np.array(x) > two_right_tail) & (np.array(x) <= max(x)), facecolor='grey')\n",
    "                    axes[0].set_title('Two-tailed', fontsize=20)\n",
    "                    axes[0].text(14, 0.08, r'$H_0: \\sigma^2 = \\sigma_0^2$', fontsize=20)\n",
    "                    axes[0].text(14, 0.057, r'$H_a: \\sigma^2 \\neq \\sigma_0^2$', fontsize=20)\n",
    "\n",
    "                    axes[1].fill_between(x, 0, y, where=(np.array(x) > min(x)) & (np.array(x) < one_right_tail), facecolor='lightgrey')\n",
    "                    axes[1].fill_between(x, 0, y, where=(np.array(x) > one_right_tail) & (np.array(x) <= max(x)), facecolor='grey')\n",
    "                    axes[1].set_title('Upper/right-tailed', fontsize=20)\n",
    "                    axes[1].text(14, 0.08, r'$H_0: \\sigma^2 \\leq \\sigma_0^2$', fontsize=20)\n",
    "                    axes[1].text(14, 0.057, r'$H_a: \\sigma^2 > \\sigma_0^2$', fontsize=20)\n",
    "\n",
    "                    axes[2].fill_between(x, 0, y, where=(np.array(x) > min(x)) & (np.array(x) <= one_left_tail), facecolor='grey')\n",
    "                    axes[2].fill_between(x, 0, y, where=(np.array(x) > one_left_tail) & (np.array(x) <= max(x)), facecolor='lightgrey')\n",
    "                    axes[2].set_title('Lower/left-tailed', fontsize=20)\n",
    "                    axes[2].text(14, 0.08, r'$H_0: \\sigma^2 \\geq \\sigma_0^2$', fontsize=20)\n",
    "                    axes[2].text(14, 0.057, r'$H_a: \\sigma^2 < \\sigma_0^2$', fontsize=20)\n",
    "\n",
    "                    fig.tight_layout()\n",
    "                </code>\n",
    "            </pre>\n",
    "        </div>\n",
    "    </div>\n",
    "</div>"
   ]
  },
  {
   "cell_type": "markdown",
   "metadata": {},
   "source": [
    "<div><hr></div>\n",
    "\n",
    "<div id=\"python_ci_var\"></div>\n",
    "<p style=\"color: #666\"><b>Pythonic Tip:</b> Computing confidence interval of variance<p>\n",
    "    \n",
    "Unfortunately, there's no Python or R library that computes the confidence interval of variance. The fact that the pre-built function does not exist both in Python and R suggests that the C.I. of variance is seldom used. But as I mentioned before, the reason that I introduce the C.I. of variance is because it forms the foundation of f-test, a statistical hypothesis test that is widely used in scientific papers. \n",
    "\n",
    "The C.I. of variance can be manually computed with <a href=\"eq-10\">eq (10)</a>. Don't forget to compute sample variance, instead of population variance by setting <code>ddof=1</code> as explained <a href=\"#python_variance\">above</a>.\n",
    "\n",
    "<div style=\"margin-bottom: -20px\"></div>"
   ]
  },
  {
   "cell_type": "code",
   "execution_count": 5,
   "metadata": {},
   "outputs": [],
   "source": [
    "from scipy import stats\n",
    "import numpy as np"
   ]
  },
  {
   "cell_type": "code",
   "execution_count": 6,
   "metadata": {},
   "outputs": [],
   "source": [
    "arr = [8.69, 8.15, 9.25, 9.45, 8.96, 8.65, 8.43, 8.79, 8.63]\n",
    "\n",
    "alpha = 0.05               # significance level = 5%\n",
    "n = len(arr)               # sample sizes\n",
    "s2 = np.var(arr, ddof=1)   # sample variance\n",
    "df = n - 1                 # degrees of freedom\n",
    "\n",
    "upper = (n - 1) * s2 / stats.chi2.ppf(alpha / 2, df)\n",
    "lower = (n - 1) * s2 / stats.chi2.ppf(1 - alpha / 2, df)"
   ]
  },
  {
   "cell_type": "code",
   "execution_count": 7,
   "metadata": {},
   "outputs": [
    {
     "data": {
      "text/plain": [
       "(0.07238029119542731, 0.5822533618682987)"
      ]
     },
     "execution_count": 7,
     "metadata": {},
     "output_type": "execute_result"
    }
   ],
   "source": [
    "(lower, upper)"
   ]
  },
  {
   "cell_type": "markdown",
   "metadata": {},
   "source": [
    "<div style=\"margin-top: -20px\"></div>\n",
    "\n",
    "The output suggests that the 95% confidence interval of variance is — <span style=\"font-size: 90% !important\">$\\text{C.I.}_{variance}: \\,\\, 0.072 < \\sigma^2 < 0.582$</span>"
   ]
  },
  {
   "cell_type": "markdown",
   "metadata": {},
   "source": [
    "<div style=\"margin-top: 30px\" id=\"conf_int_of_other\"></div>\n",
    "\n",
    "### 4.4. Confidence interval of other statistics: Bootstrap\n",
    "\n",
    "(Note: For those people who have web-development experience, this is not <a href=\"https://getbootstrap.com/\" target=\"_blank\">CSS Bootstrap</a>.)\n",
    "\n",
    "I mentioned that different formulas are used to construct confidence intervals of different statistics <a href=\"#key3\">above.</a> There are three problems with computing the confidence interval of statistics with analytical solutions: \n",
    "\n",
    "<ol class=\"rounded-list\" style=\"margin-bottom: 40px !important; margin-top: 40px! important;\">\n",
    "    <li><p>Not all statistics have formulas for their confidence intervals</p></li>\n",
    "    <li><p>Their formulas can be so convoluted, that it may be better to use numerical alternatives</p></li>\n",
    "    <li><p>You have to memorize their formulas</p></li>\n",
    "</ol>\n",
    "\n",
    "Bootstrapping is nice because it allows you to avoid these practical concerns. For example, there are no formulas to compute the confidence interval of covariance and median. On the other hand, regression coefficient has its own formula for its confidence interval, but the formulas get really messy in cases of multi-linear or non-linear regression. Wouldn't it be nice if there's a \"magic\" that saves you from all the math you have to worry about? \n",
    "\n",
    "> **Bootstrapping** is a statistical method for estimating the <a href=\"#dist_stats\">sampling distribution of a statistic</a> by sampling with replacement from the original sample, most often with the purpose of estimating confidence intervals of a population parameter like a mean, median, proportion, correlation coefficient or regression coefficient.\n",
    "\n",
    "Bootstrap can construct confidence intervals of any statistics when combined with <a href=\"#monte-carlo\">Monte Carlo method</a>. The process is visually shown in <a href=\"#\">fig (?)</a>. Initially you have 5 samples <span style=\"font-size: 90% !important\">$[8, 5, 4, 6, 2]$</span> that you collected from an unknown population. You randomly draw $n=5$ samples from the original sample pool WITH REPLACEMENT, and they become your **single bootstrap sample**. You repeat this process $r=6$ times to collect **multiple bootstrap samples**. For each bootstrap sample, you run your functions to compute the statistic of your interest: in this case, <code>np.mean(single_boot)</code>. Now you have $r=6$ sample means obtained from $r$ bootstrap samples. You can construct 95% confidence interval of mean with percentile method: <code>np.percentile(mutliple_boot_means, 97.5)</code>, <code>np.percentile(mutliple_boot_means, 2.5)</code>\n",
    "\n",
    "Note that the bootstraped samples will contain duplicate elements a lot, due to random sampling WITH REPLACEMENT. This causes problems with bootstrapping regression models, as explained <a href=\"#assumption_7\">below</a>.\n",
    "\n",
    "<div id=\"\" class=\"row\" style=\"margin-top: 15px;\">\n",
    "    <div class=\"col\"><img src=\"jupyter_images/conf_int_boots.png\"></div>\n",
    "    <div class=\"col-12\"><p class=\"image-description\">Figure ???: Bootstrap 95% confidence interval of mean.</p></div>\n",
    "</div>"
   ]
  },
  {
   "cell_type": "markdown",
   "metadata": {},
   "source": [
    "<div class=\"solution_panel closed\">\n",
    "    <div class=\"solution_title\">\n",
    "        <p class=\"solution_title_string\">Source Code For Figure (?)</p>\n",
    "        <ul class=\"nav navbar-right panel_toolbox\">\n",
    "            <li><a class=\"collapse-link\"><i class=\"fa fa-chevron-down\"></i></a></li>\n",
    "        </ul>\n",
    "    <div class=\"clearfix\"></div>\n",
    "    </div>\n",
    "    <div class=\"solution_content\">\n",
    "        <pre>\n",
    "            <code class=\"language-python\">\n",
    "                import matplotlib.pyplot as plt\n",
    "                import numpy as np\n",
    "\n",
    "                np.random.seed(42)\n",
    "                arr = [8, 5, 4, 6, 2]\n",
    "\n",
    "                ####################### Bootstrap ####################### \n",
    "                num_boot_samples = 1000\n",
    "                def estimator(l):\n",
    "                    # statistic of interest; Ex: mean, median, variance ...\n",
    "                    return np.mean(l)\n",
    "\n",
    "                boot = [estimator(np.random.choice(arr, len(arr))) for _ in range(num_boot_samples)]\n",
    "                #########################################################\n",
    "\n",
    "                plt.style.use('seaborn-whitegrid')\n",
    "                fig, ax = plt.subplots(figsize=(10, 4))\n",
    "                returns = ax.boxplot(boot, widths=0.5, whis=[2.5, 97.5], showfliers=False,\n",
    "                                     patch_artist=True, \n",
    "                                     boxprops=dict(linewidth=3.0, color='grey'),\n",
    "                                     whiskerprops=dict(linewidth=3.0, color='grey'), vert=False,\n",
    "                                     capprops=dict(linewidth=2.0, color='grey'),\n",
    "                                     medianprops=dict(linewidth=2.0, color='yellow'))\n",
    "\n",
    "                ax.set_aspect(1)\n",
    "                #ax.set_ylim(1.5, -.5)\n",
    "                ax.set_xlabel(r'$\\bar{X}$', fontsize=20)\n",
    "                ax.yaxis.set_major_formatter(plt.NullFormatter())\n",
    "                ax.set_title('Bootstrap 95% confidence interval of mean', fontsize=20)\n",
    "                ax.scatter(arr, [1, 1, 1, 1, 1], facecolors='grey', edgecolors='k', zorder=10, label='Original Samples', s=100)\n",
    "                ax.legend(fontsize=15, fancybox=True, framealpha=1, shadow=True, borderpad=0.5, frameon=True);\n",
    "            </code>\n",
    "        </pre>\n",
    "    </div>\n",
    "</div>"
   ]
  },
  {
   "cell_type": "markdown",
   "metadata": {},
   "source": [
    "<div id=\"monte-carlo\"></div>\n",
    "\n",
    "<div class=\"alert alert-info\">\n",
    "    <h4>Notes: Monte-Carlo methods</h4>\n",
    "    <p>During your study of statistics, there's a good chance that you've heard of the word, \"Monte-Carlo\". It refers to the process that relies on repeated generation of random numbers to investigate some characteristic of a statistic which is hard to derive analytically. The process is composed of mainly two parts: random number generator, and for-loop. The random number generator can be parametric, or non-parametric. In case of parametric simulation, you must have some previous knowledge about the population of your interest, such as its shape. In the below code snippet, you assume that the <code>sample</code> is from a specific distribution: <code>normal</code>, <code>lognormal</code>, <code>chisquare</code>. Then, you repeatedly randomly draw samples from the pre-defined distribution with a for-loop:</p>\n",
    "    <div class=\"solution_panel\" style=\"margin-top: 20px; height: auto;\">\n",
    "        <div class=\"solution_title solution_admonition\">\n",
    "            <p class=\"solution_title_string\">Parametric Monte-Carlo simulation</p>\n",
    "            <ul class=\"nav navbar-right panel_toolbox\">\n",
    "                <li><a class=\"collapse-link\"><i class=\"fa fa-chevron-up\"></i></a></li>\n",
    "            </ul>\n",
    "            <div class=\"clearfix\"></div>\n",
    "        </div>\n",
    "        <div class=\"solution_content\">\n",
    "            <pre>\n",
    "                <code class=\"language-python\">\n",
    "                    # random number generator = normal distribution\n",
    "                    sim_1 = [np.random.normal(np.mean(sample), np.mean(sample)) for _ in range(iterations)]\n",
    "\n",
    "                    # random number generator = lognormal distribution\n",
    "                    sim_2 = [np.random.lognormal(np.mean(sample), np.mean(sample)) for _ in range(iterations)]\n",
    "\n",
    "                    # random number generator = chi-square distribution\n",
    "                    sim_3 = [np.random.chisquare(len(sample)) for _ in range(iterations)]\n",
    "                </code>\n",
    "            </pre>\n",
    "        </div>\n",
    "    </div>\n",
    "    <p> In case of non-parametric simulation, the random number generator does not assume anything about the shape of the population. Non-parmetric bootstrap would be the choice of your random number generator in this case (Note: some variations of bootstrap are parametric):</p>\n",
    "    <div class=\"solution_panel\" style=\"margin-top: 20px; height: auto;\">\n",
    "        <div class=\"solution_title solution_admonition\">\n",
    "            <p class=\"solution_title_string\">Non-Parametric Monte-Carlo simulation</p>\n",
    "            <ul class=\"nav navbar-right panel_toolbox\">\n",
    "                <li><a class=\"collapse-link\"><i class=\"fa fa-chevron-up\"></i></a></li>\n",
    "            </ul>\n",
    "            <div class=\"clearfix\"></div>\n",
    "        </div>        \n",
    "        <div class=\"solution_content\">\n",
    "            <pre>\n",
    "                <code class=\"language-python\">\n",
    "                    # random number generator = non-parametric bootstrap\n",
    "                    sim_4 = [np.random.choice(original_sample) for _ in range(iterations)]\n",
    "                </code>\n",
    "            </pre>\n",
    "        </div>\n",
    "    </div>\n",
    "    <p>You can create multiple instances of <code>sim_n</code> objects above to experiment with your data set; you use Monte-Carlo simulations to produce hundreds or thousands of <i>\"possible outcomes\"</i>. The results are analyzed to get probabilities of different outcomes occuring. The application of Monte-Carlo method includes constructing confidence interval of statistics with Bootstrap shown in <a href=\"\">fig (?)</a>, and <a href=\"https://aegis4048.github.io/uncertainty-modeling-with-monte-carlo-simulation\" target=\"_blank\">profit modeling of casino dice roll games</a>.</p>\n",
    "    <img class=\"admonition-image-medium\" style=\"border: 1px solid #ddd; margin-top: 20px;\" src=\"jupyter_images/monte-carlo-dice.png\"/>\n",
    "</div>"
   ]
  },
  {
   "cell_type": "markdown",
   "metadata": {},
   "source": [
    "<div><hr></div>\n",
    "\n",
    "<div id=\"why_bootstrapping_works\"></div>\n",
    "\n",
    "**Why does bootstrapping work?**\n",
    "\n",
    "(Before you read this section, make sure you understand the difference between <a href=\"#population_vs_samples\">Population vs Samples.</a>)\n",
    "\n",
    "Practitioners wonder <i>WHY</i> bootstrapping works: why is it that resampling the same sample over and over gives good results? If we are resampling from our sample, how is it that we are learning something about the population rather than only about the sample? There seems to be a leap which is somewhat counter-intuitive. The idea comes from the assumption that the sample is a <i>reasonable</i> representation of its underlying population — the population is to the sample as the sample is to the bootstrap samples.\n",
    "\n",
    "You want to ask question of a population, but you can't because you lack the resources to get measurement data of all possible data points. So you take a fraction of the population, a.k.a the sample, and ask the question of it instead. Now, how confident you should be that the sample answer is close to the population answer depends on how well the sample represents the underlying population. One way you might learn about this is to take samples from different portions of the population again and again. You ask the same question to the multiple samples you collected, and see the variability of the different sample answers to quantify the related uncertainty of your estimation. When this is not possible due to practical limitations, you make some assumptions about the population (ex: population is normally distributed), or use the information in the collected sample to learn about the population.\n",
    "\n",
    "In bootstrapping, you treat the original sample (size=$n$) you randomly acquired from the population as if it's the population itself of size $n$. From the original sample that you treated to be the population, you randomly draw samples, each of size $n$, <i>with replacement</i> multiple times to simulate direct sampling from the original population. By doing so, you essentially imitate sampling different portions of the original population multiple times. This idea is shown in <a href=\"#\">fig (?)</a>. \n",
    "\n",
    "This is a <i>reasonable</i> thing to do for two reasons. First, the sample in your had is the best you've got, indeed the only informatoin you have about the population. Second, if the original sample is randomly chosen, it will look like the original population they came from. This means that the sample is a good representation of its underlying population. However, if its not a good representation of the population, bootstrap fails. In fact, there's not much you can do in the first place if your sample is biased. \n",
    "\n",
    "<div id=\"fig???\" class=\"row\" style=\"margin-top: 15px;\">\n",
    "    <div class=\"col\"><img src=\"jupyter_images/boots_intuitive.png\"></div>\n",
    "    <div class=\"col-12\"><p class=\"image-description\">Figure ???: Intuitive idea behind Bootstrapping</p></div>\n",
    "</div>"
   ]
  },
  {
   "cell_type": "markdown",
   "metadata": {},
   "source": [
    "<div id=\"conf_int_regression\"></div>\n",
    "\n",
    "### 4.5 Confidence interval of regression\n",
    "\n",
    "This section is not completed yet...\n",
    "\n",
    "<img src=\"jupyter_images/coming_soon.png\" class=\"row full_screen_margin_md mobile_responsive_plot_full_width\"></a>"
   ]
  },
  {
   "cell_type": "markdown",
   "metadata": {},
   "source": [
    "<div id=\"conf_int_non_normal\"></div>\n",
    "\n",
    "## 5. Confidence interval of non-normal distribution\n",
    "\n",
    "<div style=\"display: none;\">\n",
    "With skewed distributions, +/- methods are wrong. Instead you might wanna use percentile methods.</div>\n",
    "\n",
    "This section is not completed yet...\n",
    "\n",
    "<img src=\"jupyter_images/coming_soon.png\" class=\"row full_screen_margin_md mobile_responsive_plot_full_width\"></a>"
   ]
  },
  {
   "cell_type": "markdown",
   "metadata": {},
   "source": [
    "<div id=\"central_tendency\"></div>\n",
    "\n",
    "### 5.1 Measuring central tendency of distributions\n",
    "\n",
    "We discussed how to compute <a href=\"#conf_int_of_mean\">confidence interval of mean</a> and <a href=\"#conf_int_of_diff_in_mean\">confidence interval of difference in means.</a> But have you thought about why statisticians bother specifically about the means? Often times the ultimate goal is not to compute a <i>mean</i> of a distribution, but to compute a <i>measure of central tendency</i> of a distribution. \n",
    "\n",
    "A measure of central tendency is a single value that attempts to describe a set of data by identifying the central position within that set of data. The mean is the measure of central tendency that you are the most familiar with, but there are others, such as the median and the mode. \n",
    "\n",
    "<div><hr></div>\n",
    "\n",
    "**Point estimation**\n",
    "\n",
    "Mean is not a good measure of central tendency when there is a sign of deviation from normality, which can be characterized by skewness (asymmetry) and kurtosis (heavy-tails). Consider the following figures:\n",
    "\n",
    "<div id=\"\" class=\"row give-margin-inline-big-plot mobile_responsive_plot_full_width\" style=\"margin-top: 15px;\">\n",
    "    <div class=\"col\"><img src=\"jupyter_images/conf_int_non_norm_means.png\"></div>\n",
    "    <div class=\"col-12\"><p class=\"image-description\">Figure ??: Central tendency of distributions</p></div>\n",
    "</div>\n",
    "\n",
    "In <a href=\"#\">figure (??) (a)</a>, there is no skewness, making the distribution symmetric. In this case, mean is a good measure of central tendency, along with median and mode — they are all equivalent. You can compute its confidence interval of mean using <a href=\"#eq-1\">eq (1)</a>, and use it as a measure of central tendency, thanks to the symmetry of the distribution.\n",
    "\n",
    "However, when distributions have non-zero skewness, as in <a href=\"#\">figure (??) (b)</a>, the assumption of normality is violated. Depending on how bad the asymmetry is, you can still use <a href=\"#eq-1\">eq (1)</a>, because confidence interval of mean is robust to mild asymmetry. However, if a distribution has non-negligible skewness, interval computed with <a href=\"#eq-1\">eq (1)</a> introduces bias to one side of a distribution. \n",
    "\n",
    "Although there exists non-parametric alternatives like Bootstrap and credible interval, you may want to take a step back and reconsider the purpose of your estimation. Are you really interested in the <i>mean</i>, or the <i>central tendency</i> of your distribution? In a case like <a href=\"#\">figure (??) (b)</a>, perhaps you are more interested in the median, as it's a better measure of central tendency of asymmetric distributions. \n",
    "\n",
    "Visualize your distribution to see what your true interest is.\n",
    "\n",
    "<div><hr></div>\n",
    "\n",
    "**Comparison of distributions**\n",
    "\n",
    "Similar idea applies when you want to compare two distributions. Let's say that you want to decide if two samples came from the same population by comparing their confidence interval of means. Consider the following figure of two non-normal sample distributions:\n",
    "\n",
    "<div id=\"\" class=\"row full_screen_margin_md mobile_responsive_plot_full_width\" style=\"margin-top: 15px;\">\n",
    "    <div class=\"col\"><img src=\"jupyter_images/conf_int_non_norms_overlap.png\"></div>\n",
    "    <div class=\"col-12\"><p class=\"image-description\">Figure ??: Confidencen interval of means for non-normal distributions</p></div>\n",
    "</div>\n",
    "\n",
    "Note that the <span style=\"color: #385624; font-weight: 500;\">95% confidence interval of means</span> in <a href=\"#\">figure (??)</a> are asymmetric about their respective sample means, because they are computed with non-parametric alternatives. Since there is an overlap of the two intervals, you can conclude that the sample means are not significantly different. Furthermore, even the variances of the samples are the same; I generated the plots so that they have the same variances. \n",
    "\n",
    "Now, you know that the samples have equal means and variances within the range of uncertainty. Can you conclude that the two samples came from the same population? Clearly not, because their central locations are far apart from each other. Their central tendencies are better described by their medians than their means.\n",
    "\n",
    "In this case, if you are using confidence confidence interval of means and variances to check if two samples came from the same population, your approach is wrong. This kind of approach assumes normality of data. Any approach that makes a certain assumption of data fails when that assumption is violated. \n",
    "\n",
    "If your goal is to find out if the two samples originated from the same population, you may want to use non-parametric alternatives, such as Mann-Whitney test or Kruskall-Wallis test; they are geared towards comparing central tendency of distributions, not means or variances."
   ]
  }
 ],
 "metadata": {
  "kernelspec": {
   "display_name": "Python 3",
   "language": "python",
   "name": "python3"
  },
  "language_info": {
   "codemirror_mode": {
    "name": "ipython",
    "version": 3
   },
   "file_extension": ".py",
   "mimetype": "text/x-python",
   "name": "python",
   "nbconvert_exporter": "python",
   "pygments_lexer": "ipython3",
   "version": "3.6.5"
  }
 },
 "nbformat": 4,
 "nbformat_minor": 2
}
